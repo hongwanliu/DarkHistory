{
 "cells": [
  {
   "cell_type": "code",
   "execution_count": 1,
   "metadata": {
    "collapsed": true
   },
   "outputs": [],
   "source": [
    "%load_ext autoreload"
   ]
  },
  {
   "cell_type": "code",
   "execution_count": 17,
   "metadata": {
    "collapsed": true
   },
   "outputs": [],
   "source": [
    "%autoreload\n",
    "import numpy as np\n",
    "import darkhistory.spec.transferfunction as tf\n",
    "from darkhistory.spec.spectrum import Spectrum\n",
    "import pickle\n",
    "import darkhistory.utilities as utils\n",
    "\n",
    "np.set_printoptions(threshold=np.nan)"
   ]
  },
  {
   "cell_type": "code",
   "execution_count": 18,
   "metadata": {},
   "outputs": [
    {
     "name": "stdout",
     "output_type": "stream",
     "text": [
      "[  7.24937299e-03   6.93014284e-03   6.62414211e-03   6.33152281e-03\n",
      "   1.20398695e-02   1.20309619e-02   5.78117626e-03   5.52529480e-03\n",
      "   5.28060423e-03   5.04661541e-03   4.82286060e-03   4.60889254e-03\n",
      "   4.40428349e-03   4.20862447e-03   4.02152434e-03   3.84260912e-03\n",
      "   3.67152114e-03   3.50791843e-03   3.35147393e-03   3.20187493e-03\n",
      "   3.05882238e-03   2.92203032e-03   2.79122531e-03   5.26786585e-03\n",
      "   5.25893343e-03   2.54355398e-03   2.42919331e-03   2.31984080e-03\n",
      "   2.21527785e-03   2.11529541e-03   2.01969361e-03   1.92828132e-03\n",
      "   1.84087578e-03   1.75730223e-03   1.67739357e-03   1.60099003e-03\n",
      "   1.52793882e-03   1.45809387e-03   2.71903530e-03   2.71035155e-03\n",
      "   1.32450269e-03   1.26347653e-03   1.20513415e-03   1.14935880e-03\n",
      "   1.09603888e-03   1.04506765e-03   9.96343095e-04   9.49767638e-04\n",
      "   9.05248005e-04   8.62695007e-04   8.22023373e-04   1.50568399e-03\n",
      "   1.49757953e-03   7.43144577e-04   7.07665456e-04   6.73763214e-04\n",
      "   6.41369727e-04   6.10419864e-04   5.80851348e-04   5.52604633e-04\n",
      "   5.25622782e-04   9.43115587e-04   9.35724047e-04   4.72538703e-04\n",
      "   4.49067191e-04   4.26657527e-04   4.05264183e-04   3.84843611e-04\n",
      "   3.65354162e-04   6.41418994e-04   6.34774947e-04   3.26492963e-04\n",
      "   3.09606021e-04   2.93501693e-04   2.78146570e-04   4.78814200e-04\n",
      "   4.72794574e-04   2.47199250e-04   2.33952938e-04   2.21336490e-04\n",
      "   2.09322978e-04   3.52329950e-04   3.47031739e-04   1.84847678e-04\n",
      "   1.74545363e-04   1.64749383e-04   2.71637559e-04   2.66953498e-04\n",
      "   1.44618369e-04   1.36270115e-04   2.20776031e-04   2.16564746e-04\n",
      "   1.19002809e-04   1.11930123e-04   1.78060579e-04   1.74331414e-04\n",
      "   9.72139647e-05   1.52507455e-04   1.49099832e-04   8.40752813e-05\n",
      "   1.30048427e-04   1.26961216e-04   7.23967747e-05   1.10411290e-04\n",
      "   1.07638043e-04   6.20651448e-05   9.33326066e-05   9.08621360e-05\n",
      "   8.45430651e-05   8.22318910e-05   4.82809966e-05   7.09646488e-05\n",
      "   6.89332427e-05   6.39916920e-05   6.21075848e-05   5.76045171e-05\n",
      "   5.58627346e-05   5.17677956e-05   5.01626835e-05   4.64464925e-05\n",
      "   4.49718531e-05   4.16061131e-05   4.02553390e-05   3.72129311e-05\n",
      "   7.25903442e-05   3.48106367e-05   3.21436113e-05   3.10471835e-05\n",
      "   2.86473513e-05   5.33768653e-05   2.67128577e-05   2.46226085e-05\n",
      "   4.48039946e-05   2.29204679e-05   2.11062882e-05   3.75989976e-05\n",
      "   1.96158999e-05   1.80465351e-05   3.15442855e-05   1.67474484e-05\n",
      "   1.53940557e-05   2.64569280e-05   2.53622292e-05   1.37378588e-05\n",
      "   1.26141129e-05   2.12642256e-05   2.03834999e-05   1.12303730e-05\n",
      "   1.03014707e-05   1.70832320e-05   1.63748531e-05   1.56959002e-05\n",
      "   8.79915401e-06   8.06225024e-06   1.31482405e-05   1.26023510e-05\n",
      "   1.20791547e-05   1.15777063e-05   1.10970999e-05   6.33583146e-06\n",
      "   5.79718278e-06   9.28982680e-06   8.90361646e-06   8.53347526e-06\n",
      "   8.17873369e-06   7.83875022e-06   7.51291008e-06   4.35157185e-06\n",
      "   3.97612371e-06   6.28448289e-06   6.02282125e-06   5.77205911e-06\n",
      "   5.53174210e-06   5.30143481e-06   5.08072002e-06   4.86919789e-06\n",
      "   4.66648529e-06   4.47221507e-06   4.28603540e-06   2.51262007e-06\n",
      "   2.29183476e-06   3.58117298e-06   3.43182233e-06   3.28870139e-06\n",
      "   3.15155023e-06   3.02011976e-06   2.89417129e-06   2.77347610e-06\n",
      "   2.65781500e-06   2.54697798e-06   2.44076378e-06   2.33897953e-06\n",
      "   2.24144043e-06   2.14796937e-06   2.05839666e-06   1.97255967e-06\n",
      "   1.89030256e-06   1.81147601e-06   1.73593690e-06   1.66354812e-06\n",
      "   1.59417825e-06   1.52770138e-06   1.46399682e-06   1.40294894e-06\n",
      "   8.25939384e-07   7.51199952e-07   1.16957904e-06   1.12071542e-06\n",
      "   1.07389331e-06   1.02902742e-06   9.86036021e-07   9.44840787e-07\n",
      "   9.05366673e-07   8.67541769e-07   8.31297167e-07   7.96566843e-07\n",
      "   7.63287526e-07   7.31398594e-07   7.00841954e-07   6.71561944e-07\n",
      "   6.43505224e-07   6.16620685e-07   5.90859353e-07   5.66174301e-07\n",
      "   5.42520561e-07   5.19855045e-07   4.98136465e-07   4.77325259e-07\n",
      "   4.57383516e-07   4.38274912e-07   4.19964636e-07   4.02419337e-07\n",
      "   3.85607054e-07   3.69497162e-07   3.54060315e-07   3.39268394e-07\n",
      "   3.25094455e-07   3.11512679e-07   2.98498327e-07   2.86027691e-07\n",
      "   2.74078056e-07   2.62627655e-07   2.51655631e-07   2.41141998e-07\n",
      "   2.31067605e-07   2.21414100e-07   2.12163901e-07   2.03300157e-07\n",
      "   1.94806722e-07   1.86668127e-07   1.78869545e-07   1.71396773e-07\n",
      "   1.64236198e-07   1.57374777e-07   1.50800012e-07   1.44499927e-07\n",
      "   1.38463047e-07   1.32678374e-07   1.27135373e-07   1.21823947e-07\n",
      "   1.16734421e-07   1.11857524e-07   1.07184373e-07   1.02706457e-07\n",
      "   9.84156175e-08   9.43040403e-08   9.03642357e-08   8.65890275e-08\n",
      "   8.29715390e-08   7.95051811e-08   7.61836399e-08   7.30008652e-08\n",
      "   6.99510597e-08   6.70286682e-08   6.42283675e-08   6.15450571e-08\n",
      "   5.89738492e-08   5.65100606e-08   5.41492034e-08   5.18869773e-08\n",
      "   4.97192619e-08   4.76421086e-08   4.56517340e-08   4.37445127e-08\n",
      "   4.19169706e-08   4.01657790e-08   3.84877480e-08   3.68798214e-08\n",
      "   3.53390701e-08   3.38626878e-08   3.24479853e-08   3.10923858e-08\n",
      "   2.97934200e-08   2.85487220e-08   2.73560245e-08   2.62131551e-08\n",
      "   2.51180321e-08   2.40686608e-08   2.30631297e-08   2.20996073e-08\n",
      "   2.11763386e-08   2.02916419e-08   1.94439057e-08   1.86315859e-08\n",
      "   1.78532029e-08   1.71073389e-08   1.63926354e-08   1.57077904e-08\n",
      "   1.50515566e-08   1.44227387e-08   1.38201913e-08   1.32428170e-08\n",
      "   1.26895639e-08   1.21594244e-08   1.16514329e-08   1.11646641e-08\n",
      "   1.06982312e-08   1.02512849e-08   9.82301088e-09   9.41262913e-09\n",
      "   9.01939214e-09   8.64258366e-09   8.28151733e-09   7.93553548e-09\n",
      "   7.60400793e-09   7.28633080e-09   6.98192546e-09   6.69023744e-09\n",
      "   6.41073545e-09   6.14291038e-09   5.88627439e-09   5.64036004e-09\n",
      "   5.40471940e-09   5.17892326e-09   4.96256034e-09   4.75523654e-09\n",
      "   4.55657423e-09   4.36621156e-09   4.18380177e-09   4.00901263e-09\n",
      "   3.84152576e-09   3.68103609e-09   3.52725128e-09   3.37989124e-09\n",
      "   3.23868754e-09   3.10338300e-09   2.97373115e-09   2.84949584e-09\n",
      "   2.73045079e-09   2.61637915e-09   2.50707315e-09   2.40233368e-09\n",
      "   2.30196999e-09   2.20579924e-09   2.11364628e-09   2.02534324e-09\n",
      "   1.94072929e-09   1.85965031e-09   1.78195861e-09   1.70751269e-09\n",
      "   1.63617693e-09   1.56782141e-09   1.50232162e-09   1.43955826e-09\n",
      "   1.37941699e-09   1.32178828e-09   1.26656716e-09   1.21365305e-09\n",
      "   1.16294956e-09   1.11436433e-09   1.06780888e-09   1.02319841e-09\n",
      "   9.80451653e-10   9.39490753e-10   9.00241100e-10   8.62631202e-10\n",
      "   8.26592556e-10   7.92059517e-10   7.58969185e-10   7.27261287e-10\n",
      "   6.96878068e-10   6.67764187e-10   6.39866613e-10   6.13134533e-10\n",
      "   5.87519254e-10   5.62974120e-10   5.39454422e-10   5.16917320e-10\n",
      "   4.95321764e-10   4.74628418e-10   4.54799590e-10   4.35799163e-10\n",
      "   4.17592527e-10   4.00146521e-10   3.83429367e-10   3.67410615e-10\n",
      "   3.52061088e-10   3.37352827e-10   3.23259041e-10   3.09754060e-10\n",
      "   2.96813284e-10   2.84413143e-10   2.72531049e-10   2.61145361e-10\n",
      "   2.50235339e-10   2.39781111e-10   2.29763636e-10   2.20164667e-10\n",
      "   2.10966720e-10   2.02153040e-10   1.93707575e-10   1.85614941e-10\n",
      "   1.77860397e-10   1.70429820e-10   1.63309674e-10   1.56486991e-10\n",
      "   1.49949343e-10   1.43684822e-10   1.37682017e-10   1.31929995e-10\n",
      "   1.26418279e-10   1.21136829e-10   1.16076025e-10   1.11226650e-10\n",
      "   1.06579869e-10   1.02127220e-10   9.78605916e-11   9.37722126e-11\n",
      "   8.98546363e-11   8.61007269e-11   8.25036467e-11   7.90568438e-11\n",
      "   7.57540400e-11   7.25892194e-11   6.95566173e-11   6.66507100e-11\n",
      "   6.38662045e-11   6.11980289e-11   5.86413232e-11   5.61914305e-11\n",
      "   5.38438884e-11   5.15944210e-11   4.94389308e-11   4.73734918e-11\n",
      "   4.53943419e-11   4.34978760e-11   4.16806399e-11   3.99393236e-11\n",
      "   3.82707552e-11   3.66718956e-11   3.51398325e-11   3.36717752e-11\n",
      "   3.22650499e-11   3.09170941e-11   2.96254527e-11   2.83877729e-11\n",
      "   2.72018004e-11   2.60653749e-11   2.49764266e-11   2.39329719e-11\n",
      "   2.29331102e-11   2.19750203e-11   2.10569571e-11   2.01772483e-11\n",
      "   1.93342917e-11   1.85265517e-11   1.77525572e-11   1.70108983e-11\n",
      "   1.63002241e-11   1.56192401e-11   1.49667060e-11   1.43414332e-11\n",
      "   1.37422828e-11   1.31681635e-11   1.26180295e-11   1.20908787e-11\n",
      "   1.15857510e-11   1.11017264e-11   1.06379231e-11   1.01934964e-11\n",
      "   9.76763674e-12   9.35956849e-12   8.96854835e-12   8.59386409e-12\n",
      "   8.23483323e-12   7.89080180e-12   7.56114318e-12   7.24525690e-12\n",
      "   6.94256759e-12   6.65252390e-12   6.37459754e-12   6.10828227e-12\n",
      "   5.85309300e-12   5.60856493e-12   5.37425265e-12   5.14972937e-12\n",
      "   4.93458613e-12   4.72843105e-12   4.53088863e-12   4.34159907e-12]\n"
     ]
    },
    {
     "ename": "KeyboardInterrupt",
     "evalue": "",
     "output_type": "error",
     "traceback": [
      "\u001b[0;31m---------------------------------------------------------------------------\u001b[0m",
      "\u001b[0;31mKeyboardInterrupt\u001b[0m                         Traceback (most recent call last)",
      "\u001b[0;32m<ipython-input-18-dcd6a0d659a7>\u001b[0m in \u001b[0;36m<module>\u001b[0;34m()\u001b[0m\n\u001b[1;32m      1\u001b[0m transfer_func_table = tf.process_raw_tf(\n\u001b[0;32m----> 2\u001b[0;31m     \u001b[0;34m\"/Users/hongwan/Dropbox (MIT)/Photon Deposition/transferfunction_nointerp.npy\"\u001b[0m\u001b[0;34m\u001b[0m\u001b[0m\n\u001b[0m\u001b[1;32m      3\u001b[0m     )\n",
      "\u001b[0;32m~/GitHub/DarkHistory/darkhistory/spec/transferfunction.py\u001b[0m in \u001b[0;36mprocess_raw_tf\u001b[0;34m(file)\u001b[0m\n\u001b[1;32m    669\u001b[0m         TransFuncAtEnergy(\n\u001b[1;32m    670\u001b[0m             \u001b[0mspec_arr\u001b[0m\u001b[0;34m/\u001b[0m\u001b[0mN\u001b[0m\u001b[0;34m,\u001b[0m \u001b[0mdlnz\u001b[0m\u001b[0;34m=\u001b[0m\u001b[0;36m0.002\u001b[0m\u001b[0;34m,\u001b[0m \u001b[0mrebin_eng\u001b[0m \u001b[0;34m=\u001b[0m \u001b[0minit_inj_eng_arr\u001b[0m\u001b[0;34m\u001b[0m\u001b[0m\n\u001b[0;32m--> 671\u001b[0;31m         ) for N, spec_arr in zip(normfac2, tqdm(tf_raw_list))\n\u001b[0m\u001b[1;32m    672\u001b[0m     ])\n\u001b[1;32m    673\u001b[0m \u001b[0;34m\u001b[0m\u001b[0m\n",
      "\u001b[0;32m~/anaconda/envs/python3/lib/python3.6/site-packages/tqdm/__init__.py\u001b[0m in \u001b[0;36mtqdm_notebook\u001b[0;34m(*args, **kwargs)\u001b[0m\n\u001b[1;32m     17\u001b[0m     \u001b[0;34m\"\"\"See tqdm._tqdm_notebook.tqdm_notebook for full documentation\"\"\"\u001b[0m\u001b[0;34m\u001b[0m\u001b[0m\n\u001b[1;32m     18\u001b[0m     \u001b[0;32mfrom\u001b[0m \u001b[0;34m.\u001b[0m\u001b[0m_tqdm_notebook\u001b[0m \u001b[0;32mimport\u001b[0m \u001b[0mtqdm_notebook\u001b[0m \u001b[0;32mas\u001b[0m \u001b[0m_tqdm_notebook\u001b[0m\u001b[0;34m\u001b[0m\u001b[0m\n\u001b[0;32m---> 19\u001b[0;31m     \u001b[0;32mreturn\u001b[0m \u001b[0m_tqdm_notebook\u001b[0m\u001b[0;34m(\u001b[0m\u001b[0;34m*\u001b[0m\u001b[0margs\u001b[0m\u001b[0;34m,\u001b[0m \u001b[0;34m**\u001b[0m\u001b[0mkwargs\u001b[0m\u001b[0;34m)\u001b[0m\u001b[0;34m\u001b[0m\u001b[0m\n\u001b[0m\u001b[1;32m     20\u001b[0m \u001b[0;34m\u001b[0m\u001b[0m\n\u001b[1;32m     21\u001b[0m \u001b[0;34m\u001b[0m\u001b[0m\n",
      "\u001b[0;32m~/anaconda/envs/python3/lib/python3.6/site-packages/tqdm/_tqdm.py\u001b[0m in \u001b[0;36m__new__\u001b[0;34m(cls, *args, **kwargs)\u001b[0m\n\u001b[1;32m    445\u001b[0m         \u001b[0;32mif\u001b[0m \u001b[0;34m\"_instances\"\u001b[0m \u001b[0;32mnot\u001b[0m \u001b[0;32min\u001b[0m \u001b[0mcls\u001b[0m\u001b[0;34m.\u001b[0m\u001b[0m__dict__\u001b[0m\u001b[0;34m:\u001b[0m\u001b[0;34m\u001b[0m\u001b[0m\n\u001b[1;32m    446\u001b[0m             \u001b[0mcls\u001b[0m\u001b[0;34m.\u001b[0m\u001b[0m_instances\u001b[0m \u001b[0;34m=\u001b[0m \u001b[0mWeakSet\u001b[0m\u001b[0;34m(\u001b[0m\u001b[0;34m)\u001b[0m\u001b[0;34m\u001b[0m\u001b[0m\n\u001b[0;32m--> 447\u001b[0;31m         \u001b[0;32mwith\u001b[0m \u001b[0mcls\u001b[0m\u001b[0;34m.\u001b[0m\u001b[0m_lock\u001b[0m\u001b[0;34m:\u001b[0m\u001b[0;34m\u001b[0m\u001b[0m\n\u001b[0m\u001b[1;32m    448\u001b[0m             \u001b[0mcls\u001b[0m\u001b[0;34m.\u001b[0m\u001b[0m_instances\u001b[0m\u001b[0;34m.\u001b[0m\u001b[0madd\u001b[0m\u001b[0;34m(\u001b[0m\u001b[0minstance\u001b[0m\u001b[0;34m)\u001b[0m\u001b[0;34m\u001b[0m\u001b[0m\n\u001b[1;32m    449\u001b[0m         \u001b[0;31m# Create the monitoring thread\u001b[0m\u001b[0;34m\u001b[0m\u001b[0;34m\u001b[0m\u001b[0m\n",
      "\u001b[0;32m~/anaconda/envs/python3/lib/python3.6/site-packages/tqdm/_tqdm.py\u001b[0m in \u001b[0;36m__enter__\u001b[0;34m(self)\u001b[0m\n\u001b[1;32m     75\u001b[0m \u001b[0;34m\u001b[0m\u001b[0m\n\u001b[1;32m     76\u001b[0m     \u001b[0;32mdef\u001b[0m \u001b[0m__enter__\u001b[0m\u001b[0;34m(\u001b[0m\u001b[0mself\u001b[0m\u001b[0;34m)\u001b[0m\u001b[0;34m:\u001b[0m\u001b[0;34m\u001b[0m\u001b[0m\n\u001b[0;32m---> 77\u001b[0;31m         \u001b[0mself\u001b[0m\u001b[0;34m.\u001b[0m\u001b[0macquire\u001b[0m\u001b[0;34m(\u001b[0m\u001b[0;34m)\u001b[0m\u001b[0;34m\u001b[0m\u001b[0m\n\u001b[0m\u001b[1;32m     78\u001b[0m \u001b[0;34m\u001b[0m\u001b[0m\n\u001b[1;32m     79\u001b[0m     \u001b[0;32mdef\u001b[0m \u001b[0m__exit__\u001b[0m\u001b[0;34m(\u001b[0m\u001b[0mself\u001b[0m\u001b[0;34m,\u001b[0m \u001b[0;34m*\u001b[0m\u001b[0mexc\u001b[0m\u001b[0;34m)\u001b[0m\u001b[0;34m:\u001b[0m\u001b[0;34m\u001b[0m\u001b[0m\n",
      "\u001b[0;32m~/anaconda/envs/python3/lib/python3.6/site-packages/tqdm/_tqdm.py\u001b[0m in \u001b[0;36macquire\u001b[0;34m(self)\u001b[0m\n\u001b[1;32m     68\u001b[0m     \u001b[0;32mdef\u001b[0m \u001b[0macquire\u001b[0m\u001b[0;34m(\u001b[0m\u001b[0mself\u001b[0m\u001b[0;34m)\u001b[0m\u001b[0;34m:\u001b[0m\u001b[0;34m\u001b[0m\u001b[0m\n\u001b[1;32m     69\u001b[0m         \u001b[0;32mfor\u001b[0m \u001b[0mlock\u001b[0m \u001b[0;32min\u001b[0m \u001b[0mself\u001b[0m\u001b[0;34m.\u001b[0m\u001b[0mlocks\u001b[0m\u001b[0;34m:\u001b[0m\u001b[0;34m\u001b[0m\u001b[0m\n\u001b[0;32m---> 70\u001b[0;31m             \u001b[0mlock\u001b[0m\u001b[0;34m.\u001b[0m\u001b[0macquire\u001b[0m\u001b[0;34m(\u001b[0m\u001b[0;34m)\u001b[0m\u001b[0;34m\u001b[0m\u001b[0m\n\u001b[0m\u001b[1;32m     71\u001b[0m \u001b[0;34m\u001b[0m\u001b[0m\n\u001b[1;32m     72\u001b[0m     \u001b[0;32mdef\u001b[0m \u001b[0mrelease\u001b[0m\u001b[0;34m(\u001b[0m\u001b[0mself\u001b[0m\u001b[0;34m)\u001b[0m\u001b[0;34m:\u001b[0m\u001b[0;34m\u001b[0m\u001b[0m\n",
      "\u001b[0;31mKeyboardInterrupt\u001b[0m: "
     ]
    }
   ],
   "source": [
    "transfer_func_table = tf.process_raw_tf(\n",
    "    \"/Users/hongwan/Dropbox (MIT)/Photon Deposition/transferfunction_nointerp.npy\"\n",
    "    )"
   ]
  },
  {
   "cell_type": "code",
   "execution_count": 10,
   "metadata": {
    "collapsed": true
   },
   "outputs": [],
   "source": [
    "pickle.dump(transfer_func_table, \n",
    "            open(\"/Users/hongwan/Dropbox (MIT)/Photon Deposition/transfer_func_table_new.raw\", \"wb\"))"
   ]
  },
  {
   "cell_type": "code",
   "execution_count": 11,
   "metadata": {
    "collapsed": true
   },
   "outputs": [],
   "source": [
    "test = pickle.load(open(\"/Users/hongwan/Dropbox (MIT)/Photon Deposition/transfer_func_table.raw\", \"rb\"))"
   ]
  },
  {
   "cell_type": "code",
   "execution_count": 14,
   "metadata": {},
   "outputs": [
    {
     "ename": "AttributeError",
     "evalue": "'TransFuncAtEnergy' object has no attribute '_eng'",
     "output_type": "error",
     "traceback": [
      "\u001b[0;31m---------------------------------------------------------------------------\u001b[0m",
      "\u001b[0;31mAttributeError\u001b[0m                            Traceback (most recent call last)",
      "\u001b[0;32m<ipython-input-14-19b0b478bece>\u001b[0m in \u001b[0;36m<module>\u001b[0;34m()\u001b[0m\n\u001b[0;32m----> 1\u001b[0;31m \u001b[0mtest\u001b[0m\u001b[0;34m[\u001b[0m\u001b[0;36m0\u001b[0m\u001b[0;34m]\u001b[0m\u001b[0;34m[\u001b[0m\u001b[0;36m0\u001b[0m\u001b[0;34m]\u001b[0m\u001b[0;34m\u001b[0m\u001b[0m\n\u001b[0m",
      "\u001b[0;32m~/GitHub/DarkHistory/darkhistory/spec/spectra.py\u001b[0m in \u001b[0;36m__getitem__\u001b[0;34m(self, key)\u001b[0m\n\u001b[1;32m    113\u001b[0m         \u001b[0;32mif\u001b[0m \u001b[0mnp\u001b[0m\u001b[0;34m.\u001b[0m\u001b[0missubdtype\u001b[0m\u001b[0;34m(\u001b[0m\u001b[0mtype\u001b[0m\u001b[0;34m(\u001b[0m\u001b[0mkey\u001b[0m\u001b[0;34m)\u001b[0m\u001b[0;34m,\u001b[0m \u001b[0mint\u001b[0m\u001b[0;34m)\u001b[0m\u001b[0;34m:\u001b[0m\u001b[0;34m\u001b[0m\u001b[0m\n\u001b[1;32m    114\u001b[0m             out_spec = Spectrum(\n\u001b[0;32m--> 115\u001b[0;31m                 \u001b[0mself\u001b[0m\u001b[0;34m.\u001b[0m\u001b[0meng\u001b[0m\u001b[0;34m,\u001b[0m \u001b[0mself\u001b[0m\u001b[0;34m.\u001b[0m\u001b[0m_grid_vals\u001b[0m\u001b[0;34m[\u001b[0m\u001b[0mkey\u001b[0m\u001b[0;34m]\u001b[0m\u001b[0;34m,\u001b[0m\u001b[0;34m\u001b[0m\u001b[0m\n\u001b[0m\u001b[1;32m    116\u001b[0m                 \u001b[0min_eng\u001b[0m\u001b[0;34m=\u001b[0m\u001b[0mself\u001b[0m\u001b[0;34m.\u001b[0m\u001b[0min_eng\u001b[0m\u001b[0;34m[\u001b[0m\u001b[0mkey\u001b[0m\u001b[0;34m]\u001b[0m\u001b[0;34m,\u001b[0m \u001b[0mrs\u001b[0m\u001b[0;34m=\u001b[0m\u001b[0mself\u001b[0m\u001b[0;34m.\u001b[0m\u001b[0mrs\u001b[0m\u001b[0;34m[\u001b[0m\u001b[0mkey\u001b[0m\u001b[0;34m]\u001b[0m\u001b[0;34m,\u001b[0m\u001b[0;34m\u001b[0m\u001b[0m\n\u001b[1;32m    117\u001b[0m                 \u001b[0mspec_type\u001b[0m\u001b[0;34m=\u001b[0m\u001b[0mself\u001b[0m\u001b[0;34m.\u001b[0m\u001b[0mspec_type\u001b[0m\u001b[0;34m\u001b[0m\u001b[0m\n",
      "\u001b[0;32m~/GitHub/DarkHistory/darkhistory/spec/spectra.py\u001b[0m in \u001b[0;36meng\u001b[0;34m(self)\u001b[0m\n\u001b[1;32m     85\u001b[0m     \u001b[0;34m@\u001b[0m\u001b[0mproperty\u001b[0m\u001b[0;34m\u001b[0m\u001b[0m\n\u001b[1;32m     86\u001b[0m     \u001b[0;32mdef\u001b[0m \u001b[0meng\u001b[0m\u001b[0;34m(\u001b[0m\u001b[0mself\u001b[0m\u001b[0;34m)\u001b[0m\u001b[0;34m:\u001b[0m\u001b[0;34m\u001b[0m\u001b[0m\n\u001b[0;32m---> 87\u001b[0;31m         \u001b[0;32mreturn\u001b[0m \u001b[0mself\u001b[0m\u001b[0;34m.\u001b[0m\u001b[0m_eng\u001b[0m\u001b[0;34m\u001b[0m\u001b[0m\n\u001b[0m\u001b[1;32m     88\u001b[0m \u001b[0;34m\u001b[0m\u001b[0m\n\u001b[1;32m     89\u001b[0m     \u001b[0;34m@\u001b[0m\u001b[0mproperty\u001b[0m\u001b[0;34m\u001b[0m\u001b[0m\n",
      "\u001b[0;31mAttributeError\u001b[0m: 'TransFuncAtEnergy' object has no attribute '_eng'"
     ]
    }
   ],
   "source": [
    "test[0][0]"
   ]
  },
  {
   "cell_type": "code",
   "execution_count": 12,
   "metadata": {},
   "outputs": [
    {
     "ename": "AttributeError",
     "evalue": "'TransFuncAtEnergy' object has no attribute '_eng'",
     "output_type": "error",
     "traceback": [
      "\u001b[0;31m---------------------------------------------------------------------------\u001b[0m",
      "\u001b[0;31mAttributeError\u001b[0m                            Traceback (most recent call last)",
      "\u001b[0;32m<ipython-input-12-e28351fd4ccb>\u001b[0m in \u001b[0;36m<module>\u001b[0;34m()\u001b[0m\n\u001b[1;32m      1\u001b[0m \u001b[0minjE_ind\u001b[0m\u001b[0;34m=\u001b[0m \u001b[0;36m390\u001b[0m\u001b[0;34m\u001b[0m\u001b[0m\n\u001b[0;32m----> 2\u001b[0;31m \u001b[0mprint\u001b[0m\u001b[0;34m(\u001b[0m\u001b[0mtest\u001b[0m\u001b[0;34m[\u001b[0m\u001b[0;36m0\u001b[0m\u001b[0;34m]\u001b[0m\u001b[0;34m[\u001b[0m\u001b[0;36m0\u001b[0m\u001b[0;34m]\u001b[0m\u001b[0;34m.\u001b[0m\u001b[0min_eng\u001b[0m\u001b[0;34m)\u001b[0m\u001b[0;34m\u001b[0m\u001b[0m\n\u001b[0m\u001b[1;32m      3\u001b[0m \u001b[0mprint\u001b[0m\u001b[0;34m(\u001b[0m\u001b[0mtest\u001b[0m\u001b[0;34m[\u001b[0m\u001b[0;36m0\u001b[0m\u001b[0;34m]\u001b[0m\u001b[0;34m.\u001b[0m\u001b[0mget_in_eng\u001b[0m\u001b[0;34m(\u001b[0m\u001b[0;34m)\u001b[0m\u001b[0;34m)\u001b[0m\u001b[0;34m\u001b[0m\u001b[0m\n\u001b[1;32m      4\u001b[0m \u001b[0mprint\u001b[0m\u001b[0;34m(\u001b[0m\u001b[0mtest\u001b[0m\u001b[0;34m[\u001b[0m\u001b[0minjE_ind\u001b[0m\u001b[0;34m]\u001b[0m\u001b[0;34m[\u001b[0m\u001b[0;36m1\u001b[0m\u001b[0;34m]\u001b[0m\u001b[0;34m.\u001b[0m\u001b[0min_eng\u001b[0m\u001b[0;34m)\u001b[0m\u001b[0;34m\u001b[0m\u001b[0m\n\u001b[1;32m      5\u001b[0m \u001b[0mprint\u001b[0m\u001b[0;34m(\u001b[0m\u001b[0mtest\u001b[0m\u001b[0;34m[\u001b[0m\u001b[0minjE_ind\u001b[0m\u001b[0;34m]\u001b[0m\u001b[0;34m[\u001b[0m\u001b[0;36m1\u001b[0m\u001b[0;34m]\u001b[0m\u001b[0;34m.\u001b[0m\u001b[0mrs\u001b[0m\u001b[0;34m)\u001b[0m\u001b[0;34m\u001b[0m\u001b[0m\n",
      "\u001b[0;32m~/GitHub/DarkHistory/darkhistory/spec/spectra.py\u001b[0m in \u001b[0;36m__getitem__\u001b[0;34m(self, key)\u001b[0m\n\u001b[1;32m    113\u001b[0m         \u001b[0;32mif\u001b[0m \u001b[0mnp\u001b[0m\u001b[0;34m.\u001b[0m\u001b[0missubdtype\u001b[0m\u001b[0;34m(\u001b[0m\u001b[0mtype\u001b[0m\u001b[0;34m(\u001b[0m\u001b[0mkey\u001b[0m\u001b[0;34m)\u001b[0m\u001b[0;34m,\u001b[0m \u001b[0mint\u001b[0m\u001b[0;34m)\u001b[0m\u001b[0;34m:\u001b[0m\u001b[0;34m\u001b[0m\u001b[0m\n\u001b[1;32m    114\u001b[0m             out_spec = Spectrum(\n\u001b[0;32m--> 115\u001b[0;31m                 \u001b[0mself\u001b[0m\u001b[0;34m.\u001b[0m\u001b[0meng\u001b[0m\u001b[0;34m,\u001b[0m \u001b[0mself\u001b[0m\u001b[0;34m.\u001b[0m\u001b[0m_grid_vals\u001b[0m\u001b[0;34m[\u001b[0m\u001b[0mkey\u001b[0m\u001b[0;34m]\u001b[0m\u001b[0;34m,\u001b[0m\u001b[0;34m\u001b[0m\u001b[0m\n\u001b[0m\u001b[1;32m    116\u001b[0m                 \u001b[0min_eng\u001b[0m\u001b[0;34m=\u001b[0m\u001b[0mself\u001b[0m\u001b[0;34m.\u001b[0m\u001b[0min_eng\u001b[0m\u001b[0;34m[\u001b[0m\u001b[0mkey\u001b[0m\u001b[0;34m]\u001b[0m\u001b[0;34m,\u001b[0m \u001b[0mrs\u001b[0m\u001b[0;34m=\u001b[0m\u001b[0mself\u001b[0m\u001b[0;34m.\u001b[0m\u001b[0mrs\u001b[0m\u001b[0;34m[\u001b[0m\u001b[0mkey\u001b[0m\u001b[0;34m]\u001b[0m\u001b[0;34m,\u001b[0m\u001b[0;34m\u001b[0m\u001b[0m\n\u001b[1;32m    117\u001b[0m                 \u001b[0mspec_type\u001b[0m\u001b[0;34m=\u001b[0m\u001b[0mself\u001b[0m\u001b[0;34m.\u001b[0m\u001b[0mspec_type\u001b[0m\u001b[0;34m\u001b[0m\u001b[0m\n",
      "\u001b[0;32m~/GitHub/DarkHistory/darkhistory/spec/spectra.py\u001b[0m in \u001b[0;36meng\u001b[0;34m(self)\u001b[0m\n\u001b[1;32m     85\u001b[0m     \u001b[0;34m@\u001b[0m\u001b[0mproperty\u001b[0m\u001b[0;34m\u001b[0m\u001b[0m\n\u001b[1;32m     86\u001b[0m     \u001b[0;32mdef\u001b[0m \u001b[0meng\u001b[0m\u001b[0;34m(\u001b[0m\u001b[0mself\u001b[0m\u001b[0;34m)\u001b[0m\u001b[0;34m:\u001b[0m\u001b[0;34m\u001b[0m\u001b[0m\n\u001b[0;32m---> 87\u001b[0;31m         \u001b[0;32mreturn\u001b[0m \u001b[0mself\u001b[0m\u001b[0;34m.\u001b[0m\u001b[0m_eng\u001b[0m\u001b[0;34m\u001b[0m\u001b[0m\n\u001b[0m\u001b[1;32m     88\u001b[0m \u001b[0;34m\u001b[0m\u001b[0m\n\u001b[1;32m     89\u001b[0m     \u001b[0;34m@\u001b[0m\u001b[0mproperty\u001b[0m\u001b[0;34m\u001b[0m\u001b[0m\n",
      "\u001b[0;31mAttributeError\u001b[0m: 'TransFuncAtEnergy' object has no attribute '_eng'"
     ]
    }
   ],
   "source": [
    "injE_ind= 390\n",
    "print(test[0][0].in_eng)\n",
    "print(test[0].get_in_eng())\n",
    "print(test[injE_ind][1].in_eng)\n",
    "print(test[injE_ind][1].rs)\n",
    "utils.compare_arr([test[injE_ind][1].eng, test[injE_ind][1].dNdE])"
   ]
  },
  {
   "cell_type": "code",
   "execution_count": null,
   "metadata": {
    "collapsed": true
   },
   "outputs": [],
   "source": []
  }
 ],
 "metadata": {
  "anaconda-cloud": {},
  "kernelspec": {
   "display_name": "Python 3",
   "language": "python",
   "name": "python3"
  },
  "language_info": {
   "codemirror_mode": {
    "name": "ipython",
    "version": 3
   },
   "file_extension": ".py",
   "mimetype": "text/x-python",
   "name": "python",
   "nbconvert_exporter": "python",
   "pygments_lexer": "ipython3",
   "version": "3.6.3"
  },
  "widgets": {
   "state": {
    "7b291e87c0674068886ea44108e37fa8": {
     "views": [
      {
       "cell_index": 2
      }
     ]
    }
   },
   "version": "1.2.0"
  }
 },
 "nbformat": 4,
 "nbformat_minor": 1
}
