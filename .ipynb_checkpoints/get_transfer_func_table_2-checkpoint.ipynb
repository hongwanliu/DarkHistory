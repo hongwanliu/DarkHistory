{
 "cells": [
  {
   "cell_type": "markdown",
   "metadata": {},
   "source": [
    "# Setting Up the Transfer Functions"
   ]
  },
  {
   "cell_type": "code",
   "execution_count": 1,
   "metadata": {},
   "outputs": [],
   "source": [
    "%load_ext autoreload"
   ]
  },
  {
   "cell_type": "markdown",
   "metadata": {},
   "source": [
    "## Notebook Initialization"
   ]
  },
  {
   "cell_type": "code",
   "execution_count": 2,
   "metadata": {},
   "outputs": [],
   "source": [
    "%autoreload\n",
    "import numpy as np\n",
    "import pickle\n",
    "from tqdm import tqdm_notebook as tqdm\n",
    "\n",
    "from darkhistory.spec.spectrum import Spectrum\n",
    "import darkhistory.spec.spectools as spectools\n",
    "import darkhistory.spec.transferfunction as tf\n",
    "import darkhistory.spec.transferfunclist as tflist\n",
    "import darkhistory.physics as phys\n",
    "import darkhistory.utilities as utils\n",
    "\n",
    "np.set_printoptions(threshold=np.nan)"
   ]
  },
  {
   "cell_type": "markdown",
   "metadata": {},
   "source": [
    "## Import Raw Data"
   ]
  },
  {
   "cell_type": "code",
   "execution_count": 3,
   "metadata": {},
   "outputs": [],
   "source": [
    "file_name = \"/Users/hongwan/Dropbox (MIT)/Photon Deposition/transferfunction_withloweng_nointerp.npy\"\n",
    "raw_tf = np.load(file_name)"
   ]
  },
  {
   "cell_type": "markdown",
   "metadata": {},
   "source": [
    "## Raw Data Manipulation"
   ]
  },
  {
   "cell_type": "markdown",
   "metadata": {},
   "source": [
    "The raw data is a large array with no abscissa values included. We need to create the abscissae related to this large array (the abscissa of photon energies and electron energies). \n",
    "\n",
    "First, we swap some of the axes. The initial array has dimensions corresponding to (injected photon energy, redshift, $x_e$, outgoing energy, type), where type is high-energy photons, low-energy photons and low-energy electrons respectively. "
   ]
  },
  {
   "cell_type": "code",
   "execution_count": 4,
   "metadata": {},
   "outputs": [],
   "source": [
    "raw_tf = np.swapaxes(raw_tf, 0, 1)\n",
    "raw_tf = np.swapaxes(raw_tf, 1, 2)\n",
    "raw_tf = np.flip(raw_tf, axis=0)"
   ]
  },
  {
   "cell_type": "markdown",
   "metadata": {},
   "source": [
    "At this point, the order is now (redshift, $x_e$, input photon energy, output energy, type), and the order is in decreasing redshift.\n",
    "\n",
    "The abscissa for the transfer functions are as follows. For the injected photon energy and redshifts,"
   ]
  },
  {
   "cell_type": "code",
   "execution_count": 5,
   "metadata": {},
   "outputs": [],
   "source": [
    "# Input energy abscissa. \n",
    "in_eng_step = 500\n",
    "in_eng_low = 3e3 + 100.\n",
    "in_eng_upp = 5e3 * np.exp(39 * np.log(1e13/5e3) / 40)\n",
    "in_eng_arr = (\n",
    "    in_eng_low * np.exp((np.arange(in_eng_step)) * \n",
    "              np.log(in_eng_upp/in_eng_low) / in_eng_step)\n",
    ")\n",
    "\n",
    "# Redshift abscissa, decreasing order. \n",
    "rs_step = 50\n",
    "rs_upp  = 31\n",
    "rs_low  = 4\n",
    "\n",
    "log_rs = (\n",
    "    np.log(rs_low) + (np.arange(rs_step) + 1)\n",
    "    *(np.log(rs_upp) - np.log(rs_low))/rs_step\n",
    ")\n",
    "\n",
    "log_rs_arr = np.flipud(log_rs)"
   ]
  },
  {
   "cell_type": "markdown",
   "metadata": {},
   "source": [
    "The output abscissa depends on the injection energy, and are different for photons and electrons. We write these as functions of the injection energy for convenience."
   ]
  },
  {
   "cell_type": "code",
   "execution_count": 6,
   "metadata": {},
   "outputs": [],
   "source": [
    "def get_out_photeng(in_eng):\n",
    "    \n",
    "    log_bin_width = np.log((phys.me + in_eng)/1e-4)/500\n",
    "    bin_boundary  = 1e-4 * np.exp(np.arange(501) * log_bin_width)\n",
    "    bin_boundary_low = bin_boundary[0:500]\n",
    "    bin_boundary_upp = bin_boundary[1:501]\n",
    "\n",
    "    return np.sqrt(bin_boundary_low * bin_boundary_upp)\n",
    "\n",
    "def get_out_eleceng(in_eng):\n",
    "    \n",
    "    log_bin_width = np.log(in_eng)/500\n",
    "    bin_boundary  = phys.me + np.exp(np.arange(501) * log_bin_width)\n",
    "    bin_boundary_low = bin_boundary[:500]\n",
    "    bin_boundary_upp = bin_boundary[1:]\n",
    "    return np.sqrt(\n",
    "        (bin_boundary_low - phys.me)*(bin_boundary_upp - phys.me)\n",
    "    )    "
   ]
  },
  {
   "cell_type": "markdown",
   "metadata": {},
   "source": [
    "The transfer function is calculated by injecting 2 photons at the input energy abscissa. However, the first step is to assign $x$ photons to the top bin of the *output* photon abscissa, such that $x$ times the energy of the top bin is 2 times the injection energy. Because of the misalignment between the two abscissae, as well as the fact that we want to transfer function for a single electron, we have to normalize the results first.\n",
    "\n",
    "First, we construct two arrays: a list of output abscissae (for both photons and electrons) given the injection abscissa, and a list of the energy of the *output* photon energy bin where the injected photons are assigned to. Then we compute the normalization factor. "
   ]
  },
  {
   "cell_type": "code",
   "execution_count": 7,
   "metadata": {},
   "outputs": [],
   "source": [
    "# dimensions input x output\n",
    "out_photeng_arr = np.array([get_out_photeng(eng) for eng in in_eng_arr])\n",
    "# dimensions input x output\n",
    "out_eleceng_arr = np.array([get_out_eleceng(eng) for eng in in_eng_arr])\n",
    "\n",
    "# dimensions input\n",
    "top_photeng_bin_arr = np.array(\n",
    "    [\n",
    "        photeng[photeng < eng][-1] \n",
    "        for eng,photeng in zip(in_eng_arr, out_photeng_arr)\n",
    "    ]\n",
    ")\n",
    "\n",
    "# dimensions input\n",
    "norm_fac_arr = in_eng_arr/top_photeng_bin_arr*2"
   ]
  },
  {
   "cell_type": "markdown",
   "metadata": {},
   "source": [
    "Dividing by the normalization factor gives the spectra for the injection of 1 photon, with energy given by top_photeng_bin_arr. However, we want the transfer function for a dN/dE = 1 of an array of energy *bins*, with abscissa `in_eng_arr`. To find normalization factor for going from a photon of a certain energy to dN/dE = 1 in an energy bin can be obtained from `spectools.rebin_N_arr`, which takes an array of number of photons and their energies, and puts them into bins."
   ]
  },
  {
   "cell_type": "code",
   "execution_count": 8,
   "metadata": {},
   "outputs": [],
   "source": [
    "# norm_fac_arr *= spectools.rebin_N_arr(\n",
    "#     np.ones_like(top_photeng_bin_arr), \n",
    "#     top_photeng_bin_arr\n",
    "# ).dNdE\n",
    "\n",
    "# print(norm_fac_arr)"
   ]
  },
  {
   "cell_type": "markdown",
   "metadata": {},
   "source": [
    "Now we can construct the raw `Spectrum` lists that we will finally put into a `TransFuncAtEnergy` object for the high energy photons, low energy photons and low energy electrons. These are spectra with input energy given by dN/dE = 1 for each bin of `in_eng_arr`. "
   ]
  },
  {
   "cell_type": "code",
   "execution_count": 9,
   "metadata": {},
   "outputs": [],
   "source": [
    "# There are some zero values in the raw data files. Position at which they occur seem quite fixed. \n",
    "# raw_tf_highengphot = raw_tf[:,:,:,:,0]\n",
    "# raw_tf_lowengphot = raw_tf[:,:,:,:,1]\n",
    "# raw_tf_lowengelec = raw_tf[:,:,:,:,2]\n",
    "# print(np.where(raw_tf_highengphot < 0))\n",
    "# print(raw_tf[32, 0, 137, 214, 0])\n",
    "# print(np.log10(in_eng_arr[137]))\n",
    "# print(np.exp(log_rs_arr[32]))\n",
    "# print(raw_tf_highengphot[raw_tf_highengphot < 0])\n",
    "# print(raw_tf_lowengphot[raw_tf_lowengphot < 0])\n",
    "# print(raw_tf_lowengelec[raw_tf_lowengelec < 0])"
   ]
  },
  {
   "cell_type": "code",
   "execution_count": 10,
   "metadata": {},
   "outputs": [],
   "source": [
    "photspec_list = [\n",
    "    [\n",
    "        Spectrum(\n",
    "            out_photeng, raw_tf[i,0,j,:,0]/norm_fac, \n",
    "            rs = np.exp(log_rs), in_eng = in_eng\n",
    "        ) \n",
    "        for (i, log_rs) in enumerate(log_rs_arr)\n",
    "    ] for (j, (in_eng, out_photeng, norm_fac)) in enumerate(\n",
    "            zip(top_photeng_bin_arr, out_photeng_arr, norm_fac_arr)\n",
    "    )\n",
    "]\n",
    "\n",
    "lowengphotspec_list = [\n",
    "    [\n",
    "        Spectrum(\n",
    "            out_photeng, raw_tf[i,0,j,:,1]/norm_fac, \n",
    "            rs = np.exp(log_rs), in_eng = in_eng\n",
    "        ) \n",
    "        for (i, log_rs) in enumerate(log_rs_arr)\n",
    "    ] for (j, (in_eng, out_photeng, norm_fac)) in enumerate(\n",
    "            zip(in_eng_arr, out_photeng_arr, norm_fac_arr)\n",
    "    )\n",
    "]\n",
    "\n",
    "lowengelecspec_list = [\n",
    "    [\n",
    "        Spectrum(\n",
    "            out_eleceng, raw_tf[i,0,j,:,2]/norm_fac, \n",
    "            rs = np.exp(log_rs), in_eng = in_eng\n",
    "        ) \n",
    "        for (i, log_rs) in enumerate(log_rs_arr)\n",
    "    ] for (j, (in_eng, out_eleceng, norm_fac)) in enumerate(\n",
    "            zip(in_eng_arr, out_eleceng_arr, norm_fac_arr)\n",
    "    )\n",
    "]"
   ]
  },
  {
   "cell_type": "markdown",
   "metadata": {},
   "source": [
    "Now we rebin all of the `Spectrum` objects. The final abscissa that we would like to use is `get_out_photeng(in_eng_arr[-1])`, i.e. the photon abscissa corresponding to the largest injected energy, as well as `get_out_eleceng(in_eng_arr[-1])` for the electrons. We also change the `Spectrum` object to type `N`."
   ]
  },
  {
   "cell_type": "code",
   "execution_count": 11,
   "metadata": {
    "scrolled": false
   },
   "outputs": [
    {
     "data": {
      "application/vnd.jupyter.widget-view+json": {
       "model_id": "2a15444d58be41e18c13a9e90bd49d22",
       "version_major": 2,
       "version_minor": 0
      },
      "text/html": [
       "<p>Failed to display Jupyter Widget of type <code>HBox</code>.</p>\n",
       "<p>\n",
       "  If you're reading this message in the Jupyter Notebook or JupyterLab Notebook, it may mean\n",
       "  that the widgets JavaScript is still loading. If this message persists, it\n",
       "  likely means that the widgets JavaScript library is either not installed or\n",
       "  not enabled. See the <a href=\"https://ipywidgets.readthedocs.io/en/stable/user_install.html\">Jupyter\n",
       "  Widgets Documentation</a> for setup instructions.\n",
       "</p>\n",
       "<p>\n",
       "  If you're reading this message in another frontend (for example, a static\n",
       "  rendering on GitHub or <a href=\"https://nbviewer.jupyter.org/\">NBViewer</a>),\n",
       "  it may mean that your frontend doesn't currently support widgets.\n",
       "</p>\n"
      ],
      "text/plain": [
       "HBox(children=(IntProgress(value=0, max=500), HTML(value='')))"
      ]
     },
     "metadata": {},
     "output_type": "display_data"
    },
    {
     "name": "stderr",
     "output_type": "stream",
     "text": [
      "/Users/hongwan/GitHub/DarkHistory/darkhistory/spec/spectrum.py:458: RuntimeWarning: divide by zero encountered in true_divide\n",
      "  self._data = self._data/(self.eng*log_bin_width)\n",
      "/Users/hongwan/GitHub/DarkHistory/darkhistory/spec/spectrum.py:510: RuntimeWarning: invalid value encountered in multiply\n",
      "  return dNdlogE * log_bin_width\n",
      "/Users/hongwan/GitHub/DarkHistory/darkhistory/spec/spectrum.py:610: RuntimeWarning: invalid value encountered in multiply\n",
      "  return dNdlogE * eng * log_bin_width\n",
      "/Users/hongwan/GitHub/DarkHistory/darkhistory/spec/spectrum.py:748: RuntimeWarning: The new abscissa lies below the old one: only bins that lie within the new abscissa will be rebinned, bins above the abscissa will be discarded.\n",
      "  warnings.warn(\"The new abscissa lies below the old one: only bins that lie within the new abscissa will be rebinned, bins above the abscissa will be discarded.\", RuntimeWarning)\n"
     ]
    },
    {
     "name": "stdout",
     "output_type": "stream",
     "text": [
      "\n"
     ]
    },
    {
     "data": {
      "application/vnd.jupyter.widget-view+json": {
       "model_id": "075a4caddc1d4f8f9f1fdfd541d822dd",
       "version_major": 2,
       "version_minor": 0
      },
      "text/html": [
       "<p>Failed to display Jupyter Widget of type <code>HBox</code>.</p>\n",
       "<p>\n",
       "  If you're reading this message in the Jupyter Notebook or JupyterLab Notebook, it may mean\n",
       "  that the widgets JavaScript is still loading. If this message persists, it\n",
       "  likely means that the widgets JavaScript library is either not installed or\n",
       "  not enabled. See the <a href=\"https://ipywidgets.readthedocs.io/en/stable/user_install.html\">Jupyter\n",
       "  Widgets Documentation</a> for setup instructions.\n",
       "</p>\n",
       "<p>\n",
       "  If you're reading this message in another frontend (for example, a static\n",
       "  rendering on GitHub or <a href=\"https://nbviewer.jupyter.org/\">NBViewer</a>),\n",
       "  it may mean that your frontend doesn't currently support widgets.\n",
       "</p>\n"
      ],
      "text/plain": [
       "HBox(children=(IntProgress(value=0, max=500), HTML(value='')))"
      ]
     },
     "metadata": {},
     "output_type": "display_data"
    },
    {
     "name": "stdout",
     "output_type": "stream",
     "text": [
      "\n"
     ]
    },
    {
     "data": {
      "application/vnd.jupyter.widget-view+json": {
       "model_id": "7ff3eb9f98c74ce9a3587d241bfbb2d5",
       "version_major": 2,
       "version_minor": 0
      },
      "text/html": [
       "<p>Failed to display Jupyter Widget of type <code>HBox</code>.</p>\n",
       "<p>\n",
       "  If you're reading this message in the Jupyter Notebook or JupyterLab Notebook, it may mean\n",
       "  that the widgets JavaScript is still loading. If this message persists, it\n",
       "  likely means that the widgets JavaScript library is either not installed or\n",
       "  not enabled. See the <a href=\"https://ipywidgets.readthedocs.io/en/stable/user_install.html\">Jupyter\n",
       "  Widgets Documentation</a> for setup instructions.\n",
       "</p>\n",
       "<p>\n",
       "  If you're reading this message in another frontend (for example, a static\n",
       "  rendering on GitHub or <a href=\"https://nbviewer.jupyter.org/\">NBViewer</a>),\n",
       "  it may mean that your frontend doesn't currently support widgets.\n",
       "</p>\n"
      ],
      "text/plain": [
       "HBox(children=(IntProgress(value=0, max=500), HTML(value='')))"
      ]
     },
     "metadata": {},
     "output_type": "display_data"
    },
    {
     "name": "stdout",
     "output_type": "stream",
     "text": [
      "\n"
     ]
    }
   ],
   "source": [
    "fin_photeng = get_out_photeng(in_eng_arr[-1])\n",
    "fin_eleceng = get_out_eleceng(in_eng_arr[-1])\n",
    "\n",
    "for phot_specs in tqdm(photspec_list):\n",
    "    for phot_spec in phot_specs:\n",
    "        phot_spec.rebin(top_photeng_bin_arr)\n",
    "        phot_spec.switch_spec_type()\n",
    "#         print(phot_spec.spec_type)\n",
    "#         phot_spec.at_eng(top_photeng_bin_arr)\n",
    "#         print('$$$$$')\n",
    "#         phot_spec.rebin(fin_photeng)\n",
    "        \n",
    "for phot_specs in tqdm(lowengphotspec_list):\n",
    "    for phot_spec in phot_specs:\n",
    "        phot_spec.rebin(fin_photeng)\n",
    "        phot_spec.switch_spec_type()\n",
    "\n",
    "for elec_specs in tqdm(lowengelecspec_list):\n",
    "    for elec_spec in elec_specs:\n",
    "        elec_spec.rebin(fin_eleceng)\n",
    "        elec_spec.switch_spec_type()\n",
    "    "
   ]
  },
  {
   "cell_type": "code",
   "execution_count": 22,
   "metadata": {},
   "outputs": [
    {
     "name": "stdout",
     "output_type": "stream",
     "text": [
      "[]\n",
      "[]\n",
      "[]\n",
      "[]\n",
      "[]\n",
      "[]\n",
      "[]\n",
      "[]\n",
      "[]\n",
      "[]\n",
      "[]\n",
      "[]\n",
      "[]\n",
      "[]\n",
      "[]\n",
      "[nan nan]\n",
      "[nan nan]\n",
      "[nan nan]\n",
      "[nan nan]\n",
      "[nan nan]\n",
      "[nan nan]\n",
      "[nan nan]\n",
      "[nan nan]\n",
      "[nan nan]\n",
      "[nan nan]\n",
      "[nan nan]\n",
      "[nan nan]\n",
      "[nan nan]\n",
      "[nan nan]\n",
      "[nan nan]\n",
      "[nan nan]\n",
      "[nan nan]\n",
      "[nan nan]\n",
      "[nan nan]\n",
      "[nan nan]\n",
      "[nan nan]\n",
      "[nan nan]\n",
      "[nan nan]\n",
      "[nan nan]\n",
      "[nan nan]\n",
      "[nan nan]\n",
      "[nan nan]\n",
      "[nan nan]\n",
      "[nan nan]\n",
      "[nan nan]\n",
      "[nan nan]\n",
      "[nan nan]\n",
      "[nan nan]\n",
      "[nan nan]\n",
      "[nan nan]\n"
     ]
    }
   ],
   "source": [
    "for photspec in photspec_list[-2]:\n",
    "    print(photspec.N[np.isnan(photspec.N)])"
   ]
  },
  {
   "cell_type": "markdown",
   "metadata": {},
   "source": [
    "Finally, we can construct the `TransferFuncList` from this."
   ]
  },
  {
   "cell_type": "code",
   "execution_count": 12,
   "metadata": {},
   "outputs": [],
   "source": [
    "tfunclist_photspec = tflist.TransferFuncList(\n",
    "    [\n",
    "        tf.TransFuncAtEnergy(spec_arr, dlnz=0.002)\n",
    "        for spec_arr in photspec_list\n",
    "    ]\n",
    ")\n",
    "\n",
    "tfunclist_lowengphotspec = tflist.TransferFuncList(\n",
    "    [\n",
    "        tf.TransFuncAtEnergy(spec_arr, dlnz=0.002)\n",
    "        for spec_arr in lowengphotspec_list\n",
    "    ]\n",
    ")\n",
    "\n",
    "tfunclist_lowengelecspec = tflist.TransferFuncList(\n",
    "    [\n",
    "        tf.TransFuncAtEnergy(spec_arr, dlnz=0.002)\n",
    "        for spec_arr in lowengelecspec_list\n",
    "    ]\n",
    ")"
   ]
  },
  {
   "cell_type": "code",
   "execution_count": 13,
   "metadata": {},
   "outputs": [],
   "source": [
    "pickle.dump(tfunclist_photspec, \n",
    "           open(\"/Users/hongwan/Dropbox (MIT)/Photon Deposition/tfunclist_photspec.raw\", \"wb\")\n",
    "           )\n",
    "\n",
    "pickle.dump(tfunclist_lowengphotspec, \n",
    "           open(\"/Users/hongwan/Dropbox (MIT)/Photon Deposition/tfunclist_lowengphotspec.raw\", \"wb\")\n",
    "           )\n",
    "\n",
    "pickle.dump(tfunclist_lowengelecspec, \n",
    "           open(\"/Users/hongwan/Dropbox (MIT)/Photon Deposition/tfunclist_lowengelecspec.raw\", \"wb\")\n",
    "           )"
   ]
  },
  {
   "cell_type": "markdown",
   "metadata": {
    "collapsed": true
   },
   "source": [
    "At the end, we have the normalized transfer functions, which will takes in a `Spectrum` of number of particles in each bin, and outputs the `Spectrum`, also number of particles."
   ]
  },
  {
   "cell_type": "code",
   "execution_count": null,
   "metadata": {},
   "outputs": [],
   "source": []
  }
 ],
 "metadata": {
  "anaconda-cloud": {},
  "kernelspec": {
   "display_name": "Python 3",
   "language": "python",
   "name": "python3"
  },
  "language_info": {
   "codemirror_mode": {
    "name": "ipython",
    "version": 3
   },
   "file_extension": ".py",
   "mimetype": "text/x-python",
   "name": "python",
   "nbconvert_exporter": "python",
   "pygments_lexer": "ipython3",
   "version": "3.6.5"
  },
  "widgets": {
   "state": {
    "19591f7189204dda92ca817032aeaf06": {
     "views": [
      {
       "cell_index": 20
      }
     ]
    },
    "1db41504ad1d4f98a86f6a0d08c45b91": {
     "views": [
      {
       "cell_index": 20
      }
     ]
    },
    "a91cb9cb66544e269d2ad658c21f82f7": {
     "views": [
      {
       "cell_index": 20
      }
     ]
    }
   },
   "version": "1.2.0"
  }
 },
 "nbformat": 4,
 "nbformat_minor": 1
}
