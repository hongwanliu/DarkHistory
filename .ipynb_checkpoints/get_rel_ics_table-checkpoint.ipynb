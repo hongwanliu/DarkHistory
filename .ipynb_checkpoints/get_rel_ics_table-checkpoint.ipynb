{
 "cells": [
  {
   "cell_type": "code",
   "execution_count": 1,
   "metadata": {
    "collapsed": true
   },
   "outputs": [],
   "source": [
    "%load_ext autoreload"
   ]
  },
  {
   "cell_type": "code",
   "execution_count": 8,
   "metadata": {
    "collapsed": false
   },
   "outputs": [],
   "source": [
    "%autoreload\n",
    "import numpy as np\n",
    "import darkhistory.electrons.ics.ics_spectrum as ics_spec\n",
    "import darkhistory.physics as phys\n",
    "import pickle\n",
    "\n",
    "np.set_printoptions(precision=20)"
   ]
  },
  {
   "cell_type": "code",
   "execution_count": 9,
   "metadata": {
    "collapsed": false
   },
   "outputs": [],
   "source": [
    "Emax = np.float128(1e20)\n",
    "Emin = np.float128(1e-8)\n",
    "nEe = np.float128(500)\n",
    "nEp  = np.float128(500)\n",
    "\n",
    "dlnEp = np.log(Emax/Emin)/nEp\n",
    "lowengEp = Emin*np.exp((np.arange(nEp)+0.5)*dlnEp)        \n",
    "\n",
    "dlnEe = np.log(Emax/Emin)/nEe\n",
    "lowengEe = Emin*np.exp((np.arange(nEe)+0.5)*dlnEe)\n",
    "\n",
    "T = np.float128(phys.TCMB(1)*1000)"
   ]
  },
  {
   "cell_type": "code",
   "execution_count": 13,
   "metadata": {
    "collapsed": false
   },
   "outputs": [
    {
     "name": "stdout",
     "output_type": "stream",
     "text": [
      "Initializing...\n",
      "Computing series 1/4...\n",
      "Computing series 2/4...\n",
      "Computing series 3/4...\n",
      "Computing series 4/4...\n",
      "Relativistic Computation Complete!\n"
     ]
    }
   ],
   "source": [
    "# %%prun\n",
    "# CHECK inf_upp_bound\n",
    "a = ics_spec.rel_spec(np.array(lowengEe, dtype='float128'), np.array(lowengEp,dtype='float128'), \n",
    "                      np.float128(phys.TCMB(1)*1000), inf_upp_bound=True)"
   ]
  },
  {
   "cell_type": "code",
   "execution_count": 14,
   "metadata": {
    "collapsed": true
   },
   "outputs": [],
   "source": [
    "pickle.dump(a, \n",
    "            open(\"/Users/hongwan/Dropbox (MIT)/Photon Deposition/ICS_rel.raw\", \"wb\"))"
   ]
  },
  {
   "cell_type": "code",
   "execution_count": 12,
   "metadata": {
    "collapsed": false
   },
   "outputs": [
    {
     "name": "stdout",
     "output_type": "stream",
     "text": [
      "<darkhistory.spec.transferfunction.TransFuncAtRedshift object at 0x10c95c6a0>\n"
     ]
    }
   ],
   "source": [
    "print(a)"
   ]
  },
  {
   "cell_type": "code",
   "execution_count": null,
   "metadata": {
    "collapsed": true
   },
   "outputs": [],
   "source": []
  }
 ],
 "metadata": {
  "anaconda-cloud": {},
  "kernelspec": {
   "display_name": "Python [default]",
   "language": "python",
   "name": "python3"
  },
  "language_info": {
   "codemirror_mode": {
    "name": "ipython",
    "version": 3
   },
   "file_extension": ".py",
   "mimetype": "text/x-python",
   "name": "python",
   "nbconvert_exporter": "python",
   "pygments_lexer": "ipython3",
   "version": "3.5.2"
  }
 },
 "nbformat": 4,
 "nbformat_minor": 2
}
