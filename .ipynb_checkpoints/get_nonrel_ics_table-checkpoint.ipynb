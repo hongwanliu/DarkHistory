{
 "cells": [
  {
   "cell_type": "code",
   "execution_count": 1,
   "metadata": {
    "collapsed": true
   },
   "outputs": [],
   "source": [
    "%load_ext autoreload"
   ]
  },
  {
   "cell_type": "code",
   "execution_count": 2,
   "metadata": {
    "collapsed": true
   },
   "outputs": [],
   "source": [
    "%autoreload\n",
    "import numpy as np\n",
    "import darkhistory.electrons.ics.ics_spectrum as ics_spec\n",
    "import darkhistory.physics as phys\n",
    "import pickle\n",
    "\n",
    "np.set_printoptions(precision=6)"
   ]
  },
  {
   "cell_type": "code",
   "execution_count": 3,
   "metadata": {
    "collapsed": true
   },
   "outputs": [],
   "source": [
    "# Emax = np.float128(1e10)\n",
    "# Emin = np.float128(1e-8)\n",
    "# nEe = np.float128(500)\n",
    "# nEp  = np.float128(500)\n",
    "\n",
    "Emax = 1e10\n",
    "Emin = 1e-8\n",
    "nEe = 500\n",
    "nEp  = 500\n",
    "\n",
    "dlnEp = np.log(Emax/Emin)/nEp\n",
    "lowengEp = Emin*np.exp((np.arange(nEp)+0.5)*dlnEp)        \n",
    "\n",
    "dlnEe = np.log(Emax/Emin)/nEe\n",
    "lowengEe = Emin*np.exp((np.arange(nEe)+0.5)*dlnEe)\n",
    "\n",
    "# lowengEe = np.array([lowengEe[168]],dtype='float128')\n",
    "# lowengEp = np.array([lowengEp[521]],dtype='float128')\n",
    "#521\n",
    "# T = np.float128(phys.TCMB(1)*1000)\n",
    "T = phys.TCMB(1)*1000"
   ]
  },
  {
   "cell_type": "code",
   "execution_count": 4,
   "metadata": {},
   "outputs": [
    {
     "name": "stdout",
     "output_type": "stream",
     "text": [
      "Initializing...\n",
      "Computing spectra by an expansion in beta...\n",
      "Computing Q and K terms...\n",
      "Computing H and G terms...\n",
      "Computation by expansion in beta complete!\n",
      "Computing errors for beta expansion method...\n",
      "Computing spectra by analytic series...\n",
      "Computing series 1/8...\n",
      "Computing series 2/8...\n",
      "Computing series 3/8...\n",
      "Computing series 4/8...\n",
      "Computing series 5/8...\n",
      "Computing series 6/8...\n",
      "Computing series 7/8...\n",
      "Computing series 8/8...\n",
      "Computation by analytic series complete!\n",
      "Spectrum computed!\n"
     ]
    }
   ],
   "source": [
    "# %%prun\n",
    "a = ics_spec.nonrel_spec(lowengEe, lowengEp, T)"
   ]
  },
  {
   "cell_type": "code",
   "execution_count": 5,
   "metadata": {
    "collapsed": true
   },
   "outputs": [],
   "source": [
    "pickle.dump(a, \n",
    "            open(\"/Users/hongwan/Dropbox (MIT)/Photon Deposition/ICS_nonrel.raw\", \"wb\"))"
   ]
  }
 ],
 "metadata": {
  "anaconda-cloud": {},
  "kernelspec": {
   "display_name": "Python 3",
   "language": "python",
   "name": "python3"
  },
  "language_info": {
   "codemirror_mode": {
    "name": "ipython",
    "version": 3
   },
   "file_extension": ".py",
   "mimetype": "text/x-python",
   "name": "python",
   "nbconvert_exporter": "python",
   "pygments_lexer": "ipython3",
   "version": "3.6.3"
  }
 },
 "nbformat": 4,
 "nbformat_minor": 2
}
