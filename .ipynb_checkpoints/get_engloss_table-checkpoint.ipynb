{
 "cells": [
  {
   "cell_type": "code",
   "execution_count": 1,
   "metadata": {
    "collapsed": true
   },
   "outputs": [],
   "source": [
    "%load_ext autoreload"
   ]
  },
  {
   "cell_type": "code",
   "execution_count": 2,
   "metadata": {
    "collapsed": true
   },
   "outputs": [],
   "source": [
    "%autoreload\n",
    "import numpy as np\n",
    "import scipy.special as sp\n",
    "import darkhistory.electrons.ics.engloss_diff_terms as series\n",
    "import darkhistory.electrons.ics.bose_einstein_integrals as BE_int\n",
    "import darkhistory.electrons.ics.ics_engloss_spectrum as ics_spec\n",
    "import darkhistory.physics as phys\n",
    "import pickle\n",
    "\n",
    "np.set_printoptions(precision=15)"
   ]
  },
  {
   "cell_type": "code",
   "execution_count": 3,
   "metadata": {
    "collapsed": true
   },
   "outputs": [],
   "source": [
    "# Emax = np.float128(1e10)\n",
    "# Emin = np.float128(1e-8)\n",
    "# nEe = np.float128(500)\n",
    "# nEp  = np.float128(500)\n",
    "\n",
    "Emax = 1e10\n",
    "Emin = 1e-8\n",
    "nEe = 500\n",
    "nEp  = 500\n",
    "\n",
    "dlnEp = np.log(Emax/Emin)/nEp\n",
    "delta = Emin*np.exp((np.arange(nEp)+0.5)*dlnEp)        \n",
    "\n",
    "dlnEe = np.log(Emax/Emin)/nEe\n",
    "lowengEe = Emin*np.exp((np.arange(nEe)+0.5)*dlnEe)\n",
    "\n",
    "# lowengEe = np.array([lowengEe[168]],dtype='float128')\n",
    "# lowengEp = np.array([lowengEp[521]],dtype='float128')\n",
    "#521\n",
    "# T = np.float128(phys.TCMB(1)*1000)\n",
    "T = phys.TCMB(1)*1000"
   ]
  },
  {
   "cell_type": "code",
   "execution_count": 4,
   "metadata": {
    "scrolled": true
   },
   "outputs": [
    {
     "name": "stdout",
     "output_type": "stream",
     "text": [
      "Computing nonrelativistic energy loss spectrum...\n",
      "Computing energy loss spectrum by beta expansion...\n",
      "(1/5) Computing F1_up - F1_down term...\n",
      "(2/5) Computing F0_up - F0_down term...\n",
      "(3/5) Computing F0_up + F0_down term...\n",
      "(4/5) Computing F_inv_up - F_inv_down term...\n",
      "(5/5) Computing F_rem term...\n",
      "Computation by expansion in beta complete!\n",
      "Computing energy loss spectrum by analytic series...\n",
      "Computing upscattering loss spectra...\n",
      "Computing series 1/7...\n",
      "Computing series 2/7...\n",
      "Computing series 3/7...\n",
      "Computing series 4/7...\n",
      "Computing series 5/7...\n",
      "Computing series 6/7...\n",
      "Computing series 7/7...\n",
      "Computing downscattering loss spectra...\n",
      "Computing series 1/7...\n",
      "Computing series 2/7...\n",
      "Computing series 3/7...\n",
      "Computing series 4/7...\n",
      "Computing series 5/7...\n",
      "Computing series 6/7...\n",
      "Computing series 7/7...\n",
      "Nonrelativistic energy loss spectrum computed!\n"
     ]
    }
   ],
   "source": [
    "# %%prun\n",
    "a = ics_spec.engloss_spec(lowengEe, delta, T, nonrel=True)\n"
   ]
  },
  {
   "cell_type": "code",
   "execution_count": 5,
   "metadata": {
    "collapsed": true
   },
   "outputs": [],
   "source": [
    "pickle.dump(a, \n",
    "            open(\"/Users/hongwan/Dropbox (MIT)/Photon Deposition/ICS_englossspec.raw\", \"wb\"))"
   ]
  },
  {
   "cell_type": "code",
   "execution_count": null,
   "metadata": {
    "collapsed": true
   },
   "outputs": [],
   "source": []
  }
 ],
 "metadata": {
  "anaconda-cloud": {},
  "kernelspec": {
   "display_name": "Python 3",
   "language": "python",
   "name": "python3"
  },
  "language_info": {
   "codemirror_mode": {
    "name": "ipython",
    "version": 3
   },
   "file_extension": ".py",
   "mimetype": "text/x-python",
   "name": "python",
   "nbconvert_exporter": "python",
   "pygments_lexer": "ipython3",
   "version": "3.6.3"
  }
 },
 "nbformat": 4,
 "nbformat_minor": 2
}
