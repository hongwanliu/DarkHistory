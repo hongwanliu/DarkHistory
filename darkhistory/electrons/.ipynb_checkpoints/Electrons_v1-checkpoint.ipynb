{
 "cells": [
  {
   "cell_type": "code",
   "execution_count": 1,
   "metadata": {},
   "outputs": [
    {
     "data": {
      "text/plain": [
       "'%.4g'"
      ]
     },
     "execution_count": 1,
     "metadata": {},
     "output_type": "execute_result"
    }
   ],
   "source": [
    "import numpy\n",
    "import sys\n",
    "sys.path.append(\"..\")\n",
    "import physics\n",
    "from astropy.io import fits\n",
    "from scipy.interpolate import interp1d\n",
    "import math\n",
    "import scipy.constants as p\n",
    "import pandas as pd\n",
    "import matplotlib.pyplot as plt\n",
    "import timeit\n",
    "%precision %.4g"
   ]
  },
  {
   "cell_type": "markdown",
   "metadata": {},
   "source": [
    "<h1>Thermalization</h1>\n",
    "\n",
    "\n",
    "\n",
    "<p>\n",
    "This is perhaps the easiest process to model, and is where all electrons eventually end up once beneath the first inductive step corresponding to the lowest excitation energy of hydrogen. \n",
    "\n",
    "The preliminary source for cross sections is this paper: [https://arxiv.org/pdf/0910.4410.pdf]\n",
    "</p>\n",
    "\n",
    "<p> $ \\sigma_{ee}=\\frac{40\\pi e^2}{E^2}ln(\\Lambda)(\\frac{0.05}{f})$\n",
    "As long as $f<0.05$, the results are the same within the error; $ln(\\Lambda) \\sim 10$. </p>\n",
    "\n",
    "\n",
    "<p> There is no output spectra; all output is stored as heat.</p>\n",
    "\n"
   ]
  },
  {
   "cell_type": "code",
   "execution_count": 2,
   "metadata": {
    "collapsed": true
   },
   "outputs": [],
   "source": [
    "def thermalize_cs(T, f=0.05, lnV=10):\n",
    "    '''\n",
    "    Calculates the heating cross section (xsec) at a particular kinetic energy.\n",
    "    \n",
    "    Parameters\n",
    "    ----------\n",
    "    T : float, ndarray\n",
    "        The electron's initial kinetic energy.\n",
    "    f : float\n",
    "        The fraction of energy lost in each interaction.\n",
    "    lnV : float\n",
    "        The Coulomb logarithm [ln(Lambda)]\n",
    "\n",
    "    Returns\n",
    "    ----------\n",
    "    float, ndarray (same as T)\n",
    "        The cross section for heating at energy T \n",
    "        (given in cm^2). \n",
    "    \n",
    "    See Also\n",
    "    --------\n",
    "    heating_dE : Preferred; finds dE/dt\n",
    "    '''\n",
    "   \n",
    "    \n",
    "    sigma_ee=(7.82*10**(-11))*(0.05/f)*lnV*(T)**(-2)\n",
    "    return sigma_ee\n"
   ]
  },
  {
   "cell_type": "code",
   "execution_count": 3,
   "metadata": {
    "collapsed": true
   },
   "outputs": [],
   "source": [
    "def heating_dE(T, x_e, rs, nH=physics.nH):\n",
    "    '''\n",
    "    Calculates the heating loss rate for electrons at a particular \n",
    "    kinetic energy given some ionization fraction and redshift.\n",
    "    \n",
    "    Parameters\n",
    "    ----------\n",
    "    T : float, ndarray\n",
    "        The electron's initial kinetic energy\n",
    "    x_e : float\n",
    "        The ionization fraction for Hydrogen.\n",
    "    rs : float\n",
    "        The redshift (1+z) during heating; used for n_e.\n",
    "    nH : float\n",
    "        Hydrogen density from physics.py\n",
    "        \n",
    "    Returns\n",
    "    ----------\n",
    "    float, ndarray (same as T)\n",
    "        The energy loss rate from heating (negative).\n",
    "    \n",
    "    '''\n",
    "    \n",
    "    lnV=10\n",
    "    n_e = x_e*nH*rs**3  #cm^-3\n",
    "    # from x_e=n_e/n_h/rs^3 \n",
    "    \n",
    "    e_charge=4.80326*10**-10 #esu units\n",
    "    mv=((T**2+2*T*physics.me)**0.5*physics.me/(T+physics.me)) \n",
    "    numfac=(10**-14*physics.ele**-2*physics.c)\n",
    "    \n",
    "    dE_dt = numfac*(-4*math.pi*(e_charge)**4*n_e*lnV)/mv\n",
    "    \n",
    "    \n",
    "    return dE_dt"
   ]
  },
  {
   "cell_type": "code",
   "execution_count": 4,
   "metadata": {},
   "outputs": [
    {
     "name": "stdout",
     "output_type": "stream",
     "text": [
      "Heating test 1 return:\n"
     ]
    },
    {
     "data": {
      "text/plain": [
       "-0.001304"
      ]
     },
     "execution_count": 4,
     "metadata": {},
     "output_type": "execute_result"
    }
   ],
   "source": [
    "#Examples and testing for heating_dE and thermalize\n",
    "print('Heating test 1 return:')\n",
    "heating_dE(100, 0.9, 1000)"
   ]
  },
  {
   "cell_type": "code",
   "execution_count": 5,
   "metadata": {},
   "outputs": [
    {
     "data": {
      "image/png": "[encoded data removed]",
      "text/plain": [
       "<matplotlib.figure.Figure at 0x113300fd0>"
      ]
     },
     "metadata": {},
     "output_type": "display_data"
    }
   ],
   "source": [
    "#Log plot of ionization cross section from thermalize_cs\n",
    "x=numpy.logspace(1,3)\n",
    "plt.plot(x,thermalize_cs(x,1), label=\"heating\")\n",
    "\n",
    "plt.xlabel('Energy (eV)')\n",
    "plt.ylabel('Cross Section ($cm^2$)')\n",
    "plt.legend(bbox_to_anchor=(1.05, 1), loc=2, borderaxespad=0.)\n",
    "plt.show()"
   ]
  },
  {
   "cell_type": "markdown",
   "metadata": {},
   "source": [
    "<h1>Ionization</h1>\n",
    "\n",
    "<p>\n",
    "Ionization produces an electron spectrum, with one primary losing energy and generating a free secondary. The energy of the primary decreases by the ionization energy and the energy spectra of the secondary. The percent of hydrogen ionized is a stored parameter and main focus of the code. \n",
    "\n",
    "The preliminary source for cross sections is this paper: \n",
    "\n",
    "[https://journals.aps.org/pra/pdf/10.1103/PhysRevA.50.3954]\n",
    "</p>\n",
    "\n",
    "<p>\n",
    "$ \\sigma_i(t)=\\frac{S}{t+u+1}[D(t)ln(t)+(2-\\frac{N_i}{N})(\\frac{t-1}{t}-\\frac{ln(t)}{t+1})] $\n",
    "</p>\n",
    "<p>\n",
    "with $D(t)$ given as \n",
    "$ D(t)\\equiv \\int_{0}^{(t-1)/2} \\frac{1}{w+1}\\frac{df(w)}{dw} dw$\n",
    "\n",
    "and $t=T/B$, $w=W/B$, $u=U/B$, $Q=\\frac{2BM_i^2}{NR}$, and $S=4\\pi a_0^2 N(R/B)^2$.\n",
    "\n",
    "The parameters needed for each ionization are then \n",
    "$ f(w), N_i, N, B, S, U,... $ </p>\n",
    "\n",
    "<p>Secondary Spectra:\n",
    "These spectra are found from the singly differential cross section as above (see [http://physics.nist.gov/PhysRefData/Ionization/intro.html])\n",
    "</p>"
   ]
  },
  {
   "cell_type": "code",
   "execution_count": 64,
   "metadata": {
    "collapsed": true
   },
   "outputs": [],
   "source": [
    "def ionize_cs(Energy, atoms):\n",
    "    \n",
    "    '''\n",
    "    Calculates the ionization cross section (xsec) for electrons \n",
    "    impacting one of (H, He, He+) at a particular kinetic energy.\n",
    "    \n",
    "    Parameters\n",
    "    ----------\n",
    "    Energy : ndarray\n",
    "        Each electron's initial kinetic energy.\n",
    "    atoms : ndarray (same size as Energy)\n",
    "        Indicates a xsec corresponding to each\n",
    "        element of Energy (1=H, 2=He, 3=He+)\n",
    "\n",
    "    Returns\n",
    "    ----------\n",
    "    ndarray\n",
    "        The cross section for ionization for \n",
    "        each pair (Energy[n],atoms[n])\n",
    "        (given in cm^2). \n",
    "    \n",
    "    See Also\n",
    "    --------\n",
    "    ionize_s_cs : Often preferred; gives singly differential xsec\n",
    "    '''\n",
    "    #initialize return variable\n",
    "    sigma = numpy.zeros(len(atoms))\n",
    "    \n",
    "    for n in range(len(Energy)):\n",
    "        T=Energy[n]\n",
    "        atom=atoms[n]\n",
    "        \n",
    "        if atom==1: #H\n",
    "            B=13.6057 #eV: binding energy\n",
    "            U=13.6057 #eV: \n",
    "            t=T/B\n",
    "            D= (2834163/10+2*(-4536259-10736505*t - 7512905*t**(2) + 112365*t**(3))/(5*(1+t)**(5)))/1000000\n",
    "            N=1 # number of bound electrons in subshell\n",
    "            N_i= 0.4343 #integral of df/dw from 0 to infinity\n",
    "        elif atom==2: #He\n",
    "            B=24.59 #eV\n",
    "            U=39.51 #eV\n",
    "            t=T/B\n",
    "            D= 1/2*(53047/60-(4*(-58971+227814*t-78435*t**2+121780*t**3))/(15*(1+t)**6))/1000\n",
    "            N=2\n",
    "            N_i=1.605\n",
    "        elif atom==3: #He+\n",
    "            B=13.6057*4 #eV: scaled by Z^2\n",
    "            U=13.6057*4 #eV: scaled by Z^2\n",
    "            t=T/B\n",
    "            D= (2834163/10+2*(-4536259-10736505*t - 7512905*t**(2) + 112365*t**(3))/(5*(1+t)**(5)))/1000000 #same as H\n",
    "            N=1\n",
    "            N_i=0.4343 #seems same as H in approx\n",
    "        else:\n",
    "            print('error: some atom incorrectly specified')\n",
    "            return\n",
    "        u=U/B \n",
    "        S=4*math.pi*p.value('Bohr radius')**2*N*(13.6057/B)**2 #m^2\n",
    "\n",
    "        sigma_i=S/(t+u+1)*(D*numpy.log(t)+(2-N_i/N)*((t-1)/t-numpy.log(t)/(t+1)))*(10**4) #cm^2\n",
    "        #replace negatives with zero\n",
    "        if sigma_i<0:\n",
    "            sigma_i=0\n",
    "\n",
    "        sigma[n]=sigma_i\n",
    "\n",
    "    return sigma"
   ]
  },
  {
   "cell_type": "code",
   "execution_count": 84,
   "metadata": {},
   "outputs": [
    {
     "data": {
      "text/plain": [
       "array([  5.77804715e-17,   2.82374489e-17,   0.00000000e+00])"
      ]
     },
     "execution_count": 84,
     "metadata": {},
     "output_type": "execute_result"
    }
   ],
   "source": [
    "ionize_cs(numpy.array([100, 60, 3]), numpy.array([1,2,3]))"
   ]
  },
  {
   "cell_type": "code",
   "execution_count": 85,
   "metadata": {
    "collapsed": true
   },
   "outputs": [],
   "source": [
    "def ionize_s_cs(E_in, E_sec, atoms):\n",
    "    \n",
    "    '''\n",
    "    Calculates the singly-differential ionization cross section (xsec) \n",
    "    for electrons impacting one of (H, He, He+) at a particular \n",
    "    kinetic energy of the incident and one secondary electron. \n",
    "    \n",
    "    Parameters\n",
    "    ----------\n",
    "    E_in : ndarray\n",
    "        Each electron's initial kinetic energy (eV).\n",
    "    E_out : ndarray\n",
    "        The energy of one secondary electron for each initial electron (eV).\n",
    "    atoms : ndarray\n",
    "        Atomic xsec relevant to each ionization; (1=H, 2=He, 3=He+)\n",
    "\n",
    "    Returns\n",
    "    ----------\n",
    "    ndarray\n",
    "        The cross section for ionization at each incident energy (E_in[n]), \n",
    "        secondary energy (E_out[n]), and atomic xsec (atoms[n]); (given in cm^2). \n",
    "    \n",
    "    See Also\n",
    "    --------\n",
    "    ionize_cs : Gives total ionization xsec\n",
    "    '''\n",
    "    \n",
    "    #initialize return variable\n",
    "    sigma=numpy.zeros(len(atoms))\n",
    "    \n",
    "    for n in range(len(atoms)):\n",
    "        T=E_in[n]\n",
    "        W=E_sec[n]\n",
    "        atom=atoms[n]\n",
    "        \n",
    "        if atom==1: #H\n",
    "            B=13.6057 #eV: binding energy\n",
    "            U=13.6057 #eV: \n",
    "            t=T/B\n",
    "            w=W/B\n",
    "            y=1/(w+1)\n",
    "            df_dw=-0.022473*y**2+1.1775*y**3-0.46264*y**4+0.089064*y**5\n",
    "            N=1 # number of bound electrons in subshell\n",
    "            N_i= 0.4343 #integral of df/dw from 0 to infinity\n",
    "        elif atom==2: #He\n",
    "            B=24.59 #eV\n",
    "            U=39.51 #eV\n",
    "            t=T/B\n",
    "            w=W/B\n",
    "            y=1/(w+1)\n",
    "            df_dw=12.178*y**3-29.585*y**4+31.251*y**5-12.175*y**6\n",
    "            N=2\n",
    "            N_i=1.605\n",
    "        elif atom==3: #He+\n",
    "            B=13.6057*4 #eV: scaled by Z^2\n",
    "            U=13.6057*4 #eV: scaled by Z^2\n",
    "            t=T/B\n",
    "            w=W/B\n",
    "            y=1/(w+1)\n",
    "            df_dw=-0.022473*y**2+1.1775*y**3-0.46264*y**4+0.089064*y**5\n",
    "            N=1\n",
    "            N_i=0.4343 #seems same as H in approx\n",
    "        else:\n",
    "            print('error: atom incorrectly specified')\n",
    "            return\n",
    "\n",
    "        u=U/B \n",
    "        S=4*math.pi*p.value('Bohr radius')**2*N*(13.6057/B)**2 #m^2\n",
    "\n",
    "        sigma_i=S/(B*t+(u+1))*((N_i/N-2)/(t+2)*(1/(w+1)+1/(t-w))+(2-N_i/N)*(1/(W+1)**2+1/(t-w)**2)+ numpy.log(t)/(N*(w+1))*df_dw) #cm^2\n",
    "        #replace negatives with zero\n",
    "        if sigma_i < 0:\n",
    "            sigma_i=0\n",
    "            \n",
    "        sigma[n]=sigma_i\n",
    "\n",
    "    return sigma"
   ]
  },
  {
   "cell_type": "code",
   "execution_count": 92,
   "metadata": {},
   "outputs": [
    {
     "data": {
      "text/plain": [
       "array([  1.33042044e-24,   3.36387592e-23,   5.99013818e-24])"
      ]
     },
     "execution_count": 92,
     "metadata": {},
     "output_type": "execute_result"
    }
   ],
   "source": [
    "ionize_s_cs(numpy.array([102,102,102]), numpy.array([20,20,20]), numpy.array([1,2,3]))"
   ]
  },
  {
   "cell_type": "code",
   "execution_count": 98,
   "metadata": {},
   "outputs": [
    {
     "data": {
      "image/png": "[encoded data removed]",
      "text/plain": [
       "<matplotlib.figure.Figure at 0x116c28748>"
      ]
     },
     "metadata": {},
     "output_type": "display_data"
    }
   ],
   "source": [
    "#Log plot of ionization cross sections\n",
    "x=numpy.logspace(1,4)\n",
    "y=numpy.ones(len(x))\n",
    "#x=numpy.linspace(1,300)\n",
    "plt.plot(x,ionize_cs(x,y), label=\"H\")\n",
    "plt.plot(x,ionize_cs(x,2*y), label=\"He\")\n",
    "plt.plot(x,ionize_cs(x,3*y), label=\"He+\")\n",
    "#Data points\n",
    "\n",
    "#H\n",
    "H_i=pd.read_csv('Shah_H_ionization.csv', sep=',',header=None)\n",
    "a=H_i.values[:,0]\n",
    "b=H_i.values[:,1]*10**(-17) #cm^2\n",
    "plt.scatter(a,b, label=\"H_data\")\n",
    "#He\n",
    "Hep_i=pd.read_csv('Shah_He_ionization.csv', sep=',',header=None)\n",
    "e=Hep_i.values[:,0]\n",
    "f=Hep_i.values[:,1]*10**(-17) #cm^2\n",
    "plt.scatter(e,f, label=\"He_data\")\n",
    "#He+\n",
    "Hep_i=pd.read_csv('Peart_Hep_ionization.csv', sep=',',header=None)\n",
    "c=Hep_i.values[:,0]\n",
    "d=Hep_i.values[:,1]*10**(-18) #cm^2\n",
    "plt.scatter(c,d, label=\"He+_data\")\n",
    "\n",
    "\n",
    "\n",
    "\n",
    "\n",
    "###############\n",
    "plt.xlabel('Energy (eV)')\n",
    "axes = plt.gca()\n",
    "axes.set_xlim([0,500])\n",
    "plt.ylabel('Cross Section ($cm^2$)')\n",
    "plt.legend(bbox_to_anchor=(1.05, 1), loc=2, borderaxespad=0.)\n",
    "plt.show()"
   ]
  },
  {
   "cell_type": "code",
   "execution_count": null,
   "metadata": {
    "collapsed": true
   },
   "outputs": [],
   "source": [
    "#def ionize_sec(T, atom):\n",
    "    #Returns the seconday spectra following ionization\n",
    "    #atom: 1=H, 2=He, 3=He+\n",
    "    \n",
    "    \n",
    "    \n",
    "    "
   ]
  },
  {
   "cell_type": "markdown",
   "metadata": {},
   "source": [
    "<h1>Excitation</h1>\n",
    "<p>\n",
    "Keep in mind that this will produce a singe output electron (use conservation of energy, perhaps looking at probability based on the transition distribution) and a output photon which is given by some transition distribution. We will need this distribution for $2s \\rightarrow 1s$ and $2p \\rightarrow 1s$ in H, He, and He+. The percent excited is also stored between steps, questionably; the time scale of going back to the ground state confuses this effect for me. \n",
    "The preliminary source for cross sections: \n",
    "\n",
    "[https://www.ncbi.nlm.nih.gov/pmc/articles/PMC4859265/pdf/j74sto.pdf]\n",
    "</p>\n",
    "\n",
    "<h2>H, He</h2>\n",
    "<p>The total excitation cross section for H and He is of the form:\n",
    "$\\sigma_{BEf}=(f_{accu}/f_{sc})*[T/(T+B+E)]*\\sigma_{PWB}$\n",
    "where $\\sigma_{PWB}$ is given as \n",
    "$\\sigma_{PWB}=\\frac{4\\pi a_0^2R}{T}*F_{PWB}(T)$\n",
    "This is the valid form for sub 3keV.\n",
    "\n",
    "The values for f, B, and E are in the linked paper. \n",
    "</p>\n",
    "<h2>He+</h2>\n",
    "<p>The best total excitation cross section seems to be from:\n",
    "\n",
    "[http://iopscience.iop.org/article/10.1088/0022-3700/9/9/016/pdf]\n",
    "\n",
    "However, He+ presents unique challenges at low energies for ionization given its small Z. \n",
    "</p>\n",
    "<h2>Secondary Spectra</h2>\n",
    "<p>Good source for $2s\\rightarrow 1s$ seems to be:\n",
    "\n",
    "[https://arxiv.org/pdf/0803.0808.pdf]\n",
    "\n",
    "For other transitions, Voigt profiles can be placed around the central spectral line with parameters as in:\n",
    "\n",
    "[http://www.sciencedirect.com/science/article/pii/S0022407304004030]\n",
    "</p>"
   ]
  },
  {
   "cell_type": "code",
   "execution_count": 95,
   "metadata": {
    "collapsed": true
   },
   "outputs": [],
   "source": [
    "def excite_cs(T, atom, transition=2):\n",
    "    #Calculates cross section for excitation in (cm^2) for a given electron energy T (eV) and parameters of the atom\n",
    "    #atom: 1=H, 2=He, 3=He+\n",
    "    #transition 1=1s->2s, 2=1s->2p   // assumes transition=2\n",
    "    E=T\n",
    "    sigma=numpy.zeros(len(E))\n",
    "    for n in range(0,len(E)):\n",
    "        T=E[n]\n",
    "        if atom==1: #H\n",
    "            if T<10.2: #eV\n",
    "                sigma_e=0\n",
    "\n",
    "            elif transition==1: #2s\n",
    "                if T<=11.56: #eV\n",
    "                    sigma_e=10**(-16)*(0.114+0.0575*(T-10.2)) #cm^2\n",
    "                elif T<=12.23: #eV\n",
    "                    sigma_e=1.795*10**(-17) #cm^2\n",
    "                else:\n",
    "                    X=T/10.2\n",
    "                    sigma_e=5.984*10**(-16)/(T)*(0.88606-2.7990/X+5.9451/X**(2)-7.6948/X**(3)+4.4152/X**(4)) #cm^2\n",
    "            else: #2p\n",
    "                H2p=pd.read_csv('H_1s-2p_excite_table.csv', sep=',',header=None)\n",
    "                x=H2p.values[:,0]\n",
    "                y=H2p.values[:,1]\n",
    "                f = interp1d(x, y)\n",
    "                sigma_e=f(T)*10**(-16) #cm^2\n",
    "\n",
    "        elif atom==2: #He\n",
    "            if T<21.2:#eV\n",
    "                sigma_e=0\n",
    "            elif transition==1: #2s\n",
    "                sigma_e=0 #Need to find cross section\n",
    "            else: #2p\n",
    "                He2p=pd.read_csv('He_1s-2p_excite_table.csv', sep=',',header=None)\n",
    "                x=He2p.values[:,0]\n",
    "                y=He2p.values[:,1]\n",
    "                f = interp1d(x, y)\n",
    "                sigma_e=f(T)*10**(-16) #cm^2\n",
    "\n",
    "        else: #He+\n",
    "            pia2=math.pi*p.value('Bohr radius')**2\n",
    "            if T<40.8: #eV\n",
    "                sigma_e=0\n",
    "\n",
    "            elif transition==1: #2s\n",
    "                #extra interpolation values of 0 added at 40.8 and max(3keV)\n",
    "                HeP2s=pd.DataFrame({'CS' : [0, pia2*0.0065, pia2*0.0049, pia2*0.0031, pia2*0.0019, pia2*0.0013, 0], 'Energy' : [40.8, 100., 200., 400., 700., 1000., 3000.]})\n",
    "                x=HeP2s.values[:,1]\n",
    "                y=HeP2s.values[:,0]\n",
    "                f = interp1d(x, y)\n",
    "                sigma_e=f(T)*10**(4) #cm^2\n",
    "            else: #2p \n",
    "                #extra interpolation values of 0 added at 40.8 and max(3keV)\n",
    "                HeP2p=pd.DataFrame({'CS' : [0, pia2*0.082, pia2*0.067, pia2*0.048, pia2*0.033, pia2*0.026, 0], 'Energy' : [40.8, 100., 200., 400., 700., 1000., 3000.]})\n",
    "                x=HeP2p.values[:,1]\n",
    "                y=HeP2p.values[:,0]\n",
    "                f = interp1d(x, y)\n",
    "                sigma_e=f(T)*10**(4) #cm^2\n",
    "\n",
    "        if sigma_e < 0:\n",
    "            sigma_e=0\n",
    "        sigma[n]=sigma_e\n",
    "        \n",
    "    \n",
    "    return sigma"
   ]
  },
  {
   "cell_type": "code",
   "execution_count": 96,
   "metadata": {},
   "outputs": [
    {
     "data": {
      "image/png": "[encoded data removed]",
      "text/plain": [
       "<matplotlib.figure.Figure at 0x116a2d4a8>"
      ]
     },
     "metadata": {},
     "output_type": "display_data"
    }
   ],
   "source": [
    "#log plot showing 1s-2s excitation cross sections\n",
    "x=numpy.logspace(1,3)\n",
    "#x=numpy.linspace(10,20)\n",
    "plt.plot(x,excite_cs(x,1,1), label=\"H\")\n",
    "plt.plot(x,excite_cs(x,2,1), label=\"He\") \n",
    "plt.plot(x,excite_cs(x,3,1), label=\"He+\") \n",
    "\n",
    "\n",
    "plt.xlabel('Energy (eV)')\n",
    "plt.ylabel('Cross Section ($cm^2$)')\n",
    "plt.legend(bbox_to_anchor=(1.05, 1), loc=2, borderaxespad=0.)\n",
    "plt.show()"
   ]
  },
  {
   "cell_type": "code",
   "execution_count": null,
   "metadata": {
    "collapsed": true
   },
   "outputs": [],
   "source": [
    "#log plot showing 1s-2p excitation cross sections\n",
    "x=numpy.logspace(1,3)\n",
    "plt.plot(x,excite_cs(x,1,2), label=\"H\")\n",
    "plt.plot(x,excite_cs(x,2,2), label=\"He\") \n",
    "plt.plot(x,excite_cs(x,3,2), label=\"He+\") \n",
    "\n",
    "\n",
    "plt.xlabel('Energy (eV)')\n",
    "plt.ylabel('Cross Section ($cm^2$)')\n",
    "plt.legend(bbox_to_anchor=(1.05, 1), loc=2, borderaxespad=0.)\n",
    "plt.show()"
   ]
  },
  {
   "cell_type": "code",
   "execution_count": null,
   "metadata": {
    "collapsed": true
   },
   "outputs": [],
   "source": [
    "def excite_sec(T, atom, transition=2):\n",
    "    #Returns the seconday spectra following ionization\n",
    "    #atom: 1=H, 2=He, 3=He+\n",
    "    #transition 1=1s->2s, 2=1s->2p\n",
    "    #transitions seem unnecessary given similarities in energy\n",
    "    #output contains electron energy, photon energy\n",
    "    output=numpy.zeros(2)\n",
    "    if transition==2:\n",
    "    \n",
    "        if atom==1:\n",
    "            Ep=10.2 #eV\n",
    "            output[0]=T-Ep\n",
    "            output[1]=Ep\n",
    "        elif atom==2:\n",
    "            Ep=21.2 #eV\n",
    "            output[0]=T-Ep\n",
    "            output[1]=Ep\n",
    "        else:\n",
    "            Ep=40.8 #eV\n",
    "            output[0]=T-Ep\n",
    "            output[1]=Ep\n",
    "    return output\n",
    "        "
   ]
  },
  {
   "cell_type": "code",
   "execution_count": null,
   "metadata": {
    "collapsed": true
   },
   "outputs": [],
   "source": [
    "#Plot all cross sections\n",
    "#Log plot of ionization cross sections\n",
    "x=numpy.logspace(0,3)\n",
    "#x=numpy.linspace(200,1000)\n",
    "#plt.plot(x,thermalize_cs(x,1), label=\"heating\")\n",
    "plt.plot(x,ionize_cs(x,1), label=\"H_i\")\n",
    "plt.plot(x,ionize_cs(x,2), label=\"He_i\") \n",
    "plt.plot(x,ionize_cs(x,3), label=\"He+_i\") \n",
    "plt.plot(x,excite_cs(x,1,1), label=\"H_es\")\n",
    "plt.plot(x,excite_cs(x,2,1), label=\"He_es\") \n",
    "plt.plot(x,excite_cs(x,3,1), label=\"He+_es\")\n",
    "plt.plot(x,excite_cs(x,1,2), label=\"H_ep\")\n",
    "plt.plot(x,excite_cs(x,2,2), label=\"He_ep\") \n",
    "plt.plot(x,excite_cs(x,3,2), label=\"He+_ep\")\n",
    "\n",
    "\n",
    "\n",
    "\n",
    "plt.xlabel('Energy (eV)')\n",
    "plt.ylabel('Cross Section ($cm^2$)')\n",
    "plt.legend(bbox_to_anchor=(1.05, 1), loc=2, borderaxespad=0.)\n",
    "plt.show()"
   ]
  },
  {
   "cell_type": "code",
   "execution_count": 99,
   "metadata": {},
   "outputs": [
    {
     "data": {
      "image/png": "[encoded data removed]",
      "text/plain": [
       "<matplotlib.figure.Figure at 0x116b5c4a8>"
      ]
     },
     "metadata": {},
     "output_type": "display_data"
    }
   ],
   "source": [
    "x=numpy.logspace(1,2)\n",
    "y=x-numpy.array([20])\n",
    "z=numpy.ones(len(x))\n",
    "plt.plot(x,ionize_s_cs(x, y, z), label=\"H_i_sec\")\n",
    "\n",
    "plt.xlabel('Energy (eV)')\n",
    "plt.ylabel('Cross Section ($cm^2$)')\n",
    "plt.legend(bbox_to_anchor=(1.05, 1), loc=2, borderaxespad=0.)\n",
    "plt.show()"
   ]
  },
  {
   "cell_type": "code",
   "execution_count": null,
   "metadata": {
    "collapsed": true
   },
   "outputs": [],
   "source": []
  }
 ],
 "metadata": {
  "kernelspec": {
   "display_name": "Python 3",
   "language": "python",
   "name": "python3"
  },
  "language_info": {
   "codemirror_mode": {
    "name": "ipython",
    "version": 3
   },
   "file_extension": ".py",
   "mimetype": "text/x-python",
   "name": "python",
   "nbconvert_exporter": "python",
   "pygments_lexer": "ipython3",
   "version": "3.6.1"
  }
 },
 "nbformat": 4,
 "nbformat_minor": 2
}
