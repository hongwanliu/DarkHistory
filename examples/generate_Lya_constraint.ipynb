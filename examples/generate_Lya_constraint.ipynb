{
 "cells": [
  {
   "cell_type": "code",
   "execution_count": 2,
   "metadata": {},
   "outputs": [],
   "source": [
    "%load_ext autoreload\n",
    "import sys\n",
    "sys.path.append(\"..\")"
   ]
  },
  {
   "cell_type": "code",
   "execution_count": 3,
   "metadata": {},
   "outputs": [],
   "source": [
    "%autoreload\n",
    "\n",
    "import numpy as np\n",
    "import copy\n",
    "import pickle\n",
    "import csv\n",
    "from scipy.interpolate import interp1d\n",
    "from scipy.stats import chi2\n",
    "from scipy import optimize\n",
    "\n",
    "import matplotlib\n",
    "matplotlib.rc_file('matplotlibrc')\n",
    "import matplotlib.pyplot as plt\n",
    "\n",
    "\n",
    "import darkhistory.physics as phys\n",
    "from darkhistory.history.tla import get_history\n",
    "from darkhistory.history import tla\n",
    "import darkhistory.history.reionization as reion\n",
    "from tqdm import tqdm_notebook as tqdm\n",
    "\n",
    "\n",
    "import main\n",
    "import config"
   ]
  },
  {
   "cell_type": "code",
   "execution_count": 4,
   "metadata": {},
   "outputs": [],
   "source": [
    "output_dir = '/Users/gregoryridgway/Desktop/Junk/'\n",
    "input_dir = '/Users/gregoryridgway/Dropbox (MIT)/Late_Time_Energy_Injection/'"
   ]
  },
  {
   "cell_type": "markdown",
   "metadata": {},
   "source": [
    "### Reionization Data"
   ]
  },
  {
   "cell_type": "code",
   "execution_count": 5,
   "metadata": {},
   "outputs": [],
   "source": [
    "reion_strings = np.array(\n",
    "    ['earliest', 'latest', 'FlexKnot_early', 'FlexKnot_late','FlexKnot_early_1sig', 'FlexKnot_late_1sig', 'Tanh_early', 'Tanh_late', 'Tanh_early_1sig', 'Tanh_late_1sig']\n",
    ")\n",
    "\n",
    "def make_reion_interp_func(string, He_bump=False):\n",
    "    Planck_data = []\n",
    "    with open(input_dir+'reion_models/Planck_'+\n",
    "              string+'.csv') as csvfile:\n",
    "        reader = csv.reader(csvfile)\n",
    "        reader = csv.reader(csvfile)\n",
    "        for row in reader:\n",
    "            Planck_data.append([float(row[0]),float(row[1])])\n",
    "    Planck_data = np.array(Planck_data)\n",
    "\n",
    "    #fix normalization\n",
    "    if string == 'FlexKnot_early':\n",
    "        norm_fac = Planck_data[-2,1]\n",
    "    else:\n",
    "        norm_fac = Planck_data[0,1]\n",
    "        \n",
    "        #I WebPlot Digitized poorly, so I re-zero\n",
    "        if string == 'FlexKnot_late':\n",
    "            Planck_data[26:,1] = 0\n",
    "        elif string == 'Tanh_late':\n",
    "            Planck_data[63:,1] = 0\n",
    "            \n",
    "        \n",
    "    Planck_data[:,1] = (1+2*phys.chi)*Planck_data[:,1]/norm_fac\n",
    "\n",
    "    #convert from z to rs\n",
    "    Planck_data[:,0] = 1+Planck_data[:,0]\n",
    "\n",
    "    fac = 2\n",
    "    if He_bump == False:\n",
    "        Planck_data[Planck_data[:,1]>1+phys.chi,1]=1+phys.chi\n",
    "        fac = 1\n",
    "\n",
    "    return interp1d(Planck_data[:,0], Planck_data[:,1], \n",
    "                    bounds_error=False, fill_value=(1+fac*phys.chi,0), kind='linear')\n",
    "\n",
    "# Make interpolation functions for each Planck2018 reionization history\n",
    "reion_interps = {string : make_reion_interp_func(string) for string in reion_strings}\n",
    "bump_interp = make_reion_interp_func('Tanh_late', True)"
   ]
  },
  {
   "cell_type": "markdown",
   "metadata": {},
   "source": [
    "### Ly$\\alpha$ data"
   ]
  },
  {
   "cell_type": "code",
   "execution_count": 6,
   "metadata": {},
   "outputs": [],
   "source": [
    "ind = -7\n",
    "\n",
    "z_entries=np.array([1.8,2.0,2.2,2.4,2.6,2.8,3.0,3.2,3.4,3.6,3.8,4.0,4.2,4.6,5.0,5.4])\n",
    "rs_entries=1+z_entries[ind:]\n",
    "\n",
    "new_mids=np.array([.768,.732,1.014,1.165,1.234,\n",
    "          1.286,1.289,1.186,1.404,1.038,\n",
    "          1.205,.940,.890,.877,.533,.599])\n",
    "mids = new_mids[ind:]\n",
    "\n",
    "high_errs = np.array([.37,.17,.25,.29,.19,.19,.18,.13,.17,.31,.23,.22,.093,.13,.12,.15])\n",
    "low_errs  = np.array([.22,.091,.15,.19,.14,.15,.14,.12,.16,.27,.19,.17,.073,.11,.091,.13])\n",
    "sigs = low_errs[ind:]\n",
    "\n",
    "Gaikwad_data = np.array([[1.1, .16], [1.05, .21], [1.2, .22]])\n",
    "Gaikwad_rs   = np.array([6.4,6.6,6.8])\n",
    "\n",
    "default_data = [\n",
    "    np.concatenate((rs_entries[:-2], Gaikwad_rs)),\n",
    "    (\n",
    "        np.concatenate((mids[:-2], Gaikwad_data[:,0])),\n",
    "        np.concatenate((high_errs[ind:-2], Gaikwad_data[:,1]))\n",
    "    )\n",
    "]"
   ]
  },
  {
   "cell_type": "markdown",
   "metadata": {},
   "source": [
    "### Previous Constraints"
   ]
  },
  {
   "cell_type": "code",
   "execution_count": 7,
   "metadata": {},
   "outputs": [],
   "source": [
    "Hongwan_data = pickle.load(open(input_dir+'/data/constraints code/compiled_data.p','rb'))"
   ]
  },
  {
   "cell_type": "markdown",
   "metadata": {},
   "source": [
    "### Functions for photoheating constraints"
   ]
  },
  {
   "cell_type": "code",
   "execution_count": 8,
   "metadata": {},
   "outputs": [],
   "source": [
    "rs_vec = 10**np.arange(np.log10(2.9e3), np.log10(4.55), -.01)\n",
    "\n",
    "#Given DeltaT and alpha, return the temperature in 10^-4 K\n",
    "def get_his(DeltaT, alpha, mDM=None, lifetime=None, sigmav=None, DM_process='decay',\n",
    "            fs=[None, None, None, None], reion_method='FlexKnot_early'):\n",
    "    \n",
    "    if sigmav is not None:\n",
    "        struct_boost = phys.struct_boost_func(model='pwave_NFW_no_subs')\n",
    "    elif lifetime is not None:\n",
    "        struct_boost = None\n",
    "    else:\n",
    "        struct_boost = None\n",
    "        DM_process   = None\n",
    "        \n",
    "    tmp = tla.get_history(\n",
    "        rs_vec,\n",
    "        DM_process = DM_process, mDM=mDM, lifetime=lifetime, sigmav=sigmav,\n",
    "        struct_boost = struct_boost,\n",
    "        f_H_ion=fs[0], f_He_ion=fs[1], f_H_exc=fs[2], f_heating=fs[3],\n",
    "        reion_switch=True, reion_rs=35, reion_method=None, \n",
    "        heat_switch=True, DeltaT = DeltaT, alpha_bk=alpha,\n",
    "        xe_reion_func=reion_interps[reion_method], helium_TLA=True\n",
    "    )\n",
    "    return interp1d(rs_vec, tmp[:,0]/phys.kB*1e-4)\n",
    "\n",
    "#Given DeltaT and alpha, find (two-sided) chi^2\n",
    "def get_chisq(var, mDM=None, lifetime=None, sigmav=None, DM_process='decay',\n",
    "              fs=[None, None, None, None], reion_method='FlexKnot_early'):\n",
    "    DeltaT = var[0]\n",
    "    alpha=var[1]\n",
    "    terp = get_his(DeltaT, alpha, mDM=mDM, lifetime=lifetime, sigmav=sigmav, \n",
    "                   DM_process = DM_process, fs=fs, reion_method=reion_method)\n",
    "    return sum((terp(default_data[0])-default_data[1][0])**2/default_data[1][1]**2)\n",
    "\n",
    "#Given alpha, optimize DeltaT\n",
    "def optimize_DeltaT(alpha, tol, mDM=None, lifetime=None, sigmav=None, \n",
    "                    DM_process = 'decay', fs=[None, None, None, None], reion_method='FlexKnot_early'):\n",
    "    def f(DeltaT):\n",
    "        return get_chisq([DeltaT,alpha], mDM=mDM, lifetime=lifetime, sigmav=sigmav, \n",
    "                         DM_process=DM_process, fs=fs, reion_method=reion_method)\n",
    "\n",
    "    return optimize.minimize_scalar(\n",
    "        f, method='bounded', bounds=[0*phys.kB, 5e4*phys.kB], options={'xatol': tol}\n",
    "    )\n",
    "\n",
    "def find_optimum(alpha_list, init, tol=0.5, mDM=None, lifetime=None, \n",
    "                 DM_process = 'decay', sigmav=None, fs=[None, None, None, None], output=False, reion_method='FlexKnot_early'):\n",
    "    datums = [None for a in alpha_list]\n",
    "    check_above = False\n",
    "    check_below = False\n",
    "\n",
    "    #Initialization Step\n",
    "    j = init\n",
    "    out = optimize_DeltaT(alpha_list[j], tol, mDM=mDM, lifetime=lifetime, sigmav=sigmav, \n",
    "                          DM_process=DM_process, fs=fs, reion_method=reion_method)\n",
    "    datums[j] = [alpha_list[j], out['x']/phys.kB, out['fun']]\n",
    "    count = 0\n",
    "    \n",
    "    #Search higher alpha\n",
    "    while not check_above:\n",
    "        count = count+1\n",
    "        #At this point, you know the optimal value is above\n",
    "        if count>1:\n",
    "            check_below = True\n",
    "\n",
    "        j = j+1\n",
    "        out = optimize_DeltaT(alpha_list[j], tol, mDM=mDM, lifetime=lifetime, sigmav=sigmav,\n",
    "                              DM_process=DM_process, fs=fs, reion_method=reion_method)\n",
    "        datums[j] = [alpha_list[j], out['x']/phys.kB, out['fun']]\n",
    "        if output:\n",
    "            print(datums[j])\n",
    "\n",
    "\n",
    "        if datums[j][2] > datums[j-1][2]:\n",
    "            check_above=True\n",
    "            j = j-1\n",
    "            break\n",
    "        elif j==alpha_list.size-1:\n",
    "            if output:\n",
    "                print('Reached maximum alpha!', datums[j])\n",
    "            return np.array([datums[j],datums[j],datums[j]])\n",
    "            \n",
    "\n",
    "    #Search lower alpha\n",
    "    while not check_below:\n",
    "        j = j-1\n",
    "        out = optimize_DeltaT(alpha_list[j], tol, mDM=mDM, lifetime=lifetime, sigmav=sigmav,\n",
    "                              DM_process=DM_process, fs=fs, reion_method=reion_method)\n",
    "        datums[j] = [alpha_list[j], out['x']/phys.kB, out['fun']]\n",
    "\n",
    "        if output:\n",
    "            print(datums[j])\n",
    "        if datums[j][2] > datums[j+1][2]:\n",
    "            check_below=True\n",
    "            j = j+1\n",
    "        elif j==0:\n",
    "            if output:\n",
    "                print('Reached minimum alpha!', datums[j])\n",
    "            return np.array([datums[j],datums[j],datums[j]])\n",
    "            \n",
    "#     if output:\n",
    "    print('Best value: ', datums[j])\n",
    "#     #filter out all the None entries\n",
    "#     return list(filter(None,datums))\n",
    "    return np.array([datums[j-1], datums[j], datums[j+1]])\n",
    "\n",
    "\n",
    "#Make the f functions\n",
    "def make_fs(hist, pickleable = False):\n",
    "    channels = {'heat', 'H ion', 'He ion', 'exc'}\n",
    "    f_interps = {chan: interp1d(\n",
    "        hist['rs'], \n",
    "        hist['f']['low'][chan]+hist['f']['high'][chan],\n",
    "        bounds_error=False,\n",
    "        fill_value=(\n",
    "            (hist['f']['low'][chan]+hist['f']['high'][chan])[-1],\n",
    "            (hist['f']['low'][chan]+hist['f']['high'][chan])[0]\n",
    "        )\n",
    "    ) for chan in channels}\n",
    "    \n",
    "    def f_Hion(rs, xHI, xHeI, xHeII):\n",
    "        return f_interps['H ion'](rs)\n",
    "    def f_Heion(rs, xHI, xHeI, xHeII):\n",
    "        return f_interps['He ion'](rs)\n",
    "    def f_exc(rs, xHI, xHeI, xHeII):\n",
    "        return f_interps['exc'](rs)\n",
    "    def f_heat(rs, xHI, xHeI, xHeII):\n",
    "        return f_interps['heat'](rs)\n",
    "     \n",
    "    if pickleable:\n",
    "        return f_interps\n",
    "    else:\n",
    "        return [f_Hion, f_Heion, f_exc, f_heat]"
   ]
  },
  {
   "cell_type": "markdown",
   "metadata": {},
   "source": [
    "## Generate Constraints"
   ]
  },
  {
   "cell_type": "code",
   "execution_count": 9,
   "metadata": {},
   "outputs": [],
   "source": [
    "max_chisq = 10.1522\n",
    "def find_param_guess(mDM, log10guess, inc, data, heat_switch=False, \n",
    "                     reion_method='FlexKnot_early',pri = 'elec', DM_process = 'decay', \n",
    "                     DeltaT=24665*phys.kB, alpha_bk=0.57):\n",
    "    \"\"\"\n",
    "    Parameters\n",
    "    ----------\n",
    "    inc : float\n",
    "        amount by which to increment the log10(parameter)\n",
    "    DeltaT : float\n",
    "        photoheating parameter, set to best fit value in the absence of DM\n",
    "    alpha_bk : float\n",
    "        photoheating parameter, set to best fit value in the absence of DM\n",
    "    \n",
    "    \"\"\"\n",
    "    below_target = False\n",
    "    above_target = False\n",
    "    chisq_list = []\n",
    "    log10params = [log10guess]\n",
    "    \n",
    "    while (\n",
    "        not below_target or not above_target\n",
    "    ):\n",
    "\n",
    "        if DM_process=='pwave':\n",
    "            sign=-1.0\n",
    "            struct_boost = phys.struct_boost_func(model='pwave_NFW_no_subs')\n",
    "        else:\n",
    "            sign = 1.0\n",
    "            struct_boost = None\n",
    "            \n",
    "        param = 10**log10params[-1]\n",
    "        print('log10param: '+str(log10params[-1]))\n",
    "\n",
    "        base_hist = main.evolve(\n",
    "            primary=pri+'_delta',\n",
    "            DM_process=DM_process, mDM=mDM, lifetime=param, sigmav=param,\n",
    "            reion_switch=True, reion_rs=35, helium_TLA=True,\n",
    "            xe_reion_func = reion_interps[reion_method],\n",
    "            start_rs = 3e3, end_rs=4.3, DeltaT = DeltaT, \n",
    "            alpha_bk=alpha_bk, heat_switch=heat_switch,\n",
    "            coarsen_factor=12, backreaction=True, \n",
    "            compute_fs_method='He', mxstep=1000, rtol=1e-4,\n",
    "            use_tqdm=True, cross_check = False,\n",
    "            struct_boost=struct_boost\n",
    "        )\n",
    "        ###!!! This is the line that saves the f's\n",
    "        log10m_str = str(round(np.log10(mDM)*100)/100)\n",
    "        log10param_str = str(round(log10params[-1]*100)/100)\n",
    "        \n",
    "        f_interps = make_fs(base_hist, pickleable=True)\n",
    "        pickle.dump(f_interps, open(\n",
    "            output_dir+'mainEvolveOutput_'+reion_method+'_'+pri+'_'+DM_process\n",
    "            +'log10mDM'+log10m_str+'_log10param'+log10param_str+'.dat','wb'\n",
    "        ))\n",
    "        \n",
    "        if not heat_switch:\n",
    "            Tm_interp = interp1d(base_hist['rs'], base_hist['Tm']/phys.kB*1e-4)\n",
    "            diff = Tm_interp(data[0]) - data[1][0]\n",
    "            diff[diff<0] = 0\n",
    "            chisq = sum((diff/data[1][1])**2)\n",
    "        else:\n",
    "            fs = make_fs(base_hist)\n",
    "            alpha_list = np.arange(-0.5,1.5,0.1)\n",
    "            data = find_optimum(alpha_list, init=10, mDM=mDM, DM_process=DM_process,\n",
    "                                lifetime=param, sigmav=param, fs=fs)\n",
    "            chisq = data[1][-1]\n",
    "        \n",
    "        chisq_list.append(chisq)\n",
    "        print('Test Statistic: {:03.1e}'.format(chisq))\n",
    "\n",
    "        nan_flag = np.any(np.isnan(base_hist['Tm']))\n",
    "        if nan_flag:\n",
    "            print('NAN! increasing heating rate.')\n",
    "            log10params.append(log10params[-1]-inc*sign)\n",
    "        elif chisq < max_chisq:\n",
    "            below_target = True\n",
    "            log10params.append(log10params[-1]-inc*sign)\n",
    "        elif chisq > max_chisq:\n",
    "            above_target = True\n",
    "            log10params.append(log10params[-1]+inc*sign)\n",
    "\n",
    "    tau_interp = interp1d(chisq_list, log10params[:-1])\n",
    "    return tau_interp(max_chisq), chisq_list, log10params"
   ]
  },
  {
   "cell_type": "markdown",
   "metadata": {},
   "source": [
    "This function below will write out all of the f interpolation functions and save them in output_dir"
   ]
  },
  {
   "cell_type": "code",
   "execution_count": 10,
   "metadata": {
    "scrolled": true
   },
   "outputs": [
    {
     "name": "stdout",
     "output_type": "stream",
     "text": [
      "****** log10(mDM):  6.01  ******\n",
      "log10param: -26.23906883848987\n",
      "****** Loading transfer functions... ******\n",
      "    for propagating photons...   Done!\n",
      "    for low-energy photons...  Done!\n",
      "    for low-energy electrons...  Done!\n",
      "    for high-energy deposition...  Done!\n",
      "    for total upscattered CMB energy rate...  Done!\n",
      "****** Loading complete! ******\n",
      "****** Loading transfer functions... ******\n",
      "    for inverse Compton (Thomson)...  Done!\n",
      "    for inverse Compton (relativistic)...  Done!\n",
      "    for inverse Compton (energy loss)...  Done!\n",
      "****** Loading complete! ******\n"
     ]
    },
    {
     "data": {
      "application/vnd.jupyter.widget-view+json": {
       "model_id": "f185a2acaf3647e18b613e0dc4a9e3ac",
       "version_major": 2,
       "version_minor": 0
      },
      "text/plain": [
       "HBox(children=(IntProgress(value=0, max=546), HTML(value='')))"
      ]
     },
     "metadata": {},
     "output_type": "display_data"
    },
    {
     "name": "stdout",
     "output_type": "stream",
     "text": [
      "\n",
      "Test Statistic: 2.8e+37\n",
      "log10param: -26.48906883848987\n"
     ]
    },
    {
     "data": {
      "application/vnd.jupyter.widget-view+json": {
       "model_id": "6df03a0a9b194224823cc50377c8a21e",
       "version_major": 2,
       "version_minor": 0
      },
      "text/plain": [
       "HBox(children=(IntProgress(value=0, max=546), HTML(value='')))"
      ]
     },
     "metadata": {},
     "output_type": "display_data"
    },
    {
     "ename": "KeyboardInterrupt",
     "evalue": "",
     "output_type": "error",
     "traceback": [
      "\u001b[0;31m---------------------------------------------------------------------------\u001b[0m",
      "\u001b[0;31mKeyboardInterrupt\u001b[0m                         Traceback (most recent call last)",
      "\u001b[0;32m<ipython-input-10-980ef0d257f4>\u001b[0m in \u001b[0;36m<module>\u001b[0;34m\u001b[0m\n\u001b[1;32m     48\u001b[0m                         \u001b[0mmDM\u001b[0m\u001b[0;34m,\u001b[0m \u001b[0mlog10guess\u001b[0m\u001b[0;34m,\u001b[0m \u001b[0mtau_inc\u001b[0m\u001b[0;34m,\u001b[0m \u001b[0mdefault_data\u001b[0m\u001b[0;34m,\u001b[0m \u001b[0mheat_switch\u001b[0m\u001b[0;34m=\u001b[0m\u001b[0mheat_switch\u001b[0m\u001b[0;34m,\u001b[0m\u001b[0;34m\u001b[0m\u001b[0;34m\u001b[0m\u001b[0m\n\u001b[1;32m     49\u001b[0m                         \u001b[0mDM_process\u001b[0m \u001b[0;34m=\u001b[0m \u001b[0mDM_process\u001b[0m\u001b[0;34m,\u001b[0m\u001b[0;34m\u001b[0m\u001b[0;34m\u001b[0m\u001b[0m\n\u001b[0;32m---> 50\u001b[0;31m                         \u001b[0mreion_method\u001b[0m\u001b[0;34m=\u001b[0m\u001b[0mreion_method\u001b[0m\u001b[0;34m,\u001b[0m \u001b[0mpri\u001b[0m\u001b[0;34m=\u001b[0m\u001b[0mpri\u001b[0m\u001b[0;34m\u001b[0m\u001b[0;34m\u001b[0m\u001b[0m\n\u001b[0m\u001b[1;32m     51\u001b[0m                     )\n\u001b[1;32m     52\u001b[0m                     \u001b[0mdata\u001b[0m\u001b[0;34m[\u001b[0m\u001b[0;36m0\u001b[0m\u001b[0;34m]\u001b[0m\u001b[0;34m[\u001b[0m\u001b[0mi\u001b[0m\u001b[0;34m]\u001b[0m \u001b[0;34m=\u001b[0m \u001b[0mtmp_chisq_list\u001b[0m\u001b[0;34m\u001b[0m\u001b[0;34m\u001b[0m\u001b[0m\n",
      "\u001b[0;32m<ipython-input-9-00d6723cfde5>\u001b[0m in \u001b[0;36mfind_param_guess\u001b[0;34m(mDM, log10guess, inc, data, heat_switch, reion_method, pri, DM_process, DeltaT, alpha_bk)\u001b[0m\n\u001b[1;32m     43\u001b[0m             \u001b[0mcompute_fs_method\u001b[0m\u001b[0;34m=\u001b[0m\u001b[0;34m'He'\u001b[0m\u001b[0;34m,\u001b[0m \u001b[0mmxstep\u001b[0m\u001b[0;34m=\u001b[0m\u001b[0;36m1000\u001b[0m\u001b[0;34m,\u001b[0m \u001b[0mrtol\u001b[0m\u001b[0;34m=\u001b[0m\u001b[0;36m1e-4\u001b[0m\u001b[0;34m,\u001b[0m\u001b[0;34m\u001b[0m\u001b[0;34m\u001b[0m\u001b[0m\n\u001b[1;32m     44\u001b[0m             \u001b[0muse_tqdm\u001b[0m\u001b[0;34m=\u001b[0m\u001b[0;32mTrue\u001b[0m\u001b[0;34m,\u001b[0m \u001b[0mcross_check\u001b[0m \u001b[0;34m=\u001b[0m \u001b[0;32mFalse\u001b[0m\u001b[0;34m,\u001b[0m\u001b[0;34m\u001b[0m\u001b[0;34m\u001b[0m\u001b[0m\n\u001b[0;32m---> 45\u001b[0;31m             \u001b[0mstruct_boost\u001b[0m\u001b[0;34m=\u001b[0m\u001b[0mstruct_boost\u001b[0m\u001b[0;34m\u001b[0m\u001b[0;34m\u001b[0m\u001b[0m\n\u001b[0m\u001b[1;32m     46\u001b[0m         )\n\u001b[1;32m     47\u001b[0m         \u001b[0;31m###!!! This is the line that saves the f's\u001b[0m\u001b[0;34m\u001b[0m\u001b[0;34m\u001b[0m\u001b[0;34m\u001b[0m\u001b[0m\n",
      "\u001b[0;32m~/Desktop/DM/DH/DarkHistory/main.py\u001b[0m in \u001b[0;36mevolve\u001b[0;34m(in_spec_elec, in_spec_phot, rate_func_N, rate_func_eng, DM_process, mDM, sigmav, lifetime, primary, struct_boost, start_rs, end_rs, helium_TLA, reion_switch, reion_rs, reion_method, heat_switch, DeltaT, alpha_bk, photoion_rate_func, photoheat_rate_func, xe_reion_func, init_cond, coarsen_factor, backreaction, compute_fs_method, mxstep, rtol, use_tqdm, cross_check)\u001b[0m\n\u001b[1;32m    655\u001b[0m                 get_tf(\n\u001b[1;32m    656\u001b[0m                     \u001b[0mrs\u001b[0m\u001b[0;34m,\u001b[0m \u001b[0mxHII_to_interp\u001b[0m\u001b[0;34m,\u001b[0m \u001b[0mxHeII_to_interp\u001b[0m\u001b[0;34m,\u001b[0m\u001b[0;34m\u001b[0m\u001b[0;34m\u001b[0m\u001b[0m\n\u001b[0;32m--> 657\u001b[0;31m                     \u001b[0mdlnz\u001b[0m\u001b[0;34m,\u001b[0m \u001b[0mcoarsen_factor\u001b[0m\u001b[0;34m=\u001b[0m\u001b[0mcoarsen_factor\u001b[0m\u001b[0;34m\u001b[0m\u001b[0;34m\u001b[0m\u001b[0m\n\u001b[0m\u001b[1;32m    658\u001b[0m                 )\n\u001b[1;32m    659\u001b[0m             )\n",
      "\u001b[0;32m~/Desktop/DM/DH/DarkHistory/main.py\u001b[0m in \u001b[0;36mget_tf\u001b[0;34m(rs, xHII, xHeII, dlnz, coarsen_factor)\u001b[0m\n\u001b[1;32m    885\u001b[0m         \u001b[0mprop_tf\u001b[0m \u001b[0;34m=\u001b[0m \u001b[0mnp\u001b[0m\u001b[0;34m.\u001b[0m\u001b[0mzeros_like\u001b[0m\u001b[0;34m(\u001b[0m\u001b[0mhighengphot_tf\u001b[0m\u001b[0;34m.\u001b[0m\u001b[0m_grid_vals\u001b[0m\u001b[0;34m)\u001b[0m\u001b[0;34m\u001b[0m\u001b[0;34m\u001b[0m\u001b[0m\n\u001b[1;32m    886\u001b[0m         \u001b[0;32mfor\u001b[0m \u001b[0mi\u001b[0m \u001b[0;32min\u001b[0m \u001b[0mnp\u001b[0m\u001b[0;34m.\u001b[0m\u001b[0marange\u001b[0m\u001b[0;34m(\u001b[0m\u001b[0mcoarsen_factor\u001b[0m\u001b[0;34m)\u001b[0m\u001b[0;34m:\u001b[0m\u001b[0;34m\u001b[0m\u001b[0;34m\u001b[0m\u001b[0m\n\u001b[0;32m--> 887\u001b[0;31m             \u001b[0mprop_tf\u001b[0m \u001b[0;34m+=\u001b[0m \u001b[0mmatrix_power\u001b[0m\u001b[0;34m(\u001b[0m\u001b[0mhighengphot_tf\u001b[0m\u001b[0;34m.\u001b[0m\u001b[0m_grid_vals\u001b[0m\u001b[0;34m,\u001b[0m \u001b[0mi\u001b[0m\u001b[0;34m)\u001b[0m\u001b[0;34m\u001b[0m\u001b[0;34m\u001b[0m\u001b[0m\n\u001b[0m\u001b[1;32m    888\u001b[0m         lowengphot_tf._grid_vals = np.matmul(\n\u001b[1;32m    889\u001b[0m             \u001b[0mprop_tf\u001b[0m\u001b[0;34m,\u001b[0m \u001b[0mlowengphot_tf\u001b[0m\u001b[0;34m.\u001b[0m\u001b[0m_grid_vals\u001b[0m\u001b[0;34m\u001b[0m\u001b[0;34m\u001b[0m\u001b[0m\n",
      "\u001b[0;31mKeyboardInterrupt\u001b[0m: "
     ]
    }
   ],
   "source": [
    "# Set to False for robust constraints, set to true for photoheating\n",
    "heat_switch=True\n",
    "m_inc   = 0.25\n",
    "tau_inc = 0.25\n",
    "\n",
    "for DM_process in ['pwave', 'pwave']:\n",
    "    for pri in ['elec', 'phot']:\n",
    "        for reion_method in ['Tanh_early', 'Tanh_late', 'FlexKnot_early', 'FlexKnot_late']:\n",
    "\n",
    "            if reion_method[-4:] == 'late':\n",
    "                time_str = 'late'\n",
    "            else:\n",
    "                time_str = 'early'\n",
    "            \n",
    "            \n",
    "            if DM_process == 'decay':\n",
    "                param_str = 'taus'\n",
    "                sign=1\n",
    "            else:\n",
    "                param_str='sigmav_over_ms'\n",
    "                sign=-1\n",
    "                \n",
    "            string = pri+'_'+DM_process+'_'+reion_method[:4]+'_'+time_str\n",
    "\n",
    "            if heat_switch:\n",
    "                constr_str = 'photoheating'\n",
    "            else:\n",
    "                constr_str = 'robust'\n",
    "\n",
    "            if pri=='phot':\n",
    "                log10m = np.arange(4.01, 12.76, m_inc)\n",
    "            else:\n",
    "                log10m = np.arange(6.01, 12.76, m_inc)\n",
    "            max_chisq_list = np.zeros_like(log10m)\n",
    "            data = [[None for k in max_chisq_list], [None for k in max_chisq_list]]\n",
    "            for i, log10mDM in enumerate(log10m):\n",
    "                    print('****** log10(mDM): ', log10mDM, ' ******')\n",
    "                    mDM = 10**log10mDM\n",
    "                    \n",
    "                    log10guess = interp1d(Hongwan_data[string]['log10m'],\n",
    "                      Hongwan_data[string][param_str]\n",
    "                     )(log10mDM)\n",
    "                    \n",
    "                    if DM_process == 'pwave':\n",
    "                        log10guess = log10guess+log10mDM - 9\n",
    "\n",
    "                    max_chisq_list[i], tmp_chisq_list, tmp_param_list  = find_param_guess(\n",
    "                        mDM, log10guess, tau_inc, default_data, heat_switch=heat_switch,\n",
    "                        DM_process = DM_process,\n",
    "                        reion_method=reion_method, pri=pri\n",
    "                    )\n",
    "                    data[0][i] = tmp_chisq_list\n",
    "                    data[1][i] = tmp_param_list\n",
    "\n",
    "            pickle.dump(data, open(output_dir+'data_'+constr_str+'_'+reion_method+'_'+pri+'_'+DM_process+'.dat','wb'))"
   ]
  },
  {
   "cell_type": "code",
   "execution_count": 50,
   "metadata": {},
   "outputs": [
    {
     "data": {
      "application/vnd.jupyter.widget-view+json": {
       "model_id": "161f7d80f20d4ac2bc25ee214ff699d5",
       "version_major": 2,
       "version_minor": 0
      },
      "text/plain": [
       "HBox(children=(IntProgress(value=0, max=546), HTML(value='')))"
      ]
     },
     "metadata": {},
     "output_type": "display_data"
    }
   ],
   "source": [
    "%autoreload\n",
    "tmp_hist = main.evolve(\n",
    "    primary='elec_delta',\n",
    "    DM_process='pwave', mDM=10**6.01, sigmav=10**(-26.48906883848987),\n",
    "    reion_switch=True, reion_rs=35, helium_TLA=True,\n",
    "    xe_reion_func = reion_interps['Tanh_early'],\n",
    "    start_rs = 3e3, end_rs=4.3, DeltaT=24665*phys.kB, alpha_bk=0.57,\n",
    "    heat_switch=False,\n",
    "    coarsen_factor=12, backreaction=True, \n",
    "    compute_fs_method='He', mxstep=1000, rtol=1e-4,\n",
    "    use_tqdm=True, cross_check = False,\n",
    "    struct_boost=phys.struct_boost_func(model='pwave_NFW_no_subs')\n",
    ")"
   ]
  },
  {
   "cell_type": "code",
   "execution_count": 66,
   "metadata": {},
   "outputs": [
    {
     "data": {
      "text/plain": [
       "[<matplotlib.lines.Line2D at 0x195003dd0>]"
      ]
     },
     "execution_count": 66,
     "metadata": {},
     "output_type": "execute_result"
    },
    {
     "data": {
      "image/png": "[encoded data removed]",
      "text/plain": [
       "<Figure size 576x576 with 1 Axes>"
      ]
     },
     "metadata": {
      "needs_background": "light"
     },
     "output_type": "display_data"
    }
   ],
   "source": [
    "plt.figure(figsize=(8,8))\n",
    "\n",
    "plt.axis([2,7.4,0,1.8e4])\n",
    "plt_ind = -7\n",
    "plotline1, cap1, barlinecols1 = plt.errorbar(1+z_entries, new_mids*1e4, yerr=high_errs*1e4, \n",
    "             uplims=True, fmt='D', alpha=0.2, color='blue', capsize=0.1, capthick=0.1)\n",
    "plotline2, cap2, barlinecols2 = plt.errorbar(1+z_entries, new_mids*1e4, yerr=low_errs*1e4,  \n",
    "             lolims=True, fmt=',', alpha=0.2, color='blue', capsize=0.1, capthick=0.1)\n",
    "\n",
    "plotline3, cap3, barlinecols3 = plt.errorbar(1+z_entries[plt_ind:-2], new_mids[plt_ind:-2]*1e4, yerr=high_errs[plt_ind:-2]*1e4, \n",
    "             uplims=True, fmt='D', color='blue', capsize=0.1, capthick=0.1)\n",
    "plotline4, cap4, barlinecols4 = plt.errorbar(1+z_entries[plt_ind:-2], new_mids[plt_ind:-2]*1e4, yerr=low_errs[plt_ind:-2]*1e4,  \n",
    "             lolims=True, fmt=',', color='blue', capsize=0.1, capthick=0.1)\n",
    "\n",
    "\n",
    "plotlineG1, cap2, barlinecols2 = plt.errorbar(Gaikwad_rs, Gaikwad_data[:,0]*1e4, yerr=Gaikwad_data[:,1]*1e4,  \n",
    "             lolims=True, fmt='*', color='red', capsize=0.9, capthick=0.9)\n",
    "plotlineG1, cap2, barlinecols2 = plt.errorbar(Gaikwad_rs, Gaikwad_data[:,0]*1e4, yerr=Gaikwad_data[:,1]*1e4,  \n",
    "             uplims=True, fmt='*', color='red', capsize=0.9, capthick=0.9)\n",
    "plt.plot(tmp_hist['rs'], tmp_hist['Tm']/phys.kB)\n",
    "plt.plot(rs_vec, tmp_hist2(rs_vec)*1e4)"
   ]
  },
  {
   "cell_type": "code",
   "execution_count": 65,
   "metadata": {},
   "outputs": [],
   "source": [
    "def get_his(DeltaT, alpha, mDM=None, lifetime=None, sigmav=None, DM_process='decay',\n",
    "            fs=[None, None, None, None], reion_method='FlexKnot_early'):\n",
    "    \n",
    "    if sigmav is not None:\n",
    "        struct_boost = phys.struct_boost_func(model='pwave_NFW_no_subs')\n",
    "    elif lifetime is not None:\n",
    "        struct_boost = None\n",
    "    else:\n",
    "        struct_boost = None\n",
    "        DM_process   = None\n",
    "        \n",
    "    tmp = tla.get_history(\n",
    "        rs_vec,\n",
    "        DM_process = DM_process, mDM=mDM, lifetime=lifetime, sigmav=sigmav,\n",
    "        struct_boost = struct_boost,\n",
    "        f_H_ion=fs[0], f_He_ion=fs[1], f_H_exc=fs[2], f_heating=fs[3],\n",
    "        reion_switch=True, reion_rs=35, reion_method=None, \n",
    "        heat_switch=True, DeltaT = DeltaT, alpha_bk=alpha,\n",
    "        xe_reion_func=reion_interps[reion_method], helium_TLA=True\n",
    "    )\n",
    "    return interp1d(rs_vec, tmp[:,0]/phys.kB*1e-4)"
   ]
  },
  {
   "cell_type": "code",
   "execution_count": 64,
   "metadata": {},
   "outputs": [
    {
     "data": {
      "text/plain": [
       "[<matplotlib.lines.Line2D at 0x194dd7950>]"
      ]
     },
     "execution_count": 64,
     "metadata": {},
     "output_type": "execute_result"
    },
    {
     "data": {
      "image/png": "[encoded data removed]",
      "text/plain": [
       "<Figure size 432x288 with 1 Axes>"
      ]
     },
     "metadata": {
      "needs_background": "light"
     },
     "output_type": "display_data"
    }
   ],
   "source": [
    "plt.figure()\n",
    "plt.loglog()\n",
    "plt.plot(rs_vec, tmp_hist2(rs_vec)*1e4)"
   ]
  },
  {
   "cell_type": "code",
   "execution_count": 63,
   "metadata": {},
   "outputs": [],
   "source": [
    "fs = make_fs(tmp_hist)\n",
    "\n",
    "tmp_hist2 = get_his(DeltaT=24665*phys.kB, alpha=0.57, mDM=10**6.01, sigmav=10**(-26.48906883848987), DM_process='pwave',\n",
    "            fs=fs, reion_method='Tanh_early')"
   ]
  },
  {
   "cell_type": "code",
   "execution_count": 36,
   "metadata": {},
   "outputs": [
    {
     "data": {
      "text/plain": [
       "6.039163639995031e+17"
      ]
     },
     "execution_count": 36,
     "metadata": {},
     "output_type": "execute_result"
    }
   ],
   "source": [
    "phys.struct_boost_func(model='pwave_NFW_no_subs')(5)"
   ]
  },
  {
   "cell_type": "code",
   "execution_count": 82,
   "metadata": {},
   "outputs": [
    {
     "data": {
      "application/vnd.jupyter.widget-view+json": {
       "model_id": "83ff0bbc4c1a489bada08b67f60a5d6e",
       "version_major": 2,
       "version_minor": 0
      },
      "text/plain": [
       "HBox(children=(IntProgress(value=0, max=546), HTML(value='')))"
      ]
     },
     "metadata": {},
     "output_type": "display_data"
    }
   ],
   "source": [
    "robust_hist = main.evolve(\n",
    "    primary='elec_delta',\n",
    "    DM_process='decay', mDM=10**log10mDM, lifetime=10**log10guess,\n",
    "    reion_switch=True, reion_rs=35, helium_TLA=True,\n",
    "    xe_reion_func = reion_interps['Tanh_early'],\n",
    "    start_rs = 3e3, end_rs=4.3, DeltaT = 24815*phys.kB, \n",
    "    alpha_bk=0.6, heat_switch=False,\n",
    "    coarsen_factor=12, backreaction=True, \n",
    "    compute_fs_method='He', mxstep=1000, rtol=1e-4,\n",
    "    use_tqdm=True, cross_check = False,\n",
    "    struct_boost=None\n",
    ")"
   ]
  },
  {
   "cell_type": "code",
   "execution_count": 83,
   "metadata": {},
   "outputs": [
    {
     "data": {
      "application/vnd.jupyter.widget-view+json": {
       "model_id": "dd5d865b351048a3a524e327cdd3cca2",
       "version_major": 2,
       "version_minor": 0
      },
      "text/plain": [
       "HBox(children=(IntProgress(value=0, max=546), HTML(value='')))"
      ]
     },
     "metadata": {},
     "output_type": "display_data"
    }
   ],
   "source": [
    "photoheat_hist = main.evolve(\n",
    "    primary='elec_delta',\n",
    "    DM_process='decay', mDM=10**log10mDM, lifetime=10**log10guess,\n",
    "    reion_switch=True, reion_rs=35, helium_TLA=True,\n",
    "    xe_reion_func = reion_interps['Tanh_early'],\n",
    "    start_rs = 3e3, end_rs=4.3, DeltaT = 24815*phys.kB, \n",
    "    alpha_bk=0.6, heat_switch=True,\n",
    "    coarsen_factor=12, backreaction=True, \n",
    "    compute_fs_method='He', mxstep=1000, rtol=1e-4,\n",
    "    use_tqdm=True, cross_check = False,\n",
    "    struct_boost=None\n",
    ")"
   ]
  },
  {
   "cell_type": "code",
   "execution_count": 93,
   "metadata": {},
   "outputs": [
    {
     "data": {
      "text/plain": [
       "149.97757706625998"
      ]
     },
     "execution_count": 93,
     "metadata": {},
     "output_type": "execute_result"
    }
   ],
   "source": [
    "fs = make_fs(photoheat_hist)\n",
    "get_chisq(var=[24815*phys.kB, 0.6], mDM=10**log10mDM, lifetime=10**log10guess,\n",
    "              fs=fs, reion_method='Tanh_early')"
   ]
  },
  {
   "cell_type": "code",
   "execution_count": 84,
   "metadata": {},
   "outputs": [
    {
     "data": {
      "text/plain": [
       "Text(0.5, 0, 'IGM Temperature, $T_m$')"
      ]
     },
     "execution_count": 84,
     "metadata": {},
     "output_type": "execute_result"
    },
    {
     "name": "stderr",
     "output_type": "stream",
     "text": [
      "/usr/local/lib/python3.7/site-packages/matplotlib/font_manager.py:1241: UserWarning: findfont: Font family ['serif'] not found. Falling back to DejaVu Sans.\n",
      "  (prop.get_family(), self.defaultFamily[fontext]))\n"
     ]
    },
    {
     "data": {
      "image/png": "[encoded data removed]",
      "text/plain": [
       "<Figure size 800x800 with 1 Axes>"
      ]
     },
     "metadata": {},
     "output_type": "display_data"
    }
   ],
   "source": [
    "plt.figure(figsize=(8,8))\n",
    "\n",
    "plt.axis([2,7.4,0,1.8e4])\n",
    "plt_ind = -7\n",
    "plotline1, cap1, barlinecols1 = plt.errorbar(1+z_entries, new_mids*1e4, yerr=high_errs*1e4, \n",
    "             uplims=True, fmt='D', alpha=0.2, color='blue', capsize=0.1, capthick=0.1)\n",
    "plotline2, cap2, barlinecols2 = plt.errorbar(1+z_entries, new_mids*1e4, yerr=low_errs*1e4,  \n",
    "             lolims=True, fmt=',', alpha=0.2, color='blue', capsize=0.1, capthick=0.1)\n",
    "\n",
    "plotline3, cap3, barlinecols3 = plt.errorbar(1+z_entries[plt_ind:-2], new_mids[plt_ind:-2]*1e4, yerr=high_errs[plt_ind:-2]*1e4, \n",
    "             uplims=True, fmt='D', color='blue', capsize=0.1, capthick=0.1)\n",
    "plotline4, cap4, barlinecols4 = plt.errorbar(1+z_entries[plt_ind:-2], new_mids[plt_ind:-2]*1e4, yerr=low_errs[plt_ind:-2]*1e4,  \n",
    "             lolims=True, fmt=',', color='blue', capsize=0.1, capthick=0.1)\n",
    "\n",
    "\n",
    "plotlineG1, cap2, barlinecols2 = plt.errorbar(Gaikwad_rs, Gaikwad_data[:,0]*1e4, yerr=Gaikwad_data[:,1]*1e4,  \n",
    "             lolims=True, fmt='*', color='red', capsize=0.9, capthick=0.9)\n",
    "plotlineG1, cap2, barlinecols2 = plt.errorbar(Gaikwad_rs, Gaikwad_data[:,0]*1e4, yerr=Gaikwad_data[:,1]*1e4,  \n",
    "             uplims=True, fmt='*', color='red', capsize=0.9, capthick=0.9)\n",
    "\n",
    "plt.plot(robust_hist['rs'], robust_hist['Tm']/phys.kB, label='robust')\n",
    "plt.plot(photoheat_hist['rs'], photoheat_hist['Tm']/phys.kB, label='photoheat')\n",
    "\n",
    "plt.legend()\n",
    "plt.xlabel(r'Redshift, $1+z$')\n",
    "plt.xlabel(r'IGM Temperature, $T_m$')"
   ]
  },
  {
   "cell_type": "code",
   "execution_count": 86,
   "metadata": {},
   "outputs": [],
   "source": [
    "Tm_interp = interp1d(robust_hist['rs'], robust_hist['Tm']/phys.kB*1e-4)\n",
    "diff = Tm_interp(default_data[0]) - default_data[1][0]\n",
    "diff[diff<0] = 0\n",
    "robust_chisq = sum((diff/default_data[1][1])**2)\n",
    "\n",
    "\n",
    "Tm_interp = interp1d(photoheat_hist['rs'], photoheat_hist['Tm']/phys.kB*1e-4)\n",
    "diff = Tm_interp(default_data[0]) - default_data[1][0]\n",
    "# diff[diff<0] = 0\n",
    "photoheat_chisq = sum((diff/default_data[1][1])**2)\n",
    "    \n",
    "#     fs = make_fs(base_hist)\n",
    "#     alpha_list = np.arange(-0.5,1.5,0.1)\n",
    "#     data = find_optimum(alpha_list, init=10, mDM=mDM, DM_process=DM_process,\n",
    "#                         lifetime=param, sigmav=param, fs=fs)\n",
    "#     chisq = data[1][-1]"
   ]
  },
  {
   "cell_type": "code",
   "execution_count": 87,
   "metadata": {},
   "outputs": [
    {
     "name": "stdout",
     "output_type": "stream",
     "text": [
      "4.921230391572364 152.43411311573837\n"
     ]
    }
   ],
   "source": [
    "print(robust_chisq, photoheat_chisq)"
   ]
  },
  {
   "cell_type": "code",
   "execution_count": null,
   "metadata": {},
   "outputs": [],
   "source": [
    "Tm_interp = interp1d(photoheat_hist['rs'], photoheat_hist['Tm']/phys.kB*1e-4)\n",
    "diff = Tm_interp(data[0]) - data[1][0]\n",
    "# diff[diff<0] = 0\n",
    "robust_chisq = sum((diff/data[1][1])**2)"
   ]
  },
  {
   "cell_type": "markdown",
   "metadata": {},
   "source": [
    "# OLD"
   ]
  },
  {
   "cell_type": "markdown",
   "metadata": {},
   "source": [
    "## Notebook Initialization"
   ]
  },
  {
   "cell_type": "code",
   "execution_count": 1,
   "metadata": {},
   "outputs": [],
   "source": [
    "%load_ext autoreload\n",
    "import sys\n",
    "sys.path.append(\"..\")"
   ]
  },
  {
   "cell_type": "code",
   "execution_count": 2,
   "metadata": {
    "scrolled": true
   },
   "outputs": [],
   "source": [
    "%matplotlib inline"
   ]
  },
  {
   "cell_type": "code",
   "execution_count": 3,
   "metadata": {},
   "outputs": [],
   "source": [
    "%autoreload\n",
    "\n",
    "import matplotlib\n",
    "matplotlib.rc_file('matplotlibrc')\n",
    "import matplotlib.pyplot as plt\n",
    "\n",
    "from astropy.io import fits\n",
    "\n",
    "import numpy as np\n",
    "import copy\n",
    "import pickle\n",
    "from tqdm import tqdm_notebook as tqdm\n",
    "from scipy.interpolate import interp1d\n",
    "\n",
    "\n",
    "import darkhistory.physics as phys\n",
    "import darkhistory.spec.spectools as spectools\n",
    "from darkhistory.history.tla import get_history\n",
    "\n",
    "import main"
   ]
  },
  {
   "cell_type": "markdown",
   "metadata": {},
   "source": [
    "## Ly$\\alpha$ Forest Temperature Measurements"
   ]
  },
  {
   "cell_type": "code",
   "execution_count": 4,
   "metadata": {},
   "outputs": [],
   "source": [
    "import config\n",
    "from scipy.interpolate import interp2d"
   ]
  },
  {
   "cell_type": "code",
   "execution_count": 13,
   "metadata": {},
   "outputs": [],
   "source": [
    "input_dir = '/Users/gregoryridgway/Dropbox (MIT)/Late_Time_Energy_Injection/reion_models/'\n",
    "output_dir = '/Users/gregoryridgway/Desktop/'"
   ]
  },
  {
   "cell_type": "code",
   "execution_count": 12,
   "metadata": {},
   "outputs": [],
   "source": [
    "import darkhistory.history.reionization as reion\n",
    "import csv\n",
    "reion_strings = np.array(\n",
    "    ['earliest', 'latest', 'FlexKnot_early', 'FlexKnot_late', 'Tanh_early', 'Tanh_late']\n",
    ")\n",
    "def make_reion_interp_func(string):\n",
    "    Planck_data = []\n",
    "    with open(input_dir+'Planck_'+string+'.csv') as csvfile:\n",
    "        reader = csv.reader(csvfile)\n",
    "        reader = csv.reader(csvfile)\n",
    "        for row in reader:\n",
    "            Planck_data.append([float(row[0]),float(row[1])])\n",
    "    Planck_data = np.array(Planck_data)\n",
    "    #fix normalization\n",
    "    if string == 'FlexKnot_early':\n",
    "        norm_fac = Planck_data[-2,1]\n",
    "    else:\n",
    "        norm_fac = Planck_data[0,1]\n",
    "\n",
    "    Planck_data[:,1] = (1+2*phys.chi)*Planck_data[:,1]/norm_fac\n",
    "    #convert from z to rs\n",
    "    Planck_data[:,0] = 1+Planck_data[:,0]\n",
    "    Planck_data[Planck_data[:,1]>1+phys.chi,1]=1+phys.chi\n",
    "    return interp1d(Planck_data[:,0], Planck_data[:,1], bounds_error=False, fill_value=(1+phys.chi,0))\n",
    "\n",
    "# Make interpolation functions for each Planck2018 reionization history\n",
    "reion_interps = {string : make_reion_interp_func(string) for string in reion_strings}"
   ]
  },
  {
   "cell_type": "code",
   "execution_count": 7,
   "metadata": {},
   "outputs": [],
   "source": [
    "def zero_rate(rs):\n",
    "    return 0\n",
    "zero_rates = np.array([zero_rate, zero_rate, zero_rate])"
   ]
  },
  {
   "cell_type": "code",
   "execution_count": 8,
   "metadata": {
    "scrolled": true
   },
   "outputs": [],
   "source": [
    "%autoreload\n",
    "def get_T(mDM, inj_param, br, pri, constraint_type, chisq=False, reion_method = 'Puchwein', DeltaT=0):\n",
    "    \"\"\"Gets the temperature at z = 17, decays.\n",
    "    \n",
    "    Parameters\n",
    "    ----------\n",
    "    mDM : float\n",
    "        The mass of the dark matter in eV. \n",
    "    tau : float\n",
    "        The decay lifetime in s. \n",
    "    br : bool\n",
    "        Whether to use backreaction or not. \n",
    "    pri : {'elec', 'phot'}\n",
    "        The primary particles that DM decays to. \n",
    "        \n",
    "    Returns\n",
    "    --------\n",
    "    float\n",
    "        The temperature in K at z = 17. \n",
    "    \n",
    "    \"\"\"\n",
    "    \n",
    "    if pri == 'elec':\n",
    "        pri_str = 'elec_delta'\n",
    "        cf = 12\n",
    "    if pri == 'phot':\n",
    "        pri_str = 'phot_delta'\n",
    "        cf = 4\n",
    "        \n",
    "        \n",
    "    if br:\n",
    "        \n",
    "        #Use for robust constraints\n",
    "        def zero_rate(rs):\n",
    "            return 0\n",
    "        zero_rates = np.array([zero_rate, zero_rate, zero_rate])\n",
    "    \n",
    "        if constraint_type == 'robust_noreion':\n",
    "            result = main.evolve(\n",
    "                primary=pri_str,\n",
    "                DM_process=DM_process, mDM=mDM, sigmav = inj_param, lifetime=inj_param,\n",
    "                start_rs = 3000, end_rs=end_rs,\n",
    "                coarsen_factor=cf, backreaction=True,\n",
    "                reion_switch=True, reion_method=None,\n",
    "                photoion_rate_func = zero_rates, photoheat_rate_func = zero_rates, reion_rs = reion_rs,\n",
    "                helium_TLA=True\n",
    "            )\n",
    "        elif constraint_type == 'robust_reion':\n",
    "            \n",
    "            result = main.evolve(\n",
    "                    primary=pri_str,\n",
    "                    DM_process=DM_process, mDM=mDM, sigmav = inj_param, lifetime=inj_param,\n",
    "                    start_rs = 3000, end_rs=end_rs,\n",
    "                    coarsen_factor=cf, backreaction=True,\n",
    "                    reion_switch=True, reion_method=None,\n",
    "                    xe_reion_func=reion_interps[reion_method],\n",
    "                    photoion_rate_func = zero_rates, photoheat_rate_func = zero_rates, reion_rs = reion_rs, \n",
    "                    helium_TLA=True\n",
    "                )\n",
    "        elif constraint_type == 'DeltaT':\n",
    "\n",
    "            result = main.evolve(\n",
    "                primary=pri_str,\n",
    "                DM_process=DM_process, mDM=mDM, sigmav = inj_param, lifetime=inj_param,\n",
    "                start_rs = 3000, end_rs=end_rs,\n",
    "                coarsen_factor=cf, backreaction=True,\n",
    "                reion_switch=True, reion_method=None, DeltaT=DeltaT,\n",
    "                xe_reion_func=reion_interps[reion_method],\n",
    "                photoion_rate_func = zero_rates, photoheat_rate_func = zero_rates, reion_rs = reion_rs, \n",
    "                helium_TLA=True\n",
    "            )\n",
    "            \n",
    "        elif constraint_type == '2016_comparison':\n",
    "            result = main.evolve(\n",
    "                DM_process = DM_process,\n",
    "                mDM = mDM,\n",
    "                sigmav = inj_param, lifetime=inj_param,\n",
    "                primary = pri_str,\n",
    "                start_rs = 3000,\n",
    "                reion_switch = True,\n",
    "                reion_rs = 7,\n",
    "                compute_fs_method = 'HeII',\n",
    "                helium_TLA = True,\n",
    "                backreaction = False,\n",
    "                coarsen_factor =cf,\n",
    "                cross_check = False,\n",
    "                end_rs=5.8\n",
    "            )\n",
    "        else:\n",
    "            raise TypeError('Invalid reion_method for robust_reion constraint type')\n",
    "                \n",
    "\n",
    "        \n",
    "        if not chisq:\n",
    "            return result['Tm'][-1]/phys.kB\n",
    "        else:\n",
    "            return interp1d(result['rs'], result['Tm']/phys.kB)(rs_entries)\n",
    "    \n",
    "    else:\n",
    "        # get_history takes a redshift vector \n",
    "                            \n",
    "        rs_vec = np.flipud(np.arange(end_rs, 2700., 0.1))\n",
    "        \n",
    "        if constraint_type == '2016_comparison':\n",
    "            result = main.evolve(\n",
    "                DM_process = DM_process,\n",
    "                mDM = mDM,\n",
    "                sigmav = inj_param, lifetime=inj_param,\n",
    "                primary = pri_str,\n",
    "                start_rs = 3000,\n",
    "                reion_switch = True,\n",
    "                reion_rs = 7,\n",
    "                compute_fs_method = 'HeII',\n",
    "                helium_TLA = True,\n",
    "                backreaction = False,\n",
    "                coarsen_factor =cf,\n",
    "                cross_check = True,\n",
    "                end_rs=end_rs\n",
    "            )\n",
    "        else:\n",
    "            result = get_history(\n",
    "                rs_vec, baseline_f = True,\n",
    "                inj_particle = pri, DM_process = DM_process,\n",
    "                mDM=mDM, sigmav = inj_param, lifetime=inj_param,\n",
    "            )\n",
    "\n",
    "        if not chisq:\n",
    "            if br or constraint_type == '2016_comparison':\n",
    "                return result['Tm'][-1]/phys.kB\n",
    "            else:\n",
    "                return result[-1,0]/phys.kB\n",
    "        else:\n",
    "            return interp1d(rs_vec, result[:,0]/phys.kB)(rs_entries)"
   ]
  },
  {
   "cell_type": "markdown",
   "metadata": {},
   "source": [
    "Let's start the scan! To do the scan quickly, we'll first run the case with no backreaction first, and then use the results as an initial guess for [*main.evolve()*](https://darkhistory.readthedocs.io/en/master/_autosummary/main/main.evolve.html). "
   ]
  },
  {
   "cell_type": "code",
   "execution_count": 9,
   "metadata": {},
   "outputs": [],
   "source": [
    "z_entries=np.array([1.8,2.0,2.2,2.4,2.6,2.8,3.0,3.2,3.4,3.6,3.8,4.0,4.2,4.6,5.0,5.4])\n",
    "rs_entries=1+z_entries[-8:]\n",
    "\n",
    "new_mids=[.768,.732,1.014,1.165,1.234,\n",
    "          1.286,1.289,1.186,1.404,1.038,\n",
    "          1.205,.940,.890,.877,.533,.599]\n",
    "mids = new_mids[-8:]\n",
    "\n",
    "\n",
    "errs = [.37,.17,.25,.29,.19,.19,.18,.13,.17,.31,.23,.22,.093,.13,.12,.15]\n",
    "sigs = errs[-8:]\n",
    "\n",
    "rs_0 = rs_entries[0]-.1\n",
    "chisq = True\n",
    "Tm_max=5e4"
   ]
  },
  {
   "cell_type": "code",
   "execution_count": 23,
   "metadata": {},
   "outputs": [],
   "source": [
    "pri='phot'\n",
    "chisq=True\n",
    "br=True\n",
    "%autoreload\n",
    "DeltaT = 0*phys.kB\n",
    "\n",
    "DM_process='decay'\n",
    "reion_rs=35\n",
    "\n",
    "pri_str = pri+'_delta'\n",
    "\n",
    "end_rs=4.01\n",
    "Tm_max = 10000"
   ]
  },
  {
   "cell_type": "code",
   "execution_count": 25,
   "metadata": {},
   "outputs": [
    {
     "data": {
      "text/plain": [
       "24.0"
      ]
     },
     "execution_count": 25,
     "metadata": {},
     "output_type": "execute_result"
    }
   ],
   "source": [
    "log10_param_arr[-4]"
   ]
  },
  {
   "cell_type": "code",
   "execution_count": 21,
   "metadata": {},
   "outputs": [
    {
     "name": "stdout",
     "output_type": "stream",
     "text": [
      "###### Target Reduced chi^2: 2  ######\n"
     ]
    },
    {
     "name": "stderr",
     "output_type": "stream",
     "text": [
      "/usr/local/Cellar/ipython/7.8.0/libexec/vendor/lib/python3.7/site-packages/ipykernel_launcher.py:15: RuntimeWarning: divide by zero encountered in log10\n",
      "  from ipykernel import kernelapp as app\n"
     ]
    },
    {
     "data": {
      "application/vnd.jupyter.widget-view+json": {
       "model_id": "af983e5fd7784061865275930ed94c8b",
       "version_major": 2,
       "version_minor": 0
      },
      "text/plain": [
       "HBox(children=(IntProgress(value=0, max=14), HTML(value='')))"
      ]
     },
     "metadata": {},
     "output_type": "display_data"
    },
    {
     "name": "stdout",
     "output_type": "stream",
     "text": [
      "****** log10(mDM):  6.01  ******\n",
      "log10tau: 23.0\n"
     ]
    },
    {
     "data": {
      "application/vnd.jupyter.widget-view+json": {
       "model_id": "2e39bd9895ab4984aed849e4d45ccc63",
       "version_major": 2,
       "version_minor": 0
      },
      "text/plain": [
       "HBox(children=(IntProgress(value=0, max=552), HTML(value='')))"
      ]
     },
     "metadata": {},
     "output_type": "display_data"
    },
    {
     "name": "stdout",
     "output_type": "stream",
     "text": [
      "one-sided reduced chi^2: 1.6e+01\n",
      "[17881.96802831 17054.7165107  16280.91460166 15562.58574382\n",
      " 14908.4248827  13723.48358974 12718.25783553 11851.81140553]\n"
     ]
    },
    {
     "ename": "FileNotFoundError",
     "evalue": "[Errno 2] No such file or directory: '/Users/gridgway/Desktop/DM/Lya_constraints/Tm_elec_decay_log10DeltaT_-inf_chisq_DeltaT_0_HII_HeII.dat'",
     "output_type": "error",
     "traceback": [
      "\u001b[0;31m---------------------------------------------------------------------------\u001b[0m",
      "\u001b[0;31mFileNotFoundError\u001b[0m                         Traceback (most recent call last)",
      "\u001b[0;32m<ipython-input-21-41a91cde6385>\u001b[0m in \u001b[0;36m<module>\u001b[0;34m\u001b[0m\n\u001b[1;32m    121\u001b[0m                 \u001b[0mpickle\u001b[0m\u001b[0;34m.\u001b[0m\u001b[0mdump\u001b[0m\u001b[0;34m(\u001b[0m\u001b[0mTm_list\u001b[0m\u001b[0;34m,\u001b[0m \u001b[0mopen\u001b[0m\u001b[0;34m(\u001b[0m\u001b[0moutput_dir\u001b[0m\u001b[0;34m+\u001b[0m\u001b[0;34m'Tm_'\u001b[0m\u001b[0;34m+\u001b[0m\u001b[0mpri\u001b[0m\u001b[0;34m+\u001b[0m\u001b[0;34m'_'\u001b[0m\u001b[0;34m+\u001b[0m\u001b[0mDM_process\u001b[0m\u001b[0;34m+\u001b[0m\u001b[0;34m'_'\u001b[0m\u001b[0;34m+\u001b[0m\u001b[0mconstr_str\u001b[0m\u001b[0;34m+\u001b[0m\u001b[0;34m'_'\u001b[0m\u001b[0;34m+\u001b[0m\u001b[0mchi_str\u001b[0m\u001b[0;34m+\u001b[0m\u001b[0;34m'_log10DeltaT_'\u001b[0m\u001b[0;34m+\u001b[0m\u001b[0mstr\u001b[0m\u001b[0;34m(\u001b[0m\u001b[0mnp\u001b[0m\u001b[0;34m.\u001b[0m\u001b[0mlog10\u001b[0m\u001b[0;34m(\u001b[0m\u001b[0mDeltaT\u001b[0m\u001b[0;34m)\u001b[0m\u001b[0;34m)\u001b[0m\u001b[0;34m+\u001b[0m\u001b[0mphotoion_str\u001b[0m\u001b[0;34m+\u001b[0m\u001b[0;34m'.dat'\u001b[0m\u001b[0;34m,\u001b[0m\u001b[0;34m'wb'\u001b[0m\u001b[0;34m)\u001b[0m\u001b[0;34m)\u001b[0m\u001b[0;34m\u001b[0m\u001b[0;34m\u001b[0m\u001b[0m\n\u001b[1;32m    122\u001b[0m             \u001b[0;32melse\u001b[0m\u001b[0;34m:\u001b[0m\u001b[0;34m\u001b[0m\u001b[0;34m\u001b[0m\u001b[0m\n\u001b[0;32m--> 123\u001b[0;31m                 \u001b[0mpickle\u001b[0m\u001b[0;34m.\u001b[0m\u001b[0mdump\u001b[0m\u001b[0;34m(\u001b[0m\u001b[0mTm_list\u001b[0m\u001b[0;34m,\u001b[0m \u001b[0mopen\u001b[0m\u001b[0;34m(\u001b[0m\u001b[0moutput_dir\u001b[0m\u001b[0;34m+\u001b[0m\u001b[0;34m'Tm_'\u001b[0m\u001b[0;34m+\u001b[0m\u001b[0mpri\u001b[0m\u001b[0;34m+\u001b[0m\u001b[0;34m'_'\u001b[0m\u001b[0;34m+\u001b[0m\u001b[0mDM_process\u001b[0m\u001b[0;34m+\u001b[0m\u001b[0;34m'_'\u001b[0m\u001b[0;34m+\u001b[0m\u001b[0mconstr_str\u001b[0m\u001b[0;34m+\u001b[0m\u001b[0;34m'_'\u001b[0m\u001b[0;34m+\u001b[0m\u001b[0mchi_str\u001b[0m\u001b[0;34m+\u001b[0m\u001b[0;34m'_DeltaT_0'\u001b[0m\u001b[0;34m+\u001b[0m\u001b[0mphotoion_str\u001b[0m\u001b[0;34m+\u001b[0m\u001b[0;34m'.dat'\u001b[0m\u001b[0;34m,\u001b[0m\u001b[0;34m'wb'\u001b[0m\u001b[0;34m)\u001b[0m\u001b[0;34m)\u001b[0m\u001b[0;34m\u001b[0m\u001b[0;34m\u001b[0m\u001b[0m\n\u001b[0m\u001b[1;32m    124\u001b[0m \u001b[0;31m#             pickle.dump(Tm_list, open('/Users/gridgway/Desktop/DM/Lya_constraints/Tm_'+pri+'_decay_'+constr_str+'_'+chi_str+'_'+br_str+'.dat','wb'))\u001b[0m\u001b[0;34m\u001b[0m\u001b[0;34m\u001b[0m\u001b[0;34m\u001b[0m\u001b[0m\n\u001b[1;32m    125\u001b[0m             \u001b[0mprint\u001b[0m\u001b[0;34m(\u001b[0m\u001b[0;34m'###### Calculation Complete! ######'\u001b[0m\u001b[0;34m)\u001b[0m\u001b[0;34m\u001b[0m\u001b[0;34m\u001b[0m\u001b[0m\n",
      "\u001b[0;31mFileNotFoundError\u001b[0m: [Errno 2] No such file or directory: '/Users/gridgway/Desktop/DM/Lya_constraints/Tm_elec_decay_log10DeltaT_-inf_chisq_DeltaT_0_HII_HeII.dat'"
     ]
    }
   ],
   "source": [
    "%autoreload\n",
    "\n",
    "if not chisq:\n",
    "    print('###### Target Temperature: {:03.1f} K'.format(Tm_max), ' ######')\n",
    "else:\n",
    "    print('###### Target Reduced chi^2: 2', ' ######')\n",
    "\n",
    "heat_switch = False\n",
    "reion_method = 'Tanh_early'\n",
    "constraint_type='DeltaT'\n",
    "if constraint_type == 'robust_reion':\n",
    "    constr_str = constraint_type+'_'+reion_method\n",
    "    \n",
    "elif constraint_type == 'DeltaT':\n",
    "    constr_str='log10DeltaT_'+str(np.log10(DeltaT))\n",
    "    \n",
    "else:\n",
    "    constr_str=constraint_type\n",
    "    \n",
    "if br == True:\n",
    "    br_str='BR'\n",
    "else:\n",
    "    br_str='noBR'\n",
    "\n",
    "if pri == 'phot':\n",
    "    log10_m_chi_arr = np.arange(4.01, 12.76, .5)\n",
    "else:\n",
    "    log10_m_chi_arr = np.arange(6.01, 12.76, .5)\n",
    "\n",
    "if DM_process == 'decay':\n",
    "    log10_param_arr   = np.arange(19.5, 26, 0.5)\n",
    "    #Controls the direction of the log10param scan\n",
    "    inc = 1\n",
    "elif DM_process == 'swave':\n",
    "    log10_param_arr = np.arange(-29, -22, 0.5)\n",
    "    inc = -1\n",
    "else:\n",
    "    log10_param_arr = np.arange(-34, -29, 0.5)\n",
    "    inc = -1\n",
    "    \n",
    "\n",
    "if not chisq:\n",
    "    Tm_list = np.zeros((log10_m_chi_arr.size, log10_param_arr.size))\n",
    "else:\n",
    "    Tm_list = np.zeros((log10_m_chi_arr.size, log10_param_arr.size, rs_entries.size))\n",
    "\n",
    "\n",
    "j = -6\n",
    "for i, log10mDM in enumerate(tqdm(log10_m_chi_arr)):\n",
    "    if i>=0:\n",
    "        print('****** log10(mDM): ', log10mDM, ' ******')\n",
    "        mDM = 10**log10mDM\n",
    "\n",
    "        below_target = False\n",
    "        above_target = False\n",
    "\n",
    "        while (\n",
    "            not below_target or not above_target\n",
    "        ):\n",
    "\n",
    "            if DM_process == 'decay':\n",
    "                param = 10**log10_param_arr[j]\n",
    "                print('log10tau: '+str(log10_param_arr[j]))\n",
    "            else:\n",
    "                param = 10**log10_param_arr[j]*mDM\n",
    "                if DM_process == 'swave':\n",
    "                    print('log10sigmav: '+str(np.log10(param)))\n",
    "                else:\n",
    "                    print('log10sigmav_ref: '+str(np.log10(param)))\n",
    "\n",
    "            Tm_list[i,j] = get_T(\n",
    "                mDM, param, br=br, pri=pri, constraint_type=constraint_type, \n",
    "                chisq=chisq, \n",
    "                reion_method=reion_method, \n",
    "                DeltaT=DeltaT\n",
    "            )\n",
    "            if not chisq:\n",
    "                print('lifetime: {:03.1e}'.format(param), ' T(z = 17) w/o backreaction: {:03.1f} K'.format(Tm_list[i,j]))\n",
    "            else:\n",
    "                diff = Tm_list[i,j]*1e-4 - mids\n",
    "                diff[diff<0] = 0\n",
    "                DoF = sum(diff>0)\n",
    "                if DoF == 0:\n",
    "                    reduced = 0\n",
    "                else:\n",
    "                    reduced = sum((diff/sigs)**2)/DoF\n",
    "                print('one-sided reduced chi^2: {:03.1e}'.format(reduced))\n",
    "                print(Tm_list[i,j])\n",
    "\n",
    "                nan_flag = np.any(np.isnan(Tm_list[i,j]))\n",
    "\n",
    "            if not chisq:\n",
    "                if Tm_list[i,j] <= Tm_max:\n",
    "\n",
    "                    below_target = True\n",
    "                    # Below target T_m means we need a shorter lifetime.\n",
    "                    j -= inc\n",
    "\n",
    "                elif Tm_list[i,j] >= Tm_max:\n",
    "\n",
    "                    above_target = True\n",
    "                    # Above target T_m means we need a longer lifetime. \n",
    "                    j += inc\n",
    "            else:\n",
    "                if nan_flag:\n",
    "                    print('NAN! increasing heating rate.')\n",
    "                    j -= inc\n",
    "                elif reduced < 2:\n",
    "                    below_target = True\n",
    "                    j -= inc\n",
    "                elif reduced > 2:\n",
    "                    above_target = True\n",
    "                    j += inc\n",
    "\n",
    "                if chisq:\n",
    "                    chi_str = 'chisq'\n",
    "                else:\n",
    "                    chi_str=''\n",
    "            \n",
    "            photoion_str='_HII_HeII'\n",
    "            if DeltaT>0:\n",
    "                pickle.dump(Tm_list, open(output_dir+'Tm_'+pri+'_'+DM_process+'_'+constr_str+'_'+chi_str+'_log10DeltaT_'+str(np.log10(DeltaT))+photoion_str+'.dat','wb'))\n",
    "            else:\n",
    "                pickle.dump(Tm_list, open(output_dir+'Tm_'+pri+'_'+DM_process+'_'+constr_str+'_'+chi_str+'_DeltaT_0'+photoion_str+'.dat','wb'))\n",
    "#             pickle.dump(Tm_list, open('/Users/gridgway/Desktop/DM/Lya_constraints/Tm_'+pri+'_decay_'+constr_str+'_'+chi_str+'_'+br_str+'.dat','wb'))\n",
    "            print('###### Calculation Complete! ######')  "
   ]
  },
  {
   "cell_type": "code",
   "execution_count": 14,
   "metadata": {},
   "outputs": [],
   "source": [
    "def get_log10_min_lifetime_chisq(log10_mDM_arr, log10_lifetime_arr, Tm_arr, max_reduced_chisq):\n",
    "    \"\"\"Returns the log10 minimum lifetime from temperature calculations.\n",
    "    \n",
    "    Parameters\n",
    "    ----------\n",
    "    log10_lifetime_arr : ndarray\n",
    "        Abscissa of log10 lifetimes used, in increasing order.\n",
    "    Tm_arr : ndarray\n",
    "        Computed matter temperature for each entry in lifetime_arr. \n",
    "    max_Tm : float\n",
    "        The maximum Tm allowed at this point. \n",
    "        \n",
    "    Returns\n",
    "    -------\n",
    "    ndarray\n",
    "        The interpolated minimum lifetime. \n",
    "    \n",
    "    \"\"\"\n",
    "    \n",
    "    i_len = log10_mDM_arr.size\n",
    "    j_len = log10_lifetime_arr.size\n",
    "    \n",
    "    reduced_list = np.ones_like(Tm_arr[:,:,0])\n",
    "    for i in np.arange(i_len):\n",
    "        for j in np.arange(j_len):\n",
    "            diff = Tm_arr[i,j]*1e-4 - mids\n",
    "            diff[diff<0] = 0\n",
    "            DoF = sum(diff>0)\n",
    "            if DoF == 0:\n",
    "                reduced_list[i,j] = 0\n",
    "            else:\n",
    "                reduced_list[i,j] = sum((diff/sigs)**2)/DoF\n",
    "            \n",
    "\n",
    "    below=np.array([\n",
    "        np.where(reduced_list[i] == reduced_list[i][reduced_list[i]>max_reduced_chisq][-1])[0][0]+1 \n",
    "        for i in np.arange(i_len)\n",
    "    ])\n",
    "    above = below-1\n",
    "    \n",
    "    # Obtain the two temperature values. \n",
    "    chis = np.array([[reduced_list[i][below[i]], reduced_list[i][above[i]]] for i in np.arange(i_len)])\n",
    "    # Obtain the two log10 lifetime values. \n",
    "    log10_taus = np.array([[log10_lifetime_arr[below[i]], log10_lifetime_arr[above[i]]] for i in np.arange(i_len)])\n",
    "    \n",
    "    # Perform a linear interpolation.\n",
    "    return (np.diff(log10_taus)/np.diff(chis)*(max_reduced_chisq-chis) + log10_taus)[:,0]"
   ]
  },
  {
   "cell_type": "code",
   "execution_count": null,
   "metadata": {},
   "outputs": [],
   "source": [
    "if DM_process == 'decay':\n",
    "    min_lifetimes = get_log10_min_lifetime_chisq(log10_m_chi_arr, np.arange(19.5, 26, 0.25), Tm_list, 2)\n",
    "    pickle.dump(np.array([log10_m_chi_arr, min_lifetimes]), open(out_dir+'constraints_'+pri+'_'+DM_process+'_'+constr_str+'_'+chi_str+'_DeltaT_0'+photoion_str+'.dat'))"
   ]
  },
  {
   "cell_type": "code",
   "execution_count": 45,
   "metadata": {},
   "outputs": [],
   "source": [
    "log10_m_chi_arr = {'phot': np.arange(4.0, 12.78, 0.25), \n",
    "                   'elec': np.arange(6.0, 12.76, 0.25)}\n",
    "log10_param_arr = {'phot_decay': np.arange(18., 25., 0.1), \n",
    "                   'phot_swave': np.arange(-29.0, -18.01, 0.1), \n",
    "                   'phot_pwave': np.arange(-25.0, -15.01, 0.1),\n",
    "                   'elec_decay': np.arange(18., 30., 0.1), \n",
    "                   'elec_swave': np.arange(-27.0, -20.01, 0.1), \n",
    "                   'elec_pwave': np.arange(-29.0, -15.01, 0.1)}\n",
    "\n",
    "def nnan(num):\n",
    "    if np.isnan(num):\n",
    "        return 0\n",
    "    else:\n",
    "        return num\n",
    "\n",
    "def get_log10_param_chisq(log10_mDM_arr, log10_param_arr, chisq_arr, max_reduced_chisq, DM_process='decay'):\n",
    "    i_len = log10_mDM_arr.size\n",
    "    j_len = log10_param_arr.size\n",
    "    \n",
    "    reduced_list = chisq_arr\n",
    "            \n",
    "    if DM_process == 'decay':\n",
    "        below=np.array([\n",
    "            np.where(reduced_list[i] == reduced_list[i][reduced_list[i]>max_reduced_chisq][-1])[0][0]+1 \n",
    "            for i in np.arange(i_len)\n",
    "        ])\n",
    "        above = below-1\n",
    "    else:\n",
    "        above=np.array([\n",
    "            np.where(reduced_list[i] == reduced_list[i][reduced_list[i]>max_reduced_chisq][-1])[0][0] \n",
    "            for i in np.arange(i_len)\n",
    "        ])\n",
    "        below = above-1\n",
    "        \n",
    "    \n",
    "    # Obtain the two temperature values. \n",
    "    chis = np.array([[reduced_list[i][below[i]], reduced_list[i][above[i]]] for i in np.arange(i_len)])\n",
    "    # Obtain the two log10 lifetime values. \n",
    "    log10_params = np.array([[log10_param_arr[below[i]], log10_param_arr[above[i]]] for i in np.arange(i_len)])\n",
    "    \n",
    "    # Perform a linear interpolation.\n",
    "    return (np.diff(log10_params)/np.diff(chis)*(max_reduced_chisq-chis) + log10_params)[:,0]"
   ]
  }
 ],
 "metadata": {
  "cite2c": {
   "citations": {
    "6232408/9ZW7JWLJ": {
     "URL": "https://www.nature.com/articles/nature25792",
     "accessed": {
      "day": 1,
      "month": 4,
      "year": 2019
     },
     "id": "6232408/9ZW7JWLJ",
     "title": "An absorption profile centred at 78 megahertz in the sky-averaged spectrum | Nature",
     "type": "webpage"
    },
    "6232408/FH99AISX": {
     "DOI": "10.1038/nature25792",
     "URL": "https://www.nature.com/articles/nature25792",
     "abstract": "After stars formed in the early Universe, their ultraviolet light is expected, eventually, to have penetrated the primordial hydrogen gas and altered the excitation state of its 21-centimetre hyperfine line. This alteration would cause the gas to absorb photons from the cosmic microwave background, producing a spectral distortion that should be observable today at radio frequencies of less than 200 megahertz1. Here we report the detection of a flattened absorption profile in the sky-averaged radio spectrum, which is centred at a frequency of 78 megahertz and has a best-fitting full-width at half-maximum of 19 megahertz and an amplitude of 0.5 kelvin. The profile is largely consistent with expectations for the 21-centimetre signal induced by early stars; however, the best-fitting amplitude of the profile is more than a factor of two greater than the largest predictions2. This discrepancy suggests that either the primordial gas was much colder than expected or the background radiation temperature was hotter than expected. Astrophysical phenomena (such as radiation from stars and stellar remnants) are unlikely to account for this discrepancy; of the proposed extensions to the standard model of cosmology and particle physics, only cooling of the gas as a result of interactions between dark matter and baryons seems to explain the observed amplitude3. The low-frequency edge of the observed profile indicates that stars existed and had produced a background of Lyman-α photons by 180 million years after the Big Bang. The high-frequency edge indicates that the gas was heated to above the radiation temperature less than 100 million years later.",
     "accessed": {
      "day": 1,
      "month": 4,
      "year": 2019
     },
     "author": [
      {
       "family": "Bowman",
       "given": "Judd D."
      },
      {
       "family": "Rogers",
       "given": "Alan E. E."
      },
      {
       "family": "Monsalve",
       "given": "Raul A."
      },
      {
       "family": "Mozdzen",
       "given": "Thomas J."
      },
      {
       "family": "Mahesh",
       "given": "Nivedita"
      }
     ],
     "container-title": "Nature",
     "id": "6232408/FH99AISX",
     "issue": "7694",
     "issued": {
      "month": 3,
      "year": 2018
     },
     "language": "en",
     "page": "67-70",
     "page-first": "67",
     "title": "An absorption profile centred at 78 megahertz in the sky-averaged spectrum",
     "type": "article-journal",
     "volume": "555"
    }
   }
  },
  "kernelspec": {
   "display_name": "Python 3",
   "language": "python",
   "name": "python3"
  },
  "language_info": {
   "codemirror_mode": {
    "name": "ipython",
    "version": 3
   },
   "file_extension": ".py",
   "mimetype": "text/x-python",
   "name": "python",
   "nbconvert_exporter": "python",
   "pygments_lexer": "ipython3",
   "version": "3.7.5"
  },
  "toc": {
   "base_numbering": 1,
   "nav_menu": {},
   "number_sections": true,
   "sideBar": true,
   "skip_h1_title": false,
   "title_cell": "Table of Contents",
   "title_sidebar": "Contents",
   "toc_cell": false,
   "toc_position": {},
   "toc_section_display": true,
   "toc_window_display": false
  }
 },
 "nbformat": 4,
 "nbformat_minor": 2
}
