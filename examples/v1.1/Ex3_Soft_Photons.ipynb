{
 "cells": [
  {
   "cell_type": "markdown",
   "id": "6745735c",
   "metadata": {},
   "source": [
    "# v1.1.3: Example 3 Soft Photon Evolution"
   ]
  },
  {
   "cell_type": "code",
   "execution_count": 3,
   "id": "72280e5a",
   "metadata": {},
   "outputs": [],
   "source": [
    "%reload_ext autoreload\n",
    "%autoreload 2\n",
    "\n",
    "import sys\n",
    "import numpy as np\n",
    "import astropy.units as u\n",
    "import astropy.constants as c\n",
    "\n",
    "sys.path.append(\"../..\")\n",
    "from darkhistory.main import evolve\n",
    "from darkhistory.config import load_data\n",
    "from darkhistory.spec.spectrum import Spectrum\n",
    "import darkhistory.physics as phys\n",
    "\n",
    "import matplotlib as mpl\n",
    "import matplotlib.pyplot as plt\n",
    "mpl.rc_file(\"../matplotlibrc_nntf\")"
   ]
  },
  {
   "cell_type": "code",
   "execution_count": 36,
   "id": "1147b374",
   "metadata": {},
   "outputs": [
    {
     "name": "stderr",
     "output_type": "stream",
     "text": [
      "[2025-05-20 16:47:30,740] INFO: darkhistory.config: Loaded deposition transfer functions.\n",
      "[2025-05-20 16:47:36,077] INFO: darkhistory.config: Loaded ICS transfer functions.\n",
      "  1%|          | 3/476 [00:00<01:05,  7.26it/s]"
     ]
    },
    {
     "name": "stdout",
     "output_type": "stream",
     "text": [
      "z=2999.000 dz=-35.784861, dtau=5.325543e+00, x_e=1.078860\n",
      "z=2963.215 dz=-35.358009, dtau=5.241112e+00, x_e=1.078816\n"
     ]
    },
    {
     "name": "stderr",
     "output_type": "stream",
     "text": [
      "  1%|          | 5/476 [00:00<01:10,  6.71it/s]"
     ]
    },
    {
     "name": "stdout",
     "output_type": "stream",
     "text": [
      "z=2927.857 dz=-34.936249, dtau=5.157829e+00, x_e=1.078750\n",
      "z=2892.921 dz=-34.519519, dtau=5.075625e+00, x_e=1.078649\n"
     ]
    },
    {
     "name": "stderr",
     "output_type": "stream",
     "text": [
      "  1%|▏         | 7/476 [00:01<01:12,  6.50it/s]"
     ]
    },
    {
     "name": "stdout",
     "output_type": "stream",
     "text": [
      "z=2858.401 dz=-34.107760, dtau=4.994404e+00, x_e=1.078495\n",
      "z=2824.294 dz=-33.700913, dtau=4.914028e+00, x_e=1.078258\n"
     ]
    },
    {
     "name": "stderr",
     "output_type": "stream",
     "text": [
      "  2%|▏         | 9/476 [00:01<01:12,  6.42it/s]"
     ]
    },
    {
     "name": "stdout",
     "output_type": "stream",
     "text": [
      "z=2790.593 dz=-33.298919, dtau=4.834707e+00, x_e=1.077985\n",
      "z=2757.294 dz=-32.901720, dtau=4.755989e+00, x_e=1.077576\n"
     ]
    },
    {
     "name": "stderr",
     "output_type": "stream",
     "text": [
      "  2%|▏         | 11/476 [00:01<01:12,  6.40it/s]"
     ]
    },
    {
     "name": "stdout",
     "output_type": "stream",
     "text": [
      "z=2724.392 dz=-32.509259, dtau=4.677936e+00, x_e=1.077042\n",
      "z=2691.883 dz=-32.121479, dtau=4.600567e+00, x_e=1.076385\n"
     ]
    },
    {
     "name": "stderr",
     "output_type": "stream",
     "text": [
      "  3%|▎         | 13/476 [00:01<01:12,  6.37it/s]"
     ]
    },
    {
     "name": "stdout",
     "output_type": "stream",
     "text": [
      "z=2659.761 dz=-31.738325, dtau=4.523919e+00, x_e=1.075613\n",
      "z=2628.023 dz=-31.359741, dtau=4.448049e+00, x_e=1.074737\n"
     ]
    },
    {
     "name": "stderr",
     "output_type": "stream",
     "text": [
      "  3%|▎         | 15/476 [00:02<01:12,  6.33it/s]"
     ]
    },
    {
     "name": "stdout",
     "output_type": "stream",
     "text": [
      "z=2596.663 dz=-30.985673, dtau=4.373057e+00, x_e=1.073782\n",
      "z=2565.678 dz=-30.616067, dtau=4.298916e+00, x_e=1.072741\n"
     ]
    },
    {
     "name": "stderr",
     "output_type": "stream",
     "text": [
      "  4%|▎         | 17/476 [00:02<01:12,  6.31it/s]"
     ]
    },
    {
     "name": "stdout",
     "output_type": "stream",
     "text": [
      "z=2535.062 dz=-30.250870, dtau=4.225714e+00, x_e=1.071637\n",
      "z=2504.811 dz=-29.890029, dtau=4.153497e+00, x_e=1.070483\n"
     ]
    },
    {
     "name": "stderr",
     "output_type": "stream",
     "text": [
      "  4%|▍         | 19/476 [00:02<01:12,  6.32it/s]"
     ]
    },
    {
     "name": "stdout",
     "output_type": "stream",
     "text": [
      "z=2474.921 dz=-29.533492, dtau=4.082285e+00, x_e=1.069286\n",
      "z=2445.387 dz=-29.181208, dtau=4.012084e+00, x_e=1.068051\n"
     ]
    },
    {
     "name": "stderr",
     "output_type": "stream",
     "text": [
      "  4%|▍         | 21/476 [00:03<01:11,  6.33it/s]"
     ]
    },
    {
     "name": "stdout",
     "output_type": "stream",
     "text": [
      "z=2416.206 dz=-28.833126, dtau=3.942896e+00, x_e=1.066780\n",
      "z=2387.373 dz=-28.489196, dtau=3.874706e+00, x_e=1.065474\n"
     ]
    },
    {
     "name": "stderr",
     "output_type": "stream",
     "text": [
      "  5%|▍         | 23/476 [00:03<01:11,  6.35it/s]"
     ]
    },
    {
     "name": "stdout",
     "output_type": "stream",
     "text": [
      "z=2358.884 dz=-28.149369, dtau=3.807499e+00, x_e=1.064130\n",
      "z=2330.734 dz=-27.813595, dtau=3.741249e+00, x_e=1.062744\n"
     ]
    },
    {
     "name": "stderr",
     "output_type": "stream",
     "text": [
      "  5%|▌         | 25/476 [00:03<01:11,  6.34it/s]"
     ]
    },
    {
     "name": "stdout",
     "output_type": "stream",
     "text": [
      "z=2302.921 dz=-27.481827, dtau=3.675929e+00, x_e=1.061311\n",
      "z=2275.439 dz=-27.154016, dtau=3.611506e+00, x_e=1.059824\n"
     ]
    },
    {
     "name": "stderr",
     "output_type": "stream",
     "text": [
      "  6%|▌         | 27/476 [00:04<01:10,  6.35it/s]"
     ]
    },
    {
     "name": "stdout",
     "output_type": "stream",
     "text": [
      "z=2248.285 dz=-26.830115, dtau=3.547943e+00, x_e=1.058274\n",
      "z=2221.455 dz=-26.510077, dtau=3.485197e+00, x_e=1.056651\n"
     ]
    },
    {
     "name": "stderr",
     "output_type": "stream",
     "text": [
      "  6%|▌         | 29/476 [00:04<01:10,  6.33it/s]"
     ]
    },
    {
     "name": "stdout",
     "output_type": "stream",
     "text": [
      "z=2194.945 dz=-26.193858, dtau=3.423229e+00, x_e=1.054943\n",
      "z=2168.751 dz=-25.881410, dtau=3.361986e+00, x_e=1.053135\n"
     ]
    },
    {
     "name": "stderr",
     "output_type": "stream",
     "text": [
      "  7%|▋         | 31/476 [00:04<01:10,  6.32it/s]"
     ]
    },
    {
     "name": "stdout",
     "output_type": "stream",
     "text": [
      "z=2142.869 dz=-25.572689, dtau=3.301407e+00, x_e=1.051207\n",
      "z=2117.297 dz=-25.267650, dtau=3.241438e+00, x_e=1.049142\n"
     ]
    },
    {
     "name": "stderr",
     "output_type": "stream",
     "text": [
      "  7%|▋         | 33/476 [00:05<01:09,  6.35it/s]"
     ]
    },
    {
     "name": "stdout",
     "output_type": "stream",
     "text": [
      "z=2092.029 dz=-24.966251, dtau=3.181998e+00, x_e=1.046911\n",
      "z=2067.063 dz=-24.668446, dtau=3.123002e+00, x_e=1.044484\n"
     ]
    },
    {
     "name": "stderr",
     "output_type": "stream",
     "text": [
      "  7%|▋         | 35/476 [00:05<01:09,  6.34it/s]"
     ]
    },
    {
     "name": "stdout",
     "output_type": "stream",
     "text": [
      "z=2042.394 dz=-24.374194, dtau=3.064368e+00, x_e=1.041828\n",
      "z=2018.020 dz=-24.083451, dtau=3.006003e+00, x_e=1.038906\n"
     ]
    },
    {
     "name": "stderr",
     "output_type": "stream",
     "text": [
      "  8%|▊         | 37/476 [00:05<01:09,  6.35it/s]"
     ]
    },
    {
     "name": "stdout",
     "output_type": "stream",
     "text": [
      "z=1993.937 dz=-23.796177, dtau=2.947825e+00, x_e=1.035681\n",
      "z=1970.140 dz=-23.512329, dtau=2.889772e+00, x_e=1.032123\n"
     ]
    },
    {
     "name": "stderr",
     "output_type": "stream",
     "text": [
      "  8%|▊         | 39/476 [00:06<01:08,  6.33it/s]"
     ]
    },
    {
     "name": "stdout",
     "output_type": "stream",
     "text": [
      "z=1946.628 dz=-23.231868, dtau=2.831841e+00, x_e=1.028220\n",
      "z=1923.396 dz=-22.954751, dtau=2.774119e+00, x_e=1.023995\n"
     ]
    },
    {
     "name": "stderr",
     "output_type": "stream",
     "text": [
      "  9%|▊         | 41/476 [00:06<01:08,  6.35it/s]"
     ]
    },
    {
     "name": "stdout",
     "output_type": "stream",
     "text": [
      "z=1900.442 dz=-22.680940, dtau=2.716838e+00, x_e=1.019524\n",
      "z=1877.761 dz=-22.410396, dtau=2.660415e+00, x_e=1.014963\n"
     ]
    },
    {
     "name": "stderr",
     "output_type": "stream",
     "text": [
      "  9%|▉         | 43/476 [00:06<01:08,  6.36it/s]"
     ]
    },
    {
     "name": "stdout",
     "output_type": "stream",
     "text": [
      "z=1855.350 dz=-22.143078, dtau=2.605464e+00, x_e=1.010552\n",
      "z=1833.207 dz=-21.878949, dtau=2.552769e+00, x_e=1.006615\n"
     ]
    },
    {
     "name": "stderr",
     "output_type": "stream",
     "text": [
      "  9%|▉         | 45/476 [00:07<01:07,  6.37it/s]"
     ]
    },
    {
     "name": "stdout",
     "output_type": "stream",
     "text": [
      "z=1811.328 dz=-21.617971, dtau=2.503104e+00, x_e=1.003494\n",
      "z=1789.710 dz=-21.360105, dtau=2.456866e+00, x_e=1.001399\n"
     ]
    },
    {
     "name": "stderr",
     "output_type": "stream",
     "text": [
      " 10%|▉         | 47/476 [00:07<01:07,  6.38it/s]"
     ]
    },
    {
     "name": "stdout",
     "output_type": "stream",
     "text": [
      "z=1768.350 dz=-21.105316, dtau=2.413783e+00, x_e=1.000275\n",
      "z=1747.245 dz=-20.853565, dtau=2.372938e+00, x_e=0.999790\n"
     ]
    },
    {
     "name": "stderr",
     "output_type": "stream",
     "text": [
      " 10%|█         | 49/476 [00:07<01:07,  6.36it/s]"
     ]
    },
    {
     "name": "stdout",
     "output_type": "stream",
     "text": [
      "z=1726.391 dz=-20.604818, dtau=2.333335e+00, x_e=0.999553\n",
      "z=1705.786 dz=-20.359038, dtau=2.294380e+00, x_e=0.999323\n"
     ]
    },
    {
     "name": "stderr",
     "output_type": "stream",
     "text": [
      " 11%|█         | 51/476 [00:07<01:06,  6.36it/s]"
     ]
    },
    {
     "name": "stdout",
     "output_type": "stream",
     "text": [
      "z=1685.427 dz=-20.116189, dtau=2.255830e+00, x_e=0.998998\n",
      "z=1665.311 dz=-19.876238, dtau=2.217543e+00, x_e=0.998512\n"
     ]
    },
    {
     "name": "stderr",
     "output_type": "stream",
     "text": [
      " 11%|█         | 53/476 [00:08<01:06,  6.36it/s]"
     ]
    },
    {
     "name": "stdout",
     "output_type": "stream",
     "text": [
      "z=1645.435 dz=-19.639148, dtau=2.179340e+00, x_e=0.997779\n",
      "z=1625.796 dz=-19.404887, dtau=2.140963e+00, x_e=0.996672\n"
     ]
    },
    {
     "name": "stderr",
     "output_type": "stream",
     "text": [
      " 12%|█▏        | 55/476 [00:08<01:08,  6.18it/s]"
     ]
    },
    {
     "name": "stdout",
     "output_type": "stream",
     "text": [
      "z=1606.391 dz=-19.173420, dtau=2.102025e+00, x_e=0.994993\n",
      "z=1587.217 dz=-18.944714, dtau=2.061950e+00, x_e=0.992441\n"
     ]
    },
    {
     "name": "stderr",
     "output_type": "stream",
     "text": [
      " 12%|█▏        | 57/476 [00:08<01:08,  6.10it/s]"
     ]
    },
    {
     "name": "stdout",
     "output_type": "stream",
     "text": [
      "z=1568.273 dz=-18.718736, dtau=2.020285e+00, x_e=0.988755\n",
      "z=1549.554 dz=-18.495453, dtau=1.975689e+00, x_e=0.983218\n"
     ]
    },
    {
     "name": "stderr",
     "output_type": "stream",
     "text": [
      " 12%|█▏        | 59/476 [00:09<01:08,  6.08it/s]"
     ]
    },
    {
     "name": "stdout",
     "output_type": "stream",
     "text": [
      "z=1531.059 dz=-18.274834, dtau=1.927160e+00, x_e=0.975234\n",
      "z=1512.784 dz=-18.056847, dtau=1.873599e+00, x_e=0.964124\n"
     ]
    },
    {
     "name": "stderr",
     "output_type": "stream",
     "text": [
      " 13%|█▎        | 61/476 [00:09<01:08,  6.05it/s]"
     ]
    },
    {
     "name": "stdout",
     "output_type": "stream",
     "text": [
      "Inject!\n",
      "z=1494.727 dz=-17.841460, dtau=1.814160e+00, x_e=0.949297\n",
      "z=1476.885 dz=-17.628642, dtau=1.748488e+00, x_e=0.930388\n"
     ]
    },
    {
     "name": "stderr",
     "output_type": "stream",
     "text": [
      " 13%|█▎        | 63/476 [00:09<01:08,  6.05it/s]"
     ]
    },
    {
     "name": "stdout",
     "output_type": "stream",
     "text": [
      "z=1459.257 dz=-17.418362, dtau=1.676769e+00, x_e=0.907309\n",
      "z=1441.838 dz=-17.210591, dtau=1.599661e+00, x_e=0.880228\n"
     ]
    },
    {
     "name": "stderr",
     "output_type": "stream",
     "text": [
      " 14%|█▎        | 65/476 [00:10<01:07,  6.06it/s]"
     ]
    },
    {
     "name": "stdout",
     "output_type": "stream",
     "text": [
      "z=1424.628 dz=-17.005298, dtau=1.518153e+00, x_e=0.849519\n",
      "z=1407.623 dz=-16.802454, dtau=1.433414e+00, x_e=0.815689\n"
     ]
    },
    {
     "name": "stderr",
     "output_type": "stream",
     "text": [
      " 14%|█▍        | 67/476 [00:10<01:07,  6.06it/s]"
     ]
    },
    {
     "name": "stdout",
     "output_type": "stream",
     "text": [
      "z=1390.820 dz=-16.602029, dtau=1.346665e+00, x_e=0.779314\n",
      "z=1374.218 dz=-16.403996, dtau=1.259093e+00, x_e=0.740996\n"
     ]
    },
    {
     "name": "stderr",
     "output_type": "stream",
     "text": [
      " 14%|█▍        | 69/476 [00:10<01:07,  6.05it/s]"
     ]
    },
    {
     "name": "stdout",
     "output_type": "stream",
     "text": [
      "z=1357.814 dz=-16.208324, dtau=1.171789e+00, x_e=0.701322\n",
      "z=1341.606 dz=-16.014986, dtau=1.085713e+00, x_e=0.660841\n"
     ]
    },
    {
     "name": "stderr",
     "output_type": "stream",
     "text": [
      " 15%|█▍        | 71/476 [00:11<01:06,  6.05it/s]"
     ]
    },
    {
     "name": "stdout",
     "output_type": "stream",
     "text": [
      "z=1325.591 dz=-15.823955, dtau=1.001671e+00, x_e=0.620050\n",
      "z=1309.767 dz=-15.635202, dtau=9.203234e-01, x_e=0.579383\n"
     ]
    },
    {
     "name": "stderr",
     "output_type": "stream",
     "text": [
      " 15%|█▌        | 73/476 [00:11<01:06,  6.03it/s]"
     ]
    },
    {
     "name": "stdout",
     "output_type": "stream",
     "text": [
      "z=1294.132 dz=-15.448701, dtau=8.421941e-01, x_e=0.539220\n",
      "z=1278.683 dz=-15.264425, dtau=7.676591e-01, x_e=0.499868\n"
     ]
    },
    {
     "name": "stderr",
     "output_type": "stream",
     "text": [
      " 16%|█▌        | 75/476 [00:11<01:06,  6.04it/s]"
     ]
    },
    {
     "name": "stdout",
     "output_type": "stream",
     "text": [
      "z=1263.418 dz=-15.082346, dtau=6.969988e-01, x_e=0.461591\n",
      "z=1248.336 dz=-14.902440, dtau=6.303965e-01, x_e=0.424601\n"
     ]
    },
    {
     "name": "stderr",
     "output_type": "stream",
     "text": [
      " 16%|█▌        | 77/476 [00:12<01:05,  6.05it/s]"
     ]
    },
    {
     "name": "stdout",
     "output_type": "stream",
     "text": [
      "z=1233.434 dz=-14.724679, dtau=5.679688e-01, x_e=0.389080\n",
      "z=1218.709 dz=-14.549039, dtau=5.097475e-01, x_e=0.355158\n"
     ]
    },
    {
     "name": "stderr",
     "output_type": "stream",
     "text": [
      " 17%|█▋        | 79/476 [00:12<01:05,  6.09it/s]"
     ]
    },
    {
     "name": "stdout",
     "output_type": "stream",
     "text": [
      "z=1204.160 dz=-14.375494, dtau=4.557358e-01, x_e=0.322950\n",
      "z=1189.784 dz=-14.204019, dtau=4.058727e-01, x_e=0.292531\n"
     ]
    },
    {
     "name": "stderr",
     "output_type": "stream",
     "text": [
      " 17%|█▋        | 81/476 [00:12<01:05,  6.07it/s]"
     ]
    },
    {
     "name": "stdout",
     "output_type": "stream",
     "text": [
      "z=1175.580 dz=-14.034589, dtau=3.600858e-01, x_e=0.263969\n",
      "z=1161.546 dz=-13.867181, dtau=3.182361e-01, x_e=0.237282\n"
     ]
    },
    {
     "name": "stderr",
     "output_type": "stream",
     "text": [
      " 17%|█▋        | 83/476 [00:13<01:04,  6.09it/s]"
     ]
    },
    {
     "name": "stdout",
     "output_type": "stream",
     "text": [
      "z=1147.679 dz=-13.701769, dtau=2.801742e-01, x_e=0.212480\n",
      "z=1133.977 dz=-13.538330, dtau=2.457282e-01, x_e=0.189549\n"
     ]
    },
    {
     "name": "stderr",
     "output_type": "stream",
     "text": [
      " 18%|█▊        | 85/476 [00:13<01:04,  6.07it/s]"
     ]
    },
    {
     "name": "stdout",
     "output_type": "stream",
     "text": [
      "z=1120.439 dz=-13.376841, dtau=2.147088e-01, x_e=0.168461\n",
      "z=1107.062 dz=-13.217278, dtau=1.869131e-01, x_e=0.149167\n"
     ]
    },
    {
     "name": "stderr",
     "output_type": "stream",
     "text": [
      " 18%|█▊        | 87/476 [00:13<01:03,  6.09it/s]"
     ]
    },
    {
     "name": "stdout",
     "output_type": "stream",
     "text": [
      "z=1093.844 dz=-13.059619, dtau=1.621276e-01, x_e=0.131608\n",
      "z=1080.785 dz=-12.903840, dtau=1.401342e-01, x_e=0.115708\n"
     ]
    },
    {
     "name": "stderr",
     "output_type": "stream",
     "text": [
      " 19%|█▊        | 89/476 [00:14<01:03,  6.12it/s]"
     ]
    },
    {
     "name": "stdout",
     "output_type": "stream",
     "text": [
      "z=1067.881 dz=-12.749919, dtau=1.207122e-01, x_e=0.101384\n",
      "z=1055.131 dz=-12.597835, dtau=1.036432e-01, x_e=0.088544\n"
     ]
    },
    {
     "name": "stderr",
     "output_type": "stream",
     "text": [
      " 19%|█▉        | 91/476 [00:14<01:03,  6.06it/s]"
     ]
    },
    {
     "name": "stdout",
     "output_type": "stream",
     "text": [
      "z=1042.533 dz=-12.447564, dtau=8.871056e-02, x_e=0.077091\n",
      "z=1030.086 dz=-12.299086, dtau=7.570631e-02, x_e=0.066922\n"
     ]
    },
    {
     "name": "stderr",
     "output_type": "stream",
     "text": [
      " 20%|█▉        | 93/476 [00:14<01:03,  6.05it/s]"
     ]
    },
    {
     "name": "stdout",
     "output_type": "stream",
     "text": [
      "z=1017.787 dz=-12.152379, dtau=6.443172e-02, x_e=0.057936\n",
      "z=1005.634 dz=-12.007422, dtau=5.469897e-02, x_e=0.050032\n"
     ]
    },
    {
     "name": "stderr",
     "output_type": "stream",
     "text": [
      " 20%|█▉        | 95/476 [00:15<01:02,  6.08it/s]"
     ]
    },
    {
     "name": "stdout",
     "output_type": "stream",
     "text": [
      "z=993.627 dz=-11.864194, dtau=4.633233e-02, x_e=0.043110\n",
      "z=981.763 dz=-11.722674, dtau=3.916841e-02, x_e=0.037073\n"
     ]
    },
    {
     "name": "stderr",
     "output_type": "stream",
     "text": [
      " 20%|██        | 97/476 [00:15<01:02,  6.07it/s]"
     ]
    },
    {
     "name": "stdout",
     "output_type": "stream",
     "text": [
      "z=970.040 dz=-11.582843, dtau=3.305783e-02, x_e=0.031829\n",
      "z=958.457 dz=-11.444679, dtau=2.786520e-02, x_e=0.027292\n"
     ]
    },
    {
     "name": "stderr",
     "output_type": "stream",
     "text": [
      " 21%|██        | 99/476 [00:15<01:01,  6.09it/s]"
     ]
    },
    {
     "name": "stdout",
     "output_type": "stream",
     "text": [
      "z=947.012 dz=-11.308164, dtau=2.346900e-02, x_e=0.023384\n",
      "z=935.704 dz=-11.173277, dtau=1.975987e-02, x_e=0.020028\n"
     ]
    },
    {
     "name": "stderr",
     "output_type": "stream",
     "text": [
      " 21%|██        | 101/476 [00:16<01:01,  6.13it/s]"
     ]
    },
    {
     "name": "stdout",
     "output_type": "stream",
     "text": [
      "z=924.531 dz=-11.039999, dtau=1.664049e-02, x_e=0.017158\n",
      "z=913.491 dz=-10.908311, dtau=1.402482e-02, x_e=0.014711\n"
     ]
    },
    {
     "name": "stderr",
     "output_type": "stream",
     "text": [
      " 22%|██▏       | 103/476 [00:16<01:00,  6.13it/s]"
     ]
    },
    {
     "name": "stdout",
     "output_type": "stream",
     "text": [
      "z=902.583 dz=-10.778193, dtau=1.183849e-02, x_e=0.012633\n",
      "z=891.804 dz=-10.649628, dtau=1.001357e-02, x_e=0.010870\n"
     ]
    },
    {
     "name": "stderr",
     "output_type": "stream",
     "text": [
      " 22%|██▏       | 105/476 [00:16<01:00,  6.13it/s]"
     ]
    },
    {
     "name": "stdout",
     "output_type": "stream",
     "text": [
      "z=881.155 dz=-10.522596, dtau=8.494082e-03, x_e=0.009381\n",
      "z=870.632 dz=-10.397079, dtau=7.230592e-03, x_e=0.008124\n"
     ]
    },
    {
     "name": "stderr",
     "output_type": "stream",
     "text": [
      " 22%|██▏       | 107/476 [00:17<01:00,  6.14it/s]"
     ]
    },
    {
     "name": "stdout",
     "output_type": "stream",
     "text": [
      "z=860.235 dz=-10.273060, dtau=6.180860e-03, x_e=0.007065\n",
      "z=849.962 dz=-10.150520, dtau=5.309010e-03, x_e=0.006173\n"
     ]
    },
    {
     "name": "stderr",
     "output_type": "stream",
     "text": [
      " 23%|██▎       | 109/476 [00:17<00:59,  6.17it/s]"
     ]
    },
    {
     "name": "stdout",
     "output_type": "stream",
     "text": [
      "z=839.812 dz=-10.029442, dtau=4.584739e-03, x_e=0.005424\n",
      "z=829.782 dz=-9.909808, dtau=3.982196e-03, x_e=0.004793\n"
     ]
    },
    {
     "name": "stderr",
     "output_type": "stream",
     "text": [
      " 23%|██▎       | 111/476 [00:17<00:59,  6.18it/s]"
     ]
    },
    {
     "name": "stdout",
     "output_type": "stream",
     "text": [
      "z=819.872 dz=-9.791601, dtau=3.479860e-03, x_e=0.004261\n",
      "z=810.081 dz=-9.674804, dtau=3.059933e-03, x_e=0.003812\n"
     ]
    },
    {
     "name": "stderr",
     "output_type": "stream",
     "text": [
      " 24%|██▎       | 113/476 [00:18<00:58,  6.18it/s]"
     ]
    },
    {
     "name": "stdout",
     "output_type": "stream",
     "text": [
      "z=800.406 dz=-9.559400, dtau=2.707557e-03, x_e=0.003432\n",
      "z=790.847 dz=-9.445372, dtau=2.410578e-03, x_e=0.003108\n"
     ]
    },
    {
     "name": "stderr",
     "output_type": "stream",
     "text": [
      " 24%|██▍       | 115/476 [00:18<00:57,  6.24it/s]"
     ]
    },
    {
     "name": "stdout",
     "output_type": "stream",
     "text": [
      "z=781.401 dz=-9.332705, dtau=2.159055e-03, x_e=0.002832\n",
      "z=772.068 dz=-9.221382, dtau=1.944885e-03, x_e=0.002596\n"
     ]
    },
    {
     "name": "stderr",
     "output_type": "stream",
     "text": [
      " 25%|██▍       | 117/476 [00:18<00:57,  6.26it/s]"
     ]
    },
    {
     "name": "stdout",
     "output_type": "stream",
     "text": [
      "z=762.847 dz=-9.111387, dtau=1.761486e-03, x_e=0.002392\n",
      "z=753.736 dz=-9.002704, dtau=1.603575e-03, x_e=0.002216\n"
     ]
    },
    {
     "name": "stderr",
     "output_type": "stream",
     "text": [
      " 25%|██▌       | 119/476 [00:19<00:56,  6.29it/s]"
     ]
    },
    {
     "name": "stdout",
     "output_type": "stream",
     "text": [
      "z=744.733 dz=-8.895317, dtau=1.466744e-03, x_e=0.002062\n",
      "z=735.838 dz=-8.789211, dtau=1.347479e-03, x_e=0.001927\n"
     ]
    },
    {
     "name": "stderr",
     "output_type": "stream",
     "text": [
      " 25%|██▌       | 121/476 [00:19<00:56,  6.34it/s]"
     ]
    },
    {
     "name": "stdout",
     "output_type": "stream",
     "text": [
      "z=727.048 dz=-8.684371, dtau=1.242968e-03, x_e=0.001809\n",
      "z=718.364 dz=-8.580781, dtau=1.150736e-03, x_e=0.001704\n"
     ]
    },
    {
     "name": "stderr",
     "output_type": "stream",
     "text": [
      " 26%|██▌       | 123/476 [00:19<00:55,  6.34it/s]"
     ]
    },
    {
     "name": "stdout",
     "output_type": "stream",
     "text": [
      "z=709.783 dz=-8.478427, dtau=1.069138e-03, x_e=0.001611\n",
      "z=701.305 dz=-8.377294, dtau=9.964249e-04, x_e=0.001527\n"
     ]
    },
    {
     "name": "stderr",
     "output_type": "stream",
     "text": [
      " 26%|██▋       | 125/476 [00:20<00:55,  6.33it/s]"
     ]
    },
    {
     "name": "stdout",
     "output_type": "stream",
     "text": [
      "z=692.928 dz=-8.277367, dtau=9.313119e-04, x_e=0.001452\n",
      "z=684.650 dz=-8.178632, dtau=8.726342e-04, x_e=0.001385\n"
     ]
    },
    {
     "name": "stderr",
     "output_type": "stream",
     "text": [
      " 27%|██▋       | 127/476 [00:20<00:54,  6.35it/s]"
     ]
    },
    {
     "name": "stdout",
     "output_type": "stream",
     "text": [
      "z=676.472 dz=-8.081075, dtau=8.196327e-04, x_e=0.001323\n",
      "z=668.390 dz=-7.984682, dtau=7.715632e-04, x_e=0.001268\n"
     ]
    },
    {
     "name": "stderr",
     "output_type": "stream",
     "text": [
      " 27%|██▋       | 129/476 [00:20<00:54,  6.35it/s]"
     ]
    },
    {
     "name": "stdout",
     "output_type": "stream",
     "text": [
      "z=660.406 dz=-7.889438, dtau=7.277997e-04, x_e=0.001217\n",
      "z=652.516 dz=-7.795331, dtau=6.878143e-04, x_e=0.001170\n"
     ]
    },
    {
     "name": "stderr",
     "output_type": "stream",
     "text": [
      " 28%|██▊       | 131/476 [00:20<00:54,  6.34it/s]"
     ]
    },
    {
     "name": "stdout",
     "output_type": "stream",
     "text": [
      "z=644.721 dz=-7.702346, dtau=6.511591e-04, x_e=0.001127\n",
      "z=637.019 dz=-7.610470, dtau=6.174523e-04, x_e=0.001087\n"
     ]
    },
    {
     "name": "stderr",
     "output_type": "stream",
     "text": [
      " 28%|██▊       | 133/476 [00:21<00:54,  6.34it/s]"
     ]
    },
    {
     "name": "stdout",
     "output_type": "stream",
     "text": [
      "z=629.408 dz=-7.519690, dtau=5.863668e-04, x_e=0.001051\n",
      "z=621.889 dz=-7.429993, dtau=5.576207e-04, x_e=0.001017\n"
     ]
    },
    {
     "name": "stderr",
     "output_type": "stream",
     "text": [
      " 28%|██▊       | 135/476 [00:21<00:53,  6.32it/s]"
     ]
    },
    {
     "name": "stdout",
     "output_type": "stream",
     "text": [
      "z=614.459 dz=-7.341366, dtau=5.309707e-04, x_e=0.000985\n",
      "z=607.117 dz=-7.253796, dtau=5.062052e-04, x_e=0.000956\n"
     ]
    },
    {
     "name": "stderr",
     "output_type": "stream",
     "text": [
      " 29%|██▉       | 137/476 [00:21<00:53,  6.35it/s]"
     ]
    },
    {
     "name": "stdout",
     "output_type": "stream",
     "text": [
      "z=599.863 dz=-7.167271, dtau=4.831397e-04, x_e=0.000928\n",
      "z=592.696 dz=-7.081778, dtau=4.616128e-04, x_e=0.000902\n"
     ]
    },
    {
     "name": "stderr",
     "output_type": "stream",
     "text": [
      " 29%|██▉       | 139/476 [00:22<00:52,  6.37it/s]"
     ]
    },
    {
     "name": "stdout",
     "output_type": "stream",
     "text": [
      "z=585.614 dz=-6.997304, dtau=4.414825e-04, x_e=0.000878\n",
      "z=578.617 dz=-6.913838, dtau=4.226236e-04, x_e=0.000855\n"
     ]
    },
    {
     "name": "stderr",
     "output_type": "stream",
     "text": [
      " 30%|██▉       | 141/476 [00:22<00:52,  6.37it/s]"
     ]
    },
    {
     "name": "stdout",
     "output_type": "stream",
     "text": [
      "z=571.703 dz=-6.831368, dtau=4.049253e-04, x_e=0.000834\n",
      "z=564.872 dz=-6.749881, dtau=3.882889e-04, x_e=0.000814\n"
     ]
    },
    {
     "name": "stderr",
     "output_type": "stream",
     "text": [
      " 30%|███       | 143/476 [00:22<00:52,  6.38it/s]"
     ]
    },
    {
     "name": "stdout",
     "output_type": "stream",
     "text": [
      "z=558.122 dz=-6.669367, dtau=3.726268e-04, x_e=0.000795\n",
      "z=551.453 dz=-6.589813, dtau=3.578606e-04, x_e=0.000777\n"
     ]
    },
    {
     "name": "stderr",
     "output_type": "stream",
     "text": [
      " 30%|███       | 145/476 [00:23<00:51,  6.39it/s]"
     ]
    },
    {
     "name": "stdout",
     "output_type": "stream",
     "text": [
      "z=544.863 dz=-6.511208, dtau=3.439198e-04, x_e=0.000759\n",
      "z=538.352 dz=-6.433540, dtau=3.307412e-04, x_e=0.000743\n"
     ]
    },
    {
     "name": "stderr",
     "output_type": "stream",
     "text": [
      " 31%|███       | 147/476 [00:23<00:51,  6.35it/s]"
     ]
    },
    {
     "name": "stdout",
     "output_type": "stream",
     "text": [
      "z=531.918 dz=-6.356799, dtau=3.182679e-04, x_e=0.000728\n",
      "z=525.561 dz=-6.280973, dtau=3.064482e-04, x_e=0.000713\n"
     ]
    },
    {
     "name": "stderr",
     "output_type": "stream",
     "text": [
      " 31%|███▏      | 149/476 [00:23<00:51,  6.36it/s]"
     ]
    },
    {
     "name": "stdout",
     "output_type": "stream",
     "text": [
      "z=519.280 dz=-6.206052, dtau=2.952354e-04, x_e=0.000699\n",
      "z=513.074 dz=-6.132024, dtau=2.845873e-04, x_e=0.000686\n"
     ]
    },
    {
     "name": "stderr",
     "output_type": "stream",
     "text": [
      " 32%|███▏      | 151/476 [00:24<00:50,  6.39it/s]"
     ]
    },
    {
     "name": "stdout",
     "output_type": "stream",
     "text": [
      "z=506.942 dz=-6.058880, dtau=2.744960e-04, x_e=0.000673\n",
      "z=500.883 dz=-5.986608, dtau=2.648629e-04, x_e=0.000661\n"
     ]
    },
    {
     "name": "stderr",
     "output_type": "stream",
     "text": [
      " 32%|███▏      | 153/476 [00:24<00:50,  6.41it/s]"
     ]
    },
    {
     "name": "stdout",
     "output_type": "stream",
     "text": [
      "z=494.897 dz=-5.915198, dtau=2.557142e-04, x_e=0.000649\n",
      "z=488.981 dz=-5.844640, dtau=2.469911e-04, x_e=0.000638\n"
     ]
    },
    {
     "name": "stderr",
     "output_type": "stream",
     "text": [
      " 33%|███▎      | 155/476 [00:24<00:50,  6.42it/s]"
     ]
    },
    {
     "name": "stdout",
     "output_type": "stream",
     "text": [
      "z=483.137 dz=-5.774923, dtau=2.386672e-04, x_e=0.000628\n",
      "z=477.362 dz=-5.706038, dtau=2.307178e-04, x_e=0.000617\n"
     ]
    },
    {
     "name": "stderr",
     "output_type": "stream",
     "text": [
      " 33%|███▎      | 157/476 [00:25<00:49,  6.39it/s]"
     ]
    },
    {
     "name": "stdout",
     "output_type": "stream",
     "text": [
      "z=471.656 dz=-5.637975, dtau=2.231206e-04, x_e=0.000608\n",
      "z=466.018 dz=-5.570724, dtau=2.158546e-04, x_e=0.000598\n"
     ]
    },
    {
     "name": "stderr",
     "output_type": "stream",
     "text": [
      " 33%|███▎      | 159/476 [00:25<00:49,  6.39it/s]"
     ]
    },
    {
     "name": "stdout",
     "output_type": "stream",
     "text": [
      "z=460.447 dz=-5.504274, dtau=2.089057e-04, x_e=0.000589\n",
      "z=454.943 dz=-5.438618, dtau=2.022503e-04, x_e=0.000581\n"
     ]
    },
    {
     "name": "stderr",
     "output_type": "stream",
     "text": [
      " 34%|███▍      | 161/476 [00:25<00:49,  6.40it/s]"
     ]
    },
    {
     "name": "stdout",
     "output_type": "stream",
     "text": [
      "z=449.504 dz=-5.373744, dtau=1.958722e-04, x_e=0.000572\n",
      "z=444.131 dz=-5.309645, dtau=1.897561e-04, x_e=0.000564\n"
     ]
    },
    {
     "name": "stderr",
     "output_type": "stream",
     "text": [
      " 34%|███▍      | 163/476 [00:25<00:48,  6.40it/s]"
     ]
    },
    {
     "name": "stdout",
     "output_type": "stream",
     "text": [
      "z=438.821 dz=-5.246310, dtau=1.838877e-04, x_e=0.000556\n",
      "z=433.575 dz=-5.183730, dtau=1.782540e-04, x_e=0.000549\n"
     ]
    },
    {
     "name": "stderr",
     "output_type": "stream",
     "text": [
      " 35%|███▍      | 165/476 [00:26<00:48,  6.41it/s]"
     ]
    },
    {
     "name": "stdout",
     "output_type": "stream",
     "text": [
      "z=428.391 dz=-5.121897, dtau=1.728426e-04, x_e=0.000542\n",
      "z=423.269 dz=-5.060802, dtau=1.676419e-04, x_e=0.000535\n"
     ]
    },
    {
     "name": "stderr",
     "output_type": "stream",
     "text": [
      " 35%|███▌      | 167/476 [00:26<00:48,  6.40it/s]"
     ]
    },
    {
     "name": "stdout",
     "output_type": "stream",
     "text": [
      "z=418.208 dz=-5.000435, dtau=1.626413e-04, x_e=0.000528\n",
      "z=413.208 dz=-4.940789, dtau=1.578308e-04, x_e=0.000521\n"
     ]
    },
    {
     "name": "stderr",
     "output_type": "stream",
     "text": [
      " 36%|███▌      | 169/476 [00:26<00:48,  6.39it/s]"
     ]
    },
    {
     "name": "stdout",
     "output_type": "stream",
     "text": [
      "z=408.267 dz=-4.881853, dtau=1.532009e-04, x_e=0.000515\n",
      "z=403.385 dz=-4.823621, dtau=1.487428e-04, x_e=0.000509\n"
     ]
    },
    {
     "name": "stderr",
     "output_type": "stream",
     "text": [
      " 36%|███▌      | 171/476 [00:27<00:47,  6.42it/s]"
     ]
    },
    {
     "name": "stdout",
     "output_type": "stream",
     "text": [
      "z=398.561 dz=-4.766084, dtau=1.444483e-04, x_e=0.000503\n",
      "z=393.795 dz=-4.709232, dtau=1.403096e-04, x_e=0.000497\n"
     ]
    },
    {
     "name": "stderr",
     "output_type": "stream",
     "text": [
      " 36%|███▋      | 173/476 [00:27<00:47,  6.43it/s]"
     ]
    },
    {
     "name": "stdout",
     "output_type": "stream",
     "text": [
      "z=389.086 dz=-4.653059, dtau=1.363194e-04, x_e=0.000492\n",
      "z=384.433 dz=-4.597556, dtau=1.324710e-04, x_e=0.000486\n"
     ]
    },
    {
     "name": "stderr",
     "output_type": "stream",
     "text": [
      " 37%|███▋      | 175/476 [00:27<00:46,  6.44it/s]"
     ]
    },
    {
     "name": "stdout",
     "output_type": "stream",
     "text": [
      "z=379.836 dz=-4.542715, dtau=1.287577e-04, x_e=0.000481\n",
      "z=375.293 dz=-4.488529, dtau=1.251736e-04, x_e=0.000476\n"
     ]
    },
    {
     "name": "stderr",
     "output_type": "stream",
     "text": [
      " 37%|███▋      | 177/476 [00:28<00:46,  6.45it/s]"
     ]
    },
    {
     "name": "stdout",
     "output_type": "stream",
     "text": [
      "z=370.804 dz=-4.434988, dtau=1.217128e-04, x_e=0.000471\n",
      "z=366.369 dz=-4.382086, dtau=1.183701e-04, x_e=0.000466\n"
     ]
    },
    {
     "name": "stderr",
     "output_type": "stream",
     "text": [
      " 38%|███▊      | 179/476 [00:28<00:46,  6.42it/s]"
     ]
    },
    {
     "name": "stdout",
     "output_type": "stream",
     "text": [
      "z=361.987 dz=-4.329816, dtau=1.151402e-04, x_e=0.000461\n",
      "z=357.657 dz=-4.278168, dtau=1.120183e-04, x_e=0.000457\n"
     ]
    },
    {
     "name": "stderr",
     "output_type": "stream",
     "text": [
      " 38%|███▊      | 181/476 [00:28<00:45,  6.44it/s]"
     ]
    },
    {
     "name": "stdout",
     "output_type": "stream",
     "text": [
      "z=353.379 dz=-4.227137, dtau=1.089999e-04, x_e=0.000452\n",
      "z=349.152 dz=-4.176715, dtau=1.060806e-04, x_e=0.000448\n"
     ]
    },
    {
     "name": "stderr",
     "output_type": "stream",
     "text": [
      " 38%|███▊      | 183/476 [00:29<00:45,  6.43it/s]"
     ]
    },
    {
     "name": "stdout",
     "output_type": "stream",
     "text": [
      "z=344.975 dz=-4.126893, dtau=1.032563e-04, x_e=0.000444\n",
      "z=340.848 dz=-4.077667, dtau=1.005232e-04, x_e=0.000440\n"
     ]
    },
    {
     "name": "stderr",
     "output_type": "stream",
     "text": [
      " 39%|███▉      | 185/476 [00:29<00:45,  6.42it/s]"
     ]
    },
    {
     "name": "stdout",
     "output_type": "stream",
     "text": [
      "z=336.771 dz=-4.029027, dtau=9.787746e-05, x_e=0.000436\n",
      "z=332.742 dz=-3.980968, dtau=9.531568e-05, x_e=0.000432\n"
     ]
    },
    {
     "name": "stderr",
     "output_type": "stream",
     "text": [
      " 39%|███▉      | 187/476 [00:29<00:44,  6.44it/s]"
     ]
    },
    {
     "name": "stdout",
     "output_type": "stream",
     "text": [
      "z=328.761 dz=-3.933482, dtau=9.283449e-05, x_e=0.000428\n",
      "z=324.827 dz=-3.886562, dtau=9.043075e-05, x_e=0.000425\n"
     ]
    },
    {
     "name": "stderr",
     "output_type": "stream",
     "text": [
      " 40%|███▉      | 189/476 [00:30<00:44,  6.44it/s]"
     ]
    },
    {
     "name": "stdout",
     "output_type": "stream",
     "text": [
      "z=320.941 dz=-3.840202, dtau=8.810144e-05, x_e=0.000421\n",
      "z=317.101 dz=-3.794395, dtau=8.584370e-05, x_e=0.000417\n"
     ]
    },
    {
     "name": "stderr",
     "output_type": "stream",
     "text": [
      " 40%|████      | 191/476 [00:30<00:44,  6.42it/s]"
     ]
    },
    {
     "name": "stdout",
     "output_type": "stream",
     "text": [
      "z=313.306 dz=-3.749134, dtau=8.365480e-05, x_e=0.000414\n",
      "z=309.557 dz=-3.704413, dtau=8.153215e-05, x_e=0.000411\n"
     ]
    },
    {
     "name": "stderr",
     "output_type": "stream",
     "text": [
      " 41%|████      | 193/476 [00:30<00:43,  6.43it/s]"
     ]
    },
    {
     "name": "stdout",
     "output_type": "stream",
     "text": [
      "z=305.853 dz=-3.660226, dtau=7.947327e-05, x_e=0.000407\n",
      "z=302.192 dz=-3.616566, dtau=7.747581e-05, x_e=0.000404\n"
     ]
    },
    {
     "name": "stderr",
     "output_type": "stream",
     "text": [
      " 41%|████      | 195/476 [00:30<00:43,  6.43it/s]"
     ]
    },
    {
     "name": "stdout",
     "output_type": "stream",
     "text": [
      "z=298.576 dz=-3.573426, dtau=7.553751e-05, x_e=0.000401\n",
      "z=295.002 dz=-3.530802, dtau=7.365623e-05, x_e=0.000398\n"
     ]
    },
    {
     "name": "stderr",
     "output_type": "stream",
     "text": [
      " 41%|████▏     | 197/476 [00:31<00:43,  6.43it/s]"
     ]
    },
    {
     "name": "stdout",
     "output_type": "stream",
     "text": [
      "z=291.472 dz=-3.488685, dtau=7.182990e-05, x_e=0.000395\n",
      "z=287.983 dz=-3.447071, dtau=7.005658e-05, x_e=0.000392\n"
     ]
    },
    {
     "name": "stderr",
     "output_type": "stream",
     "text": [
      " 42%|████▏     | 199/476 [00:31<00:43,  6.44it/s]"
     ]
    },
    {
     "name": "stdout",
     "output_type": "stream",
     "text": [
      "z=284.536 dz=-3.405954, dtau=6.833439e-05, x_e=0.000390\n",
      "z=281.130 dz=-3.365326, dtau=6.666153e-05, x_e=0.000387\n"
     ]
    },
    {
     "name": "stderr",
     "output_type": "stream",
     "text": [
      " 42%|████▏     | 201/476 [00:31<00:42,  6.41it/s]"
     ]
    },
    {
     "name": "stdout",
     "output_type": "stream",
     "text": [
      "z=277.765 dz=-3.325184, dtau=6.503628e-05, x_e=0.000384\n",
      "z=274.439 dz=-3.285520, dtau=6.345702e-05, x_e=0.000381\n"
     ]
    },
    {
     "name": "stderr",
     "output_type": "stream",
     "text": [
      " 43%|████▎     | 203/476 [00:32<00:42,  6.43it/s]"
     ]
    },
    {
     "name": "stdout",
     "output_type": "stream",
     "text": [
      "z=271.154 dz=-3.246329, dtau=6.192215e-05, x_e=0.000379\n",
      "z=267.908 dz=-3.207606, dtau=6.043019e-05, x_e=0.000376\n"
     ]
    },
    {
     "name": "stderr",
     "output_type": "stream",
     "text": [
      " 43%|████▎     | 205/476 [00:32<00:42,  6.44it/s]"
     ]
    },
    {
     "name": "stdout",
     "output_type": "stream",
     "text": [
      "z=264.700 dz=-3.169345, dtau=5.897967e-05, x_e=0.000374\n",
      "z=261.531 dz=-3.131540, dtau=5.756923e-05, x_e=0.000371\n"
     ]
    },
    {
     "name": "stderr",
     "output_type": "stream",
     "text": [
      " 43%|████▎     | 207/476 [00:32<00:41,  6.45it/s]"
     ]
    },
    {
     "name": "stdout",
     "output_type": "stream",
     "text": [
      "z=258.399 dz=-3.094186, dtau=5.619753e-05, x_e=0.000369\n",
      "z=255.305 dz=-3.057278, dtau=5.486329e-05, x_e=0.000367\n"
     ]
    },
    {
     "name": "stderr",
     "output_type": "stream",
     "text": [
      " 44%|████▍     | 209/476 [00:33<00:41,  6.44it/s]"
     ]
    },
    {
     "name": "stdout",
     "output_type": "stream",
     "text": [
      "z=252.248 dz=-3.020810, dtau=5.356530e-05, x_e=0.000364\n",
      "z=249.227 dz=-2.984777, dtau=5.230238e-05, x_e=0.000362\n"
     ]
    },
    {
     "name": "stderr",
     "output_type": "stream",
     "text": [
      " 44%|████▍     | 211/476 [00:33<00:41,  6.45it/s]"
     ]
    },
    {
     "name": "stdout",
     "output_type": "stream",
     "text": [
      "z=246.242 dz=-2.949173, dtau=5.107340e-05, x_e=0.000360\n",
      "z=243.293 dz=-2.913995, dtau=4.987729e-05, x_e=0.000358\n"
     ]
    },
    {
     "name": "stderr",
     "output_type": "stream",
     "text": [
      " 45%|████▍     | 213/476 [00:33<00:41,  6.40it/s]"
     ]
    },
    {
     "name": "stdout",
     "output_type": "stream",
     "text": [
      "z=240.379 dz=-2.879236, dtau=4.871298e-05, x_e=0.000356\n",
      "z=237.500 dz=-2.844892, dtau=4.757950e-05, x_e=0.000354\n"
     ]
    },
    {
     "name": "stderr",
     "output_type": "stream",
     "text": [
      " 45%|████▌     | 215/476 [00:34<00:40,  6.43it/s]"
     ]
    },
    {
     "name": "stdout",
     "output_type": "stream",
     "text": [
      "z=234.655 dz=-2.810957, dtau=4.647586e-05, x_e=0.000351\n",
      "z=231.844 dz=-2.777427, dtau=4.540115e-05, x_e=0.000349\n"
     ]
    },
    {
     "name": "stderr",
     "output_type": "stream",
     "text": [
      " 46%|████▌     | 217/476 [00:34<00:40,  6.43it/s]"
     ]
    },
    {
     "name": "stdout",
     "output_type": "stream",
     "text": [
      "z=229.066 dz=-2.744297, dtau=4.435448e-05, x_e=0.000347\n",
      "z=226.322 dz=-2.711562, dtau=4.333497e-05, x_e=0.000346\n"
     ]
    },
    {
     "name": "stderr",
     "output_type": "stream",
     "text": [
      " 46%|████▌     | 219/476 [00:34<00:39,  6.44it/s]"
     ]
    },
    {
     "name": "stdout",
     "output_type": "stream",
     "text": [
      "z=223.610 dz=-2.679218, dtau=4.234181e-05, x_e=0.000344\n",
      "z=220.931 dz=-2.647259, dtau=4.137420e-05, x_e=0.000342\n"
     ]
    },
    {
     "name": "stderr",
     "output_type": "stream",
     "text": [
      " 46%|████▋     | 221/476 [00:35<00:39,  6.45it/s]"
     ]
    },
    {
     "name": "stdout",
     "output_type": "stream",
     "text": [
      "z=218.284 dz=-2.615682, dtau=4.043138e-05, x_e=0.000340\n",
      "z=215.668 dz=-2.584482, dtau=3.951259e-05, x_e=0.000338\n"
     ]
    },
    {
     "name": "stderr",
     "output_type": "stream",
     "text": [
      " 47%|████▋     | 223/476 [00:35<00:39,  6.41it/s]"
     ]
    },
    {
     "name": "stdout",
     "output_type": "stream",
     "text": [
      "z=213.084 dz=-2.553653, dtau=3.861712e-05, x_e=0.000336\n",
      "z=210.530 dz=-2.523192, dtau=3.774430e-05, x_e=0.000335\n"
     ]
    },
    {
     "name": "stderr",
     "output_type": "stream",
     "text": [
      " 47%|████▋     | 225/476 [00:35<00:39,  6.42it/s]"
     ]
    },
    {
     "name": "stdout",
     "output_type": "stream",
     "text": [
      "z=208.007 dz=-2.493095, dtau=3.689345e-05, x_e=0.000333\n",
      "z=205.514 dz=-2.463357, dtau=3.606393e-05, x_e=0.000331\n"
     ]
    },
    {
     "name": "stderr",
     "output_type": "stream",
     "text": [
      " 48%|████▊     | 227/476 [00:35<00:38,  6.43it/s]"
     ]
    },
    {
     "name": "stdout",
     "output_type": "stream",
     "text": [
      "z=203.051 dz=-2.433973, dtau=3.525513e-05, x_e=0.000330\n",
      "z=200.617 dz=-2.404940, dtau=3.446644e-05, x_e=0.000328\n"
     ]
    },
    {
     "name": "stderr",
     "output_type": "stream",
     "text": [
      " 48%|████▊     | 229/476 [00:36<00:38,  6.43it/s]"
     ]
    },
    {
     "name": "stdout",
     "output_type": "stream",
     "text": [
      "z=198.212 dz=-2.376253, dtau=3.369729e-05, x_e=0.000326\n",
      "z=195.835 dz=-2.347909, dtau=3.294713e-05, x_e=0.000325\n"
     ]
    },
    {
     "name": "stderr",
     "output_type": "stream",
     "text": [
      " 49%|████▊     | 231/476 [00:36<00:38,  6.44it/s]"
     ]
    },
    {
     "name": "stdout",
     "output_type": "stream",
     "text": [
      "z=193.487 dz=-2.319902, dtau=3.221541e-05, x_e=0.000323\n",
      "z=191.168 dz=-2.292230, dtau=3.150161e-05, x_e=0.000322\n"
     ]
    },
    {
     "name": "stderr",
     "output_type": "stream",
     "text": [
      " 49%|████▉     | 233/476 [00:36<00:37,  6.43it/s]"
     ]
    },
    {
     "name": "stdout",
     "output_type": "stream",
     "text": [
      "z=188.875 dz=-2.264887, dtau=3.080524e-05, x_e=0.000320\n",
      "z=186.610 dz=-2.237871, dtau=3.012580e-05, x_e=0.000319\n"
     ]
    },
    {
     "name": "stderr",
     "output_type": "stream",
     "text": [
      " 49%|████▉     | 235/476 [00:37<00:37,  6.42it/s]"
     ]
    },
    {
     "name": "stdout",
     "output_type": "stream",
     "text": [
      "z=184.373 dz=-2.211177, dtau=2.946283e-05, x_e=0.000317\n",
      "z=182.161 dz=-2.184801, dtau=2.881587e-05, x_e=0.000316\n"
     ]
    },
    {
     "name": "stderr",
     "output_type": "stream",
     "text": [
      " 50%|████▉     | 237/476 [00:37<00:37,  6.42it/s]"
     ]
    },
    {
     "name": "stdout",
     "output_type": "stream",
     "text": [
      "z=179.977 dz=-2.158740, dtau=2.818448e-05, x_e=0.000315\n",
      "z=177.818 dz=-2.132990, dtau=2.756823e-05, x_e=0.000313\n"
     ]
    },
    {
     "name": "stderr",
     "output_type": "stream",
     "text": [
      " 50%|█████     | 239/476 [00:37<00:36,  6.42it/s]"
     ]
    },
    {
     "name": "stdout",
     "output_type": "stream",
     "text": [
      "z=175.685 dz=-2.107547, dtau=2.696671e-05, x_e=0.000312\n",
      "z=173.577 dz=-2.082408, dtau=2.637953e-05, x_e=0.000311\n"
     ]
    },
    {
     "name": "stderr",
     "output_type": "stream",
     "text": [
      " 51%|█████     | 241/476 [00:38<00:36,  6.43it/s]"
     ]
    },
    {
     "name": "stdout",
     "output_type": "stream",
     "text": [
      "z=171.495 dz=-2.057568, dtau=2.580630e-05, x_e=0.000309\n",
      "z=169.437 dz=-2.033025, dtau=2.524664e-05, x_e=0.000308\n"
     ]
    },
    {
     "name": "stderr",
     "output_type": "stream",
     "text": [
      " 51%|█████     | 243/476 [00:38<00:36,  6.43it/s]"
     ]
    },
    {
     "name": "stdout",
     "output_type": "stream",
     "text": [
      "z=167.404 dz=-2.008775, dtau=2.470019e-05, x_e=0.000307\n",
      "z=165.396 dz=-1.984813, dtau=2.416660e-05, x_e=0.000305\n"
     ]
    },
    {
     "name": "stderr",
     "output_type": "stream",
     "text": [
      " 51%|█████▏    | 245/476 [00:38<00:36,  6.40it/s]"
     ]
    },
    {
     "name": "stdout",
     "output_type": "stream",
     "text": [
      "z=163.411 dz=-1.961138, dtau=2.364552e-05, x_e=0.000304\n",
      "z=161.450 dz=-1.937745, dtau=2.313664e-05, x_e=0.000303\n"
     ]
    },
    {
     "name": "stderr",
     "output_type": "stream",
     "text": [
      " 52%|█████▏    | 247/476 [00:39<00:35,  6.41it/s]"
     ]
    },
    {
     "name": "stdout",
     "output_type": "stream",
     "text": [
      "z=159.512 dz=-1.914631, dtau=2.263963e-05, x_e=0.000302\n",
      "z=157.597 dz=-1.891793, dtau=2.215417e-05, x_e=0.000301\n"
     ]
    },
    {
     "name": "stderr",
     "output_type": "stream",
     "text": [
      " 52%|█████▏    | 249/476 [00:39<00:35,  6.42it/s]"
     ]
    },
    {
     "name": "stdout",
     "output_type": "stream",
     "text": [
      "z=155.705 dz=-1.869227, dtau=2.167998e-05, x_e=0.000299\n",
      "z=153.836 dz=-1.846930, dtau=2.121675e-05, x_e=0.000298\n"
     ]
    },
    {
     "name": "stderr",
     "output_type": "stream",
     "text": [
      " 53%|█████▎    | 251/476 [00:39<00:34,  6.43it/s]"
     ]
    },
    {
     "name": "stdout",
     "output_type": "stream",
     "text": [
      "z=151.989 dz=-1.824900, dtau=2.076421e-05, x_e=0.000297\n",
      "z=150.164 dz=-1.803132, dtau=2.032207e-05, x_e=0.000296\n"
     ]
    },
    {
     "name": "stderr",
     "output_type": "stream",
     "text": [
      " 53%|█████▎    | 253/476 [00:40<00:34,  6.43it/s]"
     ]
    },
    {
     "name": "stdout",
     "output_type": "stream",
     "text": [
      "z=148.361 dz=-1.781623, dtau=1.989008e-05, x_e=0.000295\n",
      "z=146.580 dz=-1.760372, dtau=1.946798e-05, x_e=0.000294\n"
     ]
    },
    {
     "name": "stderr",
     "output_type": "stream",
     "text": [
      " 54%|█████▎    | 255/476 [00:40<00:34,  6.42it/s]"
     ]
    },
    {
     "name": "stdout",
     "output_type": "stream",
     "text": [
      "z=144.819 dz=-1.739373, dtau=1.905551e-05, x_e=0.000293\n",
      "z=143.080 dz=-1.718626, dtau=1.865242e-05, x_e=0.000292\n"
     ]
    },
    {
     "name": "stderr",
     "output_type": "stream",
     "text": [
      " 54%|█████▍    | 257/476 [00:40<00:34,  6.40it/s]"
     ]
    },
    {
     "name": "stdout",
     "output_type": "stream",
     "text": [
      "z=141.361 dz=-1.698125, dtau=1.825850e-05, x_e=0.000291\n",
      "z=139.663 dz=-1.677870, dtau=1.787350e-05, x_e=0.000289\n"
     ]
    },
    {
     "name": "stderr",
     "output_type": "stream",
     "text": [
      " 54%|█████▍    | 259/476 [00:40<00:33,  6.41it/s]"
     ]
    },
    {
     "name": "stdout",
     "output_type": "stream",
     "text": [
      "z=137.985 dz=-1.657856, dtau=1.749719e-05, x_e=0.000288\n",
      "z=136.327 dz=-1.638080, dtau=1.712938e-05, x_e=0.000287\n"
     ]
    },
    {
     "name": "stderr",
     "output_type": "stream",
     "text": [
      " 55%|█████▍    | 261/476 [00:41<00:33,  6.42it/s]"
     ]
    },
    {
     "name": "stdout",
     "output_type": "stream",
     "text": [
      "z=134.689 dz=-1.618541, dtau=1.676983e-05, x_e=0.000286\n",
      "z=133.071 dz=-1.599234, dtau=1.641836e-05, x_e=0.000285\n"
     ]
    },
    {
     "name": "stderr",
     "output_type": "stream",
     "text": [
      " 55%|█████▌    | 263/476 [00:41<00:33,  6.41it/s]"
     ]
    },
    {
     "name": "stdout",
     "output_type": "stream",
     "text": [
      "z=131.472 dz=-1.580158, dtau=1.607475e-05, x_e=0.000284\n",
      "z=129.891 dz=-1.561310, dtau=1.573882e-05, x_e=0.000284\n"
     ]
    },
    {
     "name": "stderr",
     "output_type": "stream",
     "text": [
      " 56%|█████▌    | 265/476 [00:41<00:32,  6.41it/s]"
     ]
    },
    {
     "name": "stdout",
     "output_type": "stream",
     "text": [
      "z=128.330 dz=-1.542686, dtau=1.541039e-05, x_e=0.000283\n",
      "z=126.787 dz=-1.524284, dtau=1.508925e-05, x_e=0.000282\n"
     ]
    },
    {
     "name": "stderr",
     "output_type": "stream",
     "text": [
      " 56%|█████▌    | 267/476 [00:42<00:32,  6.38it/s]"
     ]
    },
    {
     "name": "stdout",
     "output_type": "stream",
     "text": [
      "z=125.263 dz=-1.506102, dtau=1.477525e-05, x_e=0.000281\n",
      "z=123.757 dz=-1.488137, dtau=1.446820e-05, x_e=0.000280\n"
     ]
    },
    {
     "name": "stderr",
     "output_type": "stream",
     "text": [
      " 57%|█████▋    | 269/476 [00:42<00:32,  6.40it/s]"
     ]
    },
    {
     "name": "stdout",
     "output_type": "stream",
     "text": [
      "z=122.269 dz=-1.470386, dtau=1.416793e-05, x_e=0.000279\n",
      "z=120.798 dz=-1.452847, dtau=1.387429e-05, x_e=0.000278\n"
     ]
    },
    {
     "name": "stderr",
     "output_type": "stream",
     "text": [
      " 57%|█████▋    | 271/476 [00:42<00:32,  6.41it/s]"
     ]
    },
    {
     "name": "stdout",
     "output_type": "stream",
     "text": [
      "z=119.346 dz=-1.435517, dtau=1.358712e-05, x_e=0.000277\n",
      "z=117.910 dz=-1.418394, dtau=1.330625e-05, x_e=0.000276\n"
     ]
    },
    {
     "name": "stderr",
     "output_type": "stream",
     "text": [
      " 57%|█████▋    | 273/476 [00:43<00:31,  6.38it/s]"
     ]
    },
    {
     "name": "stdout",
     "output_type": "stream",
     "text": [
      "z=116.492 dz=-1.401475, dtau=1.303155e-05, x_e=0.000275\n",
      "z=115.090 dz=-1.384757, dtau=1.276285e-05, x_e=0.000275\n"
     ]
    },
    {
     "name": "stderr",
     "output_type": "stream",
     "text": [
      " 58%|█████▊    | 275/476 [00:43<00:31,  6.41it/s]"
     ]
    },
    {
     "name": "stdout",
     "output_type": "stream",
     "text": [
      "z=113.705 dz=-1.368240, dtau=1.250003e-05, x_e=0.000274\n",
      "z=112.337 dz=-1.351919, dtau=1.224294e-05, x_e=0.000273\n"
     ]
    },
    {
     "name": "stderr",
     "output_type": "stream",
     "text": [
      " 58%|█████▊    | 277/476 [00:43<00:31,  6.42it/s]"
     ]
    },
    {
     "name": "stdout",
     "output_type": "stream",
     "text": [
      "z=110.985 dz=-1.335793, dtau=1.199144e-05, x_e=0.000272\n",
      "z=109.650 dz=-1.319859, dtau=1.174541e-05, x_e=0.000271\n"
     ]
    },
    {
     "name": "stderr",
     "output_type": "stream",
     "text": [
      " 59%|█████▊    | 279/476 [00:44<00:30,  6.39it/s]"
     ]
    },
    {
     "name": "stdout",
     "output_type": "stream",
     "text": [
      "z=108.330 dz=-1.304115, dtau=1.150471e-05, x_e=0.000270\n",
      "z=107.026 dz=-1.288560, dtau=1.126923e-05, x_e=0.000270\n"
     ]
    },
    {
     "name": "stderr",
     "output_type": "stream",
     "text": [
      " 59%|█████▉    | 281/476 [00:44<00:30,  6.40it/s]"
     ]
    },
    {
     "name": "stdout",
     "output_type": "stream",
     "text": [
      "z=105.737 dz=-1.273189, dtau=1.103883e-05, x_e=0.000269\n",
      "z=104.464 dz=-1.258002, dtau=1.081340e-05, x_e=0.000268\n"
     ]
    },
    {
     "name": "stderr",
     "output_type": "stream",
     "text": [
      " 59%|█████▉    | 283/476 [00:44<00:30,  6.39it/s]"
     ]
    },
    {
     "name": "stdout",
     "output_type": "stream",
     "text": [
      "z=103.206 dz=-1.242996, dtau=1.059283e-05, x_e=0.000267\n",
      "z=101.963 dz=-1.228170, dtau=1.037701e-05, x_e=0.000266\n"
     ]
    },
    {
     "name": "stderr",
     "output_type": "stream",
     "text": [
      " 60%|█████▉    | 285/476 [00:45<00:29,  6.41it/s]"
     ]
    },
    {
     "name": "stdout",
     "output_type": "stream",
     "text": [
      "z=100.735 dz=-1.213520, dtau=1.016581e-05, x_e=0.000266\n",
      "z=99.521 dz=-1.199044, dtau=9.959144e-06, x_e=0.000265\n"
     ]
    },
    {
     "name": "stderr",
     "output_type": "stream",
     "text": [
      " 60%|██████    | 287/476 [00:45<00:29,  6.42it/s]"
     ]
    },
    {
     "name": "stdout",
     "output_type": "stream",
     "text": [
      "z=98.322 dz=-1.184742, dtau=9.756899e-06, x_e=0.000264\n",
      "z=97.137 dz=-1.170610, dtau=9.558975e-06, x_e=0.000263\n"
     ]
    },
    {
     "name": "stderr",
     "output_type": "stream",
     "text": [
      " 61%|██████    | 289/476 [00:45<00:29,  6.40it/s]"
     ]
    },
    {
     "name": "stdout",
     "output_type": "stream",
     "text": [
      "z=95.967 dz=-1.156647, dtau=9.365274e-06, x_e=0.000263\n",
      "z=94.810 dz=-1.142850, dtau=9.175698e-06, x_e=0.000262\n"
     ]
    },
    {
     "name": "stderr",
     "output_type": "stream",
     "text": [
      " 61%|██████    | 291/476 [00:45<00:28,  6.40it/s]"
     ]
    },
    {
     "name": "stdout",
     "output_type": "stream",
     "text": [
      "z=93.667 dz=-1.129218, dtau=8.990154e-06, x_e=0.000261\n",
      "z=92.538 dz=-1.115748, dtau=8.808551e-06, x_e=0.000261\n"
     ]
    },
    {
     "name": "stderr",
     "output_type": "stream",
     "text": [
      " 62%|██████▏   | 293/476 [00:46<00:28,  6.40it/s]"
     ]
    },
    {
     "name": "stdout",
     "output_type": "stream",
     "text": [
      "z=91.422 dz=-1.102439, dtau=8.630799e-06, x_e=0.000260\n",
      "z=90.320 dz=-1.089289, dtau=8.456810e-06, x_e=0.000259\n"
     ]
    },
    {
     "name": "stderr",
     "output_type": "stream",
     "text": [
      " 62%|██████▏   | 295/476 [00:46<00:28,  6.40it/s]"
     ]
    },
    {
     "name": "stdout",
     "output_type": "stream",
     "text": [
      "z=89.231 dz=-1.076295, dtau=8.286501e-06, x_e=0.000259\n",
      "z=88.154 dz=-1.063457, dtau=8.119788e-06, x_e=0.000258\n"
     ]
    },
    {
     "name": "stderr",
     "output_type": "stream",
     "text": [
      " 62%|██████▏   | 297/476 [00:46<00:27,  6.41it/s]"
     ]
    },
    {
     "name": "stdout",
     "output_type": "stream",
     "text": [
      "z=87.091 dz=-1.050772, dtau=7.956590e-06, x_e=0.000257\n",
      "z=86.040 dz=-1.038238, dtau=7.796829e-06, x_e=0.000257\n"
     ]
    },
    {
     "name": "stderr",
     "output_type": "stream",
     "text": [
      " 63%|██████▎   | 299/476 [00:47<00:27,  6.41it/s]"
     ]
    },
    {
     "name": "stdout",
     "output_type": "stream",
     "text": [
      "z=85.002 dz=-1.025853, dtau=7.640427e-06, x_e=0.000256\n",
      "z=83.976 dz=-1.013617, dtau=7.487310e-06, x_e=0.000255\n"
     ]
    },
    {
     "name": "stderr",
     "output_type": "stream",
     "text": [
      " 63%|██████▎   | 301/476 [00:47<00:27,  6.38it/s]"
     ]
    },
    {
     "name": "stdout",
     "output_type": "stream",
     "text": [
      "z=82.962 dz=-1.001526, dtau=7.337405e-06, x_e=0.000255\n",
      "z=81.961 dz=-0.989580, dtau=7.190639e-06, x_e=0.000254\n"
     ]
    },
    {
     "name": "stderr",
     "output_type": "stream",
     "text": [
      " 64%|██████▎   | 303/476 [00:47<00:27,  6.39it/s]"
     ]
    },
    {
     "name": "stdout",
     "output_type": "stream",
     "text": [
      "z=80.971 dz=-0.977776, dtau=7.046944e-06, x_e=0.000253\n",
      "z=79.993 dz=-0.966112, dtau=6.906251e-06, x_e=0.000253\n"
     ]
    },
    {
     "name": "stderr",
     "output_type": "stream",
     "text": [
      " 64%|██████▍   | 305/476 [00:48<00:26,  6.40it/s]"
     ]
    },
    {
     "name": "stdout",
     "output_type": "stream",
     "text": [
      "z=79.027 dz=-0.954588, dtau=6.768494e-06, x_e=0.000252\n",
      "z=78.073 dz=-0.943202, dtau=6.633608e-06, x_e=0.000251\n"
     ]
    },
    {
     "name": "stderr",
     "output_type": "stream",
     "text": [
      " 64%|██████▍   | 307/476 [00:48<00:26,  6.41it/s]"
     ]
    },
    {
     "name": "stdout",
     "output_type": "stream",
     "text": [
      "z=77.129 dz=-0.931951, dtau=6.501529e-06, x_e=0.000251\n",
      "z=76.198 dz=-0.920834, dtau=6.372197e-06, x_e=0.000250\n"
     ]
    },
    {
     "name": "stderr",
     "output_type": "stream",
     "text": [
      " 65%|██████▍   | 309/476 [00:48<00:25,  6.42it/s]"
     ]
    },
    {
     "name": "stdout",
     "output_type": "stream",
     "text": [
      "z=75.277 dz=-0.909850, dtau=6.245551e-06, x_e=0.000250\n",
      "z=74.367 dz=-0.898997, dtau=6.121531e-06, x_e=0.000249\n"
     ]
    },
    {
     "name": "stderr",
     "output_type": "stream",
     "text": [
      " 65%|██████▌   | 311/476 [00:49<00:25,  6.40it/s]"
     ]
    },
    {
     "name": "stdout",
     "output_type": "stream",
     "text": [
      "z=73.468 dz=-0.888274, dtau=6.000081e-06, x_e=0.000248\n",
      "z=72.580 dz=-0.877678, dtau=5.881144e-06, x_e=0.000248\n"
     ]
    },
    {
     "name": "stderr",
     "output_type": "stream",
     "text": [
      " 66%|██████▌   | 313/476 [00:49<00:25,  6.41it/s]"
     ]
    },
    {
     "name": "stdout",
     "output_type": "stream",
     "text": [
      "z=71.702 dz=-0.867209, dtau=5.764666e-06, x_e=0.000247\n",
      "z=70.835 dz=-0.856865, dtau=5.650593e-06, x_e=0.000247\n"
     ]
    },
    {
     "name": "stderr",
     "output_type": "stream",
     "text": [
      " 66%|██████▌   | 315/476 [00:49<00:25,  6.42it/s]"
     ]
    },
    {
     "name": "stdout",
     "output_type": "stream",
     "text": [
      "z=69.978 dz=-0.846644, dtau=5.538873e-06, x_e=0.000246\n",
      "z=69.131 dz=-0.836545, dtau=5.429454e-06, x_e=0.000246\n"
     ]
    },
    {
     "name": "stderr",
     "output_type": "stream",
     "text": [
      " 67%|██████▋   | 317/476 [00:49<00:24,  6.42it/s]"
     ]
    },
    {
     "name": "stdout",
     "output_type": "stream",
     "text": [
      "z=68.295 dz=-0.826566, dtau=5.322287e-06, x_e=0.000245\n",
      "z=67.468 dz=-0.816707, dtau=5.217324e-06, x_e=0.000245\n"
     ]
    },
    {
     "name": "stderr",
     "output_type": "stream",
     "text": [
      " 67%|██████▋   | 319/476 [00:50<00:24,  6.42it/s]"
     ]
    },
    {
     "name": "stdout",
     "output_type": "stream",
     "text": [
      "z=66.651 dz=-0.806965, dtau=5.114516e-06, x_e=0.000244\n",
      "z=65.844 dz=-0.797339, dtau=5.013818e-06, x_e=0.000243\n"
     ]
    },
    {
     "name": "stderr",
     "output_type": "stream",
     "text": [
      " 67%|██████▋   | 321/476 [00:50<00:24,  6.43it/s]"
     ]
    },
    {
     "name": "stdout",
     "output_type": "stream",
     "text": [
      "z=65.047 dz=-0.787828, dtau=4.915183e-06, x_e=0.000243\n",
      "z=64.259 dz=-0.778431, dtau=4.818567e-06, x_e=0.000242\n"
     ]
    },
    {
     "name": "stderr",
     "output_type": "stream",
     "text": [
      " 68%|██████▊   | 323/476 [00:50<00:23,  6.39it/s]"
     ]
    },
    {
     "name": "stdout",
     "output_type": "stream",
     "text": [
      "z=63.481 dz=-0.769146, dtau=4.723928e-06, x_e=0.000242\n",
      "z=62.712 dz=-0.759971, dtau=4.631223e-06, x_e=0.000241\n"
     ]
    },
    {
     "name": "stderr",
     "output_type": "stream",
     "text": [
      " 68%|██████▊   | 325/476 [00:51<00:23,  6.42it/s]"
     ]
    },
    {
     "name": "stdout",
     "output_type": "stream",
     "text": [
      "z=61.952 dz=-0.750906, dtau=4.540410e-06, x_e=0.000241\n",
      "z=61.201 dz=-0.741949, dtau=4.451448e-06, x_e=0.000240\n"
     ]
    },
    {
     "name": "stderr",
     "output_type": "stream",
     "text": [
      " 69%|██████▊   | 327/476 [00:51<00:23,  6.41it/s]"
     ]
    },
    {
     "name": "stdout",
     "output_type": "stream",
     "text": [
      "z=60.459 dz=-0.733099, dtau=4.364300e-06, x_e=0.000240\n",
      "z=59.726 dz=-0.724354, dtau=4.278925e-06, x_e=0.000239\n"
     ]
    },
    {
     "name": "stderr",
     "output_type": "stream",
     "text": [
      " 69%|██████▉   | 329/476 [00:51<00:22,  6.43it/s]"
     ]
    },
    {
     "name": "stdout",
     "output_type": "stream",
     "text": [
      "z=59.001 dz=-0.715714, dtau=4.195286e-06, x_e=0.000239\n",
      "z=58.286 dz=-0.707176, dtau=4.113347e-06, x_e=0.000238\n"
     ]
    },
    {
     "name": "stderr",
     "output_type": "stream",
     "text": [
      " 70%|██████▉   | 331/476 [00:52<00:22,  6.42it/s]"
     ]
    },
    {
     "name": "stdout",
     "output_type": "stream",
     "text": [
      "z=57.578 dz=-0.698741, dtau=4.033070e-06, x_e=0.000238\n",
      "z=56.880 dz=-0.690406, dtau=3.954422e-06, x_e=0.000237\n"
     ]
    },
    {
     "name": "stderr",
     "output_type": "stream",
     "text": [
      " 70%|██████▉   | 333/476 [00:52<00:22,  6.41it/s]"
     ]
    },
    {
     "name": "stdout",
     "output_type": "stream",
     "text": [
      "z=56.189 dz=-0.682171, dtau=3.877367e-06, x_e=0.000237\n",
      "z=55.507 dz=-0.674034, dtau=3.801871e-06, x_e=0.000236\n"
     ]
    },
    {
     "name": "stderr",
     "output_type": "stream",
     "text": [
      " 70%|███████   | 335/476 [00:52<00:22,  6.38it/s]"
     ]
    },
    {
     "name": "stdout",
     "output_type": "stream",
     "text": [
      "z=54.833 dz=-0.665994, dtau=3.727903e-06, x_e=0.000236\n",
      "z=54.167 dz=-0.658050, dtau=3.655429e-06, x_e=0.000235\n"
     ]
    },
    {
     "name": "stderr",
     "output_type": "stream",
     "text": [
      " 71%|███████   | 337/476 [00:53<00:21,  6.39it/s]"
     ]
    },
    {
     "name": "stdout",
     "output_type": "stream",
     "text": [
      "z=53.509 dz=-0.650200, dtau=3.584418e-06, x_e=0.000235\n",
      "z=52.859 dz=-0.642444, dtau=3.514840e-06, x_e=0.000234\n"
     ]
    },
    {
     "name": "stderr",
     "output_type": "stream",
     "text": [
      " 71%|███████   | 339/476 [00:53<00:21,  6.40it/s]"
     ]
    },
    {
     "name": "stdout",
     "output_type": "stream",
     "text": [
      "z=52.216 dz=-0.634781, dtau=3.446664e-06, x_e=0.000234\n",
      "z=51.582 dz=-0.627209, dtau=3.379861e-06, x_e=0.000233\n"
     ]
    },
    {
     "name": "stderr",
     "output_type": "stream",
     "text": [
      " 72%|███████▏  | 341/476 [00:53<00:21,  6.39it/s]"
     ]
    },
    {
     "name": "stdout",
     "output_type": "stream",
     "text": [
      "z=50.954 dz=-0.619728, dtau=3.314403e-06, x_e=0.000233\n",
      "z=50.335 dz=-0.612335, dtau=3.250260e-06, x_e=0.000233\n"
     ]
    },
    {
     "name": "stderr",
     "output_type": "stream",
     "text": [
      " 72%|███████▏  | 343/476 [00:54<00:20,  6.39it/s]"
     ]
    },
    {
     "name": "stdout",
     "output_type": "stream",
     "text": [
      "z=49.722 dz=-0.605031, dtau=3.187405e-06, x_e=0.000232\n",
      "z=49.117 dz=-0.597814, dtau=3.125813e-06, x_e=0.000232\n"
     ]
    },
    {
     "name": "stderr",
     "output_type": "stream",
     "text": [
      " 72%|███████▏  | 345/476 [00:54<00:20,  6.35it/s]"
     ]
    },
    {
     "name": "stdout",
     "output_type": "stream",
     "text": [
      "z=48.520 dz=-0.590683, dtau=3.065455e-06, x_e=0.000231\n",
      "z=47.929 dz=-0.583638, dtau=3.006307e-06, x_e=0.000231\n"
     ]
    },
    {
     "name": "stderr",
     "output_type": "stream",
     "text": [
      " 73%|███████▎  | 347/476 [00:54<00:20,  6.38it/s]"
     ]
    },
    {
     "name": "stdout",
     "output_type": "stream",
     "text": [
      "z=47.345 dz=-0.576676, dtau=2.948344e-06, x_e=0.000230\n",
      "z=46.769 dz=-0.569797, dtau=2.891540e-06, x_e=0.000230\n"
     ]
    },
    {
     "name": "stderr",
     "output_type": "stream",
     "text": [
      " 73%|███████▎  | 349/476 [00:54<00:19,  6.40it/s]"
     ]
    },
    {
     "name": "stdout",
     "output_type": "stream",
     "text": [
      "z=46.199 dz=-0.563000, dtau=2.835872e-06, x_e=0.000229\n",
      "z=45.636 dz=-0.556285, dtau=2.781315e-06, x_e=0.000229\n"
     ]
    },
    {
     "name": "stderr",
     "output_type": "stream",
     "text": [
      " 74%|███████▎  | 351/476 [00:55<00:19,  6.39it/s]"
     ]
    },
    {
     "name": "stdout",
     "output_type": "stream",
     "text": [
      "z=45.079 dz=-0.549649, dtau=2.727848e-06, x_e=0.000229\n",
      "z=44.530 dz=-0.543093, dtau=2.675448e-06, x_e=0.000228\n"
     ]
    },
    {
     "name": "stderr",
     "output_type": "stream",
     "text": [
      " 74%|███████▍  | 353/476 [00:55<00:19,  6.38it/s]"
     ]
    },
    {
     "name": "stdout",
     "output_type": "stream",
     "text": [
      "z=43.987 dz=-0.536615, dtau=2.624091e-06, x_e=0.000228\n",
      "z=43.450 dz=-0.530214, dtau=2.573758e-06, x_e=0.000227\n"
     ]
    },
    {
     "name": "stderr",
     "output_type": "stream",
     "text": [
      " 75%|███████▍  | 355/476 [00:55<00:18,  6.37it/s]"
     ]
    },
    {
     "name": "stdout",
     "output_type": "stream",
     "text": [
      "z=42.920 dz=-0.523889, dtau=2.524426e-06, x_e=0.000227\n",
      "z=42.396 dz=-0.517640, dtau=2.476076e-06, x_e=0.000227\n"
     ]
    },
    {
     "name": "stderr",
     "output_type": "stream",
     "text": [
      " 75%|███████▌  | 357/476 [00:56<00:18,  6.35it/s]"
     ]
    },
    {
     "name": "stdout",
     "output_type": "stream",
     "text": [
      "z=41.878 dz=-0.511466, dtau=2.428686e-06, x_e=0.000226\n",
      "z=41.367 dz=-0.505365, dtau=2.382238e-06, x_e=0.000226\n"
     ]
    },
    {
     "name": "stderr",
     "output_type": "stream",
     "text": [
      " 75%|███████▌  | 359/476 [00:56<00:18,  6.35it/s]"
     ]
    },
    {
     "name": "stdout",
     "output_type": "stream",
     "text": [
      "z=40.862 dz=-0.499337, dtau=2.336711e-06, x_e=0.000225\n",
      "z=40.362 dz=-0.493380, dtau=2.292087e-06, x_e=0.000225\n"
     ]
    },
    {
     "name": "stderr",
     "output_type": "stream",
     "text": [
      " 76%|███████▌  | 361/476 [00:56<00:18,  6.36it/s]"
     ]
    },
    {
     "name": "stdout",
     "output_type": "stream",
     "text": [
      "z=39.869 dz=-0.487495, dtau=2.248347e-06, x_e=0.000225\n",
      "z=39.381 dz=-0.481680, dtau=2.205474e-06, x_e=0.000224\n"
     ]
    },
    {
     "name": "stderr",
     "output_type": "stream",
     "text": [
      " 76%|███████▋  | 363/476 [00:57<00:18,  6.14it/s]"
     ]
    },
    {
     "name": "stdout",
     "output_type": "stream",
     "text": [
      "z=38.900 dz=-0.475934, dtau=2.163449e-06, x_e=0.000224\n",
      "z=38.424 dz=-0.470257, dtau=2.122255e-06, x_e=0.000223\n"
     ]
    },
    {
     "name": "stderr",
     "output_type": "stream",
     "text": [
      " 77%|███████▋  | 365/476 [00:57<00:18,  6.13it/s]"
     ]
    },
    {
     "name": "stdout",
     "output_type": "stream",
     "text": [
      "z=37.953 dz=-0.464648, dtau=2.081875e-06, x_e=0.000223\n",
      "z=37.489 dz=-0.459106, dtau=2.042292e-06, x_e=0.000223\n"
     ]
    },
    {
     "name": "stderr",
     "output_type": "stream",
     "text": [
      " 77%|███████▋  | 367/476 [00:57<00:17,  6.06it/s]"
     ]
    },
    {
     "name": "stdout",
     "output_type": "stream",
     "text": [
      "z=37.030 dz=-0.453629, dtau=2.003491e-06, x_e=0.000222\n",
      "z=36.576 dz=-0.448218, dtau=1.965454e-06, x_e=0.000222\n"
     ]
    },
    {
     "name": "stderr",
     "output_type": "stream",
     "text": [
      " 78%|███████▊  | 369/476 [00:58<00:17,  6.08it/s]"
     ]
    },
    {
     "name": "stdout",
     "output_type": "stream",
     "text": [
      "z=36.128 dz=-0.442872, dtau=1.928168e-06, x_e=0.000221\n",
      "z=35.685 dz=-0.437589, dtau=1.891616e-06, x_e=0.000221\n"
     ]
    },
    {
     "name": "stderr",
     "output_type": "stream",
     "text": [
      " 78%|███████▊  | 371/476 [00:58<00:17,  6.10it/s]"
     ]
    },
    {
     "name": "stdout",
     "output_type": "stream",
     "text": [
      "z=35.247 dz=-0.432369, dtau=1.855783e-06, x_e=0.000221\n",
      "z=34.815 dz=-0.427212, dtau=1.820655e-06, x_e=0.000220\n"
     ]
    },
    {
     "name": "stderr",
     "output_type": "stream",
     "text": [
      " 78%|███████▊  | 373/476 [00:58<00:16,  6.12it/s]"
     ]
    },
    {
     "name": "stdout",
     "output_type": "stream",
     "text": [
      "z=34.388 dz=-0.422116, dtau=1.786218e-06, x_e=0.000220\n",
      "z=33.966 dz=-0.417081, dtau=1.752457e-06, x_e=0.000220\n"
     ]
    },
    {
     "name": "stderr",
     "output_type": "stream",
     "text": [
      " 79%|███████▉  | 375/476 [00:59<00:16,  6.14it/s]"
     ]
    },
    {
     "name": "stdout",
     "output_type": "stream",
     "text": [
      "z=33.549 dz=-0.412106, dtau=1.719359e-06, x_e=0.000219\n",
      "z=33.137 dz=-0.407190, dtau=1.686910e-06, x_e=0.000219\n"
     ]
    },
    {
     "name": "stderr",
     "output_type": "stream",
     "text": [
      " 79%|███████▉  | 377/476 [00:59<00:16,  6.14it/s]"
     ]
    },
    {
     "name": "stdout",
     "output_type": "stream",
     "text": [
      "z=32.729 dz=-0.402333, dtau=1.655098e-06, x_e=0.000219\n",
      "z=32.327 dz=-0.397534, dtau=1.623908e-06, x_e=0.000218\n"
     ]
    },
    {
     "name": "stderr",
     "output_type": "stream",
     "text": [
      " 80%|███████▉  | 379/476 [00:59<00:15,  6.10it/s]"
     ]
    },
    {
     "name": "stdout",
     "output_type": "stream",
     "text": [
      "z=31.929 dz=-0.392792, dtau=1.593330e-06, x_e=0.000218\n",
      "z=31.537 dz=-0.388107, dtau=1.563350e-06, x_e=0.000218\n"
     ]
    },
    {
     "name": "stderr",
     "output_type": "stream",
     "text": [
      " 80%|████████  | 381/476 [01:00<00:15,  6.12it/s]"
     ]
    },
    {
     "name": "stdout",
     "output_type": "stream",
     "text": [
      "z=31.149 dz=-0.383477, dtau=1.533956e-06, x_e=0.000217\n",
      "z=30.765 dz=-0.378903, dtau=1.505137e-06, x_e=0.000217\n"
     ]
    },
    {
     "name": "stderr",
     "output_type": "stream",
     "text": [
      " 80%|████████  | 383/476 [01:00<00:15,  6.12it/s]"
     ]
    },
    {
     "name": "stdout",
     "output_type": "stream",
     "text": [
      "z=30.386 dz=-0.374383, dtau=1.476881e-06, x_e=0.000216\n",
      "z=30.012 dz=-0.369918, dtau=1.449177e-06, x_e=0.000216\n"
     ]
    },
    {
     "name": "stderr",
     "output_type": "stream",
     "text": [
      " 81%|████████  | 385/476 [01:00<00:14,  6.11it/s]"
     ]
    },
    {
     "name": "stdout",
     "output_type": "stream",
     "text": [
      "z=29.642 dz=-0.365505, dtau=1.422013e-06, x_e=0.000216\n",
      "z=29.276 dz=-0.361145, dtau=1.395378e-06, x_e=0.000215\n"
     ]
    },
    {
     "name": "stderr",
     "output_type": "stream",
     "text": [
      " 81%|████████▏ | 387/476 [01:01<00:14,  6.12it/s]"
     ]
    },
    {
     "name": "stdout",
     "output_type": "stream",
     "text": [
      "z=28.915 dz=-0.356837, dtau=1.369263e-06, x_e=0.000215\n",
      "z=28.558 dz=-0.352581, dtau=1.343656e-06, x_e=0.000215\n"
     ]
    },
    {
     "name": "stderr",
     "output_type": "stream",
     "text": [
      " 82%|████████▏ | 389/476 [01:01<00:14,  6.07it/s]"
     ]
    },
    {
     "name": "stdout",
     "output_type": "stream",
     "text": [
      "z=28.206 dz=-0.348375, dtau=1.318548e-06, x_e=0.000214\n",
      "z=27.857 dz=-0.344220, dtau=1.293928e-06, x_e=0.000214\n"
     ]
    },
    {
     "name": "stderr",
     "output_type": "stream",
     "text": [
      " 82%|████████▏ | 391/476 [01:01<00:13,  6.10it/s]"
     ]
    },
    {
     "name": "stdout",
     "output_type": "stream",
     "text": [
      "z=27.513 dz=-0.340114, dtau=1.269787e-06, x_e=0.000214\n",
      "z=27.173 dz=-0.336057, dtau=1.246115e-06, x_e=0.000214\n"
     ]
    },
    {
     "name": "stderr",
     "output_type": "stream",
     "text": [
      " 83%|████████▎ | 393/476 [01:02<00:13,  6.11it/s]"
     ]
    },
    {
     "name": "stdout",
     "output_type": "stream",
     "text": [
      "z=26.837 dz=-0.332048, dtau=1.222902e-06, x_e=0.000213\n",
      "z=26.505 dz=-0.328087, dtau=1.200140e-06, x_e=0.000213\n"
     ]
    },
    {
     "name": "stderr",
     "output_type": "stream",
     "text": [
      " 83%|████████▎ | 395/476 [01:02<00:13,  6.11it/s]"
     ]
    },
    {
     "name": "stdout",
     "output_type": "stream",
     "text": [
      "z=26.177 dz=-0.324174, dtau=1.177819e-06, x_e=0.000213\n",
      "z=25.853 dz=-0.320307, dtau=1.155932e-06, x_e=0.000212\n"
     ]
    },
    {
     "name": "stderr",
     "output_type": "stream",
     "text": [
      " 83%|████████▎ | 397/476 [01:02<00:12,  6.09it/s]"
     ]
    },
    {
     "name": "stdout",
     "output_type": "stream",
     "text": [
      "z=25.532 dz=-0.316486, dtau=1.134468e-06, x_e=0.000212\n",
      "z=25.216 dz=-0.312711, dtau=1.113419e-06, x_e=0.000212\n"
     ]
    },
    {
     "name": "stderr",
     "output_type": "stream",
     "text": [
      " 84%|████████▍ | 399/476 [01:03<00:12,  6.10it/s]"
     ]
    },
    {
     "name": "stdout",
     "output_type": "stream",
     "text": [
      "z=24.903 dz=-0.308981, dtau=1.092779e-06, x_e=0.000211\n",
      "z=24.594 dz=-0.305296, dtau=1.072537e-06, x_e=0.000211\n"
     ]
    },
    {
     "name": "stderr",
     "output_type": "stream",
     "text": [
      " 84%|████████▍ | 401/476 [01:03<00:12,  6.04it/s]"
     ]
    },
    {
     "name": "stdout",
     "output_type": "stream",
     "text": [
      "z=24.289 dz=-0.301654, dtau=1.052686e-06, x_e=0.000211\n",
      "z=23.987 dz=-0.298056, dtau=1.033219e-06, x_e=0.000210\n"
     ]
    },
    {
     "name": "stderr",
     "output_type": "stream",
     "text": [
      " 85%|████████▍ | 403/476 [01:03<00:12,  6.07it/s]"
     ]
    },
    {
     "name": "stdout",
     "output_type": "stream",
     "text": [
      "z=23.689 dz=-0.294500, dtau=1.014128e-06, x_e=0.000210\n",
      "z=23.395 dz=-0.290987, dtau=9.954055e-07, x_e=0.000210\n"
     ]
    },
    {
     "name": "stderr",
     "output_type": "stream",
     "text": [
      " 85%|████████▌ | 405/476 [01:04<00:11,  6.10it/s]"
     ]
    },
    {
     "name": "stdout",
     "output_type": "stream",
     "text": [
      "z=23.104 dz=-0.287516, dtau=9.770439e-07, x_e=0.000210\n",
      "z=22.816 dz=-0.284087, dtau=9.590362e-07, x_e=0.000209\n"
     ]
    },
    {
     "name": "stderr",
     "output_type": "stream",
     "text": [
      " 86%|████████▌ | 407/476 [01:04<00:11,  6.09it/s]"
     ]
    },
    {
     "name": "stdout",
     "output_type": "stream",
     "text": [
      "z=22.532 dz=-0.280698, dtau=9.413755e-07, x_e=0.000209\n",
      "z=22.251 dz=-0.277350, dtau=9.240548e-07, x_e=0.000209\n"
     ]
    },
    {
     "name": "stderr",
     "output_type": "stream",
     "text": [
      " 86%|████████▌ | 409/476 [01:04<00:11,  6.08it/s]"
     ]
    },
    {
     "name": "stdout",
     "output_type": "stream",
     "text": [
      "z=21.974 dz=-0.274042, dtau=9.070674e-07, x_e=0.000208\n",
      "z=21.700 dz=-0.270773, dtau=8.904068e-07, x_e=0.000208\n"
     ]
    },
    {
     "name": "stderr",
     "output_type": "stream",
     "text": [
      " 86%|████████▋ | 411/476 [01:05<00:10,  6.00it/s]"
     ]
    },
    {
     "name": "stdout",
     "output_type": "stream",
     "text": [
      "z=21.429 dz=-0.267543, dtau=8.740665e-07, x_e=0.000208\n",
      "z=21.162 dz=-0.264352, dtau=8.580401e-07, x_e=0.000207\n"
     ]
    },
    {
     "name": "stderr",
     "output_type": "stream",
     "text": [
      " 87%|████████▋ | 413/476 [01:05<00:10,  6.05it/s]"
     ]
    },
    {
     "name": "stdout",
     "output_type": "stream",
     "text": [
      "z=20.897 dz=-0.261198, dtau=8.423214e-07, x_e=0.000207\n",
      "z=20.636 dz=-0.258083, dtau=8.269044e-07, x_e=0.000207\n"
     ]
    },
    {
     "name": "stderr",
     "output_type": "stream",
     "text": [
      " 87%|████████▋ | 415/476 [01:05<00:10,  6.07it/s]"
     ]
    },
    {
     "name": "stdout",
     "output_type": "stream",
     "text": [
      "z=20.378 dz=-0.255004, dtau=8.117831e-07, x_e=0.000207\n",
      "z=20.123 dz=-0.251962, dtau=7.969518e-07, x_e=0.000206\n"
     ]
    },
    {
     "name": "stderr",
     "output_type": "stream",
     "text": [
      " 88%|████████▊ | 417/476 [01:06<00:09,  6.07it/s]"
     ]
    },
    {
     "name": "stdout",
     "output_type": "stream",
     "text": [
      "z=19.871 dz=-0.248957, dtau=7.824046e-07, x_e=0.000206\n",
      "z=19.622 dz=-0.245987, dtau=7.681361e-07, x_e=0.000206\n"
     ]
    },
    {
     "name": "stderr",
     "output_type": "stream",
     "text": [
      " 88%|████████▊ | 419/476 [01:06<00:09,  6.08it/s]"
     ]
    },
    {
     "name": "stdout",
     "output_type": "stream",
     "text": [
      "z=19.376 dz=-0.243053, dtau=7.541406e-07, x_e=0.000206\n",
      "z=19.133 dz=-0.240154, dtau=7.404129e-07, x_e=0.000205\n"
     ]
    },
    {
     "name": "stderr",
     "output_type": "stream",
     "text": [
      " 88%|████████▊ | 421/476 [01:06<00:09,  6.09it/s]"
     ]
    },
    {
     "name": "stdout",
     "output_type": "stream",
     "text": [
      "z=18.893 dz=-0.237289, dtau=7.269477e-07, x_e=0.000205\n",
      "z=18.656 dz=-0.234459, dtau=7.137398e-07, x_e=0.000205\n"
     ]
    },
    {
     "name": "stderr",
     "output_type": "stream",
     "text": [
      " 89%|████████▉ | 423/476 [01:07<00:08,  6.05it/s]"
     ]
    },
    {
     "name": "stdout",
     "output_type": "stream",
     "text": [
      "z=18.421 dz=-0.231662, dtau=7.007842e-07, x_e=0.000204\n",
      "z=18.190 dz=-0.228899, dtau=6.880759e-07, x_e=0.000204\n"
     ]
    },
    {
     "name": "stderr",
     "output_type": "stream",
     "text": [
      " 89%|████████▉ | 425/476 [01:07<00:08,  6.07it/s]"
     ]
    },
    {
     "name": "stdout",
     "output_type": "stream",
     "text": [
      "z=17.961 dz=-0.226168, dtau=6.756101e-07, x_e=0.000204\n",
      "z=17.735 dz=-0.223471, dtau=6.633821e-07, x_e=0.000204\n"
     ]
    },
    {
     "name": "stderr",
     "output_type": "stream",
     "text": [
      " 90%|████████▉ | 427/476 [01:07<00:08,  6.08it/s]"
     ]
    },
    {
     "name": "stdout",
     "output_type": "stream",
     "text": [
      "z=17.511 dz=-0.220805, dtau=6.513871e-07, x_e=0.000203\n",
      "z=17.290 dz=-0.218171, dtau=6.396206e-07, x_e=0.000203\n"
     ]
    },
    {
     "name": "stderr",
     "output_type": "stream",
     "text": [
      " 90%|█████████ | 429/476 [01:08<00:07,  6.08it/s]"
     ]
    },
    {
     "name": "stdout",
     "output_type": "stream",
     "text": [
      "z=17.072 dz=-0.215569, dtau=6.280782e-07, x_e=0.000203\n",
      "z=16.856 dz=-0.212997, dtau=6.167555e-07, x_e=0.000203\n"
     ]
    },
    {
     "name": "stderr",
     "output_type": "stream",
     "text": [
      " 91%|█████████ | 431/476 [01:08<00:07,  6.10it/s]"
     ]
    },
    {
     "name": "stdout",
     "output_type": "stream",
     "text": [
      "z=16.644 dz=-0.210457, dtau=6.056481e-07, x_e=0.000202\n",
      "z=16.433 dz=-0.207946, dtau=5.947519e-07, x_e=0.000202\n"
     ]
    },
    {
     "name": "stderr",
     "output_type": "stream",
     "text": [
      " 91%|█████████ | 433/476 [01:08<00:07,  6.05it/s]"
     ]
    },
    {
     "name": "stdout",
     "output_type": "stream",
     "text": [
      "z=16.225 dz=-0.205466, dtau=5.840627e-07, x_e=0.000202\n",
      "z=16.020 dz=-0.203015, dtau=5.735766e-07, x_e=0.000202\n"
     ]
    },
    {
     "name": "stderr",
     "output_type": "stream",
     "text": [
      " 91%|█████████▏| 435/476 [01:09<00:06,  6.10it/s]"
     ]
    },
    {
     "name": "stdout",
     "output_type": "stream",
     "text": [
      "z=15.817 dz=-0.200593, dtau=5.632895e-07, x_e=0.000201\n",
      "z=15.616 dz=-0.198201, dtau=5.531976e-07, x_e=0.000201\n"
     ]
    },
    {
     "name": "stderr",
     "output_type": "stream",
     "text": [
      " 92%|█████████▏| 437/476 [01:09<00:06,  6.11it/s]"
     ]
    },
    {
     "name": "stdout",
     "output_type": "stream",
     "text": [
      "z=15.418 dz=-0.195837, dtau=5.432970e-07, x_e=0.000201\n",
      "z=15.222 dz=-0.193501, dtau=5.335841e-07, x_e=0.000201\n"
     ]
    },
    {
     "name": "stderr",
     "output_type": "stream",
     "text": [
      " 92%|█████████▏| 439/476 [01:09<00:06,  6.12it/s]"
     ]
    },
    {
     "name": "stdout",
     "output_type": "stream",
     "text": [
      "z=15.028 dz=-0.191192, dtau=5.240552e-07, x_e=0.000200\n",
      "z=14.837 dz=-0.188912, dtau=5.147067e-07, x_e=0.000200\n"
     ]
    },
    {
     "name": "stderr",
     "output_type": "stream",
     "text": [
      " 93%|█████████▎| 441/476 [01:10<00:05,  6.12it/s]"
     ]
    },
    {
     "name": "stdout",
     "output_type": "stream",
     "text": [
      "z=14.648 dz=-0.186658, dtau=5.055351e-07, x_e=0.000200\n",
      "z=14.462 dz=-0.184432, dtau=4.965371e-07, x_e=0.000200\n"
     ]
    },
    {
     "name": "stderr",
     "output_type": "stream",
     "text": [
      " 93%|█████████▎| 443/476 [01:10<00:05,  6.13it/s]"
     ]
    },
    {
     "name": "stdout",
     "output_type": "stream",
     "text": [
      "z=14.277 dz=-0.182232, dtau=4.877091e-07, x_e=0.000199\n",
      "z=14.095 dz=-0.180058, dtau=4.790479e-07, x_e=0.000199\n"
     ]
    },
    {
     "name": "stderr",
     "output_type": "stream",
     "text": [
      " 93%|█████████▎| 445/476 [01:10<00:05,  6.07it/s]"
     ]
    },
    {
     "name": "stdout",
     "output_type": "stream",
     "text": [
      "z=13.915 dz=-0.177910, dtau=4.705503e-07, x_e=0.000199\n",
      "z=13.737 dz=-0.175788, dtau=4.622131e-07, x_e=0.000199\n"
     ]
    },
    {
     "name": "stderr",
     "output_type": "stream",
     "text": [
      " 94%|█████████▍| 447/476 [01:11<00:04,  6.10it/s]"
     ]
    },
    {
     "name": "stdout",
     "output_type": "stream",
     "text": [
      "z=13.561 dz=-0.173691, dtau=4.540332e-07, x_e=0.000199\n",
      "z=13.388 dz=-0.171620, dtau=4.460076e-07, x_e=0.000198\n"
     ]
    },
    {
     "name": "stderr",
     "output_type": "stream",
     "text": [
      " 94%|█████████▍| 449/476 [01:11<00:04,  6.11it/s]"
     ]
    },
    {
     "name": "stdout",
     "output_type": "stream",
     "text": [
      "z=13.216 dz=-0.169572, dtau=4.381332e-07, x_e=0.000198\n",
      "z=13.046 dz=-0.167550, dtau=4.304071e-07, x_e=0.000198\n"
     ]
    },
    {
     "name": "stderr",
     "output_type": "stream",
     "text": [
      " 95%|█████████▍| 451/476 [01:11<00:04,  6.11it/s]"
     ]
    },
    {
     "name": "stdout",
     "output_type": "stream",
     "text": [
      "z=12.879 dz=-0.165551, dtau=4.228266e-07, x_e=0.000198\n",
      "z=12.713 dz=-0.163576, dtau=4.153887e-07, x_e=0.000197\n"
     ]
    },
    {
     "name": "stderr",
     "output_type": "stream",
     "text": [
      " 95%|█████████▌| 453/476 [01:11<00:03,  6.12it/s]"
     ]
    },
    {
     "name": "stdout",
     "output_type": "stream",
     "text": [
      "z=12.550 dz=-0.161625, dtau=4.080907e-07, x_e=0.000197\n",
      "z=12.388 dz=-0.159697, dtau=4.009299e-07, x_e=0.000197\n"
     ]
    },
    {
     "name": "stderr",
     "output_type": "stream",
     "text": [
      " 96%|█████████▌| 455/476 [01:12<00:03,  6.06it/s]"
     ]
    },
    {
     "name": "stdout",
     "output_type": "stream",
     "text": [
      "z=12.228 dz=-0.157792, dtau=3.939036e-07, x_e=0.000197\n",
      "z=12.071 dz=-0.155910, dtau=3.870094e-07, x_e=0.000196\n"
     ]
    },
    {
     "name": "stderr",
     "output_type": "stream",
     "text": [
      " 96%|█████████▌| 457/476 [01:12<00:03,  6.09it/s]"
     ]
    },
    {
     "name": "stdout",
     "output_type": "stream",
     "text": [
      "z=11.915 dz=-0.154050, dtau=3.802445e-07, x_e=0.000196\n",
      "z=11.761 dz=-0.152213, dtau=3.736066e-07, x_e=0.000196\n"
     ]
    },
    {
     "name": "stderr",
     "output_type": "stream",
     "text": [
      " 96%|█████████▋| 459/476 [01:12<00:02,  6.09it/s]"
     ]
    },
    {
     "name": "stdout",
     "output_type": "stream",
     "text": [
      "z=11.608 dz=-0.150397, dtau=3.670931e-07, x_e=0.000196\n",
      "z=11.458 dz=-0.148603, dtau=3.607018e-07, x_e=0.000196\n"
     ]
    },
    {
     "name": "stderr",
     "output_type": "stream",
     "text": [
      " 97%|█████████▋| 461/476 [01:13<00:02,  6.09it/s]"
     ]
    },
    {
     "name": "stdout",
     "output_type": "stream",
     "text": [
      "z=11.309 dz=-0.146831, dtau=3.544302e-07, x_e=0.000195\n",
      "z=11.163 dz=-0.145079, dtau=3.482760e-07, x_e=0.000195\n"
     ]
    },
    {
     "name": "stderr",
     "output_type": "stream",
     "text": [
      " 97%|█████████▋| 463/476 [01:13<00:02,  6.10it/s]"
     ]
    },
    {
     "name": "stdout",
     "output_type": "stream",
     "text": [
      "z=11.018 dz=-0.143349, dtau=3.422370e-07, x_e=0.000195\n",
      "z=10.874 dz=-0.141639, dtau=3.363109e-07, x_e=0.000195\n"
     ]
    },
    {
     "name": "stderr",
     "output_type": "stream",
     "text": [
      " 98%|█████████▊| 465/476 [01:13<00:01,  6.07it/s]"
     ]
    },
    {
     "name": "stdout",
     "output_type": "stream",
     "text": [
      "z=10.733 dz=-0.139949, dtau=3.304957e-07, x_e=0.000195\n",
      "z=10.593 dz=-0.138280, dtau=3.247891e-07, x_e=0.000194\n"
     ]
    },
    {
     "name": "stderr",
     "output_type": "stream",
     "text": [
      " 98%|█████████▊| 467/476 [01:14<00:01,  6.03it/s]"
     ]
    },
    {
     "name": "stdout",
     "output_type": "stream",
     "text": [
      "z=10.454 dz=-0.136631, dtau=3.191891e-07, x_e=0.000194\n",
      "z=10.318 dz=-0.135001, dtau=3.136936e-07, x_e=0.000194\n"
     ]
    },
    {
     "name": "stderr",
     "output_type": "stream",
     "text": [
      " 99%|█████████▊| 469/476 [01:14<00:01,  6.04it/s]"
     ]
    },
    {
     "name": "stdout",
     "output_type": "stream",
     "text": [
      "z=10.183 dz=-0.133390, dtau=3.083007e-07, x_e=0.000194\n",
      "z=10.049 dz=-0.131799, dtau=3.030084e-07, x_e=0.000193\n"
     ]
    },
    {
     "name": "stderr",
     "output_type": "stream",
     "text": [
      " 99%|█████████▉| 471/476 [01:14<00:00,  6.05it/s]"
     ]
    },
    {
     "name": "stdout",
     "output_type": "stream",
     "text": [
      "z=9.918 dz=-0.130227, dtau=2.978146e-07, x_e=0.000193\n",
      "z=9.787 dz=-0.128674, dtau=2.927177e-07, x_e=0.000193\n"
     ]
    },
    {
     "name": "stderr",
     "output_type": "stream",
     "text": [
      " 99%|█████████▉| 473/476 [01:15<00:00,  6.04it/s]"
     ]
    },
    {
     "name": "stdout",
     "output_type": "stream",
     "text": [
      "z=9.659 dz=-0.127139, dtau=2.877156e-07, x_e=0.000193\n",
      "z=9.531 dz=-0.125622, dtau=2.828067e-07, x_e=0.000193\n"
     ]
    },
    {
     "name": "stderr",
     "output_type": "stream",
     "text": [
      "100%|█████████▉| 475/476 [01:15<00:00,  6.06it/s]"
     ]
    },
    {
     "name": "stdout",
     "output_type": "stream",
     "text": [
      "z=9.406 dz=-0.124124, dtau=2.779890e-07, x_e=0.000192\n",
      "z=9.282 dz=-0.122643, dtau=2.732610e-07, x_e=0.000192\n"
     ]
    },
    {
     "name": "stderr",
     "output_type": "stream",
     "text": [
      "100%|██████████| 476/476 [01:15<00:00,  6.27it/s]\n",
      " 29%|██▉       | 137/476 [08:21<20:41,  3.66s/it]"
     ]
    },
    {
     "name": "stdout",
     "output_type": "stream",
     "text": [
      "z=9.159 dz=-0.121180, dtau=2.686207e-07, x_e=0.000192\n",
      "z=9.038 dz=-0.119735, dtau=2.640667e-07, x_e=0.000192\n"
     ]
    },
    {
     "name": "stderr",
     "output_type": "stream",
     "text": [
      "\n",
      " 20%|█▉        | 95/476 [06:55<27:45,  4.37s/it]\n"
     ]
    }
   ],
   "source": [
    "# Zero injection functions for baseline solution\n",
    "photE = load_data('binning')['photeng']\n",
    "elecEk = load_data('binning')['eleceng']\n",
    "zero_phot_spec = Spectrum(photE, photE*0, spec_type='dNdE')\n",
    "zero_elec_spec = Spectrum(elecEk, elecEk*0, spec_type='dNdE')\n",
    "\n",
    "def zero_in_spec_phot(*args, **kwargs):\n",
    "    return zero_phot_spec\n",
    "\n",
    "def zero_in_spec_elec(*args, **kwargs):\n",
    "    return zero_elec_spec\n",
    "\n",
    "def zero_rate_func_N(*args, **kwargs):\n",
    "    return 1e-100\n",
    "\n",
    "def zero_rate_func_eng(*args, **kwargs):\n",
    "    return 1e-100\n",
    "\n",
    "soln_base = evolve(\n",
    "    in_spec_phot  = zero_in_spec_phot, # [phot / inj]\n",
    "    in_spec_elec  = zero_in_spec_elec, # [elec / inj]\n",
    "    rate_func_N   = zero_rate_func_N,  # [inj / pcm^3 s]\n",
    "    rate_func_eng = zero_rate_func_eng, # [eV / pcm^3 s]\n",
    "    start_rs = 3000, end_rs = 10, coarsen_factor = 12, verbose = 1,\n",
    "    clean_up_tf = False\n",
    ")"
   ]
  },
  {
   "cell_type": "code",
   "execution_count": 37,
   "id": "0cb1af31",
   "metadata": {},
   "outputs": [],
   "source": [
    "h = soln_base['softphot_hist'].history"
   ]
  },
  {
   "cell_type": "code",
   "execution_count": 44,
   "id": "cc9edbdb",
   "metadata": {},
   "outputs": [],
   "source": [
    "from scipy.interpolate import interp1d"
   ]
  },
  {
   "cell_type": "code",
   "execution_count": 47,
   "id": "81e99f7c",
   "metadata": {},
   "outputs": [],
   "source": [
    "z_arr = np.array([sd.z for sd in h])\n",
    "n_arr = np.array([sd.n for sd in h])\n",
    "n_interp = interp1d(z_arr, n_arr, kind='linear', bounds_error=True, axis=0)"
   ]
  },
  {
   "cell_type": "code",
   "execution_count": 53,
   "id": "d3c15d89",
   "metadata": {},
   "outputs": [
    {
     "data": {
      "text/plain": [
       "[None, None]"
      ]
     },
     "execution_count": 53,
     "metadata": {},
     "output_type": "execute_result"
    },
    {
     "data": {
      "image/png": "[encoded data removed]",
      "text/plain": [
       "<Figure size 1600x400 with 1 Axes>"
      ]
     },
     "metadata": {},
     "output_type": "display_data"
    }
   ],
   "source": [
    "fig, ax = plt.subplots(figsize=(16, 4))\n",
    "sd = h[0]\n",
    "ax.plot(sd.x, n_interp(1480))\n",
    "ax.plot(sd.x, n_interp(1450))\n",
    "ax.plot(sd.x, n_interp(1400))\n",
    "ax.plot(sd.x, n_interp(1350))\n",
    "ax.set(xscale='log', yscale='log')"
   ]
  },
  {
   "cell_type": "code",
   "execution_count": 54,
   "id": "ca918d93",
   "metadata": {},
   "outputs": [
    {
     "name": "stdout",
     "output_type": "stream",
     "text": [
      "2999.000, 0.000000e+00\n",
      "2999.000, 5.325543e+00\n",
      "2963.215, 1.056665e+01\n",
      "2927.857, 1.572448e+01\n",
      "2892.921, 2.080011e+01\n",
      "2858.401, 2.579451e+01\n",
      "2824.294, 3.070854e+01\n",
      "2790.593, 3.554325e+01\n",
      "2757.294, 4.029924e+01\n",
      "2724.392, 4.497717e+01\n",
      "2691.883, 4.957774e+01\n",
      "2659.761, 5.410166e+01\n",
      "2628.023, 5.854971e+01\n",
      "2596.663, 6.292277e+01\n",
      "2565.678, 6.722168e+01\n",
      "2535.062, 7.144740e+01\n",
      "2504.811, 7.560089e+01\n",
      "2474.921, 7.968318e+01\n",
      "2445.387, 8.369526e+01\n",
      "2416.206, 8.763816e+01\n",
      "2387.373, 9.151286e+01\n",
      "2358.884, 9.532036e+01\n",
      "2330.734, 9.906161e+01\n",
      "2302.921, 1.027375e+02\n",
      "2275.439, 1.063490e+02\n",
      "2248.285, 1.098970e+02\n",
      "2221.455, 1.133822e+02\n",
      "2194.945, 1.168054e+02\n",
      "2168.751, 1.201674e+02\n",
      "2142.869, 1.234688e+02\n",
      "2117.297, 1.267102e+02\n",
      "2092.029, 1.298922e+02\n",
      "2067.063, 1.330152e+02\n",
      "2042.394, 1.360796e+02\n",
      "2018.020, 1.390856e+02\n",
      "1993.937, 1.420334e+02\n",
      "1970.140, 1.449232e+02\n",
      "1946.628, 1.477551e+02\n",
      "1923.396, 1.505292e+02\n",
      "1900.442, 1.532460e+02\n",
      "1877.761, 1.559064e+02\n",
      "1855.350, 1.585119e+02\n",
      "1833.207, 1.610647e+02\n",
      "1811.328, 1.635678e+02\n",
      "1789.710, 1.660246e+02\n",
      "1768.350, 1.684384e+02\n",
      "1747.245, 1.708114e+02\n",
      "1726.391, 1.731447e+02\n",
      "1705.786, 1.754391e+02\n",
      "1685.427, 1.776949e+02\n",
      "1665.311, 1.799124e+02\n",
      "1645.435, 1.820918e+02\n",
      "1625.796, 1.842327e+02\n",
      "1606.391, 1.863348e+02\n",
      "1587.217, 1.883967e+02\n",
      "1568.273, 1.904170e+02\n",
      "1549.554, 1.923927e+02\n",
      "1531.059, 1.943199e+02\n",
      "1512.784, 1.961934e+02\n",
      "1494.727, 0.000000e+00\n",
      "1494.727, 1.814160e+00\n",
      "1476.885, 3.562648e+00\n",
      "1459.257, 5.239417e+00\n",
      "1441.838, 6.839078e+00\n",
      "1424.628, 8.357231e+00\n",
      "1407.623, 9.790645e+00\n",
      "1390.820, 1.113731e+01\n",
      "1374.218, 1.239640e+01\n",
      "1357.814, 1.356819e+01\n",
      "1341.606, 1.465390e+01\n",
      "1325.591, 1.565558e+01\n",
      "1309.767, 1.657590e+01\n",
      "1294.132, 1.741809e+01\n",
      "1278.683, 1.818575e+01\n",
      "1263.418, 1.888275e+01\n",
      "1248.336, 1.951315e+01\n",
      "1233.434, 2.008112e+01\n",
      "1218.709, 2.059086e+01\n",
      "1204.160, 2.104660e+01\n",
      "1189.784, 2.145247e+01\n",
      "1175.580, 2.181256e+01\n",
      "1161.546, 2.213079e+01\n",
      "1147.679, 2.241097e+01\n",
      "1133.977, 2.265670e+01\n",
      "1120.439, 2.287141e+01\n",
      "1107.062, 2.305832e+01\n",
      "1093.844, 2.322045e+01\n",
      "1080.785, 2.336058e+01\n",
      "1067.881, 2.348129e+01\n",
      "1055.131, 2.358494e+01\n",
      "1042.533, 2.367365e+01\n",
      "1030.086, 2.374935e+01\n",
      "1017.787, 2.381378e+01\n",
      "1005.634, 2.386848e+01\n",
      "993.627, 2.391482e+01\n",
      "981.763, 2.395398e+01\n",
      "970.040, 2.398704e+01\n",
      "958.457, 2.401491e+01\n",
      "947.012, 2.403838e+01\n",
      "935.704, 2.405814e+01\n"
     ]
    }
   ],
   "source": [
    "for i in range(100):\n",
    "    print(f'{h[i].z:.3f}, {h[i].tau:.6e}')"
   ]
  },
  {
   "cell_type": "code",
   "execution_count": null,
   "id": "de662543",
   "metadata": {},
   "outputs": [],
   "source": []
  }
 ],
 "metadata": {
  "kernelspec": {
   "display_name": "dm21cm",
   "language": "python",
   "name": "python3"
  },
  "language_info": {
   "codemirror_mode": {
    "name": "ipython",
    "version": 3
   },
   "file_extension": ".py",
   "mimetype": "text/x-python",
   "name": "python",
   "nbconvert_exporter": "python",
   "pygments_lexer": "ipython3",
   "version": "3.11.5"
  }
 },
 "nbformat": 4,
 "nbformat_minor": 5
}
