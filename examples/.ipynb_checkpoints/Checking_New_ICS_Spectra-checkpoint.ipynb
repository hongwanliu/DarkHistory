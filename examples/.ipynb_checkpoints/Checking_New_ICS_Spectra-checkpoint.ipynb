{
 "cells": [
  {
   "cell_type": "markdown",
   "metadata": {},
   "source": [
    "# Checking New ICS Spectra"
   ]
  },
  {
   "cell_type": "markdown",
   "metadata": {},
   "source": [
    "## Initialization"
   ]
  },
  {
   "cell_type": "code",
   "execution_count": 1,
   "metadata": {},
   "outputs": [],
   "source": [
    "%load_ext autoreload\n",
    "import sys\n",
    "sys.path.append(\"..\")"
   ]
  },
  {
   "cell_type": "code",
   "execution_count": 2,
   "metadata": {},
   "outputs": [],
   "source": [
    "%autoreload\n",
    "\n",
    "import matplotlib\n",
    "matplotlib.rc_file('matplotlibrc')\n",
    "import matplotlib.pyplot as plt\n",
    "\n",
    "%matplotlib inline\n",
    "\n",
    "matplotlib.rcParams['figure.figsize'] = [10,10]\n",
    "\n",
    "\n",
    "from astropy.io import fits\n",
    "\n",
    "import numpy as np\n",
    "import pickle\n",
    "import darkhistory.physics as phys\n",
    "import darkhistory.spec.spectools as spectools\n",
    "import darkhistory.spec.transferfunction as tf\n",
    "from darkhistory.spec.spectrum import Spectrum\n",
    "import darkhistory.history.tla as tla\n",
    "\n",
    "from darkhistory.electrons.ics import bose_einstein_integrals\n",
    "from darkhistory.electrons.ics.ics_spectrum import ics_spec\n",
    "from darkhistory.electrons.ics.ics_spectrum import nonrel_spec_series\n",
    "from darkhistory.electrons.ics.ics_spectrum import nonrel_spec_quad\n",
    "from darkhistory.electrons.ics.ics_spectrum import nonrel_spec_diff\n",
    "from darkhistory.electrons.ics.ics_spectrum import nonrel_spec\n",
    "\n",
    "from darkhistory.electrons.ics import nonrel_diff_terms\n",
    "\n",
    "from darkhistory.electrons.ics.ics_engloss_spectrum import engloss_spec\n",
    "from darkhistory.electrons.ics.ics_cooling import get_ics_cooling_tf\n",
    "\n",
    "np.set_printoptions(threshold=np.nan,precision=10)"
   ]
  },
  {
   "cell_type": "code",
   "execution_count": 3,
   "metadata": {},
   "outputs": [],
   "source": [
    "nEe = 5000\n",
    "nEp = 5000\n",
    "\n",
    "Emax_rel = 1e10\n",
    "Emin_rel = 1e-8\n",
    "\n",
    "dlnEp = np.log(Emax_rel/Emin_rel)/nEp\n",
    "lowengEp = Emin_rel*np.exp((np.arange(nEp)+0.5)*dlnEp)        \n",
    "\n",
    "dlnEe = np.log(Emax_rel/Emin_rel)/nEe\n",
    "lowengEe = Emin_rel*np.exp((np.arange(nEe)+0.5)*dlnEe)"
   ]
  },
  {
   "cell_type": "code",
   "execution_count": 4,
   "metadata": {},
   "outputs": [],
   "source": [
    "# test_quad_old = nonrel_spec_quad(lowengEe, lowengEp, phys.TCMB(1000), spec_type='old')\n",
    "# test_quad_new = nonrel_spec_quad(lowengEe, lowengEp, phys.TCMB(1000), spec_type='new')"
   ]
  },
  {
   "cell_type": "code",
   "execution_count": 5,
   "metadata": {
    "scrolled": false
   },
   "outputs": [],
   "source": [
    "# plt.figure()\n",
    "\n",
    "# plt.contourf(lowengEe, lowengEp, np.log10(np.transpose(test_quad_old)), levels=[-18, -16, -14, -12,-10, -8, -6, -4, -2], cmap = 'RdBu')\n",
    "# plt.colorbar()\n",
    "# ax = plt.gca()\n",
    "# ax.set_xscale('log')\n",
    "# ax.set_yscale('log')\n",
    "\n",
    "# plt.figure()\n",
    "\n",
    "# plt.contourf(lowengEe, lowengEp, np.log10(np.transpose(test_quad_new)), levels=[-18, -16, -14, -12,-10, -8, -6, -4, -2], cmap = 'RdBu')\n",
    "# plt.colorbar()\n",
    "# ax = plt.gca()\n",
    "# ax.set_xscale('log')\n",
    "# ax.set_yscale('log')\n",
    "\n",
    "# plt.figure()\n",
    "\n",
    "# plt.contourf(lowengEe, lowengEp, np.transpose(test_quad_new/test_quad_old), levels=[0.8, 0.9, 0.95, 1., 1.05, 1.10, 1.20, 1.40], cmap = 'RdBu')\n",
    "# plt.colorbar()\n",
    "# ax = plt.gca()\n",
    "# ax.set_xscale('log')\n",
    "# ax.set_yscale('log')"
   ]
  },
  {
   "cell_type": "code",
   "execution_count": 6,
   "metadata": {
    "scrolled": false
   },
   "outputs": [],
   "source": [
    "# test_series_old = nonrel_spec_series(lowengEe, lowengEp, phys.TCMB(1000), spec_type='old')\n",
    "# test_series_new = nonrel_spec_series(lowengEe, lowengEp, phys.TCMB(1000), spec_type='new')"
   ]
  },
  {
   "cell_type": "code",
   "execution_count": 7,
   "metadata": {
    "scrolled": false
   },
   "outputs": [],
   "source": [
    "# plt.figure()\n",
    "\n",
    "# plt.contourf(lowengEe, lowengEp, np.log10(np.transpose(test_series_old)), levels=[-18, -16, -14, -12,-10, -8, -6, -4, -2], cmap = 'RdBu')\n",
    "# plt.colorbar()\n",
    "# ax = plt.gca()\n",
    "# ax.set_xscale('log')\n",
    "# ax.set_yscale('log')\n",
    "\n",
    "# plt.figure()\n",
    "\n",
    "# plt.contourf(lowengEe, lowengEp, np.log10(np.transpose(test_series_new)), levels=[-18, -16, -14, -12,-10, -8, -6, -4, -2], cmap = 'RdBu')\n",
    "# plt.colorbar()\n",
    "# ax = plt.gca()\n",
    "# ax.set_xscale('log')\n",
    "# ax.set_yscale('log')\n",
    "\n",
    "# plt.figure()\n",
    "\n",
    "# plt.contourf(lowengEe, lowengEp, np.transpose(test_series_new/test_series_old), levels=[0.8, 0.9, 0.95, 1., 1.05, 1.10, 1.20, 1.40], cmap = 'RdBu')\n",
    "# plt.colorbar()\n",
    "# ax = plt.gca()\n",
    "# ax.set_xscale('log')\n",
    "# ax.set_yscale('log')"
   ]
  },
  {
   "cell_type": "code",
   "execution_count": 8,
   "metadata": {},
   "outputs": [],
   "source": [
    "# i = 39\n",
    "# print(lowengEe[i])\n",
    "# plt.figure()\n",
    "# # plt.plot(lowengEp, test_quad_old[i,:], ':')\n",
    "# plt.plot(lowengEp, test_series_old[i,:], ':')\n",
    "# # plt.plot(lowengEp, test_quad_new[i,:])\n",
    "# plt.plot(lowengEp, test_series_new[i,:])\n",
    "# ax = plt.gca()\n",
    "\n",
    "# ax.set_xscale('log')\n",
    "# # ax.set_yscale('log')\n",
    "\n",
    "# plt.axis([1e-8, 1e10, 6e-4, 7.5e-4])"
   ]
  },
  {
   "cell_type": "code",
   "execution_count": 9,
   "metadata": {
    "scrolled": false
   },
   "outputs": [],
   "source": [
    "# test_spec_diff_old = nonrel_spec_diff(lowengEe, lowengEp, phys.TCMB(1000), spec_type='old')\n",
    "# test_spec_diff_new = nonrel_spec_diff(lowengEe, lowengEp, phys.TCMB(1000), spec_type='new')"
   ]
  },
  {
   "cell_type": "code",
   "execution_count": 10,
   "metadata": {
    "scrolled": false
   },
   "outputs": [],
   "source": [
    "# plt.figure()\n",
    "\n",
    "# plt.contourf(lowengEe, lowengEp, np.log10(np.transpose(test_spec_diff_old[0])), levels=[-18, -16, -14, -12,-10, -8, -6, -4, -2], cmap = 'RdBu')\n",
    "# plt.colorbar()\n",
    "# ax = plt.gca()\n",
    "# ax.set_xscale('log')\n",
    "# ax.set_yscale('log')\n",
    "\n",
    "# plt.figure()\n",
    "\n",
    "# plt.contourf(lowengEe, lowengEp, np.log10(np.transpose(test_spec_diff_new[0])), levels=[-18, -16, -14, -12,-10, -8, -6, -4, -2], cmap = 'RdBu')\n",
    "# plt.colorbar()\n",
    "# ax = plt.gca()\n",
    "# ax.set_xscale('log')\n",
    "# ax.set_yscale('log')\n",
    "\n",
    "# plt.figure()\n",
    "\n",
    "# plt.contourf(lowengEe, lowengEp, np.transpose(test_spec_diff_new[0]/test_spec_diff_old[0]), levels=[0.8, 0.9, 0.95, 1., 1.05, 1.10, 1.20, 1.40], cmap = 'RdBu')\n",
    "# plt.colorbar()\n",
    "# ax = plt.gca()\n",
    "# ax.set_xscale('log')\n",
    "# ax.set_yscale('log')"
   ]
  },
  {
   "cell_type": "code",
   "execution_count": 12,
   "metadata": {},
   "outputs": [
    {
     "name": "stdout",
     "output_type": "stream",
     "text": [
      "Initializing...\n",
      "Computing spectra by an expansion in beta...\n",
      "Computing term...\n",
      "Computation by expansion in beta complete!\n",
      "Computing errors for beta expansion method...\n",
      "Computing spectra by analytic series...\n",
      "Computing series 1/8...\n",
      "Computing series 2/8...\n",
      "Computing series 3/8...\n",
      "Computing series 4/8...\n",
      "Computing series 5/8...\n",
      "Computing series 6/8...\n",
      "Computing series 7/8...\n",
      "Computing series 8/8...\n",
      "Computing new series 1/4...\n",
      "Computing new series 2/4...\n",
      "Computing new series 3/4...\n",
      "Computing new series 4/4...\n",
      "Computation by analytic series complete!\n",
      "Spectrum computed!\n",
      " "
     ]
    }
   ],
   "source": [
    "%%prun\n",
    "# test_spec_old = nonrel_spec(lowengEe, lowengEp, phys.TCMB(1000), spec_type='old')\n",
    "test_spec_new = nonrel_spec(lowengEe, lowengEp, phys.TCMB(1000), spec_type='new')"
   ]
  },
  {
   "cell_type": "code",
   "execution_count": 13,
   "metadata": {
    "scrolled": false
   },
   "outputs": [
    {
     "name": "stderr",
     "output_type": "stream",
     "text": [
      "/Users/hongwan/anaconda/envs/python3/lib/python3.6/site-packages/ipykernel/__main__.py:11: RuntimeWarning: divide by zero encountered in log10\n"
     ]
    },
    {
     "data": {
      "image/png": "[encoded data removed]",
      "text/plain": [
       "<Figure size 720x720 with 2 Axes>"
      ]
     },
     "metadata": {},
     "output_type": "display_data"
    }
   ],
   "source": [
    "# plt.figure()\n",
    "\n",
    "# plt.contourf(lowengEe, lowengEp, np.log10(np.transpose(test_spec_old._grid_vals)), levels=[-18, -16, -14, -12,-10, -8, -6, -4, -2], cmap = 'RdBu')\n",
    "# plt.colorbar()\n",
    "# ax = plt.gca()\n",
    "# ax.set_xscale('log')\n",
    "# ax.set_yscale('log')\n",
    "\n",
    "plt.figure()\n",
    "\n",
    "plt.contourf(lowengEe, lowengEp, np.log10(np.transpose(test_spec_new._grid_vals)), levels=[-18, -16, -14, -12,-10, -8, -6, -4, -2], cmap = 'RdBu')\n",
    "plt.colorbar()\n",
    "ax = plt.gca()\n",
    "ax.set_xscale('log')\n",
    "ax.set_yscale('log')\n",
    "\n",
    "# plt.figure()\n",
    "\n",
    "# plt.contourf(lowengEe, lowengEp, np.transpose(test_spec_new._grid_vals/test_spec_old._grid_vals), levels=[0.8, 0.85, 0.9, 0.95, 1., 1.05], cmap = 'RdBu')\n",
    "# plt.colorbar()\n",
    "# ax = plt.gca()\n",
    "# ax.set_xscale('log')\n",
    "# ax.set_yscale('log')"
   ]
  },
  {
   "cell_type": "code",
   "execution_count": 14,
   "metadata": {},
   "outputs": [],
   "source": [
    "data = test_spec_new._grid_vals\n",
    "np.savetxt('/users/hongwan/Dropbox (MIT)/thomsontable_new.dat', data)"
   ]
  },
  {
   "cell_type": "code",
   "execution_count": null,
   "metadata": {},
   "outputs": [],
   "source": []
  }
 ],
 "metadata": {
  "kernelspec": {
   "display_name": "Python [default]",
   "language": "python",
   "name": "python3"
  },
  "language_info": {
   "codemirror_mode": {
    "name": "ipython",
    "version": 3
   },
   "file_extension": ".py",
   "mimetype": "text/x-python",
   "name": "python",
   "nbconvert_exporter": "python",
   "pygments_lexer": "ipython3",
   "version": "3.6.5"
  }
 },
 "nbformat": 4,
 "nbformat_minor": 2
}
