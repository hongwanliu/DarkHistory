{
 "cells": [
  {
   "cell_type": "markdown",
   "metadata": {},
   "source": [
    "# Example 1 Physics"
   ]
  },
  {
   "cell_type": "markdown",
   "metadata": {},
   "source": [
    "In this notebook, we'll explore some of the physics related methods that come with DarkHistory."
   ]
  },
  {
   "cell_type": "markdown",
   "metadata": {},
   "source": [
    "## Notebook Initialization"
   ]
  },
  {
   "cell_type": "code",
   "execution_count": null,
   "metadata": {},
   "outputs": [],
   "source": [
    "%load_ext autoreload\n",
    "import sys\n",
    "sys.path.append(\"..\")"
   ]
  },
  {
   "cell_type": "code",
   "execution_count": null,
   "metadata": {},
   "outputs": [],
   "source": [
    "%matplotlib inline"
   ]
  },
  {
   "cell_type": "code",
   "execution_count": null,
   "metadata": {},
   "outputs": [],
   "source": [
    "%autoreload\n",
    "\n",
    "\n",
    "import matplotlib\n",
    "matplotlib.rc_file('matplotlibrc')\n",
    "import matplotlib.pyplot as plt\n",
    "\n",
    "import numpy as np\n",
    "\n",
    "import darkhistory.physics as phys"
   ]
  },
  {
   "cell_type": "markdown",
   "metadata": {},
   "source": [
    "## Constants"
   ]
  },
  {
   "cell_type": "markdown",
   "metadata": {},
   "source": [
    "DarkHistory comes with a list of physical and cosmological constants, with values taken from the PDG 2018 (particle physics) [[1]](#cite_PDG) and the Planck 2018 results (cosmology) [[2]](#cite_Planck). We use centimeters for length, seconds for time and the electronvolt for energy, mass and temperature. "
   ]
  },
  {
   "cell_type": "code",
   "execution_count": null,
   "metadata": {},
   "outputs": [],
   "source": [
    "print('Speed of light (cm/s): ', phys.c)\n",
    "print('Planck Constant (eV s): ', phys.hbar)\n",
    "print('Boltzmann Constant (eV/K): ', phys.kB)\n",
    "print('Hubble Constant (s^-1): ', phys.H0)\n",
    "print('Critical Density (eV/cm^3): ', phys.rho_crit)\n",
    "print('Ionization Potential of Hydrogen (eV): ', phys.rydberg)"
   ]
  },
  {
   "cell_type": "markdown",
   "metadata": {},
   "source": [
    "A complete list of constants can be found at the [*darkhistory.physics*](https://darkhistory.readthedocs.io/en/latest/_autosummary/darkhistory/darkhistory.physics.html). "
   ]
  },
  {
   "cell_type": "markdown",
   "metadata": {},
   "source": [
    "## Methods"
   ]
  },
  {
   "cell_type": "markdown",
   "metadata": {},
   "source": [
    "The code also comes with several functions that are useful for cosmology and atomic physics. Let's take a look at a few of them: we again refer the user to the documentation for a complete list. "
   ]
  },
  {
   "cell_type": "markdown",
   "metadata": {},
   "source": [
    "## Hubble Parameter"
   ]
  },
  {
   "cell_type": "markdown",
   "metadata": {},
   "source": [
    "The Hubble parameter as a function of redshift is built-in. In the code, we usually refer to redshift using the variable ``rs``, which is taken to be $1+z$, i.e. the value of ``rs`` today would be 1 throughout the code. "
   ]
  },
  {
   "cell_type": "code",
   "execution_count": null,
   "metadata": {},
   "outputs": [],
   "source": [
    "rs = 10**np.arange(-4, 5, 0.1)\n",
    "\n",
    "hubble_arr = phys.hubble(rs)\n",
    "\n",
    "plt.figure()\n",
    "\n",
    "plt.loglog()\n",
    "\n",
    "plt.plot(rs, hubble_arr)\n",
    "\n",
    "plt.xlabel('Redshift $(1+z)$')\n",
    "plt.ylabel('Hubble Parameter [s$^{-1}$]')\n",
    "plt.title('Hubble Parameter')"
   ]
  },
  {
   "cell_type": "markdown",
   "metadata": {},
   "source": [
    "## CMB Spectrum"
   ]
  },
  {
   "cell_type": "markdown",
   "metadata": {},
   "source": [
    "The CMB spectrum $dn_\\gamma/dE$ where $n_\\gamma$ is the number density of photons is returned by [*physics.CMB_spec*](https://darkhistory.readthedocs.io/en/latest/_autosummary/darkhistory/physics/darkhistory.physics.CMB_spec.html). It takes an array of energy values or energy *abscissa*, and a temperature in eV."
   ]
  },
  {
   "cell_type": "code",
   "execution_count": null,
   "metadata": {},
   "outputs": [],
   "source": [
    "eng = 10**np.arange(-4, 2, 0.1)\n",
    "\n",
    "spec = phys.CMB_spec(eng, 0.1)\n",
    "\n",
    "plt.figure()\n",
    "\n",
    "plt.loglog()\n",
    "\n",
    "plt.plot(eng, spec)\n",
    "\n",
    "plt.xlabel('Energy [eV]')\n",
    "plt.ylabel(r'$dn_\\gamma/dE$ [eV$^{-1}$ cm$^{-3}$]')\n",
    "plt.title('CMB Spectrum')\n",
    "\n",
    "plt.axis([1e-4, 10, 1e2, 1e12])"
   ]
  },
  {
   "cell_type": "markdown",
   "metadata": {},
   "source": [
    "## Bibliography"
   ]
  },
  {
   "cell_type": "markdown",
   "metadata": {},
   "source": [
    "[1]<a id='cite_PDG'></a> M. Tanabashi et al. (Particle Data Group), “Review of Particle Physics,” Phys. Rev. D98, 030001 (2018).\n",
    "\n",
    "[2]<a id='cite_Planck'></a> N. Aghanim et al. (Planck), “Planck 2018 results. VI. Cosmological parameters,” (2018), arXiv:1807.06209 [astro-ph.CO]."
   ]
  },
  {
   "cell_type": "code",
   "execution_count": null,
   "metadata": {},
   "outputs": [],
   "source": []
  }
 ],
 "metadata": {
  "cite2c": {
   "citations": {
    "6232408/5RN9FSGZ": {
     "DOI": "10.1103/PhysRevD.98.030001",
     "URL": "https://link.aps.org/doi/10.1103/PhysRevD.98.030001",
     "abstract": "The Review summarizes much of particle physics and cosmology. Using data from previous editions, plus 2,873 new measurements from 758 papers, we list, evaluate, and average measured properties of gauge bosons and the recently discovered Higgs boson, leptons, quarks, mesons, and baryons. We summarize searches for hypothetical particles such as supersymmetric particles, heavy bosons, axions, dark photons, etc. Particle properties and search limits are listed in Summary Tables. We give numerous tables, figures, formulae, and reviews of topics such as Higgs Boson Physics, Supersymmetry, Grand Unified Theories, Neutrino Mixing, Dark Energy, Dark Matter, Cosmology, Particle Detectors, Colliders, Probability and Statistics. Among the 118 reviews are many that are new or heavily revised, including a new review on Neutrinos in Cosmology.",
     "accessed": {
      "day": 29,
      "month": 3,
      "year": 2019
     },
     "author": [
      {
       "family": "Particle Data Group",
       "given": ""
      },
      {
       "family": "Tanabashi",
       "given": "M."
      },
      {
       "family": "Hagiwara",
       "given": "K."
      },
      {
       "family": "Hikasa",
       "given": "K."
      },
      {
       "family": "Nakamura",
       "given": "K."
      },
      {
       "family": "Sumino",
       "given": "Y."
      },
      {
       "family": "Takahashi",
       "given": "F."
      },
      {
       "family": "Tanaka",
       "given": "J."
      },
      {
       "family": "Agashe",
       "given": "K."
      },
      {
       "family": "Aielli",
       "given": "G."
      },
      {
       "family": "Amsler",
       "given": "C."
      },
      {
       "family": "Antonelli",
       "given": "M."
      },
      {
       "family": "Asner",
       "given": "D. M."
      },
      {
       "family": "Baer",
       "given": "H."
      },
      {
       "family": "Banerjee",
       "given": "Sw."
      },
      {
       "family": "Barnett",
       "given": "R. M."
      },
      {
       "family": "Basaglia",
       "given": "T."
      },
      {
       "family": "Bauer",
       "given": "C. W."
      },
      {
       "family": "Beatty",
       "given": "J. J."
      },
      {
       "family": "Belousov",
       "given": "V. I."
      },
      {
       "family": "Beringer",
       "given": "J."
      },
      {
       "family": "Bethke",
       "given": "S."
      },
      {
       "family": "Bettini",
       "given": "A."
      },
      {
       "family": "Bichsel",
       "given": "H."
      },
      {
       "family": "Biebel",
       "given": "O."
      },
      {
       "family": "Black",
       "given": "K. M."
      },
      {
       "family": "Blucher",
       "given": "E."
      },
      {
       "family": "Buchmuller",
       "given": "O."
      },
      {
       "family": "Burkert",
       "given": "V."
      },
      {
       "family": "Bychkov",
       "given": "M. A."
      },
      {
       "family": "Cahn",
       "given": "R. N."
      },
      {
       "family": "Carena",
       "given": "M."
      },
      {
       "family": "Ceccucci",
       "given": "A."
      },
      {
       "family": "Cerri",
       "given": "A."
      },
      {
       "family": "Chakraborty",
       "given": "D."
      },
      {
       "family": "Chen",
       "given": "M.-C."
      },
      {
       "family": "Chivukula",
       "given": "R. S."
      },
      {
       "family": "Cowan",
       "given": "G."
      },
      {
       "family": "Dahl",
       "given": "O."
      },
      {
       "family": "D’Ambrosio",
       "given": "G."
      },
      {
       "family": "Damour",
       "given": "T."
      },
      {
       "family": "de Florian",
       "given": "D."
      },
      {
       "family": "de Gouvêa",
       "given": "A."
      },
      {
       "family": "DeGrand",
       "given": "T."
      },
      {
       "family": "de Jong",
       "given": "P."
      },
      {
       "family": "Dissertori",
       "given": "G."
      },
      {
       "family": "Dobrescu",
       "given": "B. A."
      },
      {
       "family": "D’Onofrio",
       "given": "M."
      },
      {
       "family": "Doser",
       "given": "M."
      },
      {
       "family": "Drees",
       "given": "M."
      },
      {
       "family": "Dreiner",
       "given": "H. K."
      },
      {
       "family": "Dwyer",
       "given": "D. A."
      },
      {
       "family": "Eerola",
       "given": "P."
      },
      {
       "family": "Eidelman",
       "given": "S."
      },
      {
       "family": "Ellis",
       "given": "J."
      },
      {
       "family": "Erler",
       "given": "J."
      },
      {
       "family": "Ezhela",
       "given": "V. V."
      },
      {
       "family": "Fetscher",
       "given": "W."
      },
      {
       "family": "Fields",
       "given": "B. D."
      },
      {
       "family": "Firestone",
       "given": "R."
      },
      {
       "family": "Foster",
       "given": "B."
      },
      {
       "family": "Freitas",
       "given": "A."
      },
      {
       "family": "Gallagher",
       "given": "H."
      },
      {
       "family": "Garren",
       "given": "L."
      },
      {
       "family": "Gerber",
       "given": "H.-J."
      },
      {
       "family": "Gerbier",
       "given": "G."
      },
      {
       "family": "Gershon",
       "given": "T."
      },
      {
       "family": "Gershtein",
       "given": "Y."
      },
      {
       "family": "Gherghetta",
       "given": "T."
      },
      {
       "family": "Godizov",
       "given": "A. A."
      },
      {
       "family": "Goodman",
       "given": "M."
      },
      {
       "family": "Grab",
       "given": "C."
      },
      {
       "family": "Gritsan",
       "given": "A. V."
      },
      {
       "family": "Grojean",
       "given": "C."
      },
      {
       "family": "Groom",
       "given": "D. E."
      },
      {
       "family": "Grünewald",
       "given": "M."
      },
      {
       "family": "Gurtu",
       "given": "A."
      },
      {
       "family": "Gutsche",
       "given": "T."
      },
      {
       "family": "Haber",
       "given": "H. E."
      },
      {
       "family": "Hanhart",
       "given": "C."
      },
      {
       "family": "Hashimoto",
       "given": "S."
      },
      {
       "family": "Hayato",
       "given": "Y."
      },
      {
       "family": "Hayes",
       "given": "K. G."
      },
      {
       "family": "Hebecker",
       "given": "A."
      },
      {
       "family": "Heinemeyer",
       "given": "S."
      },
      {
       "family": "Heltsley",
       "given": "B."
      },
      {
       "family": "Hernández-Rey",
       "given": "J. J."
      },
      {
       "family": "Hisano",
       "given": "J."
      },
      {
       "family": "Höcker",
       "given": "A."
      },
      {
       "family": "Holder",
       "given": "J."
      },
      {
       "family": "Holtkamp",
       "given": "A."
      },
      {
       "family": "Hyodo",
       "given": "T."
      },
      {
       "family": "Irwin",
       "given": "K. D."
      },
      {
       "family": "Johnson",
       "given": "K. F."
      },
      {
       "family": "Kado",
       "given": "M."
      },
      {
       "family": "Karliner",
       "given": "M."
      },
      {
       "family": "Katz",
       "given": "U. F."
      },
      {
       "family": "Klein",
       "given": "S. R."
      },
      {
       "family": "Klempt",
       "given": "E."
      },
      {
       "family": "Kowalewski",
       "given": "R. V."
      },
      {
       "family": "Krauss",
       "given": "F."
      },
      {
       "family": "Kreps",
       "given": "M."
      },
      {
       "family": "Krusche",
       "given": "B."
      },
      {
       "family": "Kuyanov",
       "given": "Yu. V."
      },
      {
       "family": "Kwon",
       "given": "Y."
      },
      {
       "family": "Lahav",
       "given": "O."
      },
      {
       "family": "Laiho",
       "given": "J."
      },
      {
       "family": "Lesgourgues",
       "given": "J."
      },
      {
       "family": "Liddle",
       "given": "A."
      },
      {
       "family": "Ligeti",
       "given": "Z."
      },
      {
       "family": "Lin",
       "given": "C.-J."
      },
      {
       "family": "Lippmann",
       "given": "C."
      },
      {
       "family": "Liss",
       "given": "T. M."
      },
      {
       "family": "Littenberg",
       "given": "L."
      },
      {
       "family": "Lugovsky",
       "given": "K. S."
      },
      {
       "family": "Lugovsky",
       "given": "S. B."
      },
      {
       "family": "Lusiani",
       "given": "A."
      },
      {
       "family": "Makida",
       "given": "Y."
      },
      {
       "family": "Maltoni",
       "given": "F."
      },
      {
       "family": "Mannel",
       "given": "T."
      },
      {
       "family": "Manohar",
       "given": "A. V."
      },
      {
       "family": "Marciano",
       "given": "W. J."
      },
      {
       "family": "Martin",
       "given": "A. D."
      },
      {
       "family": "Masoni",
       "given": "A."
      },
      {
       "family": "Matthews",
       "given": "J."
      },
      {
       "family": "Meißner",
       "given": "U.-G."
      },
      {
       "family": "Milstead",
       "given": "D."
      },
      {
       "family": "Mitchell",
       "given": "R. E."
      },
      {
       "family": "Mönig",
       "given": "K."
      },
      {
       "family": "Molaro",
       "given": "P."
      },
      {
       "family": "Moortgat",
       "given": "F."
      },
      {
       "family": "Moskovic",
       "given": "M."
      },
      {
       "family": "Murayama",
       "given": "H."
      },
      {
       "family": "Narain",
       "given": "M."
      },
      {
       "family": "Nason",
       "given": "P."
      },
      {
       "family": "Navas",
       "given": "S."
      },
      {
       "family": "Neubert",
       "given": "M."
      },
      {
       "family": "Nevski",
       "given": "P."
      },
      {
       "family": "Nir",
       "given": "Y."
      },
      {
       "family": "Olive",
       "given": "K. A."
      },
      {
       "family": "Pagan Griso",
       "given": "S."
      },
      {
       "family": "Parsons",
       "given": "J."
      },
      {
       "family": "Patrignani",
       "given": "C."
      },
      {
       "family": "Peacock",
       "given": "J. A."
      },
      {
       "family": "Pennington",
       "given": "M."
      },
      {
       "family": "Petcov",
       "given": "S. T."
      },
      {
       "family": "Petrov",
       "given": "V. A."
      },
      {
       "family": "Pianori",
       "given": "E."
      },
      {
       "family": "Piepke",
       "given": "A."
      },
      {
       "family": "Pomarol",
       "given": "A."
      },
      {
       "family": "Quadt",
       "given": "A."
      },
      {
       "family": "Rademacker",
       "given": "J."
      },
      {
       "family": "Raffelt",
       "given": "G."
      },
      {
       "family": "Ratcliff",
       "given": "B. N."
      },
      {
       "family": "Richardson",
       "given": "P."
      },
      {
       "family": "Ringwald",
       "given": "A."
      },
      {
       "family": "Roesler",
       "given": "S."
      },
      {
       "family": "Rolli",
       "given": "S."
      },
      {
       "family": "Romaniouk",
       "given": "A."
      },
      {
       "family": "Rosenberg",
       "given": "L. J."
      },
      {
       "family": "Rosner",
       "given": "J. L."
      },
      {
       "family": "Rybka",
       "given": "G."
      },
      {
       "family": "Ryutin",
       "given": "R. A."
      },
      {
       "family": "Sachrajda",
       "given": "C. T."
      },
      {
       "family": "Sakai",
       "given": "Y."
      },
      {
       "family": "Salam",
       "given": "G. P."
      },
      {
       "family": "Sarkar",
       "given": "S."
      },
      {
       "family": "Sauli",
       "given": "F."
      },
      {
       "family": "Schneider",
       "given": "O."
      },
      {
       "family": "Scholberg",
       "given": "K."
      },
      {
       "family": "Schwartz",
       "given": "A. J."
      },
      {
       "family": "Scott",
       "given": "D."
      },
      {
       "family": "Sharma",
       "given": "V."
      },
      {
       "family": "Sharpe",
       "given": "S. R."
      },
      {
       "family": "Shutt",
       "given": "T."
      },
      {
       "family": "Silari",
       "given": "M."
      },
      {
       "family": "Sjöstrand",
       "given": "T."
      },
      {
       "family": "Skands",
       "given": "P."
      },
      {
       "family": "Skwarnicki",
       "given": "T."
      },
      {
       "family": "Smith",
       "given": "J. G."
      },
      {
       "family": "Smoot",
       "given": "G. F."
      },
      {
       "family": "Spanier",
       "given": "S."
      },
      {
       "family": "Spieler",
       "given": "H."
      },
      {
       "family": "Spiering",
       "given": "C."
      },
      {
       "family": "Stahl",
       "given": "A."
      },
      {
       "family": "Stone",
       "given": "S. L."
      },
      {
       "family": "Sumiyoshi",
       "given": "T."
      },
      {
       "family": "Syphers",
       "given": "M. J."
      },
      {
       "family": "Terashi",
       "given": "K."
      },
      {
       "family": "Terning",
       "given": "J."
      },
      {
       "family": "Thoma",
       "given": "U."
      },
      {
       "family": "Thorne",
       "given": "R. S."
      },
      {
       "family": "Tiator",
       "given": "L."
      },
      {
       "family": "Titov",
       "given": "M."
      },
      {
       "family": "Tkachenko",
       "given": "N. P."
      },
      {
       "family": "Törnqvist",
       "given": "N. A."
      },
      {
       "family": "Tovey",
       "given": "D. R."
      },
      {
       "family": "Valencia",
       "given": "G."
      },
      {
       "family": "Van de Water",
       "given": "R."
      },
      {
       "family": "Varelas",
       "given": "N."
      },
      {
       "family": "Venanzoni",
       "given": "G."
      },
      {
       "family": "Verde",
       "given": "L."
      },
      {
       "family": "Vincter",
       "given": "M. G."
      },
      {
       "family": "Vogel",
       "given": "P."
      },
      {
       "family": "Vogt",
       "given": "A."
      },
      {
       "family": "Wakely",
       "given": "S. P."
      },
      {
       "family": "Walkowiak",
       "given": "W."
      },
      {
       "family": "Walter",
       "given": "C. W."
      },
      {
       "family": "Wands",
       "given": "D."
      },
      {
       "family": "Ward",
       "given": "D. R."
      },
      {
       "family": "Wascko",
       "given": "M. O."
      },
      {
       "family": "Weiglein",
       "given": "G."
      },
      {
       "family": "Weinberg",
       "given": "D. H."
      },
      {
       "family": "Weinberg",
       "given": "E. J."
      },
      {
       "family": "White",
       "given": "M."
      },
      {
       "family": "Wiencke",
       "given": "L. R."
      },
      {
       "family": "Willocq",
       "given": "S."
      },
      {
       "family": "Wohl",
       "given": "C. G."
      },
      {
       "family": "Womersley",
       "given": "J."
      },
      {
       "family": "Woody",
       "given": "C. L."
      },
      {
       "family": "Workman",
       "given": "R. L."
      },
      {
       "family": "Yao",
       "given": "W.-M."
      },
      {
       "family": "Zeller",
       "given": "G. P."
      },
      {
       "family": "Zenin",
       "given": "O. V."
      },
      {
       "family": "Zhu",
       "given": "R.-Y."
      },
      {
       "family": "Zhu",
       "given": "S.-L."
      },
      {
       "family": "Zimmermann",
       "given": "F."
      },
      {
       "family": "Zyla",
       "given": "P. A."
      },
      {
       "family": "Anderson",
       "given": "J."
      },
      {
       "family": "Fuller",
       "given": "L."
      },
      {
       "family": "Lugovsky",
       "given": "V. S."
      },
      {
       "family": "Schaffner",
       "given": "P."
      }
     ],
     "container-title": "Physical Review D",
     "container-title-short": "Phys. Rev. D",
     "id": "6232408/5RN9FSGZ",
     "issue": "3",
     "issued": {
      "day": 17,
      "month": 8,
      "year": 2018
     },
     "journalAbbreviation": "Phys. Rev. D",
     "page": "030001",
     "page-first": "030001",
     "title": "Review of Particle Physics",
     "type": "article-journal",
     "volume": "98"
    },
    "6232408/6PSH3JR5": {
     "URL": "https://arxiv.org/abs/1807.06209v1",
     "abstract": "We present cosmological parameter results from the final full-mission Planck\nmeasurements of the CMB anisotropies. We find good consistency with the\nstandard spatially-flat 6-parameter $Λ$CDM cosmology having a power-law\nspectrum of adiabatic scalar perturbations (denoted \"base $Λ$CDM\" in this\npaper), from polarization, temperature, and lensing, separately and in\ncombination. A combined analysis gives dark matter density $Ω_c h^2 =\n0.120\\pm 0.001$, baryon density $Ω_b h^2 = 0.0224\\pm 0.0001$, scalar\nspectral index $n_s = 0.965\\pm 0.004$, and optical depth $τ= 0.054\\pm\n0.007$ (in this abstract we quote $68\\,\\%$ confidence regions on measured\nparameters and $95\\,\\%$ on upper limits). The angular acoustic scale is\nmeasured to $0.03\\,\\%$ precision, with $100θ_*=1.0411\\pm 0.0003$. These\nresults are only weakly dependent on the cosmological model and remain stable,\nwith somewhat increased errors, in many commonly considered extensions.\nAssuming the base-$Λ$CDM cosmology, the inferred late-Universe parameters\nare: Hubble constant $H_0 = (67.4\\pm 0.5)$km/s/Mpc; matter density parameter\n$Ω_m = 0.315\\pm 0.007$; and matter fluctuation amplitude $σ_8 =\n0.811\\pm 0.006$. We find no compelling evidence for extensions to the\nbase-$Λ$CDM model. Combining with BAO we constrain the effective extra\nrelativistic degrees of freedom to be $N_{\\rm eff} = 2.99\\pm 0.17$, and the\nneutrino mass is tightly constrained to $\\sum m_ν< 0.12$eV. The CMB spectra\ncontinue to prefer higher lensing amplitudes than predicted in base\n-$Λ$CDM at over $2\\,σ$, which pulls some parameters that affect the\nlensing amplitude away from the base-$Λ$CDM model; however, this is not\nsupported by the lensing reconstruction or (in models that also change the\nbackground geometry) BAO data. (Abridged)",
     "accessed": {
      "day": 29,
      "month": 3,
      "year": 2019
     },
     "author": [
      {
       "family": "Collaboration",
       "given": "Planck"
      },
      {
       "family": "Aghanim",
       "given": "N."
      },
      {
       "family": "Akrami",
       "given": "Y."
      },
      {
       "family": "Ashdown",
       "given": "M."
      },
      {
       "family": "Aumont",
       "given": "J."
      },
      {
       "family": "Baccigalupi",
       "given": "C."
      },
      {
       "family": "Ballardini",
       "given": "M."
      },
      {
       "family": "Banday",
       "given": "A. J."
      },
      {
       "family": "Barreiro",
       "given": "R. B."
      },
      {
       "family": "Bartolo",
       "given": "N."
      },
      {
       "family": "Basak",
       "given": "S."
      },
      {
       "family": "Battye",
       "given": "R."
      },
      {
       "family": "Benabed",
       "given": "K."
      },
      {
       "family": "Bernard",
       "given": "J.-P."
      },
      {
       "family": "Bersanelli",
       "given": "M."
      },
      {
       "family": "Bielewicz",
       "given": "P."
      },
      {
       "family": "Bock",
       "given": "J. J."
      },
      {
       "family": "Bond",
       "given": "J. R."
      },
      {
       "family": "Borrill",
       "given": "J."
      },
      {
       "family": "Bouchet",
       "given": "F. R."
      },
      {
       "family": "Boulanger",
       "given": "F."
      },
      {
       "family": "Bucher",
       "given": "M."
      },
      {
       "family": "Burigana",
       "given": "C."
      },
      {
       "family": "Butler",
       "given": "R. C."
      },
      {
       "family": "Calabrese",
       "given": "E."
      },
      {
       "family": "Cardoso",
       "given": "J.-F."
      },
      {
       "family": "Carron",
       "given": "J."
      },
      {
       "family": "Challinor",
       "given": "A."
      },
      {
       "family": "Chiang",
       "given": "H. C."
      },
      {
       "family": "Chluba",
       "given": "J."
      },
      {
       "family": "Colombo",
       "given": "L. P. L."
      },
      {
       "family": "Combet",
       "given": "C."
      },
      {
       "family": "Contreras",
       "given": "D."
      },
      {
       "family": "Crill",
       "given": "B. P."
      },
      {
       "family": "Cuttaia",
       "given": "F."
      },
      {
       "family": "de Bernardis",
       "given": "P."
      },
      {
       "family": "de Zotti",
       "given": "G."
      },
      {
       "family": "Delabrouille",
       "given": "J."
      },
      {
       "family": "Delouis",
       "given": "J.-M."
      },
      {
       "family": "Di Valentino",
       "given": "E."
      },
      {
       "family": "Diego",
       "given": "J. M."
      },
      {
       "family": "Doré",
       "given": "O."
      },
      {
       "family": "Douspis",
       "given": "M."
      },
      {
       "family": "Ducout",
       "given": "A."
      },
      {
       "family": "Dupac",
       "given": "X."
      },
      {
       "family": "Dusini",
       "given": "S."
      },
      {
       "family": "Efstathiou",
       "given": "G."
      },
      {
       "family": "Elsner",
       "given": "F."
      },
      {
       "family": "Enßlin",
       "given": "T. A."
      },
      {
       "family": "Eriksen",
       "given": "H. K."
      },
      {
       "family": "Fantaye",
       "given": "Y."
      },
      {
       "family": "Farhang",
       "given": "M."
      },
      {
       "family": "Fergusson",
       "given": "J."
      },
      {
       "family": "Fernandez-Cobos",
       "given": "R."
      },
      {
       "family": "Finelli",
       "given": "F."
      },
      {
       "family": "Forastieri",
       "given": "F."
      },
      {
       "family": "Frailis",
       "given": "M."
      },
      {
       "family": "Franceschi",
       "given": "E."
      },
      {
       "family": "Frolov",
       "given": "A."
      },
      {
       "family": "Galeotta",
       "given": "S."
      },
      {
       "family": "Galli",
       "given": "S."
      },
      {
       "family": "Ganga",
       "given": "K."
      },
      {
       "family": "Génova-Santos",
       "given": "R. T."
      },
      {
       "family": "Gerbino",
       "given": "M."
      },
      {
       "family": "Ghosh",
       "given": "T."
      },
      {
       "family": "González-Nuevo",
       "given": "J."
      },
      {
       "family": "Górski",
       "given": "K. M."
      },
      {
       "family": "Gratton",
       "given": "S."
      },
      {
       "family": "Gruppuso",
       "given": "A."
      },
      {
       "family": "Gudmundsson",
       "given": "J. E."
      },
      {
       "family": "Hamann",
       "given": "J."
      },
      {
       "family": "Handley",
       "given": "W."
      },
      {
       "family": "Herranz",
       "given": "D."
      },
      {
       "family": "Hivon",
       "given": "E."
      },
      {
       "family": "Huang",
       "given": "Z."
      },
      {
       "family": "Jaffe",
       "given": "A. H."
      },
      {
       "family": "Jones",
       "given": "W. C."
      },
      {
       "family": "Karakci",
       "given": "A."
      },
      {
       "family": "Keihänen",
       "given": "E."
      },
      {
       "family": "Keskitalo",
       "given": "R."
      },
      {
       "family": "Kiiveri",
       "given": "K."
      },
      {
       "family": "Kim",
       "given": "J."
      },
      {
       "family": "Kisner",
       "given": "T. S."
      },
      {
       "family": "Knox",
       "given": "L."
      },
      {
       "family": "Krachmalnicoff",
       "given": "N."
      },
      {
       "family": "Kunz",
       "given": "M."
      },
      {
       "family": "Kurki-Suonio",
       "given": "H."
      },
      {
       "family": "Lagache",
       "given": "G."
      },
      {
       "family": "Lamarre",
       "given": "J.-M."
      },
      {
       "family": "Lasenby",
       "given": "A."
      },
      {
       "family": "Lattanzi",
       "given": "M."
      },
      {
       "family": "Lawrence",
       "given": "C. R."
      },
      {
       "family": "Jeune",
       "given": "M. Le"
      },
      {
       "family": "Lemos",
       "given": "P."
      },
      {
       "family": "Lesgourgues",
       "given": "J."
      },
      {
       "family": "Levrier",
       "given": "F."
      },
      {
       "family": "Lewis",
       "given": "A."
      },
      {
       "family": "Liguori",
       "given": "M."
      },
      {
       "family": "Lilje",
       "given": "P. B."
      },
      {
       "family": "Lilley",
       "given": "M."
      }
     ],
     "id": "6232408/6PSH3JR5",
     "issued": {
      "day": 17,
      "month": 7,
      "year": 2018
     },
     "language": "en",
     "title": "Planck 2018 results. VI. Cosmological parameters",
     "type": "article-journal"
    }
   }
  },
  "kernelspec": {
   "display_name": "Python 3",
   "language": "python",
   "name": "python3"
  },
  "language_info": {
   "codemirror_mode": {
    "name": "ipython",
    "version": 3
   },
   "file_extension": ".py",
   "mimetype": "text/x-python",
   "name": "python",
   "nbconvert_exporter": "python",
   "pygments_lexer": "ipython3",
   "version": "3.6.7"
  },
  "toc": {
   "base_numbering": 1,
   "nav_menu": {},
   "number_sections": true,
   "sideBar": true,
   "skip_h1_title": false,
   "title_cell": "Table of Contents",
   "title_sidebar": "Contents",
   "toc_cell": false,
   "toc_position": {},
   "toc_section_display": true,
   "toc_window_display": false
  }
 },
 "nbformat": 4,
 "nbformat_minor": 2
}
