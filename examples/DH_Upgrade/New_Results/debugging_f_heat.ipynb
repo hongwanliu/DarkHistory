{
 "cells": [
  {
   "cell_type": "code",
   "execution_count": 1,
   "metadata": {},
   "outputs": [],
   "source": [
    "%load_ext autoreload\n",
    "%load_ext line_profiler"
   ]
  },
  {
   "cell_type": "code",
   "execution_count": 2,
   "metadata": {},
   "outputs": [
    {
     "name": "stderr",
     "output_type": "stream",
     "text": [
      "\n",
      "Bad key text.latex.preview in file ../../matplotlibrc, line 10 ('text.latex.preview : False')\n",
      "You probably need to get an updated matplotlibrc file from\n",
      "https://github.com/matplotlib/matplotlib/blob/v3.5.1/matplotlibrc.template\n",
      "or from the matplotlib source distribution\n"
     ]
    }
   ],
   "source": [
    "%autoreload \n",
    "\n",
    "import sys\n",
    "sys.path.append('../../..')\n",
    "import pickle\n",
    "\n",
    "import numpy as np\n",
    "from tqdm import tqdm_notebook as tqdm\n",
    "\n",
    "import matplotlib\n",
    "matplotlib.rc_file('../../matplotlibrc')\n",
    "import matplotlib.pyplot as plt\n",
    "from matplotlib.pyplot import cm \n",
    "import matplotlib.colors as colors\n",
    "%matplotlib inline\n",
    "\n",
    "import darkhistory.physics as phys\n",
    "import main\n",
    "import config"
   ]
  },
  {
   "cell_type": "code",
   "execution_count": 3,
   "metadata": {},
   "outputs": [
    {
     "name": "stdout",
     "output_type": "stream",
     "text": [
      "****** Loading transfer functions... ******\n",
      "    for propagating photons...   Done!\n",
      "    for low-energy photons...  Done!\n",
      "    for low-energy electrons...  Done!\n",
      "    for high-energy deposition...  Done!\n",
      "    for total upscattered CMB energy rate...  Done!\n",
      "****** Loading complete! ******\n",
      "****** Loading transfer functions... ******\n",
      "    for inverse Compton (Thomson)...  Done!\n",
      "    for inverse Compton (relativistic)...  Done!\n",
      "    for inverse Compton (energy loss)...  Done!\n",
      "****** Loading complete! ******\n",
      "cross_check has been set to True -- No longer using all MEDEA               files and no longer using partial-binning.\n"
     ]
    },
    {
     "data": {
      "application/vnd.jupyter.widget-view+json": {
       "model_id": "d0dcd7d396ff4ce59d842a9c999aef32",
       "version_major": 2,
       "version_minor": 0
      },
      "text/plain": [
       "  0%|          | 0/414.0 [00:00<?, ?it/s]"
      ]
     },
     "metadata": {},
     "output_type": "display_data"
    },
    {
     "name": "stdout",
     "output_type": "stream",
     "text": [
      "Successfully produced file:  /scratch/gpfs/hongwanl/DarkHistory/scratch/phot_decay_log10mDM_6.8573_log10param_40.6021_max_CMB_no_BR_no_distort_TLA_ind_0.p\n"
     ]
    }
   ],
   "source": [
    "%autoreload \n",
    "\n",
    "params_list = [{'pri':'phot', 'DM_process':'decay', \n",
    "                'mDM':7.2e6, 'inj_param':4e40\n",
    "            }]\n",
    "\n",
    "options_dict = {\n",
    "    'start_rs': 3000, 'high_rs': 1.555e3, 'end_rs':4, 'cross_check':True,\n",
    "    #'reion_switch':True, 'reion_method':'Puchwein', 'heat_switch':True,\n",
    "    'reion_switch':False, 'reion_method':'Puchwein', 'heat_switch':False,\n",
    "    'coarsen_factor':16, 'distort':False, 'fexc_switch': False, 'backreaction':False,\n",
    "    'reprocess_distortion':False, 'nmax':10, 'rtol':1e-6, 'use_tqdm':True, 'tqdm_jupyter':True, 'iterations':1\n",
    "}\n",
    "\n",
    "output_dir = '/scratch/gpfs/hongwanl/DarkHistory/scratch/'\n",
    "\n",
    "main.embarrassingly_parallel_evolve(\n",
    "    params_list, 0, options_dict, output_dir, 'max_CMB_no_BR_no_distort_TLA'\n",
    ")"
   ]
  },
  {
   "cell_type": "code",
   "execution_count": 6,
   "metadata": {},
   "outputs": [],
   "source": [
    "# full_data = pickle.load(open('/scratch/gpfs/hongwanl/DarkHistory/scratch/log10mDM_4.0000_phot_decay_log10param_24.6021_max_CMB_nmax_200_Puchwein_ind_0.p', 'rb'))\n",
    "\n",
    "old_data = pickle.load(open('/scratch/gpfs/hongwanl/DarkHistory/scratch/phot_decay_log10mDM_6.8573_log10param_24.6021_max_CMB_no_BR_no_distort_TLA_ind_0.p', 'rb'))"
   ]
  },
  {
   "cell_type": "code",
   "execution_count": 7,
   "metadata": {},
   "outputs": [
    {
     "data": {
      "text/plain": [
       "[<matplotlib.lines.Line2D at 0x151283590490>]"
      ]
     },
     "execution_count": 7,
     "metadata": {},
     "output_type": "execute_result"
    },
    {
     "data": {
      "image/png": "[encoded data removed]",
      "text/plain": [
       "<Figure size 432x288 with 1 Axes>"
      ]
     },
     "metadata": {
      "needs_background": "light"
     },
     "output_type": "display_data"
    }
   ],
   "source": [
    "plt.figure()\n",
    "\n",
    "plt.loglog()\n",
    "\n",
    "# plt.xscale('log')\n",
    "\n",
    "rs_vec = old_data['data']['rs']\n",
    "f_ion_vec = old_data['data']['f']['H ion']\n",
    "f_heat_vec = old_data['data']['f']['heat']\n",
    "\n",
    "\n",
    "f_ion_std = phys.f_std(7.2e6, rs_vec, inj_particle='phot', inj_type='decay', channel='H ion')\n",
    "f_heat_std = phys.f_std(7.2e6, rs_vec, inj_particle='phot', inj_type='decay', channel='heat')\n",
    "\n",
    "\n",
    "plt.plot(rs_vec, f_ion_vec)\n",
    "plt.plot(rs_vec, f_ion_std)\n",
    "plt.plot(rs_vec, f_heat_vec)\n",
    "plt.plot(rs_vec, f_heat_std)"
   ]
  }
 ],
 "metadata": {
  "kernelspec": {
   "display_name": "Python 3.8.13 ('DarkHistory')",
   "language": "python",
   "name": "python3"
  },
  "language_info": {
   "codemirror_mode": {
    "name": "ipython",
    "version": 3
   },
   "file_extension": ".py",
   "mimetype": "text/x-python",
   "name": "python",
   "nbconvert_exporter": "python",
   "pygments_lexer": "ipython3",
   "version": "3.8.13"
  },
  "orig_nbformat": 4,
  "vscode": {
   "interpreter": {
    "hash": "706ea14756dc382a876d73e5832be7f55bf221f2f0f179ca7c267b8b07f4af80"
   }
  }
 },
 "nbformat": 4,
 "nbformat_minor": 2
}
