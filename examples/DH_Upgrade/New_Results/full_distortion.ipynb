{
 "cells": [
  {
   "cell_type": "code",
   "execution_count": 1,
   "metadata": {},
   "outputs": [],
   "source": [
    "import sys\n",
    "sys.path.append('../../..')\n",
    "import numpy as np\n",
    "from tqdm import tqdm_notebook as tqdm\n",
    "from scipy.interpolate import interp1d, interp2d\n",
    "\n",
    "import config\n",
    "import main\n",
    "import pickle\n",
    "import darkhistory.physics as phys\n",
    "from darkhistory.spec.spectra import Spectra\n",
    "from darkhistory.spec.spectrum import Spectrum\n",
    "import darkhistory.low_energy.atomic as atomic\n",
    "import darkhistory.spec.spectools as spectools\n",
    "# from plotting_utils import plot_distortion, download_plot\n",
    "\n",
    "import matplotlib\n",
    "matplotlib.rc_file('../../../matplotlibrc')\n",
    "import matplotlib.pyplot as plt\n",
    "from matplotlib.pyplot import cm\n",
    "import matplotlib.colors as colors\n",
    "%matplotlib inline"
   ]
  },
  {
   "cell_type": "code",
   "execution_count": 39,
   "metadata": {},
   "outputs": [],
   "source": [
    "### SETTINGS TO CHANGE\n",
    "output_dir = '/Users/viviesque/OneDrive - Massachusetts Institute of Technology/DarkHistory/output/'\n",
    "fig_dir = '/Users/viviesque/OneDrive - Massachusetts Institute of Technology/DarkHistory/figs/'\n",
    "\n",
    "# Choose to load data (True) or start a new scan (False)\n",
    "load_data = False"
   ]
  },
  {
   "cell_type": "markdown",
   "metadata": {},
   "source": [
    "# Scan over parameters, or load previous data"
   ]
  },
  {
   "cell_type": "code",
   "execution_count": 3,
   "metadata": {},
   "outputs": [],
   "source": [
    "# CMB constraints on interaction rates\n",
    "input_dir = config.data_path\n",
    "\n",
    "f_elec_CMB_raw = np.loadtxt(input_dir+'/CMB_limits_elec_swave.dat', delimiter=',')\n",
    "log10eng_elec_CMB  = f_elec_CMB_raw[0:2760:69, 0]\n",
    "log10rs_elec_CMB = f_elec_CMB_raw[0:69, 1]\n",
    "\n",
    "f_phot_CMB_raw = np.loadtxt(input_dir+'/CMB_limits_phot_swave.dat', delimiter=',')\n",
    "log10eng_phot_CMB  = f_phot_CMB_raw[0:2800:70, 0]\n",
    "log10rs_phot_CMB = f_phot_CMB_raw[0:70, 1]\n",
    "\n",
    "f_elec_CMB_raw = np.transpose(np.reshape(f_elec_CMB_raw[:,2], (40,69)))\n",
    "f_phot_CMB_raw = np.transpose(np.reshape(f_phot_CMB_raw[:,2], (40,70)))\n",
    "\n",
    "f_elec_CMB = interp2d(log10eng_elec_CMB, log10rs_elec_CMB, f_elec_CMB_raw)\n",
    "f_phot_CMB = interp2d(log10eng_phot_CMB, log10rs_phot_CMB, f_phot_CMB_raw)\n",
    "\n",
    "decay_elec_CMB_raw = np.loadtxt(input_dir+'/CMB_limits_elec_decay.csv', delimiter=',')\n",
    "decay_phot_CMB_raw = np.loadtxt(input_dir+'/CMB_limits_phot_decay.csv', delimiter=',')\n",
    "\n",
    "decay_elec_CMB = interp1d(np.transpose(decay_elec_CMB_raw)[0,:], np.transpose(decay_elec_CMB_raw)[1,:])\n",
    "decay_phot_CMB = interp1d(np.transpose(decay_phot_CMB_raw)[0,:], np.transpose(decay_phot_CMB_raw)[1,:])\n",
    "\n",
    "#Derived from Planck 2018 cosmological parameters\n",
    "p_ann = 3.5e-28\n",
    "\n",
    "def param_bound_elec_CMB(mDM, DM_process):\n",
    "    if DM_process == 'swave':\n",
    "        return p_ann*(mDM*1e-9)/f_elec_CMB(np.log10(mDM-phys.me), np.log10(601))[0]\n",
    "    elif DM_process == 'decay':\n",
    "        return np.array([decay_elec_CMB(mDM*1e-9)])[0]\n",
    "\n",
    "def param_bound_phot_CMB(mDM, DM_process):\n",
    "    if DM_process == 'swave':\n",
    "        return p_ann*(mDM*1e-9)/f_phot_CMB(np.log10(mDM), np.log10(601))[0]\n",
    "    elif DM_process == 'decay':\n",
    "        return np.array([decay_phot_CMB(mDM*1e-9)])[0]\n",
    "    \n",
    "def param_bound(mDM, DM_process, pri):\n",
    "    if pri == 'elec':\n",
    "        return param_bound_elec_CMB(mDM, DM_process)\n",
    "    else:\n",
    "        return param_bound_phot_CMB(mDM, DM_process)"
   ]
  },
  {
   "cell_type": "code",
   "execution_count": 44,
   "metadata": {},
   "outputs": [],
   "source": [
    "### Parameters\n",
    "start_rs, high_rs, end_rs = 3e3, 1.555e3, 4\n",
    "cf = 16\n",
    "rtol = 1e-6\n",
    "nmax = 10 # maximum number of hydrogen levels to track\n",
    "iter_max = 5 # number of times to iterate over recombination/ionization rates\n",
    "\n",
    "log10eng0 = 3.6989700794219966\n",
    "log10eng = np.array([log10eng0 + 0.23252559*i for i in np.arange(40)])\n",
    "log10eng[-1] = 12.601505994846297\n",
    "\n",
    "models = ['elec_decay', 'elec_swave', 'phot_decay', 'phot_swave']"
   ]
  },
  {
   "cell_type": "code",
   "execution_count": 46,
   "metadata": {},
   "outputs": [
    {
     "name": "stdout",
     "output_type": "stream",
     "text": [
      "~~~Iteration  0 ~~~\n",
      "starting elec_decay\n"
     ]
    },
    {
     "data": {
      "application/vnd.jupyter.widget-view+json": {
       "model_id": "b865dee84af34f9e90fae934c459996a",
       "version_major": 2,
       "version_minor": 0
      },
      "text/plain": [
       "HBox(children=(IntProgress(value=0, max=2), HTML(value='')))"
      ]
     },
     "metadata": {},
     "output_type": "display_data"
    },
    {
     "data": {
      "application/vnd.jupyter.widget-view+json": {
       "model_id": "dd713bc0a8b1412593557bd5765f8b69",
       "version_major": 2,
       "version_minor": 0
      },
      "text/plain": [
       "HBox(children=(IntProgress(value=0, max=76), HTML(value='')))"
      ]
     },
     "metadata": {},
     "output_type": "display_data"
    },
    {
     "data": {
      "application/vnd.jupyter.widget-view+json": {
       "model_id": "28914e20832e45758d43dbe6791bf0a7",
       "version_major": 2,
       "version_minor": 0
      },
      "text/plain": [
       "HBox(children=(IntProgress(value=0, max=76), HTML(value='')))"
      ]
     },
     "metadata": {},
     "output_type": "display_data"
    },
    {
     "name": "stdout",
     "output_type": "stream",
     "text": [
      "starting elec_swave\n"
     ]
    },
    {
     "data": {
      "application/vnd.jupyter.widget-view+json": {
       "model_id": "bed95c02e81a443aa2f845c3a852e76d",
       "version_major": 2,
       "version_minor": 0
      },
      "text/plain": [
       "HBox(children=(IntProgress(value=0, max=2), HTML(value='')))"
      ]
     },
     "metadata": {},
     "output_type": "display_data"
    },
    {
     "data": {
      "application/vnd.jupyter.widget-view+json": {
       "model_id": "722521d89d0b487a939b20520a86be22",
       "version_major": 2,
       "version_minor": 0
      },
      "text/plain": [
       "HBox(children=(IntProgress(value=0, max=76), HTML(value='')))"
      ]
     },
     "metadata": {},
     "output_type": "display_data"
    },
    {
     "data": {
      "application/vnd.jupyter.widget-view+json": {
       "model_id": "df1e1593acd145238343d9b8d9306af1",
       "version_major": 2,
       "version_minor": 0
      },
      "text/plain": [
       "HBox(children=(IntProgress(value=0, max=76), HTML(value='')))"
      ]
     },
     "metadata": {},
     "output_type": "display_data"
    },
    {
     "name": "stdout",
     "output_type": "stream",
     "text": [
      "starting phot_decay\n"
     ]
    },
    {
     "data": {
      "application/vnd.jupyter.widget-view+json": {
       "model_id": "ea359cfd8dac4d25bf34378704526fb1",
       "version_major": 2,
       "version_minor": 0
      },
      "text/plain": [
       "HBox(children=(IntProgress(value=0, max=2), HTML(value='')))"
      ]
     },
     "metadata": {},
     "output_type": "display_data"
    },
    {
     "data": {
      "application/vnd.jupyter.widget-view+json": {
       "model_id": "c32532015ec342aabee0c116c3695385",
       "version_major": 2,
       "version_minor": 0
      },
      "text/plain": [
       "HBox(children=(IntProgress(value=0, max=76), HTML(value='')))"
      ]
     },
     "metadata": {},
     "output_type": "display_data"
    },
    {
     "data": {
      "application/vnd.jupyter.widget-view+json": {
       "model_id": "90d6ca2f3d194995944bd8671d6c50a4",
       "version_major": 2,
       "version_minor": 0
      },
      "text/plain": [
       "HBox(children=(IntProgress(value=0, max=76), HTML(value='')))"
      ]
     },
     "metadata": {},
     "output_type": "display_data"
    },
    {
     "name": "stdout",
     "output_type": "stream",
     "text": [
      "starting phot_swave\n"
     ]
    },
    {
     "data": {
      "application/vnd.jupyter.widget-view+json": {
       "model_id": "d5070e8f8ad84b30808cd8fe91d5a16e",
       "version_major": 2,
       "version_minor": 0
      },
      "text/plain": [
       "HBox(children=(IntProgress(value=0, max=2), HTML(value='')))"
      ]
     },
     "metadata": {},
     "output_type": "display_data"
    },
    {
     "data": {
      "application/vnd.jupyter.widget-view+json": {
       "model_id": "2eaae3c0dce74581a7461a112e9a319f",
       "version_major": 2,
       "version_minor": 0
      },
      "text/plain": [
       "HBox(children=(IntProgress(value=0, max=76), HTML(value='')))"
      ]
     },
     "metadata": {},
     "output_type": "display_data"
    },
    {
     "data": {
      "application/vnd.jupyter.widget-view+json": {
       "model_id": "175f3bd7333d447e8d7558a567d4c372",
       "version_major": 2,
       "version_minor": 0
      },
      "text/plain": [
       "HBox(children=(IntProgress(value=0, max=76), HTML(value='')))"
      ]
     },
     "metadata": {},
     "output_type": "display_data"
    },
    {
     "name": "stdout",
     "output_type": "stream",
     "text": [
      "~~~Iteration  1 ~~~\n",
      "starting elec_decay\n"
     ]
    },
    {
     "data": {
      "application/vnd.jupyter.widget-view+json": {
       "model_id": "6db192b5b7f3405b93472f377a31eb9a",
       "version_major": 2,
       "version_minor": 0
      },
      "text/plain": [
       "HBox(children=(IntProgress(value=0, max=2), HTML(value='')))"
      ]
     },
     "metadata": {},
     "output_type": "display_data"
    },
    {
     "data": {
      "application/vnd.jupyter.widget-view+json": {
       "model_id": "8e41df7820154e458afc2d7c60f52ae3",
       "version_major": 2,
       "version_minor": 0
      },
      "text/plain": [
       "HBox(children=(IntProgress(value=0, max=76), HTML(value='')))"
      ]
     },
     "metadata": {},
     "output_type": "display_data"
    },
    {
     "data": {
      "application/vnd.jupyter.widget-view+json": {
       "model_id": "b443d87f1c89456aacbb02fafebaa9b0",
       "version_major": 2,
       "version_minor": 0
      },
      "text/plain": [
       "HBox(children=(IntProgress(value=0, max=76), HTML(value='')))"
      ]
     },
     "metadata": {},
     "output_type": "display_data"
    },
    {
     "name": "stdout",
     "output_type": "stream",
     "text": [
      "starting elec_swave\n"
     ]
    },
    {
     "data": {
      "application/vnd.jupyter.widget-view+json": {
       "model_id": "1c5e7495e1234da1a32e08a773d36839",
       "version_major": 2,
       "version_minor": 0
      },
      "text/plain": [
       "HBox(children=(IntProgress(value=0, max=2), HTML(value='')))"
      ]
     },
     "metadata": {},
     "output_type": "display_data"
    },
    {
     "data": {
      "application/vnd.jupyter.widget-view+json": {
       "model_id": "b8b67c9aa0de4addb549984926588218",
       "version_major": 2,
       "version_minor": 0
      },
      "text/plain": [
       "HBox(children=(IntProgress(value=0, max=76), HTML(value='')))"
      ]
     },
     "metadata": {},
     "output_type": "display_data"
    },
    {
     "data": {
      "application/vnd.jupyter.widget-view+json": {
       "model_id": "9dbe534da7874436ae7f2c2ca4afa64e",
       "version_major": 2,
       "version_minor": 0
      },
      "text/plain": [
       "HBox(children=(IntProgress(value=0, max=76), HTML(value='')))"
      ]
     },
     "metadata": {},
     "output_type": "display_data"
    },
    {
     "name": "stdout",
     "output_type": "stream",
     "text": [
      "starting phot_decay\n"
     ]
    },
    {
     "data": {
      "application/vnd.jupyter.widget-view+json": {
       "model_id": "85a5f38062c14ac4a3607309a74aaa04",
       "version_major": 2,
       "version_minor": 0
      },
      "text/plain": [
       "HBox(children=(IntProgress(value=0, max=2), HTML(value='')))"
      ]
     },
     "metadata": {},
     "output_type": "display_data"
    },
    {
     "data": {
      "application/vnd.jupyter.widget-view+json": {
       "model_id": "b9a1333fbab94bafad1901760e8b343d",
       "version_major": 2,
       "version_minor": 0
      },
      "text/plain": [
       "HBox(children=(IntProgress(value=0, max=76), HTML(value='')))"
      ]
     },
     "metadata": {},
     "output_type": "display_data"
    },
    {
     "data": {
      "application/vnd.jupyter.widget-view+json": {
       "model_id": "9eb0d7b8dff241e3955b5993bd3abca4",
       "version_major": 2,
       "version_minor": 0
      },
      "text/plain": [
       "HBox(children=(IntProgress(value=0, max=76), HTML(value='')))"
      ]
     },
     "metadata": {},
     "output_type": "display_data"
    },
    {
     "name": "stdout",
     "output_type": "stream",
     "text": [
      "starting phot_swave\n"
     ]
    },
    {
     "data": {
      "application/vnd.jupyter.widget-view+json": {
       "model_id": "f5875091384e47ac912e8930a7e45e6d",
       "version_major": 2,
       "version_minor": 0
      },
      "text/plain": [
       "HBox(children=(IntProgress(value=0, max=2), HTML(value='')))"
      ]
     },
     "metadata": {},
     "output_type": "display_data"
    },
    {
     "data": {
      "application/vnd.jupyter.widget-view+json": {
       "model_id": "ae87326ff68645318befbb43f527c00a",
       "version_major": 2,
       "version_minor": 0
      },
      "text/plain": [
       "HBox(children=(IntProgress(value=0, max=76), HTML(value='')))"
      ]
     },
     "metadata": {},
     "output_type": "display_data"
    },
    {
     "data": {
      "application/vnd.jupyter.widget-view+json": {
       "model_id": "23d5f32aa9784153ad457d2b6ebb555a",
       "version_major": 2,
       "version_minor": 0
      },
      "text/plain": [
       "HBox(children=(IntProgress(value=0, max=76), HTML(value='')))"
      ]
     },
     "metadata": {},
     "output_type": "display_data"
    },
    {
     "name": "stdout",
     "output_type": "stream",
     "text": [
      "~~~Iteration  2 ~~~\n",
      "starting elec_decay\n"
     ]
    },
    {
     "data": {
      "application/vnd.jupyter.widget-view+json": {
       "model_id": "0a0eae7509854e5a9c3ea4c0909bc75e",
       "version_major": 2,
       "version_minor": 0
      },
      "text/plain": [
       "HBox(children=(IntProgress(value=0, max=2), HTML(value='')))"
      ]
     },
     "metadata": {},
     "output_type": "display_data"
    },
    {
     "data": {
      "application/vnd.jupyter.widget-view+json": {
       "model_id": "5dbd722a52fe40f39b014e17a6a15b14",
       "version_major": 2,
       "version_minor": 0
      },
      "text/plain": [
       "HBox(children=(IntProgress(value=0, max=76), HTML(value='')))"
      ]
     },
     "metadata": {},
     "output_type": "display_data"
    },
    {
     "ename": "KeyboardInterrupt",
     "evalue": "",
     "output_type": "error",
     "traceback": [
      "\u001b[0;31m---------------------------------------------------------------------------\u001b[0m",
      "\u001b[0;31mKeyboardInterrupt\u001b[0m                         Traceback (most recent call last)",
      "\u001b[0;32m<ipython-input-46-3693551043e2>\u001b[0m in \u001b[0;36m<module>\u001b[0;34m\u001b[0m\n\u001b[1;32m     54\u001b[0m                         \u001b[0mdistort\u001b[0m\u001b[0;34m=\u001b[0m\u001b[0;32mTrue\u001b[0m\u001b[0;34m,\u001b[0m \u001b[0mrecfast_TLA\u001b[0m\u001b[0;34m=\u001b[0m\u001b[0mTLA_switch\u001b[0m\u001b[0;34m,\u001b[0m \u001b[0mMLA_funcs\u001b[0m\u001b[0;34m=\u001b[0m\u001b[0mMLA_funcs\u001b[0m\u001b[0;34m,\u001b[0m\u001b[0;34m\u001b[0m\u001b[0;34m\u001b[0m\u001b[0m\n\u001b[1;32m     55\u001b[0m                         \u001b[0mfexc_switch\u001b[0m \u001b[0;34m=\u001b[0m \u001b[0;32mTrue\u001b[0m\u001b[0;34m,\u001b[0m \u001b[0mreprocess_distortion\u001b[0m\u001b[0;34m=\u001b[0m\u001b[0;32mTrue\u001b[0m\u001b[0;34m,\u001b[0m\u001b[0;34m\u001b[0m\u001b[0;34m\u001b[0m\u001b[0m\n\u001b[0;32m---> 56\u001b[0;31m                         \u001b[0mnmax\u001b[0m\u001b[0;34m=\u001b[0m\u001b[0mnmax\u001b[0m\u001b[0;34m,\u001b[0m \u001b[0mrtol\u001b[0m\u001b[0;34m=\u001b[0m\u001b[0mrtol\u001b[0m\u001b[0;34m\u001b[0m\u001b[0;34m\u001b[0m\u001b[0m\n\u001b[0m\u001b[1;32m     57\u001b[0m                     )\n\u001b[1;32m     58\u001b[0m \u001b[0;34m\u001b[0m\u001b[0m\n",
      "\u001b[0;32m~/OneDrive - Massachusetts Institute of Technology/DarkHistory/DarkHistory/main.py\u001b[0m in \u001b[0;36mevolve\u001b[0;34m(in_spec_elec, in_spec_phot, rate_func_N, rate_func_eng, DM_process, mDM, sigmav, lifetime, primary, struct_boost, start_rs, high_rs, end_rs, helium_TLA, reion_switch, reion_rs, reion_method, heat_switch, DeltaT, alpha_bk, photoion_rate_func, photoheat_rate_func, xe_reion_func, init_cond, coarsen_factor, backreaction, compute_fs_method, mxstep, rtol, distort, fudge, nmax, fexc_switch, MLA_funcs, use_tqdm, cross_check, recfast_TLA, reprocess_distortion, Delta_f_2D)\u001b[0m\n\u001b[1;32m   1042\u001b[0m             \u001b[0mf_He_ion\u001b[0m\u001b[0;34m=\u001b[0m\u001b[0mf_He_ion\u001b[0m\u001b[0;34m,\u001b[0m \u001b[0mmxstep\u001b[0m\u001b[0;34m=\u001b[0m\u001b[0mmxstep\u001b[0m\u001b[0;34m,\u001b[0m \u001b[0mrtol\u001b[0m\u001b[0;34m=\u001b[0m\u001b[0mrtol\u001b[0m\u001b[0;34m,\u001b[0m\u001b[0;34m\u001b[0m\u001b[0;34m\u001b[0m\u001b[0m\n\u001b[1;32m   1043\u001b[0m             \u001b[0mrecfast_TLA\u001b[0m\u001b[0;34m=\u001b[0m\u001b[0mrecfast_TLA\u001b[0m\u001b[0;34m,\u001b[0m \u001b[0mfudge\u001b[0m\u001b[0;34m=\u001b[0m\u001b[0mfudge\u001b[0m\u001b[0;34m,\u001b[0m\u001b[0;34m\u001b[0m\u001b[0;34m\u001b[0m\u001b[0m\n\u001b[0;32m-> 1044\u001b[0;31m             \u001b[0mMLA_funcs\u001b[0m\u001b[0;34m=\u001b[0m\u001b[0mMLA_funcs\u001b[0m\u001b[0;34m\u001b[0m\u001b[0;34m\u001b[0m\u001b[0m\n\u001b[0m\u001b[1;32m   1045\u001b[0m         )\n\u001b[1;32m   1046\u001b[0m \u001b[0;34m\u001b[0m\u001b[0m\n",
      "\u001b[0;32m~/OneDrive - Massachusetts Institute of Technology/DarkHistory/DarkHistory/darkhistory/history/tla.py\u001b[0m in \u001b[0;36mget_history\u001b[0;34m(rs_vec, init_cond, high_rs, baseline_f, baseline_struct, inj_particle, f_H_ion, f_H_exc, f_heating, DM_process, mDM, sigmav, lifetime, struct_boost, injection_rate, reion_switch, reion_rs, reion_method, heat_switch, DeltaT, alpha_bk, photoion_rate_func, photoheat_rate_func, xe_reion_func, helium_TLA, f_He_ion, recfast_TLA, fudge, gauss_fudge, MLA_funcs, mxstep, rtol)\u001b[0m\n\u001b[1;32m   1000\u001b[0m             soln_low_rs = odeint(\n\u001b[1;32m   1001\u001b[0m                 \u001b[0mtla_before_reion\u001b[0m\u001b[0;34m,\u001b[0m \u001b[0m_init_cond\u001b[0m\u001b[0;34m,\u001b[0m\u001b[0;34m\u001b[0m\u001b[0;34m\u001b[0m\u001b[0m\n\u001b[0;32m-> 1002\u001b[0;31m                 \u001b[0mlow_rs_vec\u001b[0m\u001b[0;34m,\u001b[0m \u001b[0mmxstep\u001b[0m\u001b[0;34m=\u001b[0m\u001b[0mmxstep\u001b[0m\u001b[0;34m,\u001b[0m \u001b[0mrtol\u001b[0m\u001b[0;34m=\u001b[0m\u001b[0mrtol\u001b[0m\u001b[0;34m,\u001b[0m \u001b[0mtfirst\u001b[0m\u001b[0;34m=\u001b[0m\u001b[0;32mTrue\u001b[0m\u001b[0;34m\u001b[0m\u001b[0;34m\u001b[0m\u001b[0m\n\u001b[0m\u001b[1;32m   1003\u001b[0m             )\n\u001b[1;32m   1004\u001b[0m             \u001b[0;31m# soln = solve_ivp(\u001b[0m\u001b[0;34m\u001b[0m\u001b[0;34m\u001b[0m\u001b[0;34m\u001b[0m\u001b[0m\n",
      "\u001b[0;32m~/opt/anaconda3/envs/DarkHistoryEnvironment/lib/python3.7/site-packages/scipy/integrate/odepack.py\u001b[0m in \u001b[0;36modeint\u001b[0;34m(func, y0, t, args, Dfun, col_deriv, full_output, ml, mu, rtol, atol, tcrit, h0, hmax, hmin, ixpr, mxstep, mxhnil, mxordn, mxords, printmessg, tfirst)\u001b[0m\n\u001b[1;32m    242\u001b[0m                              \u001b[0mfull_output\u001b[0m\u001b[0;34m,\u001b[0m \u001b[0mrtol\u001b[0m\u001b[0;34m,\u001b[0m \u001b[0matol\u001b[0m\u001b[0;34m,\u001b[0m \u001b[0mtcrit\u001b[0m\u001b[0;34m,\u001b[0m \u001b[0mh0\u001b[0m\u001b[0;34m,\u001b[0m \u001b[0mhmax\u001b[0m\u001b[0;34m,\u001b[0m \u001b[0mhmin\u001b[0m\u001b[0;34m,\u001b[0m\u001b[0;34m\u001b[0m\u001b[0;34m\u001b[0m\u001b[0m\n\u001b[1;32m    243\u001b[0m                              \u001b[0mixpr\u001b[0m\u001b[0;34m,\u001b[0m \u001b[0mmxstep\u001b[0m\u001b[0;34m,\u001b[0m \u001b[0mmxhnil\u001b[0m\u001b[0;34m,\u001b[0m \u001b[0mmxordn\u001b[0m\u001b[0;34m,\u001b[0m \u001b[0mmxords\u001b[0m\u001b[0;34m,\u001b[0m\u001b[0;34m\u001b[0m\u001b[0;34m\u001b[0m\u001b[0m\n\u001b[0;32m--> 244\u001b[0;31m                              int(bool(tfirst)))\n\u001b[0m\u001b[1;32m    245\u001b[0m     \u001b[0;32mif\u001b[0m \u001b[0moutput\u001b[0m\u001b[0;34m[\u001b[0m\u001b[0;34m-\u001b[0m\u001b[0;36m1\u001b[0m\u001b[0;34m]\u001b[0m \u001b[0;34m<\u001b[0m \u001b[0;36m0\u001b[0m\u001b[0;34m:\u001b[0m\u001b[0;34m\u001b[0m\u001b[0;34m\u001b[0m\u001b[0m\n\u001b[1;32m    246\u001b[0m         \u001b[0mwarning_msg\u001b[0m \u001b[0;34m=\u001b[0m \u001b[0m_msgs\u001b[0m\u001b[0;34m[\u001b[0m\u001b[0moutput\u001b[0m\u001b[0;34m[\u001b[0m\u001b[0;34m-\u001b[0m\u001b[0;36m1\u001b[0m\u001b[0;34m]\u001b[0m\u001b[0;34m]\u001b[0m \u001b[0;34m+\u001b[0m \u001b[0;34m\" Run with full_output = 1 to get quantitative information.\"\u001b[0m\u001b[0;34m\u001b[0m\u001b[0;34m\u001b[0m\u001b[0m\n",
      "\u001b[0;32m~/OneDrive - Massachusetts Institute of Technology/DarkHistory/DarkHistory/darkhistory/history/tla.py\u001b[0m in \u001b[0;36mtla_before_reion\u001b[0;34m(rs, var)\u001b[0m\n\u001b[1;32m    483\u001b[0m         return [\n\u001b[1;32m    484\u001b[0m             \u001b[0mdlogT_dz\u001b[0m\u001b[0;34m(\u001b[0m\u001b[0myHII\u001b[0m\u001b[0;34m,\u001b[0m \u001b[0myHeII\u001b[0m\u001b[0;34m,\u001b[0m \u001b[0myHeIII\u001b[0m\u001b[0;34m,\u001b[0m \u001b[0mlog_T_m\u001b[0m\u001b[0;34m,\u001b[0m \u001b[0mrs\u001b[0m\u001b[0;34m)\u001b[0m\u001b[0;34m,\u001b[0m\u001b[0;34m\u001b[0m\u001b[0;34m\u001b[0m\u001b[0m\n\u001b[0;32m--> 485\u001b[0;31m             \u001b[0mdyHII_dz\u001b[0m\u001b[0;34m(\u001b[0m\u001b[0myHII\u001b[0m\u001b[0;34m,\u001b[0m \u001b[0myHeII\u001b[0m\u001b[0;34m,\u001b[0m \u001b[0myHeIII\u001b[0m\u001b[0;34m,\u001b[0m \u001b[0mlog_T_m\u001b[0m\u001b[0;34m,\u001b[0m \u001b[0mrs\u001b[0m\u001b[0;34m)\u001b[0m\u001b[0;34m,\u001b[0m\u001b[0;34m\u001b[0m\u001b[0;34m\u001b[0m\u001b[0m\n\u001b[0m\u001b[1;32m    486\u001b[0m             \u001b[0mdyHeII_dz\u001b[0m\u001b[0;34m(\u001b[0m\u001b[0myHII\u001b[0m\u001b[0;34m,\u001b[0m \u001b[0myHeII\u001b[0m\u001b[0;34m,\u001b[0m \u001b[0myHeIII\u001b[0m\u001b[0;34m,\u001b[0m \u001b[0mlog_T_m\u001b[0m\u001b[0;34m,\u001b[0m \u001b[0mrs\u001b[0m\u001b[0;34m)\u001b[0m\u001b[0;34m,\u001b[0m\u001b[0;34m\u001b[0m\u001b[0;34m\u001b[0m\u001b[0m\n\u001b[1;32m    487\u001b[0m             \u001b[0mdyHeIII_dz\u001b[0m\u001b[0;34m(\u001b[0m\u001b[0myHII\u001b[0m\u001b[0;34m,\u001b[0m \u001b[0myHeII\u001b[0m\u001b[0;34m,\u001b[0m \u001b[0myHeIII\u001b[0m\u001b[0;34m,\u001b[0m \u001b[0mlog_T_m\u001b[0m\u001b[0;34m,\u001b[0m \u001b[0mrs\u001b[0m\u001b[0;34m)\u001b[0m\u001b[0;34m\u001b[0m\u001b[0;34m\u001b[0m\u001b[0m\n",
      "\u001b[0;32m~/OneDrive - Massachusetts Institute of Technology/DarkHistory/DarkHistory/darkhistory/history/tla.py\u001b[0m in \u001b[0;36mdyHII_dz\u001b[0;34m(yHII, yHeII, yHeIII, log_T_m, rs)\u001b[0m\n\u001b[1;32m    347\u001b[0m                 \u001b[0;32mreturn\u001b[0m \u001b[0;36m2\u001b[0m \u001b[0;34m*\u001b[0m \u001b[0mnp\u001b[0m\u001b[0;34m.\u001b[0m\u001b[0mcosh\u001b[0m\u001b[0;34m(\u001b[0m\u001b[0myHII\u001b[0m\u001b[0;34m)\u001b[0m\u001b[0;34m**\u001b[0m\u001b[0;36m2\u001b[0m \u001b[0;34m*\u001b[0m \u001b[0mphys\u001b[0m\u001b[0;34m.\u001b[0m\u001b[0md_xe_Saha_dz\u001b[0m\u001b[0;34m(\u001b[0m\u001b[0mrs\u001b[0m\u001b[0;34m,\u001b[0m \u001b[0;34m'HI'\u001b[0m\u001b[0;34m)\u001b[0m\u001b[0;34m\u001b[0m\u001b[0;34m\u001b[0m\u001b[0m\n\u001b[1;32m    348\u001b[0m \u001b[0;34m\u001b[0m\u001b[0m\n\u001b[0;32m--> 349\u001b[0;31m             \u001b[0;32mif\u001b[0m \u001b[0;32mnot\u001b[0m \u001b[0mhelium_TLA\u001b[0m \u001b[0;32mand\u001b[0m \u001b[0mxHII\u001b[0m\u001b[0;34m(\u001b[0m\u001b[0myHII\u001b[0m\u001b[0;34m)\u001b[0m \u001b[0;34m>\u001b[0m \u001b[0;36m0.99\u001b[0m \u001b[0;32mand\u001b[0m \u001b[0mrs\u001b[0m \u001b[0;34m>\u001b[0m \u001b[0;36m1500\u001b[0m\u001b[0;34m:\u001b[0m\u001b[0;34m\u001b[0m\u001b[0;34m\u001b[0m\u001b[0m\n\u001b[0m\u001b[1;32m    350\u001b[0m                 \u001b[0;31m# Use the Saha value.\u001b[0m\u001b[0;34m\u001b[0m\u001b[0;34m\u001b[0m\u001b[0;34m\u001b[0m\u001b[0m\n\u001b[1;32m    351\u001b[0m                 \u001b[0;32mreturn\u001b[0m \u001b[0;36m2\u001b[0m \u001b[0;34m*\u001b[0m \u001b[0mnp\u001b[0m\u001b[0;34m.\u001b[0m\u001b[0mcosh\u001b[0m\u001b[0;34m(\u001b[0m\u001b[0myHII\u001b[0m\u001b[0;34m)\u001b[0m\u001b[0;34m**\u001b[0m\u001b[0;36m2\u001b[0m \u001b[0;34m*\u001b[0m \u001b[0mphys\u001b[0m\u001b[0;34m.\u001b[0m\u001b[0md_xe_Saha_dz\u001b[0m\u001b[0;34m(\u001b[0m\u001b[0mrs\u001b[0m\u001b[0;34m,\u001b[0m \u001b[0;34m'HI'\u001b[0m\u001b[0;34m)\u001b[0m\u001b[0;34m\u001b[0m\u001b[0;34m\u001b[0m\u001b[0m\n",
      "\u001b[0;32m~/OneDrive - Massachusetts Institute of Technology/DarkHistory/DarkHistory/darkhistory/history/tla.py\u001b[0m in \u001b[0;36mxHII\u001b[0;34m(yHII)\u001b[0m\n\u001b[1;32m    288\u001b[0m     \u001b[0;31m# Define conversion functions between x and y.\u001b[0m\u001b[0;34m\u001b[0m\u001b[0;34m\u001b[0m\u001b[0;34m\u001b[0m\u001b[0m\n\u001b[1;32m    289\u001b[0m     \u001b[0;32mdef\u001b[0m \u001b[0mxHII\u001b[0m\u001b[0;34m(\u001b[0m\u001b[0myHII\u001b[0m\u001b[0;34m)\u001b[0m\u001b[0;34m:\u001b[0m\u001b[0;34m\u001b[0m\u001b[0;34m\u001b[0m\u001b[0m\n\u001b[0;32m--> 290\u001b[0;31m         \u001b[0;32mreturn\u001b[0m \u001b[0;36m0.5\u001b[0m \u001b[0;34m+\u001b[0m \u001b[0;36m0.5\u001b[0m\u001b[0;34m*\u001b[0m\u001b[0mnp\u001b[0m\u001b[0;34m.\u001b[0m\u001b[0mtanh\u001b[0m\u001b[0;34m(\u001b[0m\u001b[0myHII\u001b[0m\u001b[0;34m)\u001b[0m\u001b[0;34m\u001b[0m\u001b[0;34m\u001b[0m\u001b[0m\n\u001b[0m\u001b[1;32m    291\u001b[0m \u001b[0;34m\u001b[0m\u001b[0m\n\u001b[1;32m    292\u001b[0m     \u001b[0;32mdef\u001b[0m \u001b[0mxHeII\u001b[0m\u001b[0;34m(\u001b[0m\u001b[0myHeII\u001b[0m\u001b[0;34m)\u001b[0m\u001b[0;34m:\u001b[0m\u001b[0;34m\u001b[0m\u001b[0;34m\u001b[0m\u001b[0m\n",
      "\u001b[0;31mKeyboardInterrupt\u001b[0m: "
     ]
    }
   ],
   "source": [
    "if load_data == True:\n",
    "    data = pickle.load(open(output_dir+f'scans_nmax{nmax}.dat','rb'))\n",
    "else:\n",
    "    # Scan over models and mass ranges\n",
    "    data = {}\n",
    "\n",
    "    # We use the iterative method.\n",
    "    # First solve the evolution equations assuming Recfast's\n",
    "    # alpha_B and beta_B rates (e.g. by setting recfast_TLA = True).\n",
    "    # One output is the a new, more accurate set of rates\n",
    "    # These rates can then be plugged back into the MLA equations\n",
    "    # Continued iteration leads to more accurate rates\n",
    "    # but this process converges quickly (after one iteration)\n",
    "    for iteration in range(iter_max):\n",
    "        print('~~~Iteration ', iteration, '~~~')\n",
    "        data[iteration] = {model : [] for model in models}\n",
    "        for pri in ['elec', 'phot']:\n",
    "            for DM_process in ['decay', 'swave']:\n",
    "                model = pri+'_'+DM_process\n",
    "                print('starting', model)\n",
    "\n",
    "                if pri=='elec':\n",
    "                    if DM_process=='decay':\n",
    "                        mDM_list = 2*(10**log10eng + phys.me)\n",
    "                    else:\n",
    "                        mDM_list = 10**log10eng + phys.me\n",
    "                elif pri=='phot':\n",
    "                    if DM_process=='decay':\n",
    "                        mDM_list = 2*10**log10eng\n",
    "                    else:\n",
    "                        mDM_list = 10**log10eng\n",
    "\n",
    "                for mi, mDM in enumerate(tqdm(mDM_list)):     \n",
    "                    param = param_bound(mDM, DM_process, pri)\n",
    "\n",
    "                    # If this is first iteration, use Recfast TLA rates\n",
    "                    if iteration == 0:\n",
    "                        TLA_switch = True\n",
    "                        MLA_funcs = None\n",
    "                    # For subsequent iterations, use rates calculated from previous run\n",
    "                    else:\n",
    "                        TLA_switch = False\n",
    "                        rates = data[iteration-1][model][mi]['MLA']\n",
    "                        MLA_funcs = [interp1d(rates[0], rates[i], fill_value='extrapolate')\n",
    "                            for i in range(1,4)]\n",
    "\n",
    "                    goods = main.evolve(\n",
    "                        DM_process=DM_process, mDM=mDM,\n",
    "                        lifetime=param, sigmav = param,\n",
    "                        primary=pri+'_delta',\n",
    "                        start_rs = start_rs, high_rs = high_rs, end_rs=end_rs,\n",
    "                        reion_switch=True, reion_method='Puchwein', heat_switch=True,\n",
    "                        coarsen_factor=cf,\n",
    "                        distort=True, recfast_TLA=TLA_switch, MLA_funcs=MLA_funcs,\n",
    "                        fexc_switch = True, reprocess_distortion=True, \n",
    "                        nmax=nmax, rtol=rtol\n",
    "                    )\n",
    "                    \n",
    "                    # Add the data for this iteration, model, and mass point\n",
    "                    data[iteration][model].append(goods)\n",
    "                    pickle.dump(data, open(output_dir+f'scans_nmax{nmax}.dat','wb'))"
   ]
  },
  {
   "cell_type": "markdown",
   "metadata": {},
   "source": [
    "# Plot all distortions"
   ]
  },
  {
   "cell_type": "code",
   "execution_count": 61,
   "metadata": {},
   "outputs": [
    {
     "data": {
      "image/png": "[encoded data removed]",
      "text/plain": [
       "<Figure size 1008x1008 with 4 Axes>"
      ]
     },
     "metadata": {
      "needs_background": "light"
     },
     "output_type": "display_data"
    }
   ],
   "source": [
    "eng = data[0]['elec_decay'][0]['distortion'].eng\n",
    "hplanck = phys.hbar * 2 * np.pi\n",
    "convert = phys.nB * eng * hplanck * phys.c /(4*np.pi) * phys.ele * 1e4\n",
    "nu = eng/hplanck\n",
    "\n",
    "fig, axarr = plt.subplots(2,2, figsize=(14, 14))\n",
    "cmap = cm.plasma(np.linspace(0.,1.,len(data[0]['elec_decay'])))\n",
    "\n",
    "for i, pri in enumerate(['elec', 'phot']):\n",
    "    axarr[i][0].set_ylabel(r'Intensity, $I_{\\nu}$ '+\n",
    "                           '[J s$^{-1}$ m$^{-2}$ Hz$^{-1}$ sr$^{-1}$]', fontsize=20)\n",
    "    for j, DM_process in enumerate(['decay', 'swave']):\n",
    "        axarr[i][j].loglog()\n",
    "        axarr[i][j].set_xlim([4e-1, 1e6])\n",
    "        if i==1:\n",
    "            axarr[i][j].set_xlabel(r'Frequency, $\\nu$ [GHz]', fontsize=20)\n",
    "        \n",
    "        if DM_process == 'swave':\n",
    "            if pri == 'elec':\n",
    "                axarr[i][j].set_ylim([2e-32, 2e-26])\n",
    "                axarr[i][j].text(0.7, 0.9, r'$\\chi\\chi \\rightarrow e^+ e^-$', \n",
    "                                 fontsize = 18, transform = axarr[i][j].transAxes)\n",
    "            else:\n",
    "                axarr[i][j].set_ylim([2e-32, 1e-26])\n",
    "                axarr[i][j].text(0.7, 0.9, r'$\\chi\\chi \\rightarrow \\gamma\\gamma$', \n",
    "                                 fontsize = 18, transform = axarr[i][j].transAxes)\n",
    "        else:\n",
    "            if pri == 'elec':\n",
    "                axarr[i][j].set_ylim([2e-30, 8e-24])\n",
    "                axarr[i][j].text(0.72, 0.9, r'$\\chi \\rightarrow e^+ e^-$', \n",
    "                                 fontsize = 18, transform = axarr[i][j].transAxes)\n",
    "            else:\n",
    "                axarr[i][j].set_ylim([1e-30, 2e-25])\n",
    "                axarr[i][j].text(0.72, 0.9, r'$\\chi \\rightarrow \\gamma\\gamma$', \n",
    "                                 fontsize = 18, transform = axarr[i][j].transAxes)\n",
    "        \n",
    "        model = pri+'_'+DM_process\n",
    "        \n",
    "        for k in range(len(data[0][model])):\n",
    "            axarr[i][j].plot(nu/1e9, convert * data[iter_max-1][model][k]['distortion'].dNdE,\n",
    "                            color=cmap[k], linestyle='solid', linewidth=1.4)\n",
    "            axarr[i][j].plot(nu/1e9, -convert * data[iter_max-1][model][k]['distortion'].dNdE,\n",
    "                            color=cmap[k], linestyle='--', linewidth=1.4)\n",
    "#         axarr[i][j].plot(BB_BF_jens[:,0], BB_BF_jens[:,1], color='k', linestyle='--',\n",
    "#                  linewidth=2.0, label='Chluba+Sunyaev', alpha=0.6)\n",
    "plt.savefig(fig_dir+'distortion_grid.pdf')\n",
    "plt.show()"
   ]
  },
  {
   "cell_type": "markdown",
   "metadata": {},
   "source": [
    "# Show convergence with each iteration"
   ]
  },
  {
   "cell_type": "code",
   "execution_count": 37,
   "metadata": {},
   "outputs": [
    {
     "data": {
      "image/png": "[encoded data removed]",
      "text/plain": [
       "<Figure size 504x504 with 1 Axes>"
      ]
     },
     "metadata": {
      "needs_background": "light"
     },
     "output_type": "display_data"
    }
   ],
   "source": [
    "plt.figure(figsize=(7,7))\n",
    "# plt.loglog()\n",
    "plt.xscale('log')\n",
    "# plt.plot(data[0]['elec_decay']['distortion'].eng, data[0]['elec_decay']['distortion'].dNdE, label='iter 0')\n",
    "# plt.plot(data[1]['elec_decay']['distortion'].eng, data[1]['elec_decay']['distortion'].dNdE, 'r--', label='iter 1')\n",
    "# plt.plot(data[2]['elec_decay']['distortion'].eng, data[2]['elec_decay']['distortion'].dNdE, label='iter 2')\n",
    "plt.plot(data[1]['elec_decay']['distortion'].eng, data[1]['elec_decay']['distortion'].dNdE - data[0]['elec_decay']['distortion'].dNdE,\n",
    "         label='diff 1')\n",
    "plt.plot(data[2]['elec_decay']['distortion'].eng, data[2]['elec_decay']['distortion'].dNdE - data[1]['elec_decay']['distortion'].dNdE,\n",
    "         label='diff 2')\n",
    "# plt.ylim(10,1e4)\n",
    "plt.legend()\n",
    "plt.show()"
   ]
  },
  {
   "cell_type": "code",
   "execution_count": null,
   "metadata": {},
   "outputs": [],
   "source": []
  }
 ],
 "metadata": {
  "kernelspec": {
   "display_name": "Python 3",
   "language": "python",
   "name": "python3"
  },
  "language_info": {
   "codemirror_mode": {
    "name": "ipython",
    "version": 3
   },
   "file_extension": ".py",
   "mimetype": "text/x-python",
   "name": "python",
   "nbconvert_exporter": "python",
   "pygments_lexer": "ipython3",
   "version": "3.7.6"
  }
 },
 "nbformat": 4,
 "nbformat_minor": 4
}
