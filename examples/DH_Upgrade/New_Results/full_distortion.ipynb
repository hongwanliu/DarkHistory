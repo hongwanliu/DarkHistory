{
 "cells": [
  {
   "cell_type": "code",
   "execution_count": 1,
   "metadata": {},
   "outputs": [],
   "source": [
    "%load_ext autoreload"
   ]
  },
  {
   "cell_type": "code",
   "execution_count": 2,
   "metadata": {},
   "outputs": [
    {
     "name": "stderr",
     "output_type": "stream",
     "text": [
      "\n",
      "Bad key text.latex.preview in file ../../matplotlibrc, line 10 ('text.latex.preview : False')\n",
      "You probably need to get an updated matplotlibrc file from\n",
      "https://github.com/matplotlib/matplotlib/blob/v3.5.1/matplotlibrc.template\n",
      "or from the matplotlib source distribution\n"
     ]
    }
   ],
   "source": [
    "%autoreload \n",
    "\n",
    "import sys\n",
    "sys.path.append('../../..')\n",
    "import numpy as np\n",
    "from tqdm import tqdm_notebook as tqdm\n",
    "from scipy.interpolate import interp1d, interp2d\n",
    "\n",
    "import config\n",
    "import main\n",
    "import pickle\n",
    "import darkhistory.physics as phys\n",
    "from darkhistory.spec.spectra import Spectra\n",
    "from darkhistory.spec.spectrum import Spectrum\n",
    "import darkhistory.low_energy.atomic as atomic\n",
    "import darkhistory.spec.spectools as spectools\n",
    "# from plotting_utils import plot_distortion, download_plot\n",
    "\n",
    "import matplotlib\n",
    "matplotlib.rc_file('../../matplotlibrc')\n",
    "import matplotlib.pyplot as plt\n",
    "from matplotlib.pyplot import cm\n",
    "import matplotlib.colors as colors\n",
    "%matplotlib inline"
   ]
  },
  {
   "cell_type": "code",
   "execution_count": 3,
   "metadata": {},
   "outputs": [],
   "source": [
    "### SETTINGS TO CHANGE\n",
    "# output_dir = '/Users/viviesque/OneDrive - Massachusetts Institute of Technology/DarkHistory/output/'\n",
    "# fig_dir = '/Users/viviesque/OneDrive - Massachusetts Institute of Technology/DarkHistory/figs/'\n",
    "output_dir = '/scratch/gpfs/hongwanl/DarkHistory/full_distortion/'\n",
    "fig_dir    = '/scratch/gpfs/hongwanl/DarkHistory/full_distortion/figs/'\n",
    "\n",
    "\n",
    "# Choose to load data (True) or start a new scan (False)\n",
    "load_data = False"
   ]
  },
  {
   "cell_type": "markdown",
   "metadata": {},
   "source": [
    "# Scan over parameters, or load previous data"
   ]
  },
  {
   "cell_type": "code",
   "execution_count": 4,
   "metadata": {},
   "outputs": [],
   "source": [
    "# CMB constraints on interaction rates\n",
    "input_dir = config.data_path\n",
    "\n",
    "f_elec_CMB_raw = np.loadtxt(input_dir+'/CMB_limits_elec_swave.dat', delimiter=',')\n",
    "log10eng_elec_CMB  = f_elec_CMB_raw[0:2760:69, 0]\n",
    "log10rs_elec_CMB = f_elec_CMB_raw[0:69, 1]\n",
    "\n",
    "f_phot_CMB_raw = np.loadtxt(input_dir+'/CMB_limits_phot_swave.dat', delimiter=',')\n",
    "log10eng_phot_CMB  = f_phot_CMB_raw[0:2800:70, 0]\n",
    "log10rs_phot_CMB = f_phot_CMB_raw[0:70, 1]\n",
    "\n",
    "f_elec_CMB_raw = np.transpose(np.reshape(f_elec_CMB_raw[:,2], (40,69)))\n",
    "f_phot_CMB_raw = np.transpose(np.reshape(f_phot_CMB_raw[:,2], (40,70)))\n",
    "\n",
    "f_elec_CMB = interp2d(log10eng_elec_CMB, log10rs_elec_CMB, f_elec_CMB_raw)\n",
    "f_phot_CMB = interp2d(log10eng_phot_CMB, log10rs_phot_CMB, f_phot_CMB_raw)\n",
    "\n",
    "decay_elec_CMB_raw = np.loadtxt(input_dir+'/CMB_limits_elec_decay.csv', delimiter=',')\n",
    "decay_phot_CMB_raw = np.loadtxt(input_dir+'/CMB_limits_phot_decay.csv', delimiter=',')\n",
    "\n",
    "decay_elec_CMB = interp1d(np.transpose(decay_elec_CMB_raw)[0,:], np.transpose(decay_elec_CMB_raw)[1,:])\n",
    "decay_phot_CMB = interp1d(np.transpose(decay_phot_CMB_raw)[0,:], np.transpose(decay_phot_CMB_raw)[1,:])\n",
    "\n",
    "#Derived from Planck 2018 cosmological parameters\n",
    "p_ann = 3.5e-28\n",
    "\n",
    "def param_bound_elec_CMB(mDM, DM_process):\n",
    "    if DM_process == 'swave':\n",
    "        return p_ann*(mDM*1e-9)/f_elec_CMB(np.log10(mDM-phys.me), np.log10(601))[0]\n",
    "    elif DM_process == 'decay':\n",
    "        return np.array([decay_elec_CMB(mDM*1e-9)])[0]\n",
    "\n",
    "def param_bound_phot_CMB(mDM, DM_process):\n",
    "    if DM_process == 'swave':\n",
    "        return p_ann*(mDM*1e-9)/f_phot_CMB(np.log10(mDM), np.log10(601))[0]\n",
    "    elif DM_process == 'decay':\n",
    "        return np.array([decay_phot_CMB(mDM*1e-9)])[0]\n",
    "    \n",
    "def param_bound(mDM, DM_process, pri):\n",
    "    if pri == 'elec':\n",
    "        return param_bound_elec_CMB(mDM, DM_process)\n",
    "    else:\n",
    "        return param_bound_phot_CMB(mDM, DM_process)"
   ]
  },
  {
   "cell_type": "code",
   "execution_count": 5,
   "metadata": {},
   "outputs": [],
   "source": [
    "### Parameters\n",
    "start_rs, high_rs, end_rs = 3e3, 1.555e3, 4\n",
    "cf = 16\n",
    "rtol = 1e-6\n",
    "nmax = 10 # maximum number of hydrogen levels to track\n",
    "iter_max = 5 # number of times to iterate over recombination/ionization rates\n",
    "\n",
    "log10eng0 = 3.6989700794219966\n",
    "log10eng = np.array([log10eng0 + 0.23252559*i for i in np.arange(40)])\n",
    "log10eng[-1] = 12.601505994846297\n",
    "\n",
    "models = ['elec_decay', 'elec_swave', 'phot_decay', 'phot_swave']"
   ]
  },
  {
   "cell_type": "code",
   "execution_count": 9,
   "metadata": {},
   "outputs": [
    {
     "name": "stdout",
     "output_type": "stream",
     "text": [
      "~~~Iteration  0 ~~~\n",
      "starting elec_decay\n"
     ]
    },
    {
     "name": "stderr",
     "output_type": "stream",
     "text": [
      "/tmp/ipykernel_522598/1548270276.py:33: TqdmDeprecationWarning: This function will be removed in tqdm==5.0.0\n",
      "Please use `tqdm.notebook.tqdm` instead of `tqdm.tqdm_notebook`\n",
      "  for mi, mDM in enumerate(tqdm(mDM_list[3:])):\n"
     ]
    },
    {
     "data": {
      "application/vnd.jupyter.widget-view+json": {
       "model_id": "59ebff0731f64e70befebfd765fb04d5",
       "version_major": 2,
       "version_minor": 0
      },
      "text/plain": [
       "  0%|          | 0/37 [00:00<?, ?it/s]"
      ]
     },
     "metadata": {},
     "output_type": "display_data"
    },
    {
     "name": "stdout",
     "output_type": "stream",
     "text": [
      "i get here?\n",
      "decay 1071837.755799452 2.69747957975171e+24 elec 3000.0 1555.0 4 16 True None 10 1e-06\n"
     ]
    },
    {
     "data": {
      "application/vnd.jupyter.widget-view+json": {
       "model_id": "70b180d6f7474eebb1cddae664fedbb3",
       "version_major": 2,
       "version_minor": 0
      },
      "text/plain": [
       "  0%|          | 0/414.0 [00:00<?, ?it/s]"
      ]
     },
     "metadata": {},
     "output_type": "display_data"
    },
    {
     "name": "stdout",
     "output_type": "stream",
     "text": [
      "3000.0\n",
      "2952.381960165853\n",
      "2905.5197462375904\n",
      "2859.4013612325116\n",
      "2814.014998592186\n",
      "2769.3490391599075\n",
      "2725.3920482061185\n",
      "2682.1327725010715\n",
      "2639.5601374339312\n"
     ]
    },
    {
     "ename": "KeyboardInterrupt",
     "evalue": "",
     "output_type": "error",
     "traceback": [
      "\u001b[0;31m---------------------------------------------------------------------------\u001b[0m",
      "\u001b[0;31mKeyboardInterrupt\u001b[0m                         Traceback (most recent call last)",
      "\u001b[1;32m/home/hongwanl/DarkHistory/examples/DH_Upgrade/New_Results/full_distortion.ipynb Cell 7\u001b[0m in \u001b[0;36m<cell line: 1>\u001b[0;34m()\u001b[0m\n\u001b[1;32m     <a href='vscode-notebook-cell://ssh-remote%2Bdella-h12n13/home/hongwanl/DarkHistory/examples/DH_Upgrade/New_Results/full_distortion.ipynb#ch0000006vscode-remote?line=46'>47</a>\u001b[0m \u001b[39mprint\u001b[39m(\u001b[39m'\u001b[39m\u001b[39mi get here?\u001b[39m\u001b[39m'\u001b[39m)\n\u001b[1;32m     <a href='vscode-notebook-cell://ssh-remote%2Bdella-h12n13/home/hongwanl/DarkHistory/examples/DH_Upgrade/New_Results/full_distortion.ipynb#ch0000006vscode-remote?line=47'>48</a>\u001b[0m \u001b[39mprint\u001b[39m(DM_process, mDM, param, pri, start_rs, high_rs, end_rs, cf, TLA_switch, MLA_funcs, nmax, rtol)\n\u001b[0;32m---> <a href='vscode-notebook-cell://ssh-remote%2Bdella-h12n13/home/hongwanl/DarkHistory/examples/DH_Upgrade/New_Results/full_distortion.ipynb#ch0000006vscode-remote?line=49'>50</a>\u001b[0m goods \u001b[39m=\u001b[39m main\u001b[39m.\u001b[39;49mevolve(\n\u001b[1;32m     <a href='vscode-notebook-cell://ssh-remote%2Bdella-h12n13/home/hongwanl/DarkHistory/examples/DH_Upgrade/New_Results/full_distortion.ipynb#ch0000006vscode-remote?line=50'>51</a>\u001b[0m     DM_process\u001b[39m=\u001b[39;49mDM_process, mDM\u001b[39m=\u001b[39;49mmDM,\n\u001b[1;32m     <a href='vscode-notebook-cell://ssh-remote%2Bdella-h12n13/home/hongwanl/DarkHistory/examples/DH_Upgrade/New_Results/full_distortion.ipynb#ch0000006vscode-remote?line=51'>52</a>\u001b[0m     lifetime\u001b[39m=\u001b[39;49mparam, sigmav \u001b[39m=\u001b[39;49m param,\n\u001b[1;32m     <a href='vscode-notebook-cell://ssh-remote%2Bdella-h12n13/home/hongwanl/DarkHistory/examples/DH_Upgrade/New_Results/full_distortion.ipynb#ch0000006vscode-remote?line=52'>53</a>\u001b[0m     primary\u001b[39m=\u001b[39;49mpri\u001b[39m+\u001b[39;49m\u001b[39m'\u001b[39;49m\u001b[39m_delta\u001b[39;49m\u001b[39m'\u001b[39;49m,\n\u001b[1;32m     <a href='vscode-notebook-cell://ssh-remote%2Bdella-h12n13/home/hongwanl/DarkHistory/examples/DH_Upgrade/New_Results/full_distortion.ipynb#ch0000006vscode-remote?line=53'>54</a>\u001b[0m     start_rs \u001b[39m=\u001b[39;49m start_rs, high_rs \u001b[39m=\u001b[39;49m high_rs, end_rs\u001b[39m=\u001b[39;49mend_rs,\n\u001b[1;32m     <a href='vscode-notebook-cell://ssh-remote%2Bdella-h12n13/home/hongwanl/DarkHistory/examples/DH_Upgrade/New_Results/full_distortion.ipynb#ch0000006vscode-remote?line=54'>55</a>\u001b[0m     reion_switch\u001b[39m=\u001b[39;49m\u001b[39mTrue\u001b[39;49;00m, reion_method\u001b[39m=\u001b[39;49m\u001b[39m'\u001b[39;49m\u001b[39mPuchwein\u001b[39;49m\u001b[39m'\u001b[39;49m, heat_switch\u001b[39m=\u001b[39;49m\u001b[39mTrue\u001b[39;49;00m,\n\u001b[1;32m     <a href='vscode-notebook-cell://ssh-remote%2Bdella-h12n13/home/hongwanl/DarkHistory/examples/DH_Upgrade/New_Results/full_distortion.ipynb#ch0000006vscode-remote?line=55'>56</a>\u001b[0m     coarsen_factor\u001b[39m=\u001b[39;49mcf,\n\u001b[1;32m     <a href='vscode-notebook-cell://ssh-remote%2Bdella-h12n13/home/hongwanl/DarkHistory/examples/DH_Upgrade/New_Results/full_distortion.ipynb#ch0000006vscode-remote?line=56'>57</a>\u001b[0m     distort\u001b[39m=\u001b[39;49m\u001b[39mTrue\u001b[39;49;00m, recfast_TLA\u001b[39m=\u001b[39;49mTLA_switch, MLA_funcs\u001b[39m=\u001b[39;49mMLA_funcs,\n\u001b[1;32m     <a href='vscode-notebook-cell://ssh-remote%2Bdella-h12n13/home/hongwanl/DarkHistory/examples/DH_Upgrade/New_Results/full_distortion.ipynb#ch0000006vscode-remote?line=57'>58</a>\u001b[0m     fexc_switch \u001b[39m=\u001b[39;49m \u001b[39mTrue\u001b[39;49;00m, reprocess_distortion\u001b[39m=\u001b[39;49m\u001b[39mTrue\u001b[39;49;00m, \n\u001b[1;32m     <a href='vscode-notebook-cell://ssh-remote%2Bdella-h12n13/home/hongwanl/DarkHistory/examples/DH_Upgrade/New_Results/full_distortion.ipynb#ch0000006vscode-remote?line=58'>59</a>\u001b[0m     nmax\u001b[39m=\u001b[39;49mnmax, rtol\u001b[39m=\u001b[39;49mrtol\n\u001b[1;32m     <a href='vscode-notebook-cell://ssh-remote%2Bdella-h12n13/home/hongwanl/DarkHistory/examples/DH_Upgrade/New_Results/full_distortion.ipynb#ch0000006vscode-remote?line=59'>60</a>\u001b[0m )\n\u001b[1;32m     <a href='vscode-notebook-cell://ssh-remote%2Bdella-h12n13/home/hongwanl/DarkHistory/examples/DH_Upgrade/New_Results/full_distortion.ipynb#ch0000006vscode-remote?line=61'>62</a>\u001b[0m \u001b[39m# Add the data for this iteration, model, and mass point\u001b[39;00m\n\u001b[1;32m     <a href='vscode-notebook-cell://ssh-remote%2Bdella-h12n13/home/hongwanl/DarkHistory/examples/DH_Upgrade/New_Results/full_distortion.ipynb#ch0000006vscode-remote?line=62'>63</a>\u001b[0m data[iteration][model]\u001b[39m.\u001b[39mappend(goods)\n",
      "File \u001b[0;32m~/DarkHistory/examples/DH_Upgrade/New_Results/../../../main.py:1075\u001b[0m, in \u001b[0;36mevolve\u001b[0;34m(in_spec_elec, in_spec_phot, rate_func_N, rate_func_eng, DM_process, mDM, sigmav, lifetime, primary, struct_boost, start_rs, high_rs, end_rs, helium_TLA, reion_switch, reion_rs, reion_method, heat_switch, DeltaT, alpha_bk, photoion_rate_func, photoheat_rate_func, xe_reion_func, init_cond, coarsen_factor, backreaction, compute_fs_method, mxstep, rtol, distort, fudge, nmax, fexc_switch, MLA_funcs, use_tqdm, cross_check, recfast_TLA, reprocess_distortion, Delta_f_2D)\u001b[0m\n\u001b[1;32m   1067\u001b[0m     xHeII_to_interp \u001b[39m=\u001b[39m x_arr[\u001b[39m-\u001b[39m\u001b[39m1\u001b[39m, \u001b[39m1\u001b[39m]\n\u001b[1;32m   1069\u001b[0m \u001b[39mif\u001b[39;00m next_rs \u001b[39m>\u001b[39m end_rs:\n\u001b[1;32m   1070\u001b[0m \n\u001b[1;32m   1071\u001b[0m     \u001b[39m# Only compute the transfer functions if next_rs > end_rs.\u001b[39;00m\n\u001b[1;32m   1072\u001b[0m     \u001b[39m# Otherwise, we won't be using them.\u001b[39;00m\n\u001b[1;32m   1074\u001b[0m     highengphot_tf, lowengphot_tf, lowengelec_tf, highengdep_arr \u001b[39m=\u001b[39m (\n\u001b[0;32m-> 1075\u001b[0m         get_tf(\n\u001b[1;32m   1076\u001b[0m             rs, xHII_to_interp, xHeII_to_interp,\n\u001b[1;32m   1077\u001b[0m             dlnz, coarsen_factor\u001b[39m=\u001b[39;49mcoarsen_factor\n\u001b[1;32m   1078\u001b[0m         )\n\u001b[1;32m   1079\u001b[0m     )\n\u001b[1;32m   1081\u001b[0m     \u001b[39m# Get the spectra for the next step by applying the\u001b[39;00m\n\u001b[1;32m   1082\u001b[0m     \u001b[39m# transfer functions.\u001b[39;00m\n\u001b[1;32m   1083\u001b[0m     highengdep_at_rs \u001b[39m=\u001b[39m np\u001b[39m.\u001b[39mdot(\n\u001b[1;32m   1084\u001b[0m         np\u001b[39m.\u001b[39mswapaxes(highengdep_arr, \u001b[39m0\u001b[39m, \u001b[39m1\u001b[39m),\n\u001b[1;32m   1085\u001b[0m         out_highengphot_specs[\u001b[39m-\u001b[39m\u001b[39m1\u001b[39m]\u001b[39m.\u001b[39mN\n\u001b[1;32m   1086\u001b[0m     )\n",
      "File \u001b[0;32m~/DarkHistory/examples/DH_Upgrade/New_Results/../../../main.py:1303\u001b[0m, in \u001b[0;36mget_tf\u001b[0;34m(rs, xHII, xHeII, dlnz, coarsen_factor)\u001b[0m\n\u001b[1;32m   1297\u001b[0m lowengphot_tf\u001b[39m.\u001b[39m_grid_vals \u001b[39m=\u001b[39m np\u001b[39m.\u001b[39mmatmul(\n\u001b[1;32m   1298\u001b[0m     prop_tf, lowengphot_tf\u001b[39m.\u001b[39m_grid_vals\n\u001b[1;32m   1299\u001b[0m )\n\u001b[1;32m   1300\u001b[0m lowengelec_tf\u001b[39m.\u001b[39m_grid_vals \u001b[39m=\u001b[39m np\u001b[39m.\u001b[39mmatmul(\n\u001b[1;32m   1301\u001b[0m     prop_tf, lowengelec_tf\u001b[39m.\u001b[39m_grid_vals\n\u001b[1;32m   1302\u001b[0m )\n\u001b[0;32m-> 1303\u001b[0m highengphot_tf\u001b[39m.\u001b[39m_grid_vals \u001b[39m=\u001b[39m matrix_power(\n\u001b[1;32m   1304\u001b[0m     highengphot_tf\u001b[39m.\u001b[39;49m_grid_vals, coarsen_factor\n\u001b[1;32m   1305\u001b[0m )\n\u001b[1;32m   1306\u001b[0m \u001b[39m# cmbloss_arr = np.matmul(prop_tf, cmbloss_arr)/coarsen_factor\u001b[39;00m\n\u001b[1;32m   1307\u001b[0m highengdep_arr \u001b[39m=\u001b[39m (\n\u001b[1;32m   1308\u001b[0m     np\u001b[39m.\u001b[39mmatmul(prop_tf, highengdep_arr)\u001b[39m/\u001b[39mcoarsen_factor\n\u001b[1;32m   1309\u001b[0m )\n",
      "File \u001b[0;32m<__array_function__ internals>:180\u001b[0m, in \u001b[0;36mmatrix_power\u001b[0;34m(*args, **kwargs)\u001b[0m\n",
      "File \u001b[0;32m~/.conda/envs/DarkHistory/lib/python3.8/site-packages/numpy/linalg/linalg.py:661\u001b[0m, in \u001b[0;36mmatrix_power\u001b[0;34m(a, n)\u001b[0m\n\u001b[1;32m    659\u001b[0m z \u001b[39m=\u001b[39m result \u001b[39m=\u001b[39m \u001b[39mNone\u001b[39;00m\n\u001b[1;32m    660\u001b[0m \u001b[39mwhile\u001b[39;00m n \u001b[39m>\u001b[39m \u001b[39m0\u001b[39m:\n\u001b[0;32m--> 661\u001b[0m     z \u001b[39m=\u001b[39m a \u001b[39mif\u001b[39;00m z \u001b[39mis\u001b[39;00m \u001b[39mNone\u001b[39;00m \u001b[39melse\u001b[39;00m fmatmul(z, z)\n\u001b[1;32m    662\u001b[0m     n, bit \u001b[39m=\u001b[39m \u001b[39mdivmod\u001b[39m(n, \u001b[39m2\u001b[39m)\n\u001b[1;32m    663\u001b[0m     \u001b[39mif\u001b[39;00m bit:\n",
      "\u001b[0;31mKeyboardInterrupt\u001b[0m: "
     ]
    }
   ],
   "source": [
    "if load_data == True:\n",
    "    data = pickle.load(open(output_dir+f'scans_nmax{nmax}.dat','rb'))\n",
    "else:\n",
    "    # Scan over models and mass ranges\n",
    "    data = {}\n",
    "\n",
    "    # We use the iterative method.\n",
    "    # First solve the evolution equations assuming Recfast's\n",
    "    # alpha_B and beta_B rates (e.g. by setting recfast_TLA = True).\n",
    "    # One output is the a new, more accurate set of rates\n",
    "    # These rates can then be plugged back into the MLA equations\n",
    "    # Continued iteration leads to more accurate rates\n",
    "    # but this process converges quickly (after one iteration)\n",
    "    for iteration in range(iter_max):\n",
    "        print('~~~Iteration ', iteration, '~~~')\n",
    "        data[iteration] = {model : [] for model in models}\n",
    "        for pri in ['elec', 'phot']:\n",
    "            for DM_process in ['decay', 'swave']:\n",
    "                model = pri+'_'+DM_process\n",
    "                print('starting', model)\n",
    "\n",
    "                if pri=='elec':\n",
    "                    if DM_process=='decay':\n",
    "                        mDM_list = 2*(10**log10eng + phys.me)\n",
    "                    else:\n",
    "                        mDM_list = 10**log10eng + phys.me\n",
    "                elif pri=='phot':\n",
    "                    if DM_process=='decay':\n",
    "                        mDM_list = 2*10**log10eng\n",
    "                    else:\n",
    "                        mDM_list = 10**log10eng\n",
    "\n",
    "                for mi, mDM in enumerate(tqdm(mDM_list[3:])):     \n",
    "                    param = param_bound(mDM, DM_process, pri)\n",
    "\n",
    "                    # If this is first iteration, use Recfast TLA rates\n",
    "                    if iteration == 0:\n",
    "                        TLA_switch = True\n",
    "                        MLA_funcs = None\n",
    "                    # For subsequent iterations, use rates calculated from previous run\n",
    "                    else:\n",
    "                        TLA_switch = False\n",
    "                        rates = data[iteration-1][model][mi]['MLA']\n",
    "                        MLA_funcs = [interp1d(rates[0], rates[i], fill_value='extrapolate')\n",
    "                            for i in range(1,4)]\n",
    "\n",
    "                    print('i get here?')\n",
    "                    print(DM_process, mDM, param, pri, start_rs, high_rs, end_rs, cf, TLA_switch, MLA_funcs, nmax, rtol)\n",
    "\n",
    "                    goods = main.evolve(\n",
    "                        DM_process=DM_process, mDM=mDM,\n",
    "                        lifetime=param, sigmav = param,\n",
    "                        primary=pri+'_delta',\n",
    "                        start_rs = start_rs, high_rs = high_rs, end_rs=end_rs,\n",
    "                        reion_switch=True, reion_method='Puchwein', heat_switch=True,\n",
    "                        coarsen_factor=cf,\n",
    "                        distort=True, recfast_TLA=TLA_switch, MLA_funcs=MLA_funcs,\n",
    "                        fexc_switch = True, reprocess_distortion=True, \n",
    "                        nmax=nmax, rtol=rtol\n",
    "                    )\n",
    "                    \n",
    "                    # Add the data for this iteration, model, and mass point\n",
    "                    data[iteration][model].append(goods)\n",
    "                    pickle.dump(data, open(output_dir+f'scans_nmax{nmax}.dat','wb'))"
   ]
  },
  {
   "cell_type": "markdown",
   "metadata": {},
   "source": [
    "# Plot all distortions"
   ]
  },
  {
   "cell_type": "code",
   "execution_count": null,
   "metadata": {},
   "outputs": [],
   "source": [
    "eng = data[0]['elec_decay'][0]['distortion'].eng\n",
    "hplanck = phys.hbar * 2 * np.pi\n",
    "convert = phys.nB * eng * hplanck * phys.c /(4*np.pi) * phys.ele * 1e4\n",
    "nu = eng/hplanck\n",
    "\n",
    "fig, axarr = plt.subplots(2,2, figsize=(14, 14))\n",
    "cmap = cm.plasma(np.linspace(0.,1.,len(data[0]['elec_decay'])))\n",
    "\n",
    "for i, pri in enumerate(['elec', 'phot']):\n",
    "    axarr[i][0].set_ylabel(r'Intensity, $I_{\\nu}$ '+\n",
    "                           '[J s$^{-1}$ m$^{-2}$ Hz$^{-1}$ sr$^{-1}$]', fontsize=20)\n",
    "    for j, DM_process in enumerate(['decay', 'swave']):\n",
    "        axarr[i][j].loglog()\n",
    "        axarr[i][j].set_xlim([4e-1, 1e6])\n",
    "        if i==1:\n",
    "            axarr[i][j].set_xlabel(r'Frequency, $\\nu$ [GHz]', fontsize=20)\n",
    "        \n",
    "        if DM_process == 'swave':\n",
    "            if pri == 'elec':\n",
    "                axarr[i][j].set_ylim([2e-32, 2e-26])\n",
    "                axarr[i][j].text(0.7, 0.9, r'$\\chi\\chi \\rightarrow e^+ e^-$', \n",
    "                                 fontsize = 18, transform = axarr[i][j].transAxes)\n",
    "            else:\n",
    "                axarr[i][j].set_ylim([2e-32, 1e-26])\n",
    "                axarr[i][j].text(0.7, 0.9, r'$\\chi\\chi \\rightarrow \\gamma\\gamma$', \n",
    "                                 fontsize = 18, transform = axarr[i][j].transAxes)\n",
    "        else:\n",
    "            if pri == 'elec':\n",
    "                axarr[i][j].set_ylim([2e-30, 8e-24])\n",
    "                axarr[i][j].text(0.72, 0.9, r'$\\chi \\rightarrow e^+ e^-$', \n",
    "                                 fontsize = 18, transform = axarr[i][j].transAxes)\n",
    "            else:\n",
    "                axarr[i][j].set_ylim([1e-30, 2e-25])\n",
    "                axarr[i][j].text(0.72, 0.9, r'$\\chi \\rightarrow \\gamma\\gamma$', \n",
    "                                 fontsize = 18, transform = axarr[i][j].transAxes)\n",
    "        \n",
    "        model = pri+'_'+DM_process\n",
    "        \n",
    "        for k in range(len(data[0][model])):\n",
    "            axarr[i][j].plot(nu/1e9, convert * data[iter_max-1][model][k]['distortion'].dNdE,\n",
    "                            color=cmap[k], linestyle='solid', linewidth=1.4)\n",
    "            axarr[i][j].plot(nu/1e9, -convert * data[iter_max-1][model][k]['distortion'].dNdE,\n",
    "                            color=cmap[k], linestyle='--', linewidth=1.4)\n",
    "#         axarr[i][j].plot(BB_BF_jens[:,0], BB_BF_jens[:,1], color='k', linestyle='--',\n",
    "#                  linewidth=2.0, label='Chluba+Sunyaev', alpha=0.6)\n",
    "plt.savefig(fig_dir+'distortion_grid.pdf')\n",
    "plt.show()"
   ]
  },
  {
   "cell_type": "markdown",
   "metadata": {},
   "source": [
    "# Show convergence with each iteration"
   ]
  },
  {
   "cell_type": "code",
   "execution_count": null,
   "metadata": {},
   "outputs": [],
   "source": [
    "plt.figure(figsize=(7,7))\n",
    "# plt.loglog()\n",
    "plt.xscale('log')\n",
    "# plt.plot(data[0]['elec_decay']['distortion'].eng, data[0]['elec_decay']['distortion'].dNdE, label='iter 0')\n",
    "# plt.plot(data[1]['elec_decay']['distortion'].eng, data[1]['elec_decay']['distortion'].dNdE, 'r--', label='iter 1')\n",
    "# plt.plot(data[2]['elec_decay']['distortion'].eng, data[2]['elec_decay']['distortion'].dNdE, label='iter 2')\n",
    "plt.plot(data[1]['elec_decay']['distortion'].eng, data[1]['elec_decay']['distortion'].dNdE - data[0]['elec_decay']['distortion'].dNdE,\n",
    "         label='diff 1')\n",
    "plt.plot(data[2]['elec_decay']['distortion'].eng, data[2]['elec_decay']['distortion'].dNdE - data[1]['elec_decay']['distortion'].dNdE,\n",
    "         label='diff 2')\n",
    "# plt.ylim(10,1e4)\n",
    "plt.legend()\n",
    "plt.show()"
   ]
  },
  {
   "cell_type": "code",
   "execution_count": null,
   "metadata": {},
   "outputs": [],
   "source": [
    "from tqdm.notebook import tqdm"
   ]
  },
  {
   "cell_type": "code",
   "execution_count": null,
   "metadata": {},
   "outputs": [],
   "source": []
  },
  {
   "cell_type": "markdown",
   "metadata": {},
   "source": []
  }
 ],
 "metadata": {
  "kernelspec": {
   "display_name": "Python 3.8.13 ('DarkHistory')",
   "language": "python",
   "name": "python3"
  },
  "language_info": {
   "codemirror_mode": {
    "name": "ipython",
    "version": 3
   },
   "file_extension": ".py",
   "mimetype": "text/x-python",
   "name": "python",
   "nbconvert_exporter": "python",
   "pygments_lexer": "ipython3",
   "version": "3.8.13"
  },
  "vscode": {
   "interpreter": {
    "hash": "706ea14756dc382a876d73e5832be7f55bf221f2f0f179ca7c267b8b07f4af80"
   }
  }
 },
 "nbformat": 4,
 "nbformat_minor": 4
}
