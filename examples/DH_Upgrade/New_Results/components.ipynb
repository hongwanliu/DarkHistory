{
 "cells": [
  {
   "cell_type": "code",
   "execution_count": 1,
   "metadata": {},
   "outputs": [],
   "source": [
    "%load_ext autoreload\n",
    "import sys\n",
    "sys.path.append('../../..')\n",
    "import numpy as np\n",
    "from tqdm import tqdm_notebook as tqdm\n",
    "from scipy.interpolate import interp1d, interp2d\n",
    "\n",
    "import config\n",
    "import main_components as main\n",
    "import pickle\n",
    "import darkhistory.physics as phys\n",
    "from darkhistory.spec.spectra import Spectra\n",
    "from darkhistory.spec.spectrum import Spectrum\n",
    "import darkhistory.low_energy.atomic as atomic\n",
    "import darkhistory.spec.spectools as spectools\n",
    "from plotting_utils import plot_distortion, download_plot\n",
    "\n",
    "import matplotlib\n",
    "matplotlib.rc_file('../../../matplotlibrc')\n",
    "import matplotlib.pyplot as plt\n",
    "from matplotlib.pyplot import cm\n",
    "import matplotlib.colors as colors\n",
    "%matplotlib inline"
   ]
  },
  {
   "cell_type": "code",
   "execution_count": 2,
   "metadata": {},
   "outputs": [],
   "source": [
    "### SETTINGS TO CHANGE\n",
    "output_dir = '/Users/viviesque/OneDrive - Massachusetts Institute of Technology/DarkHistory/output/'\n",
    "fig_dir = '/Users/viviesque/OneDrive - Massachusetts Institute of Technology/DarkHistory/figs/'\n",
    "results_comp = pickle.load(open(output_dir+f'component_distortions.p','rb'))"
   ]
  },
  {
   "cell_type": "markdown",
   "metadata": {},
   "source": [
    "# Generate data, if not loading previous"
   ]
  },
  {
   "cell_type": "code",
   "execution_count": 3,
   "metadata": {},
   "outputs": [],
   "source": [
    "# Parameters\n",
    "nmax = 10\n",
    "start_rs, high_rs, end_rs = 3e3, 1.555e3, 4\n",
    "cf = 16\n",
    "rtol = 1e-6\n",
    "\n",
    "# DM model\n",
    "pri, DM_process = 'elec', 'decay'\n",
    "mDM = 2e8\n",
    "lifetime=2e25"
   ]
  },
  {
   "cell_type": "code",
   "execution_count": null,
   "metadata": {},
   "outputs": [
    {
     "name": "stdout",
     "output_type": "stream",
     "text": [
      "****** Loading transfer functions... ******\n",
      "    for propagating photons...   Done!\n",
      "    for low-energy photons...  Done!\n",
      "    for low-energy electrons...  Done!\n",
      "    for high-energy deposition...  Done!\n",
      "    for total upscattered CMB energy rate...  Done!\n",
      "****** Loading complete! ******\n",
      "****** Loading transfer functions... ******\n",
      "    for inverse Compton (Thomson)...  Done!\n",
      "    for inverse Compton (relativistic)...  Done!\n",
      "    for inverse Compton (energy loss)...  Done!\n",
      "****** Loading complete! ******\n"
     ]
    },
    {
     "data": {
      "application/vnd.jupyter.widget-view+json": {
       "model_id": "93ed3835b3d14d9a99f291e87e97c101",
       "version_major": 2,
       "version_minor": 0
      },
      "text/plain": [
       "HBox(children=(IntProgress(value=0, max=414), HTML(value='')))"
      ]
     },
     "metadata": {},
     "output_type": "display_data"
    },
    {
     "name": "stderr",
     "output_type": "stream",
     "text": [
      "../../../darkhistory/spec/spectrum.py:861: RuntimeWarning: The new abscissa lies below the old one: only bins that lie within the new abscissa will be rebinned, bins above the abscissa will be discarded.\n",
      "  warnings.warn(\"The new abscissa lies below the old one: only bins that lie within the new abscissa will be rebinned, bins above the abscissa will be discarded.\", RuntimeWarning)\n"
     ]
    }
   ],
   "source": [
    "%autoreload\n",
    "results_comp = main.evolve(\n",
    "    DM_process=DM_process, mDM=mDM,\n",
    "    lifetime=lifetime,\n",
    "    primary=pri+'_delta',\n",
    "    start_rs=start_rs, high_rs=high_rs, end_rs=end_rs,\n",
    "    reion_switch=True, reion_method='Puchwein', heat_switch=True,\n",
    "    coarsen_factor=cf,\n",
    "    distort=True, recfast_TLA=True,\n",
    "    nmax=nmax, rtol=rtol\n",
    ")\n",
    "\n",
    "pickle.dump(results_comp, open(output_dir+'component_distortions.p', 'wb'))"
   ]
  },
  {
   "cell_type": "markdown",
   "metadata": {},
   "source": [
    "# Get separate distortion components"
   ]
  },
  {
   "cell_type": "code",
   "execution_count": null,
   "metadata": {},
   "outputs": [],
   "source": [
    "# Dictionary that collects all of the separate components of the distortion\n",
    "components = {}"
   ]
  },
  {
   "cell_type": "code",
   "execution_count": null,
   "metadata": {},
   "outputs": [],
   "source": [
    "# ICS component\n",
    "ICS_component = results_comp['lowengphot'].copy()\n",
    "ICS_component._grid_vals *= list(map(int, ICS_component.eng < phys.rydberg))\n",
    "ICS_component.redshift(1)\n",
    "components['ICS'] = {'distortion': ICS_component.sum_specs()}"
   ]
  },
  {
   "cell_type": "code",
   "execution_count": null,
   "metadata": {},
   "outputs": [],
   "source": [
    "# Reionization and recombination components\n",
    "weights_recomb = (results_comp['lowengphot'].rs > 400)\n",
    "weights_reion = results_comp['lowengphot'].rs < 400\n",
    "\n",
    "atomic_component = results_comp['dist_atomic'].copy()\n",
    "atomic_component.redshift(1)\n",
    "components['recomb'] = {'distortion': atomic_component.sum_specs(weight=weights_recomb)}\n",
    "components['reion'] = {'distortion': atomic_component.sum_specs(weight=weights_reion)}"
   ]
  },
  {
   "cell_type": "code",
   "execution_count": null,
   "metadata": {},
   "outputs": [],
   "source": [
    "# y-type from heating\n",
    "yheat_component = results_comp['dist_yheat'].copy()\n",
    "yheat_component.redshift(1)\n",
    "components['y_heat'] = {'distortion': yheat_component.sum_specs()}"
   ]
  },
  {
   "cell_type": "code",
   "execution_count": null,
   "metadata": {},
   "outputs": [],
   "source": [
    "### Check that sum of components is equal to total distortion\n",
    "# total_spec = Spectrum(components['ICS']['distortion'].eng, \n",
    "#                       np.zeros_like(components['ICS']['distortion'].eng), \n",
    "#                       rs=1, spec_type='N')\n",
    "\n",
    "# components['recomb']['distortion'].rebin(components['ICS']['distortion'].eng)\n",
    "# components['reion']['distortion'].rebin(components['ICS']['distortion'].eng)\n",
    "# components['y_heat']['distortion'].rebin(components['ICS']['distortion'].eng)\n",
    "\n",
    "# total_spec.N += components['ICS']['distortion'].N\n",
    "# total_spec.N += components['recomb']['distortion'].N\n",
    "# total_spec.N += components['reion']['distortion'].N\n",
    "# total_spec.N += components['y_heat']['distortion'].N\n",
    "\n",
    "# components['total'] = {'distortion': total_spec}"
   ]
  },
  {
   "cell_type": "markdown",
   "metadata": {},
   "source": [
    "# Plot"
   ]
  },
  {
   "cell_type": "code",
   "execution_count": null,
   "metadata": {},
   "outputs": [],
   "source": [
    "cmap = cm.plasma(np.linspace(0.2,0.85,4))\n",
    "\n",
    "plt.figure(figsize=(7,7))\n",
    "ax = plt.gca()\n",
    "\n",
    "plot_distortion(ax, components['recomb'], label=r'$z > 400$',\n",
    "                color=cmap[0], leg=True, first=False)\n",
    "plot_distortion(ax, components['reion'], label=r'$z < 400$',\n",
    "                color=cmap[1], leg=True, first=False)\n",
    "plot_distortion(ax, components['ICS'], label='ICS',\n",
    "                color=cmap[2], leg=True, first=False)\n",
    "plot_distortion(ax, components['y_heat'], label='heat',\n",
    "                color=cmap[3], leg=True, first=False)\n",
    "# plot_distortion(ax, components['total'], label='sum?',\n",
    "#                 color='grey', leg=True, first=False)\n",
    "plot_distortion(ax, results_comp, label='full', color='k', leg=True, first=False)"
   ]
  },
  {
   "cell_type": "code",
   "execution_count": null,
   "metadata": {},
   "outputs": [],
   "source": []
  }
 ],
 "metadata": {
  "kernelspec": {
   "display_name": "Python 3",
   "language": "python",
   "name": "python3"
  },
  "language_info": {
   "codemirror_mode": {
    "name": "ipython",
    "version": 3
   },
   "file_extension": ".py",
   "mimetype": "text/x-python",
   "name": "python",
   "nbconvert_exporter": "python",
   "pygments_lexer": "ipython3",
   "version": "3.7.6"
  }
 },
 "nbformat": 4,
 "nbformat_minor": 4
}
