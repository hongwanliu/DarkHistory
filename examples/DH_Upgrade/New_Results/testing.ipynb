{
 "cells": [
  {
   "cell_type": "code",
   "execution_count": 1,
   "metadata": {},
   "outputs": [],
   "source": [
    "%load_ext autoreload"
   ]
  },
  {
   "cell_type": "code",
   "execution_count": 2,
   "metadata": {},
   "outputs": [
    {
     "name": "stderr",
     "output_type": "stream",
     "text": [
      "\n",
      "Bad key text.latex.preview in file ../../matplotlibrc, line 10 ('text.latex.preview : False')\n",
      "You probably need to get an updated matplotlibrc file from\n",
      "https://github.com/matplotlib/matplotlib/blob/v3.5.1/matplotlibrc.template\n",
      "or from the matplotlib source distribution\n"
     ]
    }
   ],
   "source": [
    "%autoreload \n",
    "\n",
    "import sys\n",
    "sys.path.append('../../..')\n",
    "import pickle\n",
    "\n",
    "import numpy as np\n",
    "from tqdm import tqdm_notebook as tqdm\n",
    "\n",
    "import matplotlib\n",
    "matplotlib.rc_file('../../matplotlibrc')\n",
    "import matplotlib.pyplot as plt\n",
    "from matplotlib.pyplot import cm \n",
    "import matplotlib.colors as colors\n",
    "%matplotlib inline\n",
    "\n",
    "import darkhistory.physics as phys\n",
    "import main\n",
    "import config"
   ]
  },
  {
   "cell_type": "code",
   "execution_count": 3,
   "metadata": {},
   "outputs": [
    {
     "name": "stdout",
     "output_type": "stream",
     "text": [
      "Running main.evolve(...): \n",
      "******************************************\n",
      "Testing solution with no DM: \n",
      "****** Loading transfer functions... ******\n",
      "    for propagating photons...   Done!\n",
      "    for low-energy photons...  Done!\n",
      "    for low-energy electrons...  Done!\n",
      "    for high-energy deposition...  Done!\n",
      "    for total upscattered CMB energy rate...  Done!\n",
      "****** Loading complete! ******\n",
      "****** Loading transfer functions... ******\n",
      "    for inverse Compton (Thomson)...  Done!\n",
      "    for inverse Compton (relativistic)...  Done!\n",
      "    for inverse Compton (energy loss)...  Done!\n",
      "****** Loading complete! ******\n"
     ]
    },
    {
     "data": {
      "application/vnd.jupyter.widget-view+json": {
       "model_id": "f4085544e49b49aa919917b337749c7e",
       "version_major": 2,
       "version_minor": 0
      },
      "text/plain": [
       "  0%|          | 0/170.0 [00:00<?, ?it/s]"
      ]
     },
     "metadata": {},
     "output_type": "display_data"
    },
    {
     "name": "stderr",
     "output_type": "stream",
     "text": [
      "/home/hongwanl/DarkHistory/examples/DH_Upgrade/New_Results/../../../darkhistory/spec/spectrum.py:861: RuntimeWarning: The new abscissa lies below the old one: only bins that lie within the new abscissa will be rebinned, bins above the abscissa will be discarded.\n",
      "  warnings.warn(\"The new abscissa lies below the old one: only bins that lie within the new abscissa will be rebinned, bins above the abscissa will be discarded.\", RuntimeWarning)\n"
     ]
    },
    {
     "data": {
      "application/vnd.jupyter.widget-view+json": {
       "model_id": "b79e1083b0064602b40d0bc466f79dfd",
       "version_major": 2,
       "version_minor": 0
      },
      "text/plain": [
       "  0%|          | 0/170.0 [00:00<?, ?it/s]"
      ]
     },
     "metadata": {},
     "output_type": "display_data"
    },
    {
     "name": "stdout",
     "output_type": "stream",
     "text": [
      "The maximum relative change in xHI and xHeI is:  6.921374715473938e-06\n",
      "The maximum relative change in Tm is:  9.590620630994806e-09\n",
      "The maximum relative change in f_(H ion) is:  1.1690858832125173e-06\n",
      "The maximum relative change in f_(H ion) is:  1.1690858832125173e-06\n",
      "The maximum relative change in f_(He ion) is:  1.004167236029474e-06\n",
      "The maximum relative change in f_(Lya) is:  1.4561289933823218e-06\n",
      "The maximum relative change in f_(heat) is:  1.8882124488417418e-06\n",
      "The maximum relative change in f_(cont) is:  4.807906637260828e-07\n",
      "The maximum relative change in the MLA parameters is:  5.416912616129643e-06\n",
      "Pickled solution with no DM!\n",
      "Test complete!\n"
     ]
    }
   ],
   "source": [
    "config.test(end_rs=200, iter=2, std_only=True)\n",
    "# config.test()"
   ]
  },
  {
   "cell_type": "code",
   "execution_count": null,
   "metadata": {},
   "outputs": [],
   "source": [
    "test_data = pickle.load(open('/scratch/gpfs/hongwanl/DarkHistory/data/std_test_data.p', 'rb'))\n",
    "\n",
    "ref_data = pickle.load(open('/scratch/gpfs/hongwanl/DarkHistory/data/reference_20220818_std_result_n_10_high_rs_1555_coarsen_16_reion_False_rtol_1e-6.p', 'rb'))"
   ]
  },
  {
   "cell_type": "code",
   "execution_count": null,
   "metadata": {},
   "outputs": [],
   "source": [
    "print(test_data['MLA'][1:])\n",
    "print(ref_data['MLA'][1:])"
   ]
  },
  {
   "cell_type": "code",
   "execution_count": null,
   "metadata": {},
   "outputs": [],
   "source": [
    "options_dict = {\n",
    "    'primary':'elec_delta', 'DM_process':'decay', 'mDM':1e8, 'lifetime':3e25,\n",
    "    'start_rs': 3000, 'high_rs': 1.555e3, 'end_rs':4,\n",
    "    'reion_switch':True, 'reion_method':'Puchwein', 'heat_switch':True,\n",
    "    'coarsen_factor':16, 'distort':True, 'fexc_switch': True, \n",
    "    'MLA_funcs':None,\n",
    "    'reprocess_distortion':True, 'nmax':10, 'rtol':1e-6, 'use_tqdm':True, 'iterations':2\n",
    "}\n",
    "\n",
    "options_dict_std = {\n",
    "    'primary':'elec_delta', 'DM_process':'decay', 'mDM':1e8, 'lifetime':3e40,\n",
    "    'start_rs': 3000, 'high_rs': 1.555e3, 'end_rs':2000,\n",
    "    'reion_switch':False, 'reion_method':'Puchwein', 'heat_switch':True,\n",
    "    'coarsen_factor':16, 'distort':True, 'fexc_switch': True, \n",
    "    'MLA_funcs':None,\n",
    "    'reprocess_distortion':True, 'nmax':100, 'rtol':1e-6, 'use_tqdm':True, 'iterations':2\n",
    "}"
   ]
  },
  {
   "cell_type": "code",
   "execution_count": null,
   "metadata": {},
   "outputs": [],
   "source": [
    "%%prun \n",
    "# res = main.evolve(**options_dict)\n",
    "res_std = main.evolve(**options_dict_std)"
   ]
  },
  {
   "cell_type": "code",
   "execution_count": null,
   "metadata": {},
   "outputs": [],
   "source": [
    "plt.figure()\n",
    "\n",
    "plt.loglog()\n",
    "\n",
    "res_rs = res[-1]['MLA'][0]\n",
    "x_std = phys.x_std(res_rs)\n",
    "Tm_std = phys.Tm_std(res_rs)\n",
    "\n",
    "C_times_alpha_B = phys.peebles_C(x_std, res_rs) * phys.alpha_recomb(Tm_std, 'HI')\n",
    "\n",
    "\n",
    "# plt.plot(res['MLA'][0], res['MLA'][1,:], label=r'DM $\\tilde{\\alpha}_\\mathrm{B} / (C_\\mathrm{std} \\alpha_{B,\\mathrm{std}})$')\n",
    "plt.plot(res_std[-1]['MLA'][0], res_std[-1]['MLA'][1,:] / C_times_alpha_B, label=r'Standard $\\tilde{\\alpha}_\\mathrm{B} / (C_\\mathrm{std} \\alpha_{B, \\mathrm{std}})$')\n",
    "# plt.plot(res_std_2['MLA'][0], res_std_2['MLA'][1,:] / C_times_alpha_B, label=r'Standard $\\tilde{\\alpha}_\\mathrm{B} / (C_\\mathrm{std} \\alpha_{B, \\mathrm{std}})$')\n",
    "# plt.plot(res_std['MLA'][0], res_std['MLA'][1,:] / res_std_2['MLA'][1,:])\n",
    "# plt.plot(res_rs, C_times_alpha_B, 'k--', label=r'$C_\\mathrm{std} \\alpha_{B, \\mathrm{std}}$')\n",
    "\n",
    "\n",
    "plt.xlabel(r'$1+z$')\n",
    "plt.ylabel(r'Rate [cm$^{3}$ s$^{-1}$]')\n",
    "plt.legend()\n",
    "\n",
    "# plt.xlim(1e3, 3e3)"
   ]
  },
  {
   "cell_type": "code",
   "execution_count": null,
   "metadata": {},
   "outputs": [],
   "source": [
    "plt.figure()\n",
    "\n",
    "plt.loglog()\n",
    "\n",
    "plt.plot(res_std['rs'], res_std['x'][:,0] / phys.x_std(res_std['rs']))\n",
    "\n",
    "plt.plot(res['rs'], res['x'][:,0] / phys.x_std(res['rs']))\n",
    "\n",
    "\n",
    "# plt.xlim(20, 3000)\n",
    "# plt.ylim(0.975, 1.025)"
   ]
  },
  {
   "cell_type": "code",
   "execution_count": null,
   "metadata": {},
   "outputs": [],
   "source": [
    "pickle.dump(res_std, open('/scratch/gpfs/hongwanl/DarkHistory/data/reference_20220822_std_result_n_10_high_rs_1555_coarsen_16_reion_False_rtol_1e-6_iter_2.p', 'wb'))\n",
    "\n",
    "pickle.dump(res, open('/scratch/gpfs/hongwanl/DarkHistory/data/reference_20220822_mDM_1e8_elec_delta_decay_3e25_n_10_high_rs_1555_coarsen_16_reion_True_rtol_1e-6_iter_2.p', 'wb'))\n"
   ]
  },
  {
   "cell_type": "code",
   "execution_count": null,
   "metadata": {},
   "outputs": [],
   "source": [
    "nmax = 10\n",
    "\n",
    "eng_norm_levels = np.divide(\n",
    "        1., np.arange(nmax+1.)**2, out=np.ones(nmax+1)*np.nan, \n",
    "        where=np.arange(nmax+1) != 0\n",
    "    )\n",
    "Ennp_mat = (eng_norm_levels[None,:] - eng_norm_levels[:,None]) "
   ]
  },
  {
   "cell_type": "code",
   "execution_count": null,
   "metadata": {},
   "outputs": [],
   "source": [
    "Ennp_mat[1]"
   ]
  },
  {
   "cell_type": "code",
   "execution_count": null,
   "metadata": {},
   "outputs": [],
   "source": [
    "\n",
    "import darkhistory.low_energy.atomic as atomic\n",
    "\n",
    "nmax = 50\n",
    "\n",
    "R = atomic.populate_radial(nmax)\n",
    "\n",
    "BB, BB_2s1s = atomic.populate_bound_bound(nmax, 0.5, R, Delta_f=None, simple_2s1s=True)\n",
    "\n",
    "# Initialize K_ij = R_ji / R_i,tot as n x n' x l x l', where i = (n,l), j = (n',l')\n",
    "K = np.zeros((nmax+1, nmax+1, nmax+1, nmax+1))\n",
    "# BB['up'] has dimensions n x n' x l, with transitions to l' = l+1. \n",
    "K_up = np.zeros_like(K) + BB['up'][:,:,:,None]\n",
    "# print(K_up)\n",
    "# print(K_up[5,3])\n",
    "K_up = np.tril(np.triu(K_up, k=1), k=1)\n",
    "# print(K_up[5,3])\n",
    "# print(K_up)\n",
    "# BB['dn'] has dimensions n x n' x l, with transitions to l' = l-1. e\n",
    "K_dn = np.zeros_like(K) + BB['dn'][:,:,:,None]\n",
    "K_dn = np.tril(np.triu(K_dn, k=-1), k=-1)\n",
    "\n",
    "\n",
    "K = K_up + K_dn \n"
   ]
  },
  {
   "cell_type": "code",
   "execution_count": null,
   "metadata": {},
   "outputs": [],
   "source": [
    "# i = n(n+1)/2 - n + l\n",
    "# j = np(np+1)/2 - np + lp\n",
    "\n",
    "num_states = int(nmax*(nmax+1)/2)\n",
    "\n",
    "K_2d = np.zeros((num_states, num_states))\n",
    "\n",
    "K_2d_new = np.zeros((num_states, num_states))\n",
    "\n",
    "states_n = np.concatenate([\n",
    "    list(map(int, k*np.ones(k))) for k in range(1, nmax+1, 1)]\n",
    ")\n",
    "states_l = np.concatenate([np.arange(k) for k in range(1, nmax+1)])\n",
    "\n",
    "for i in np.arange(num_states): \n",
    "    for j in np.arange(num_states): \n",
    "        K_2d[i,j] = K[states_n[i], states_l[i], states_n[j], states_l[j]]\n"
   ]
  },
  {
   "cell_type": "code",
   "execution_count": null,
   "metadata": {},
   "outputs": [],
   "source": [
    "states_n_p_2d = np.tile(states_n, (num_states,1)) \n",
    "states_l_p_2d = np.tile(states_l, (num_states,1)) \n",
    "states_n_2d = np.transpose(states_n_p_2d)\n",
    "states_l_2d = np.transpose(states_l_p_2d)\n",
    "\n",
    "K_2d_new = K[states_n_2d, states_l_2d, states_n_p_2d, states_l_p_2d]"
   ]
  },
  {
   "cell_type": "code",
   "execution_count": null,
   "metadata": {},
   "outputs": [],
   "source": [
    "# print(K_2d)\n",
    "print(K_2d_new.shape)"
   ]
  },
  {
   "cell_type": "code",
   "execution_count": null,
   "metadata": {},
   "outputs": [],
   "source": [
    "print(np.array_equal(K_2d_new, K_2d))"
   ]
  },
  {
   "cell_type": "code",
   "execution_count": null,
   "metadata": {},
   "outputs": [],
   "source": [
    "np.arange(2, nmax+1,1)"
   ]
  },
  {
   "cell_type": "code",
   "execution_count": null,
   "metadata": {},
   "outputs": [],
   "source": []
  }
 ],
 "metadata": {
  "kernelspec": {
   "display_name": "Python 3.8.13 ('DarkHistory')",
   "language": "python",
   "name": "python3"
  },
  "language_info": {
   "codemirror_mode": {
    "name": "ipython",
    "version": 3
   },
   "file_extension": ".py",
   "mimetype": "text/x-python",
   "name": "python",
   "nbconvert_exporter": "python",
   "pygments_lexer": "ipython3",
   "version": "3.8.13"
  },
  "orig_nbformat": 4,
  "vscode": {
   "interpreter": {
    "hash": "706ea14756dc382a876d73e5832be7f55bf221f2f0f179ca7c267b8b07f4af80"
   }
  }
 },
 "nbformat": 4,
 "nbformat_minor": 2
}
