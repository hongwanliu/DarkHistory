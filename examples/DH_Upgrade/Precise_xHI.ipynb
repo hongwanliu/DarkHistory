{
 "cells": [
  {
   "cell_type": "code",
   "execution_count": 46,
   "source": [
    "%load_ext autoreload\n",
    "import sys\n",
    "sys.path.append(\"../..\")\n",
    "\n",
    "import matplotlib.pyplot as plt"
   ],
   "outputs": [
    {
     "output_type": "stream",
     "name": "stdout",
     "text": [
      "The autoreload extension is already loaded. To reload it, use:\n",
      "  %reload_ext autoreload\n"
     ]
    }
   ],
   "metadata": {
    "scrolled": true
   }
  },
  {
   "cell_type": "code",
   "execution_count": 3,
   "source": [
    "import darkhistory.physics as phys"
   ],
   "outputs": [],
   "metadata": {}
  },
  {
   "cell_type": "markdown",
   "source": [
    "# $z>1570$ Evolution"
   ],
   "metadata": {}
  },
  {
   "cell_type": "markdown",
   "source": [
    "We will borrow the method from Hyrec and pre-Hyrec in which we calculate post-Saha corrections at large redshifts, then solve the differential equation at small redshifts.\n",
    "\n",
    "We start by defining the (small) devisation from Saha Equilibrium $\\Delta x_e = x_e - x_e^S(z)$, then Taylor expanding the ODE for $\\dot{x}_e$:\n",
    "$$ \\dot{x}_e(x_e, z) = \\dot{x}_e(x_e^S, z) + D_1 \\Delta x_e + \\mathcal{O}(\\Delta x_e^2) $$\n",
    "\n",
    "To solve for the coefficient $D_1$ we perform a numerical differentiation with $\\epsilon = 0.01 x_e^S(1-x_e^S)$:\n",
    "$$ D_1 = \\frac{\\dot{x}_e(x_e+\\epsilon, z) - \\dot{x}_e(x_e-\\epsilon, z)}{2\\epsilon} $$\n",
    "\n",
    "Combining all of our results then gives us\n",
    "$$ x_e = x_e^S(z) + \\frac{\\dot{x}_e(x_e, z) - \\dot{x}_e(x_e^S, z)}{D_1(z)} + \\mathcal{O}(\\Delta x_e^2) $$\n",
    "\n",
    "This isn't quite good enough, since it's an implicit equation for $x_e$, so we replace the numerator of the second term by $\\dot{x}_e^S(z)$ (!!! Consistent?) to find\n",
    "$$ x_e \\approx x_e^S(z) + \\frac{\\dot{x}_e^S(z) - \\dot{x}_e(x_e^S, z)}{D_1(z)} $$"
   ],
   "metadata": {}
  },
  {
   "cell_type": "code",
   "execution_count": 239,
   "source": [
    "%autoreload\n",
    "\n",
    "def xdot(xe, rs, fudge = True):\n",
    "    Tm = phys.Tm_std(rs)\n",
    "    peebC = phys.peebles_C(xe, rs, fudge)\n",
    "    beta_ion = phys.beta_ion(Tm, 'HI', fudge)\n",
    "    nH = phys.nH * rs**3\n",
    "    xHI = 1-xe\n",
    "\n",
    "    return - phys.dtdz(rs) * peebC * (\n",
    "        phys.alpha_recomb(Tm, 'HI', fudge) * xe**2 * nH\n",
    "        - 4 * beta_ion * xHI * np.exp(-phys.lya_eng/phys.TCMB(rs))\n",
    "    )\n",
    "\n",
    "def post_Saha(rs, species = 'HII'):\n",
    "    xHII_S = phys.xe_Saha(rs, 'HII')\n",
    "    xHI_S  = phys.xe_Saha(rs, 'HI')\n",
    "\n",
    "    eps = .01 * xHII_S * xHI_S\n",
    "    D1 = (xdot(xHII_S + eps, rs) - xdot(xHII_S - eps, rs))/(2*eps)\n",
    "\n",
    "    if species == 'HII':\n",
    "        return xHII_S + phys.d_xe_Saha_dz(rs,'HI')/D1\n",
    "\n",
    "    elif species == 'HI':\n",
    "        return xHI_S - phys.d_xe_Saha_dz(rs,'HI')/D1\n",
    "\n",
    "    else:\n",
    "        raise TypeError('Invalid Species')\n",
    "\n"
   ],
   "outputs": [],
   "metadata": {}
  },
  {
   "cell_type": "code",
   "execution_count": 244,
   "source": [
    "%autoreload\n",
    "\n",
    "rs_vec = 10**(np.linspace(np.log10(1570), 4, 100))\n",
    "Tm_vec = phys.Tm_std(rs_vec)\n",
    "\n",
    "# Baseline, Saha value\n",
    "xHII_S = phys.xe_Saha(rs_vec, 'HII')\n",
    "xHI_S  = phys.xe_Saha(rs_vec, 'HI')\n",
    "\n",
    "# Deviations for Saha\n",
    "xHII_S1 = post_Saha(rs_vec, 'HII')\n",
    "xHI_S1 =  post_Saha(rs_vec, 'HI')\n",
    "\n",
    "eps = .01 * xHII_S * xHI_S\n",
    "D1 = (xdot(xHII_S + eps, rs_vec) - xdot(xHII_S - eps, rs_vec))/(2*eps)\n",
    "\n",
    "\n",
    "plt.figure()\n",
    "plt.loglog()\n",
    "ax = plt.gca()\n",
    "# ax.set_xscale('log')\n",
    "# plt.ylim([1e-100,1e-2])\n",
    "\n",
    "plt.plot(rs_vec, np.abs((1-xHII_S)/(1-xHII_S1) - 1))\n",
    "plt.plot(rs_vec, np.abs(xHI_S/xHI_S1 - 1))\n",
    "plt.plot(rs_vec, phys.d_xe_Saha_dz(rs_vec,'HI')/D1/xHI_S1)\n",
    "\n",
    "# plt.plot(rs_vec, 1-xHII_S1)\n",
    "# plt.plot(rs_vec, phys.xHI_std(rs_vec, rs_extrap=2e3))\n",
    "# plt.plot(rs_vec, xHI_S1)"
   ],
   "outputs": [
    {
     "output_type": "execute_result",
     "data": {
      "text/plain": [
       "[<matplotlib.lines.Line2D at 0x12eb154c0>]"
      ]
     },
     "metadata": {},
     "execution_count": 244
    },
    {
     "output_type": "display_data",
     "data": {
      "image/png": "[encoded data removed]",
      "text/plain": [
       "<Figure size 620x620 with 1 Axes>"
      ]
     },
     "metadata": {}
    }
   ],
   "metadata": {}
  },
  {
   "cell_type": "markdown",
   "source": [
    "# Histories"
   ],
   "metadata": {}
  },
  {
   "cell_type": "markdown",
   "source": [
    "(i) Saha, then TLA\n",
    "\n",
    "(ii) Saha + $\\delta_{std}$, then TLA\n",
    "\n",
    "(iii) Saha + $\\delta$, then TLA"
   ],
   "metadata": {}
  },
  {
   "cell_type": "code",
   "execution_count": 364,
   "source": [
    "%autoreload\n",
    "from darkhistory.history import tla\n",
    "dlnz = .001\n",
    "rtol = 1e-8\n",
    "\n",
    "rs_start = 3e3\n",
    "rs_knot = 1.57e3\n",
    "rs_end = 10\n",
    "\n",
    "rs_high = 10**np.arange(np.log10(rs_start), np.log10(rs_knot)-dlnz, -dlnz)\n",
    "rs_low  = 10**np.arange(np.log10(rs_knot), np.log10(rs_end) - dlnz, -dlnz)\n",
    "\n",
    "# In case np.arange did any funny business\n",
    "rs_high[-1], rs_high[0] = rs_knot, rs_start\n",
    "rs_low[-1], rs_low[0]  = rs_end, rs_knot\n",
    "\n",
    "rs_vec = np.append(rs_high[:-1], rs_low)\n",
    "\n",
    "init_cond = np.array([\n",
    "    phys.Tm_std(rs_knot), \n",
    "    phys.xe_Saha(rs_knot, 'HII'),\n",
    "    0,\n",
    "    0\n",
    "])\n",
    "\n",
    "# case (i): Standard\n",
    "xHII_vec = phys.xe_Saha(rs_high, 'HII')\n",
    "init_cond[1] = xHII_vec[-1]\n",
    "\n",
    "hist1 = tla.get_history(\n",
    "    rs_low, init_cond=init_cond, \n",
    "    reion_switch = False,\n",
    "    recfast_TLA=True, fudge=True, \n",
    "    alpha_MLA=None, beta_MLA=None,\n",
    "    mxstep = 10000, rtol=rtol\n",
    ")\n",
    "\n",
    "xHII_vec = np.append(xHII_vec[:-1], hist1[:,1])\n",
    "\n",
    "\n",
    "# case (ii): post_Saha, Peebles\n",
    "xHI_vec = post_Saha(rs_high, 'HI')\n",
    "init_cond[1] = 1-xHI_vec[-1]\n",
    "\n",
    "hist2 = tla.get_history(\n",
    "    rs_low, init_cond=init_cond, \n",
    "    reion_switch = False,\n",
    "    recfast_TLA=True, fudge=True, \n",
    "    alpha_MLA=None, beta_MLA=None,\n",
    "    mxstep = 10000, rtol=rtol\n",
    ")\n",
    "\n",
    "xHI_vec = np.append(xHI_vec[:-1], 1-hist2[:,1])\n",
    "\n",
    "# case (iii): post_Saha, DH\n",
    "\n",
    "\n"
   ],
   "outputs": [],
   "metadata": {}
  },
  {
   "cell_type": "code",
   "execution_count": 365,
   "source": [
    "hist0 = tla.get_history(rs_vec)"
   ],
   "outputs": [],
   "metadata": {}
  },
  {
   "cell_type": "code",
   "execution_count": 378,
   "source": [
    "from scipy.interpolate import interp1d\n",
    "\n",
    "plt.figure()\n",
    "plt.loglog()\n",
    "\n",
    "int1 = interp1d(rs_vec, xHI_vec, kind='cubic')\n",
    "rs_tmp = 10**np.linspace(np.log10(1.5e3), np.log10(1.6e3), 100)\n",
    "\n",
    "plt.axvline(rs_knot, linestyle=':', color='k')\n",
    "plt.plot(rs_tmp[:-1], -np.diff(int1(rs_tmp)))\n",
    "# plt.plot(rs_vec[:-1], -np.diff(1-xHII_vec)/np.diff(rs_vec))\n",
    "# plt.plot(rs_vec[:-1], -np.diff(xHI_vec)/np.diff(rs_vec))\n",
    "# plt.plot(rs_vec[:-1], -np.diff(phys.xHI_std(rs_vec))/np.diff(rs_vec))\n",
    "# plt.plot(rs_vec[:-1], -np.diff(1-hist0[:,1])/np.diff(rs_vec), linestyle=':')"
   ],
   "outputs": [
    {
     "output_type": "execute_result",
     "data": {
      "text/plain": [
       "[<matplotlib.lines.Line2D at 0x131d842e0>]"
      ]
     },
     "metadata": {},
     "execution_count": 378
    },
    {
     "output_type": "display_data",
     "data": {
      "image/png": "[encoded data removed]",
      "text/plain": [
       "<Figure size 620x620 with 1 Axes>"
      ]
     },
     "metadata": {}
    }
   ],
   "metadata": {}
  },
  {
   "cell_type": "code",
   "execution_count": null,
   "source": [],
   "outputs": [],
   "metadata": {}
  }
 ],
 "metadata": {
  "cite2c": {
   "citations": {
    "6232408/3KKTSI4D": {
     "DOI": "10.1103/PhysRevD.94.063507",
     "abstract": "Dark matter annihilation or decay could have a significant impact on the ionization and thermal history of the universe. In this paper, we study the potential contribution of dark matter annihilation (s-wave- or p-wave-dominated) or decay to cosmic reionization, via the production of electrons, positrons and photons. We map out the possible perturbations to the ionization and thermal histories of the universe due to dark matter processes, over a broad range of velocity-averaged annihilation cross sections/decay lifetimes and dark matter masses. We have employed recent numerical studies of the efficiency with which annihilation/decay products induce heating and ionization in the intergalactic medium, and in this work extended them down to a redshift of 1+z=4 for two different reionization scenarios. We also improve on earlier studies by using the results of detailed structure formation models of dark matter haloes and subhaloes that are consistent with up-to-date N-body simulations, with estimates on the uncertainties that originate from the smallest scales. We find that for dark matter models that are consistent with experimental constraints, a contribution of more than 10% to the ionization fraction at reionization is disallowed for all annihilation scenarios. Such a contribution is possible only for decays into electron/positron pairs, for light dark matter with mass mχ≲100  MeV, and a decay lifetime τχ∼1024–1025  s.",
     "author": [
      {
       "family": "Liu",
       "given": "Hongwan"
      },
      {
       "family": "Slatyer",
       "given": "Tracy R."
      },
      {
       "family": "Zavala",
       "given": "Jesús"
      }
     ],
     "container-title": "Phys.Rev.",
     "id": "6232408/3KKTSI4D",
     "issue": "6",
     "issued": {
      "day": 8,
      "month": 9,
      "year": 2016
     },
     "page": "063507",
     "page-first": "063507",
     "title": "Contributions to cosmic reionization from dark matter annihilation and decay",
     "type": "article-journal",
     "volume": "D94"
    },
    "6232408/5QGGVCIF": {
     "URL": "https://journals.aps.org/prd/abstract/10.1103/PhysRevD.91.063003",
     "accessed": {
      "day": 18,
      "month": 3,
      "year": 2019
     },
     "id": "6232408/5QGGVCIF",
     "title": "Phys. Rev. D 91, 063003 (2015) - A tale of tails: Dark matter interpretations of the Fermi GeV excess in light of background model systematics",
     "type": "webpage"
    },
    "6232408/DNWD4W9M": {
     "URL": "https://arxiv.org/abs/1903.02549v1",
     "abstract": "An excess of $\\sim$10-20 GeV cosmic-ray antiprotons has been identified in\nthe spectrum reported by the AMS-02 Collaboration. The systematic uncertainties\nassociated with this signal, however, have made it difficult to interpret these\nresults. In this paper, we revisit the uncertainties associated with the time,\ncharge and energy-dependent effects of solar modulation, the antiproton\nproduction cross section, and interstellar cosmic-ray propagation. After\naccounting for these uncertainties, we confirm the presence of a 4.7$σ$\nantiproton excess, consistent with that arising from a $m_χ \\approx 64-88$\nGeV dark matter particle annihilating to $b\\bar{b}$ with a cross section of\n$σv \\simeq (0.8-5.2) \\times 10^{-26}$ cm$^{3}$/s. If we allow for the\nstochastic acceleration of secondary antiprotons in supernova remnants, the\ndata continues to favor a similar range of dark matter models ($m_χ\\approx\n46-94$ GeV, $σv \\approx (0.7-3.8)\\times 10^{-26}$ cm$^3/$s) with a\nsignificance of 3.3$σ$. The same range of dark matter models that are\nfavored to explain the antiproton excess can also accommodate the excess of\nGeV-scale gamma rays observed from the Galactic Center.",
     "accessed": {
      "day": 18,
      "month": 3,
      "year": 2019
     },
     "author": [
      {
       "family": "Cholis",
       "given": "Ilias"
      },
      {
       "family": "Linden",
       "given": "Tim"
      },
      {
       "family": "Hooper",
       "given": "Dan"
      }
     ],
     "id": "6232408/DNWD4W9M",
     "issued": {
      "day": 6,
      "month": 3,
      "year": 2019
     },
     "language": "en",
     "shortTitle": "A Robust Excess in the Cosmic-Ray Antiproton Spectrum",
     "title": "A Robust Excess in the Cosmic-Ray Antiproton Spectrum: Implications for Annihilating Dark Matter",
     "title-short": "A Robust Excess in the Cosmic-Ray Antiproton Spectrum",
     "type": "article-journal"
    },
    "6232408/LH5Z9TEB": {
     "DOI": "10.1088/1475-7516/2014/11/024",
     "URL": "https://doi.org/10.1088%2F1475-7516%2F2014%2F11%2F024",
     "abstract": "Observations of the redshifted 21 cm line from neutral hydrogen will open a new window on the early Universe. By influencing the thermal and ionization history of the intergalactic medium (IGM), annihilating dark matter (DM) can leave a detectable imprint in the 21 cm signal. Building on the publicly available 21cmFAST code, we compute the 21 cm signal for a 10 GeV WIMP DM candidate. The most pronounced role of DM annihilations is in heating the IGM earlier and more uniformly than astrophysical sources of X-rays. This leaves several unambiguous, qualitative signatures in the redshift evolution of the large-scale (k ≃ 0.1 Mpc-1) 21 cm power amplitude: (i) the local maximum (peak) associated with IGM heating can be lower than the other maxima; (ii) the heating peak can occur while the IGM is in emission against the cosmic microwave background (CMB); (iii) there can be a dramatic drop in power (a global minimum) corresponding to the epoch when the IGM temperature is comparable to the CMB temperature. These signatures are robust to astrophysical uncertainties, and will be easily detectable with second generation interferometers. We also briefly show that decaying warm dark matter has a negligible role in heating the IGM.",
     "accessed": {
      "day": 17,
      "month": 3,
      "year": 2019
     },
     "author": [
      {
       "family": "Evoli",
       "given": "C."
      },
      {
       "family": "Mesinger",
       "given": "A."
      },
      {
       "family": "Ferrara",
       "given": "A."
      }
     ],
     "container-title": "Journal of Cosmology and Astroparticle Physics",
     "container-title-short": "J. Cosmol. Astropart. Phys.",
     "id": "6232408/LH5Z9TEB",
     "issue": "11",
     "issued": {
      "month": 11,
      "year": 2014
     },
     "journalAbbreviation": "J. Cosmol. Astropart. Phys.",
     "language": "en",
     "page": "024–024",
     "page-first": "024",
     "title": "Unveiling the nature of dark matter with high redshift 21 cm line experiments",
     "type": "article-journal",
     "volume": "2014"
    }
   }
  },
  "kernelspec": {
   "name": "python3",
   "display_name": "Python 3.9.5 64-bit"
  },
  "language_info": {
   "codemirror_mode": {
    "name": "ipython",
    "version": 3
   },
   "file_extension": ".py",
   "mimetype": "text/x-python",
   "name": "python",
   "nbconvert_exporter": "python",
   "pygments_lexer": "ipython3",
   "version": "3.9.5"
  },
  "toc": {
   "base_numbering": 1,
   "nav_menu": {},
   "number_sections": true,
   "sideBar": true,
   "skip_h1_title": false,
   "title_cell": "Table of Contents",
   "title_sidebar": "Contents",
   "toc_cell": false,
   "toc_position": {},
   "toc_section_display": true,
   "toc_window_display": false
  },
  "interpreter": {
   "hash": "aee8b7b246df8f9039afb4144a1f6fd8d2ca17a180786b69acc140d282b71a49"
  }
 },
 "nbformat": 4,
 "nbformat_minor": 2
}