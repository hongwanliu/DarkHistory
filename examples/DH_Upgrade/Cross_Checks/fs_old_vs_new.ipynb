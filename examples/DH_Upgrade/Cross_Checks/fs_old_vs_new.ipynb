{
 "cells": [
  {
   "cell_type": "code",
   "execution_count": 5,
   "metadata": {},
   "outputs": [],
   "source": [
    "import pickle\n",
    "import sys\n",
    "sys.path.append('../../..')\n",
    "import numpy as np\n",
    "from scipy.interpolate import interp1d\n",
    "# from tqdm import tqdm_notebook as tqdm\n",
    "import darkhistory.physics as phys\n",
    "import main\n",
    "\n",
    "output_dir = '/zfs/wenzerq/DarkHistory/output/'\n",
    "fig_dir = '/zfs/wenzerq/DarkHistory/figs/'"
   ]
  },
  {
   "cell_type": "markdown",
   "metadata": {},
   "source": [
    "In this upgrade of DarkHistory we change our treatment of low energy electrons.  Rather than separating out sub-3keV electrons and applying MEDEA's interpolation files to determine the fractions of energy they deposit into each channel, we solve for their deposited energy directly.  Plugging this new treatment into main.evolve() generates a new set of $f_c(z)$.  We compare our new $f_c(z)$ to Fig. 18 of [1904.09296](https://arxiv.org/pdf/1904.09296.pdf)."
   ]
  },
  {
   "cell_type": "code",
   "execution_count": 2,
   "metadata": {},
   "outputs": [],
   "source": [
    "def log10eng_to_mDM(log10eng, pri, DM_process):\n",
    "    # Converts from log10eng to mDM\n",
    "    if pri=='elec':\n",
    "        if DM_process=='decay':\n",
    "            mDM_list = 2*(10**log10eng + phys.me)\n",
    "        else:\n",
    "            mDM_list = 10**log10eng + phys.me\n",
    "    elif pri=='phot':\n",
    "        if DM_process=='decay':\n",
    "            mDM_list = 2*10**log10eng\n",
    "        else:\n",
    "            mDM_list = 10**log10eng \n",
    "    return mDM_list\n",
    "\n",
    "# Energy of injected particle\n",
    "log10eng0 = 3.6989700794219966\n",
    "log10eng = np.array([log10eng0 + 0.23252559*i for i in np.arange(40)])\n",
    "log10eng[-1] = 12.601505994846297\n",
    "eng = 10**log10eng"
   ]
  },
  {
   "cell_type": "code",
   "execution_count": null,
   "metadata": {},
   "outputs": [
    {
     "data": {
      "application/vnd.jupyter.widget-view+json": {
       "model_id": "fb454b0b0a2f4acb972699f5d0343897",
       "version_major": 2,
       "version_minor": 0
      },
      "text/plain": [
       "HBox(children=(IntProgress(value=0, max=400), HTML(value='')))"
      ]
     },
     "metadata": {},
     "output_type": "display_data"
    },
    {
     "name": "stderr",
     "output_type": "stream",
     "text": [
      "../../../darkhistory/spec/spectrum.py:861: RuntimeWarning: The new abscissa lies below the old one: only bins that lie within the new abscissa will be rebinned, bins above the abscissa will be discarded.\n",
      "  warnings.warn(\"The new abscissa lies below the old one: only bins that lie within the new abscissa will be rebinned, bins above the abscissa will be discarded.\", RuntimeWarning)\n",
      "../../../darkhistory/low_energy/atomic.py:687: RuntimeWarning: overflow encountered in true_divide\n",
      "  K[nl, states_l == l+1] = BB['dn'][l+2:, n, l+1]/tot_rate\n"
     ]
    },
    {
     "data": {
      "application/vnd.jupyter.widget-view+json": {
       "model_id": "d064ea308b384531903acc450aa0a182",
       "version_major": 2,
       "version_minor": 0
      },
      "text/plain": [
       "HBox(children=(IntProgress(value=0, max=400), HTML(value='')))"
      ]
     },
     "metadata": {},
     "output_type": "display_data"
    },
    {
     "data": {
      "application/vnd.jupyter.widget-view+json": {
       "model_id": "b73c60775aaf480e9f90d48e1698aa9b",
       "version_major": 2,
       "version_minor": 0
      },
      "text/plain": [
       "HBox(children=(IntProgress(value=0, max=400), HTML(value='')))"
      ]
     },
     "metadata": {},
     "output_type": "display_data"
    },
    {
     "data": {
      "application/vnd.jupyter.widget-view+json": {
       "model_id": "fc578ec15ba74ad9a2e139ffebaabd69",
       "version_major": 2,
       "version_minor": 0
      },
      "text/plain": [
       "HBox(children=(IntProgress(value=0, max=400), HTML(value='')))"
      ]
     },
     "metadata": {},
     "output_type": "display_data"
    },
    {
     "data": {
      "application/vnd.jupyter.widget-view+json": {
       "model_id": "7dc1503215804a6b914bc9a4c5a3712f",
       "version_major": 2,
       "version_minor": 0
      },
      "text/plain": [
       "HBox(children=(IntProgress(value=0, max=400), HTML(value='')))"
      ]
     },
     "metadata": {},
     "output_type": "display_data"
    },
    {
     "data": {
      "application/vnd.jupyter.widget-view+json": {
       "model_id": "79f1231d18a84114ba54558f20deba8e",
       "version_major": 2,
       "version_minor": 0
      },
      "text/plain": [
       "HBox(children=(IntProgress(value=0, max=400), HTML(value='')))"
      ]
     },
     "metadata": {},
     "output_type": "display_data"
    }
   ],
   "source": [
    "pri = 'elec'\n",
    "DM_process = 'decay'\n",
    "\n",
    "regenerate_data = True\n",
    "        \n",
    "if not regenerate_data:\n",
    "    fs_data = pickle.load(open(\n",
    "        output_dir+'fs_OLD_vs_NEW_xcheck.dat', 'rb'))\n",
    "else:\n",
    "    fs_data = {}\n",
    "    for pri in ['elec', 'phot']:\n",
    "        for DM_process in ['decay', 'swave']:\n",
    "            key = pri+'_'+DM_process\n",
    "            fs_data[key] = []\n",
    "            mDM_list = log10eng_to_mDM(log10eng, pri, DM_process)\n",
    "            for mDM in mDM_list:\n",
    "                res = main.evolve(\n",
    "                    DM_process=DM_process, mDM=mDM,\n",
    "                    lifetime=1e40, sigmav=1e-40, primary=pri+'_delta',\n",
    "                    start_rs=3e3, high_rs=1.555e3, end_rs=5,\n",
    "                    coarsen_factor=16, \n",
    "                    # Set distort to True to force elec_processes=True\n",
    "                    # even when pri='phot'\n",
    "                    distort=True, recfast_TLA=True, nmax=10\n",
    "                )\n",
    "                fs_data[key].append(res['f'])\n",
    "    pickle.dump(fs_data, open(output_dir+'fs_OLD_vs_NEW_xcheck.dat', 'wb'))"
   ]
  },
  {
   "cell_type": "code",
   "execution_count": null,
   "metadata": {},
   "outputs": [],
   "source": [
    "def get_fdiff(pri, DM_process, channel, ax, row, col):    \n",
    "    ind = {'H ion' : 0, 'He ion' : 1, 'Lya' : 2, 'heat' : 3, 'cont' : 4}[channel]\n",
    "    ch_std = ['H ion', 'He ion', 'exc', 'heat', 'cont']\n",
    "    ch_run = ['H ion', 'He ion', 'Lya', 'heat', 'cont']\n",
    "    rs_tmp = np.exp(np.arange(np.log(3e3), np.log(5), -.001*16))\n",
    "    mDM_list = log10eng_to_mDM(log10eng, pri, DM_process)\n",
    "    \n",
    "    f_NEW = np.ones((eng.size, rs_tmp.size-2))*1e-6\n",
    "    f_OLD = np.ones((eng.size, rs_tmp.size-2))*1e-6\n",
    "    \n",
    "    key = pri+'_'+DM_process\n",
    "    \n",
    "    for m_ind in np.arange(eng.size-1):\n",
    "        f_NEW[m_ind] = fs_data[key][m_ind][ch_run[ind]][2:]\n",
    "        f_OLD[m_ind] = phys.f_std(mDM_list[m_ind], rs_tmp[2:], \n",
    "                              pri, DM_process, channel=ch_std[ind])\n",
    "    \n",
    "    if ind < 2:\n",
    "        label = {'H ion' : 'H_{ion}', 'He ion' : 'He_{ion}'}[channel]     \n",
    "    else:\n",
    "        label = channel\n",
    "        \n",
    "    title = r'\\bf{$f_{'+label+'}$}'\n",
    "\n",
    "    ax.loglog()\n",
    "    \n",
    "    levels=[0,.01,.05,.1,.2,.5,1.]#,.2,.3,.4,.5,1]\n",
    "    \n",
    "    diffs = np.zeros_like(f_NEW)\n",
    "    diffs = np.abs(f_NEW - f_OLD)/f_NEW\n",
    "    \n",
    "    cs = ax.contourf(eng, rs_tmp[2:], np.transpose(diffs), levels = levels,\n",
    "                     cmap=matplotlib.cm.RdBu_r)\n",
    "        \n",
    "    if row==0:\n",
    "        ax.set_title(title)\n",
    "    if col==0:\n",
    "        ax.set_ylabel(r'Redshift ($1+z$)')\n",
    "    if row==3:\n",
    "        ax.set_xlabel(r'Kinetic Energy [eV]')\n",
    "        if col==0:\n",
    "            cbar = plt.colorbar(cs, ticks=levels)"
   ]
  },
  {
   "cell_type": "code",
   "execution_count": null,
   "metadata": {},
   "outputs": [],
   "source": [
    "plt.figure()\n",
    "f, axarr = plt.subplots(4,5, figsize = (16, 16), sharex=True)\n",
    "\n",
    "row = 0\n",
    "for pri in ['elec', 'phot']:\n",
    "    for DM_process in ['decay', 'swave']:\n",
    "        for col, chan in enumerate(['H ion', 'He ion', 'Lya', 'heat', 'cont']):\n",
    "            get_fdiff(pri, DM_process, chan, axarr[row][col], row, col)\n",
    "        row += 1\n",
    "    \n",
    "# f.tight_layout()\n",
    "plt.savefig(fig_dir+'f_heatmap_crosscheck.pdf')"
   ]
  },
  {
   "cell_type": "code",
   "execution_count": null,
   "metadata": {},
   "outputs": [],
   "source": []
  }
 ],
 "metadata": {
  "kernelspec": {
   "display_name": "Python 3",
   "language": "python",
   "name": "python3"
  },
  "language_info": {
   "codemirror_mode": {
    "name": "ipython",
    "version": 3
   },
   "file_extension": ".py",
   "mimetype": "text/x-python",
   "name": "python",
   "nbconvert_exporter": "python",
   "pygments_lexer": "ipython3",
   "version": "3.6.8"
  }
 },
 "nbformat": 4,
 "nbformat_minor": 2
}
