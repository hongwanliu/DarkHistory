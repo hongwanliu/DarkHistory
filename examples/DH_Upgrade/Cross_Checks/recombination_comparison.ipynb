{
 "cells": [
  {
   "cell_type": "code",
   "execution_count": 20,
   "metadata": {},
   "outputs": [
    {
     "name": "stdout",
     "output_type": "stream",
     "text": [
      "The autoreload extension is already loaded. To reload it, use:\n",
      "  %reload_ext autoreload\n"
     ]
    }
   ],
   "source": [
    "%load_ext autoreload\n",
    "import pickle\n",
    "import sys\n",
    "sys.path.append('../../..')\n",
    "import numpy as np\n",
    "from scipy.interpolate import interp1d\n",
    "from tqdm import tqdm_notebook as tqdm\n",
    "\n",
    "import darkhistory.physics as phys\n",
    "from darkhistory.spec.spectrum import Spectrum\n",
    "from darkhistory.spec.spectra import Spectra\n",
    "import darkhistory.low_energy.atomic as atomic\n",
    "import darkhistory.low_energy.bound_free as bf\n",
    "# from plotting_utils import plot_distortion, download_plot\n",
    "\n",
    "import matplotlib\n",
    "matplotlib.rc_file('../../../matplotlibrc')\n",
    "import matplotlib.pyplot as plt\n",
    "from matplotlib.pyplot import cm\n",
    "import matplotlib.colors as colors\n",
    "%matplotlib inline\n",
    "\n",
    "output_dir = '/zfs/wenzerq/DarkHistory/output/'\n",
    "fig_dir = '/zfs/wenzerq/DarkHistory/figs/'"
   ]
  },
  {
   "cell_type": "markdown",
   "metadata": {},
   "source": [
    "Jens Chluba and collaborators have thoroughly computed the full Standard Model CMB distortion from recombination as well as various individual contributions.  In this cross-check we compare against Fig. 1 of [astro-ph/0608120](https://arxiv.org/pdf/astro-ph/0608120v1.pdf) and Fig. 3 of [astro-ph/0607373v1](https://arxiv.org/pdf/astro-ph/0607373v1.pdf) to test the bound-bound dipolar transitions, 1s-2s transition, and bound-free transitions."
   ]
  },
  {
   "cell_type": "code",
   "execution_count": 21,
   "metadata": {},
   "outputs": [],
   "source": [
    "# Create 2s -> 1s spectrum\n",
    "eng = np.exp(np.linspace(\n",
    "    np.log(hplanck*1e8), np.log(phys.rydberg), 500))\n",
    "\n",
    "nmax_list = [10,20,30,100]"
   ]
  },
  {
   "cell_type": "code",
   "execution_count": 26,
   "metadata": {},
   "outputs": [],
   "source": [
    "%autoreload\n",
    "cf=4\n",
    "dlnz = -.001*cf\n",
    "rs_vec = np.exp(np.arange(np.log(3.5e3), np.log(5e2), dlnz))\n",
    "\n",
    "# Load old runs\n",
    "load = False\n",
    "\n",
    "# Dictionary containing different types of distortions\n",
    "distortion_dict = {}\n",
    "\n",
    "if load:\n",
    "#     distortion_dict['100_2sBF'] = pickle.load(open(\n",
    "#         output_dir+'distortion100.p','rb'))  # includes 2s and BF\n",
    "    distortion_dict = pickle.load(open(output_dir+'distortions.p','rb'))\n",
    "else:\n",
    "    for nmax in nmax_list:\n",
    "        if nmax==100:\n",
    "            include_2s1s, include_BF = True, True\n",
    "        else:\n",
    "            include_2s1s, include_BF = False, False\n",
    "\n",
    "        key = str(nmax)\n",
    "        if include_2s1s:\n",
    "            key += '_2s'\n",
    "        if include_BF:\n",
    "            key += 'BF'\n",
    "        if key not in distortion_dict:\n",
    "            distortion_dict[key] = Spectrum(\n",
    "                eng, np.zeros_like(eng), spec_type='N', rs=1)\n",
    "        else:\n",
    "            distortion_dict[key].N *= 0\n",
    "\n",
    "        # Store individual components of the distortion\n",
    "        delta_dists = Spectra(\n",
    "            np.zeros((len(rs_vec), len(eng))), \n",
    "            eng=eng, spec_type='N', rs=rs_vec)\n",
    "        \n",
    "        R = atomic.populate_radial(nmax)\n",
    "        Thetas = bf.populate_thetas(nmax)\n",
    "\n",
    "        # Build up the distortion one redshift at a time\n",
    "        for i, rs in enumerate(tqdm(rs_vec)):\n",
    "            dt = -dlnz/phys.hubble(rs)\n",
    "            xHI = phys.x_std(rs, 'HI')\n",
    "            Tm = phys.Tm_std(rs)\n",
    "\n",
    "            _, transition_spec = atomic.process_MLA(\n",
    "                rs, dt, xHI, Tm, nmax, eng, R, Thetas,\n",
    "                Delta_f=None, cross_check=False,\n",
    "                include_2s1s=include_2s1s, include_BF=include_BF\n",
    "            )\n",
    "\n",
    "            delta_dists._grid_vals[i] = transition_spec.N\n",
    "            transition_spec.redshift(1)\n",
    "            distortion_dict[key] += transition_spec.N\n",
    "        pickle.dump(distortion_dict, open(output_dir+'distortions.dat', 'wb'))"
   ]
  },
  {
   "cell_type": "code",
   "execution_count": null,
   "metadata": {},
   "outputs": [],
   "source": [
    "n10_data = download_plot('n10')\n",
    "n20_data = download_plot('n20')\n",
    "n30_data = download_plot('n30')\n",
    "jens_data = download_plot('Full_Distortion')\n",
    "jens_2s = download_plot('DeltaR_2s_jens')\n",
    "jens_2p = download_plot('DeltaR_2p_jens')\n",
    "BB_BF_jens = download_plot('BB_plus_BF_dist')"
   ]
  },
  {
   "cell_type": "code",
   "execution_count": 28,
   "metadata": {},
   "outputs": [
    {
     "data": {
      "image/png": "[encoded data removed]",
      "text/plain": [
       "<Figure size 648x648 with 1 Axes>"
      ]
     },
     "metadata": {},
     "output_type": "display_data"
    }
   ],
   "source": [
    "hplanck = phys.hbar * 2*np.pi\n",
    "convert = phys.nB * eng * hplanck * phys.c /(4*np.pi) * phys.ele * 1e4\n",
    "nu = eng/hplanck\n",
    "rs_fac = 1300\n",
    "\n",
    "\n",
    "plt.figure(figsize=(9, 9))\n",
    "plt.loglog()\n",
    "plt.xlim([4e-1, 3.5e3])\n",
    "plt.ylim([6e-30, 8e-27])\n",
    "\n",
    "# DH generated data\n",
    "ns = ['10','20','30','100_2sBF']\n",
    "colors = ['red', 'blue', 'green', 'purple']\n",
    "labels = ['DH, $n_{max}=$'+nmax if nmax != '100_2sBF' else 'DH, $n_{max}=100$' for nmax in ns]\n",
    "\n",
    "for i,nmax in enumerate(ns):\n",
    "    plt.plot(nu/1e9, convert * distortion_dict[nmax].dNdE,\n",
    "             color=colors[i], linewidth=1.4, label=labels[i])\n",
    "# plt.plot(nu/1e9, convert * goods['distortion'].dNdE)\n",
    "\n",
    "# Data from Jens Chluba et al's papers\n",
    "# plt.plot(BB_BF_jens[:,0], BB_BF_jens[:,1], color='k',\n",
    "#          linewidth=1.2, label='Chluba+Sunyaev', alpha=0.6)\n",
    "# plt.plot(n10_data[:,0], n10_data[:,1], color='k',\n",
    "#          linewidth=2.0, linestyle='--', label='Jens+')\n",
    "# plt.plot(n20_data[:,0], n20_data[:,1], color='k', linewidth=1.0, linestyle=':')\n",
    "# plt.plot(n30_data[:,0], n30_data[:,1], color='k', linewidth=1.2)\n",
    "# plt.plot(jens_data[:,0], jens_data[:,1], color='k', linewidth=2.0, linestyle='--')\n",
    "\n",
    "plt.legend(loc=2)\n",
    "\n",
    "plt.xlabel(r'Frequency, $\\nu$ [GHz]', fontsize=20)\n",
    "plt.ylabel(r'Intensity, $I_{\\nu}$ [J s$^{-1}$ m$^{-2}$ Hz$^{-1}$ sr$^{-1}$]', fontsize=20)\n",
    "if cf>1 and (not load):\n",
    "    print('WARNING: There are extra errors from coarsening')\n",
    "    \n",
    "# plt.savefig(fig_dir+'recombination_distortion.pdf')"
   ]
  },
  {
   "cell_type": "code",
   "execution_count": null,
   "metadata": {},
   "outputs": [],
   "source": []
  }
 ],
 "metadata": {
  "kernelspec": {
   "display_name": "Python 3",
   "language": "python",
   "name": "python3"
  }
 },
 "nbformat": 4,
 "nbformat_minor": 2
}
