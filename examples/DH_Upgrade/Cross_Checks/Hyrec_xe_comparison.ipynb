{
 "cells": [
  {
   "cell_type": "code",
   "execution_count": 1,
   "metadata": {},
   "outputs": [],
   "source": [
    "%load_ext autoreload\n",
    "import pickle\n",
    "import sys\n",
    "sys.path.append('../../..')\n",
    "import numpy as np\n",
    "from scipy.interpolate import interp1d\n",
    "from tqdm import tqdm_notebook as tqdm\n",
    "\n",
    "import darkhistory.physics as phys\n",
    "import darkhistory.history.tla as tla\n",
    "import darkhistory.low_energy.atomic as atomic\n",
    "import darkhistory.low_energy.bound_free as bf\n",
    "# from plotting_utils import plot_distortion, download_plot\n",
    "\n",
    "import matplotlib\n",
    "matplotlib.rc_file('../../../matplotlibrc')\n",
    "import matplotlib.pyplot as plt\n",
    "from matplotlib.pyplot import cm\n",
    "import matplotlib.colors as colors\n",
    "%matplotlib inline\n",
    "\n",
    "hplanck = phys.hbar * 2 * np.pi\n",
    "\n",
    "output_dir = '/zfs/wenzerq/DarkHistory/output/'\n",
    "fig_dir = '/zfs/wenzerq/DarkHistory/figs/'"
   ]
  },
  {
   "cell_type": "markdown",
   "metadata": {},
   "source": [
    "Rather than use fitting functions with fudge factors for the recombination and photo-ionization coefficients, $\\alpha_B$ and $\\beta_B$, we now calculate them.  To test if we have done so correctly we calculate $x_e(z)$ and compare to the solid line in Fig. 3 of [1011.3758](https://arxiv.org/pdf/1011.3758.pdf), Hyrec's paper."
   ]
  },
  {
   "cell_type": "code",
   "execution_count": 2,
   "metadata": {},
   "outputs": [],
   "source": [
    "# # Download Hyrec plots\n",
    "# EMLA_data = download_plot('EMLA', input_dir)\n",
    "# Rec_data = download_plot('Recfast', input_dir)"
   ]
  },
  {
   "cell_type": "code",
   "execution_count": 3,
   "metadata": {},
   "outputs": [],
   "source": [
    "eng = np.exp(np.linspace(\n",
    "    np.log(hplanck*1e8), np.log(phys.rydberg), 500))\n",
    "\n",
    "rs_list = np.exp(np.arange(np.log(2e3), 5., -.001*4))\n",
    "\n",
    "baseline = tla.get_history(rs_list, high_rs=1.555e3,\n",
    "                           fudge=1.0, gauss_fudge=False, rtol=1e-8)\n",
    "fudge_1_14 = tla.get_history(rs_list, high_rs=1.555e3,\n",
    "                             fudge=1.14, gauss_fudge=False, rtol=1e-8)\n",
    "\n",
    "dist_eng = np.exp(np.linspace(np.log(hplanck*1e8), np.log(phys.rydberg), 10))\n",
    "\n",
    "nmax_list = [50]#,50,100,200,300]"
   ]
  },
  {
   "cell_type": "code",
   "execution_count": null,
   "metadata": {},
   "outputs": [
    {
     "data": {
      "application/vnd.jupyter.widget-view+json": {
       "model_id": "c2860d62fd92408f9d762670eda16fc0",
       "version_major": 2,
       "version_minor": 0
      },
      "text/plain": [
       "HBox(children=(IntProgress(value=0, max=651), HTML(value='')))"
      ]
     },
     "metadata": {},
     "output_type": "display_data"
    },
    {
     "name": "stderr",
     "output_type": "stream",
     "text": [
      "../../../darkhistory/spec/spectrum.py:861: RuntimeWarning: The new abscissa lies below the old one: only bins that lie within the new abscissa will be rebinned, bins above the abscissa will be discarded.\n",
      "  warnings.warn(\"The new abscissa lies below the old one: only bins that lie within the new abscissa will be rebinned, bins above the abscissa will be discarded.\", RuntimeWarning)\n"
     ]
    }
   ],
   "source": [
    "%autoreload\n",
    "nmax_convergence_alt = {}\n",
    "for nmax in nmax_list:\n",
    "    R = atomic.populate_radial(nmax)\n",
    "    Thetas = bf.populate_thetas(nmax)\n",
    "\n",
    "    MLA_data = np.zeros((rs_list.size, 3))\n",
    "    for i, rs in enumerate(tqdm(rs_list)):\n",
    "\n",
    "        MLA_data[i], _ = atomic.process_MLA(\n",
    "            rs, 1, phys.x_std(rs, 'HI'), \n",
    "            phys.Tm_std(rs), nmax, eng, R, Thetas\n",
    "        )\n",
    "\n",
    "    MLA_funcs = [interp1d(rs_list, MLA_data[:,i], fill_value='extrapolate')\n",
    "                 for i in range(3)]\n",
    "\n",
    "    nmax_convergence_alt[nmax] = tla.get_history(\n",
    "        rs_list, high_rs=1.555e3,\n",
    "        recfast_TLA=False, MLA_funcs=MLA_funcs,\n",
    "        rtol=1e-8\n",
    "    )"
   ]
  },
  {
   "cell_type": "code",
   "execution_count": null,
   "metadata": {},
   "outputs": [],
   "source": [
    "%autoreload\n",
    "plt.figure()\n",
    "plt.axis([200,1600, -.12,.02])\n",
    "ax = plt.gca()\n",
    "\n",
    "color = iter(plt.cm.PuRd(np.linspace(0.3, 1, len(nmax_list))))\n",
    "\n",
    "# for i,nmax in enumerate(nmax_list):\n",
    "#     c = next(color)\n",
    "#     ax.plot(rs_list, nmax_convergence_alt[nmax][:,1]/baseline[:,1]-1, \n",
    "#              linewidth = 1.8, label=r'nmax='+str(nmax), c=c)\n",
    "   \n",
    "\n",
    "ax.plot(rs_list, nmax_convergence_alt[50][:,1]/baseline[:,1]-1, \n",
    "         linewidth = 1.8, label=r'$2s\\to 1s$ BB')\n",
    "# ax.plot(rs_list, tmp/baseline[:,1]-1, \n",
    "#              linewidth = 1.8, label=r'$2s\\to 1s$ vacuum')\n",
    "\n",
    "# # hyrec plots\n",
    "# lw = 1.2\n",
    "# ax.plot(EMLA_data[:,0], EMLA_data[:,1], color='black', \n",
    "#          linewidth = 2.0, linestyle = '--', \n",
    "#          label=r'Hyrec')\n",
    "\n",
    "\n",
    "# plot labels\n",
    "ax.set_xlabel(r'Redshift, $1+z$', fontsize=20)\n",
    "ax.set_ylabel(r'Fractional Change to Ionization, $\\frac{\\Delta x_e}{x_{\\mathrm{Peeb}}}$', fontsize=20)\n",
    "ax.legend()\n",
    "\n",
    "# plt.savefig(fig_dir+'xe_crosscheck.pdf')"
   ]
  },
  {
   "cell_type": "code",
   "execution_count": null,
   "metadata": {},
   "outputs": [],
   "source": []
  }
 ],
 "metadata": {
  "kernelspec": {
   "display_name": "Python 3",
   "language": "python",
   "name": "python3"
  },
  "language_info": {
   "codemirror_mode": {
    "name": "ipython",
    "version": 3
   },
   "file_extension": ".py",
   "mimetype": "text/x-python",
   "name": "python",
   "nbconvert_exporter": "python",
   "pygments_lexer": "ipython3",
   "version": "3.6.8"
  }
 },
 "nbformat": 4,
 "nbformat_minor": 2
}
