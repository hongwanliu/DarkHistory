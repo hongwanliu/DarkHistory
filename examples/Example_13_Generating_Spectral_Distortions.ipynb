{
 "cells": [
  {
   "attachments": {},
   "cell_type": "markdown",
   "metadata": {},
   "source": [
    "# Example 13: Generating spectral distortions\n",
    "\n",
    "In this example, we will show how to use the upgraded version of DarkHistory to generate distortions to the CMB spectrum from exotic energy injection."
   ]
  },
  {
   "cell_type": "code",
   "execution_count": null,
   "metadata": {},
   "outputs": [],
   "source": [
    "import os\n",
    "import sys\n",
    "sys.path.append('..')\n",
    "import numpy as np\n",
    "from scipy.interpolate import interp1d, interp2d\n",
    "\n",
    "from darkhistory.config import data_path\n",
    "import darkhistory.main as main\n",
    "import darkhistory.physics as phys\n",
    "from plotting_utils import plot_distortion\n",
    "\n",
    "import matplotlib\n",
    "matplotlib.rc_file('../matplotlibrc')\n",
    "import matplotlib.pyplot as plt\n",
    "from matplotlib.pyplot import cm"
   ]
  },
  {
   "cell_type": "code",
   "execution_count": null,
   "metadata": {},
   "outputs": [],
   "source": [
    "#######################################\n",
    "#           CMB Constraints           #\n",
    "#######################################\n",
    "\n",
    "\n",
    "# CMB constraints on interaction rates\n",
    "input_dir = data_path\n",
    "\n",
    "f_elec_CMB_raw = np.loadtxt(input_dir+'/CMB_limits_elec_swave.txt', delimiter=',')\n",
    "log10eng_elec_CMB  = f_elec_CMB_raw[0:2760:69, 0]\n",
    "log10rs_elec_CMB = f_elec_CMB_raw[0:69, 1]\n",
    "\n",
    "f_phot_CMB_raw = np.loadtxt(input_dir+'/CMB_limits_phot_swave.txt', delimiter=',')\n",
    "log10eng_phot_CMB  = f_phot_CMB_raw[0:2800:70, 0]\n",
    "log10rs_phot_CMB = f_phot_CMB_raw[0:70, 1]\n",
    "\n",
    "f_elec_CMB_raw = np.transpose(np.reshape(f_elec_CMB_raw[:,2], (40,69)))\n",
    "f_phot_CMB_raw = np.transpose(np.reshape(f_phot_CMB_raw[:,2], (40,70)))\n",
    "\n",
    "f_elec_CMB = interp2d(log10eng_elec_CMB, log10rs_elec_CMB, f_elec_CMB_raw)\n",
    "f_phot_CMB = interp2d(log10eng_phot_CMB, log10rs_phot_CMB, f_phot_CMB_raw)\n",
    "\n",
    "decay_elec_CMB_raw = np.loadtxt(input_dir+'/CMB_limits_elec_decay.txt', delimiter=',')\n",
    "decay_phot_CMB_raw = np.loadtxt(input_dir+'/CMB_limits_phot_decay.txt', delimiter=',')\n",
    "\n",
    "decay_elec_CMB = interp1d(np.transpose(decay_elec_CMB_raw)[0,:], np.transpose(decay_elec_CMB_raw)[1,:])\n",
    "decay_phot_CMB = interp1d(np.transpose(decay_phot_CMB_raw)[0,:], np.transpose(decay_phot_CMB_raw)[1,:])\n",
    "\n",
    "#Derived from Planck 2018 cosmological parameters\n",
    "p_ann = 3.5e-28\n",
    "\n",
    "def param_bound_elec_CMB(mDM, DM_process):\n",
    "    if DM_process == 'swave':\n",
    "        return p_ann*(mDM*1e-9)/f_elec_CMB(np.log10(mDM-phys.me), np.log10(601))[0]\n",
    "    elif DM_process == 'decay':\n",
    "        return np.array([decay_elec_CMB(mDM*1e-9)])[0]\n",
    "\n",
    "def param_bound_phot_CMB(mDM, DM_process):\n",
    "    if DM_process == 'swave':\n",
    "        return p_ann*(mDM*1e-9)/f_phot_CMB(np.log10(mDM), np.log10(601))[0]\n",
    "    elif DM_process == 'decay':\n",
    "        return np.array([decay_phot_CMB(mDM*1e-9)])[0]\n",
    "    \n",
    "def param_bound(mDM, DM_process, pri):\n",
    "    if pri == 'elec':\n",
    "        return param_bound_elec_CMB(mDM, DM_process)\n",
    "    else:\n",
    "        return param_bound_phot_CMB(mDM, DM_process)"
   ]
  },
  {
   "attachments": {},
   "cell_type": "markdown",
   "metadata": {},
   "source": [
    "Choose the parameters for your dark matter model. For this example, we will use dark matter decaying to $e^+ e^-$ pairs. We'll take the mass of the dark matter particle to be $m_\\chi = 200$ MeV and the lifetime to be at CMB bounds.\n",
    "\n",
    "Parameters we can tweak that are relevant to the spectral distortion are $n_\\mathrm{max}$, the maximum number of hydrogen levels to track, and the number of iterations we run in order to increase the accuracy of the hydrogen transition rates."
   ]
  },
  {
   "cell_type": "code",
   "execution_count": null,
   "metadata": {},
   "outputs": [],
   "source": [
    "pri = 'elec'\n",
    "DM_process = 'decay'\n",
    "mDM = 2e8\n",
    "tau = param_bound(mDM, DM_process, pri)\n",
    "\n",
    "nmax = 10\n",
    "iterations = 3"
   ]
  },
  {
   "attachments": {},
   "cell_type": "markdown",
   "metadata": {},
   "source": [
    "To output the spectral distortion from `main.evolve()`, we must set `distort=True`. If we want to include excitations from dark matter energy injection as a source of spectral distortions, we also set `fexc_switch=True`. Finally, if we want to account for the feedback of the evolving spectral distortion on the atomic transitions rates, we set `reprocess_distortion=True`."
   ]
  },
  {
   "cell_type": "code",
   "execution_count": null,
   "metadata": {},
   "outputs": [],
   "source": [
    "data = main.evolve(\n",
    "    primary=pri+'_delta', DM_process=DM_process, \n",
    "    mDM=mDM, lifetime=tau,\n",
    "    start_rs = 3000, high_rs = 1.555e3,\n",
    "    coarsen_factor=16, rtol=1e-6,\n",
    "    nmax=nmax, iterations=iterations,\n",
    "    distort=True, fexc_switch = True, \n",
    "    reprocess_distortion=True\n",
    ")"
   ]
  },
  {
   "attachments": {},
   "cell_type": "markdown",
   "metadata": {},
   "source": [
    "We can plot the total spectral distortion contributed between redshifts $3000 < 1+z < 4$ as seen today. This is output using the `'distortion'` key. We will plot the distortion from the last iteration of `main.evolve()` which is the most accurate. Dashed lines indicate where the spectral distortion has negative values."
   ]
  },
  {
   "cell_type": "code",
   "execution_count": null,
   "metadata": {},
   "outputs": [],
   "source": [
    "plt.figure(figsize=(7,7))\n",
    "ax = plt.gca()\n",
    "\n",
    "plot_distortion(ax, data[-1], color='red')\n",
    "\n",
    "plt.ylim(1e-30,1e-24)\n",
    "\n",
    "plt.text(0.05, 0.18, r'$\\chi \\rightarrow e^+ e^-$', fontsize=18, transform = ax.transAxes)\n",
    "plt.text(0.05, 0.11, r'$m_\\chi = 200$ MeV', fontsize=18, transform = ax.transAxes)\n",
    "plt.text(0.05, 0.05, r'$\\tau = 10^{25.3}$ s', fontsize=18, transform = ax.transAxes)\n",
    "\n",
    "plt.xlabel(r'Frequency, $\\nu$ [GHz]', fontsize=20)\n",
    "plt.ylabel(r'$\\Delta I_{\\nu}$ [J s$^{-1}$ m$^{-2}$ Hz$^{-1}$ sr$^{-1}$]', fontsize=20)\n",
    "\n",
    "plt.show()"
   ]
  },
  {
   "attachments": {},
   "cell_type": "markdown",
   "metadata": {},
   "source": [
    "Another output is the contribution to the distortion from each redshift step, which is output using the key `'distortions'`. Here, we will plot the contribution from every 20th redshift step."
   ]
  },
  {
   "cell_type": "code",
   "execution_count": null,
   "metadata": {},
   "outputs": [],
   "source": [
    "skip = 20\n",
    "hplanck = phys.hbar * 2*np.pi\n",
    "color = cm.plasma(np.linspace(0.,.9,len(data[-1]['lowengphot'].rs[::skip])))\n",
    "\n",
    "plt.figure(figsize=(7,7))\n",
    "plt.loglog()\n",
    "ax = plt.gca()\n",
    "\n",
    "# Plot contribution to distortion from every 20th redshift step\n",
    "for ii, rs in enumerate(data[-1]['lowengphot'].rs[::skip]):\n",
    "    plt.plot(data[-1]['distortions'][ii*skip].eng / hplanck / 1e9, \n",
    "             data[-1]['distortions'][ii*skip].dNdE * phys.nB * data[-1]['distortions'][ii*skip].eng * hplanck * phys.c / (4*np.pi) * phys.ele * 1e4, \n",
    "             label=f'z={rs-1:.0f}', color=color[ii])\n",
    "    plt.plot(data[-1]['distortions'][ii*skip].eng / hplanck / 1e9, \n",
    "             - data[-1]['distortions'][ii*skip].dNdE * phys.nB * data[-1]['distortions'][ii*skip].eng * hplanck * phys.c / (4*np.pi) * phys.ele * 1e4, \n",
    "             linestyle='--', color=color[ii])\n",
    "\n",
    "plt.axis([20, 1e6, 1e-33, 7e-26])\n",
    "plt.text(0.77, 0.93, r'$\\chi \\rightarrow e^+ e^-$', fontsize=18, transform = ax.transAxes,\n",
    "         bbox=dict(facecolor='white', edgecolor='white', alpha=0.8))\n",
    "plt.text(0.68, 0.86, r'$m_\\chi = 200$ MeV', fontsize=18, transform = ax.transAxes,\n",
    "         bbox=dict(facecolor='white', edgecolor='white', alpha=0.8))\n",
    "plt.text(0.75, 0.79, r'$\\tau = 10^{25.3}$ s', fontsize=18, transform = ax.transAxes,\n",
    "         bbox=dict(facecolor='white', edgecolor='white', alpha=0.8))\n",
    "plt.legend(loc='lower center', ncol=5, handlelength=0.7, fontsize=15, \n",
    "           columnspacing=0.5, framealpha=0.95)\n",
    "\n",
    "plt.xlabel(r'Frequency, $\\nu$ [GHz]', fontsize=20)\n",
    "plt.ylabel(r'$\\Delta I_{\\nu}$ [J s$^{-1}$ m$^{-2}$ Hz$^{-1}$ sr$^{-1}$]', fontsize=20)\n",
    "\n",
    "plt.show()"
   ]
  },
  {
   "cell_type": "code",
   "execution_count": null,
   "metadata": {},
   "outputs": [],
   "source": []
  }
 ],
 "metadata": {
  "kernelspec": {
   "display_name": "DarkHistoryEnvironment",
   "language": "python",
   "name": "python3"
  },
  "language_info": {
   "codemirror_mode": {
    "name": "ipython",
    "version": 3
   },
   "file_extension": ".py",
   "mimetype": "text/x-python",
   "name": "python",
   "nbconvert_exporter": "python",
   "pygments_lexer": "ipython3",
   "version": "3.12.3"
  },
  "orig_nbformat": 4,
  "vscode": {
   "interpreter": {
    "hash": "285e209cc8203775fb8781a8e159745e48e1cbad819a0ae5bf7512b999ba55be"
   }
  }
 },
 "nbformat": 4,
 "nbformat_minor": 2
}
